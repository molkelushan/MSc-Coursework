{
 "cells": [
  {
   "cell_type": "markdown",
   "metadata": {
    "id": "spUoQOmD5xzt"
   },
   "source": [
    "# Information Retrieval Exercise 3 Notebook \n",
    "\n",
    "\n",
    "This is the template notebook for Exercise 3. The specification for the exercise and the corresponding Exercise 3 Quiz submission instance are available on the Moodle page of the course.\n",
    "\n",
    "This exercise builds upon Exercise 2, and assumes that you are now familiar with concepts we have introduced in both Exercise 1 and Exercise 2, including:\n",
    " - [PyTerrier operators](https://pyterrier.readthedocs.io/en/latest/operators.html)\n",
    " - [Pyterrier apply transformers](https://pyterrier.readthedocs.io/en/latest/transformer.html)\n",
    " - [PyTerrier pt.Experiment()](https://pyterrier.readthedocs.io/en/latest/experiments.html)\n"
   ]
  },
  {
   "cell_type": "markdown",
   "metadata": {
    "id": "huHo3UfD5z-A"
   },
   "source": [
    "## PyTerrier Setup\n",
    "\n",
    "First, let's install PyTerrier as usual. "
   ]
  },
  {
   "cell_type": "code",
   "execution_count": 1,
   "metadata": {
    "ExecuteTime": {
     "end_time": "2021-06-18T08:52:21.658055Z",
     "start_time": "2021-06-18T08:52:21.655288Z"
    },
    "id": "N1KQ6pjZ5dRb",
    "scrolled": true
   },
   "outputs": [],
   "source": [
    "# !pip install python-terrier lightgbm==2.2.3"
   ]
  },
  {
   "cell_type": "markdown",
   "metadata": {
    "id": "SDst0SPaLY0U"
   },
   "source": [
    "Let's start PyTerrier:"
   ]
  },
  {
   "cell_type": "code",
   "execution_count": 2,
   "metadata": {
    "ExecuteTime": {
     "end_time": "2021-06-18T08:52:29.021334Z",
     "start_time": "2021-06-18T08:52:21.660479Z"
    },
    "id": "7-6kc18m5dRk"
   },
   "outputs": [
    {
     "name": "stderr",
     "output_type": "stream",
     "text": [
      "/Users/siqiwang/opt/anaconda3/lib/python3.8/site-packages/tqdm/std.py:697: FutureWarning: The Panel class is removed from pandas. Accessing it from the top-level namespace will also be removed in the next version\n",
      "  from pandas import Panel\n"
     ]
    },
    {
     "name": "stdout",
     "output_type": "stream",
     "text": [
      "PyTerrier 0.6.0 has loaded Terrier 5.5 (built by craigmacdonald on 2021-05-20 13:12)\n"
     ]
    },
    {
     "name": "stderr",
     "output_type": "stream",
     "text": [
      "/Users/siqiwang/opt/anaconda3/lib/python3.8/site-packages/lightgbm/__init__.py:40: UserWarning: Starting from version 2.2.1, the library file in distribution wheels for macOS is built by the Apple Clang (Xcode_8.3.3) compiler.\n",
      "This means that in case of installing LightGBM from PyPI via the ``pip install lightgbm`` command, you don't need to install the gcc compiler anymore.\n",
      "Instead of that, you need to install the OpenMP library, which is required for running LightGBM on the system with the Apple Clang compiler.\n",
      "You can install the OpenMP library by the following command: ``brew install libomp``.\n",
      "  warnings.warn(\"Starting from version 2.2.1, the library file in distribution wheels for macOS \"\n"
     ]
    }
   ],
   "source": [
    "import pyterrier as pt\n",
    "if not pt.started():\n",
    "    pt.init()\n",
    "\n",
    "# we require a specific version of LightGBM for this exercise\n",
    "import lightgbm\n",
    "assert lightgbm.__version__ == '2.2.3'"
   ]
  },
  {
   "cell_type": "code",
   "execution_count": 3,
   "metadata": {
    "ExecuteTime": {
     "end_time": "2021-06-18T08:52:29.030169Z",
     "start_time": "2021-06-18T08:52:29.024083Z"
    },
    "id": "vxAlgu_NCclH"
   },
   "outputs": [],
   "source": [
    "# patch location of topics and qrels\n",
    "def _filter_on_qid_type(self, component, variant):\n",
    "  import pandas as pd\n",
    "  if component == \"topics\":\n",
    "    data = self.get_topics(\"all\")\n",
    "  elif component == \"qrels\":\n",
    "    data = self.get_qrels(\"all\")\n",
    "  qid2type = pd.read_csv(\"http://mirror.ir-datasets.com/79737768b3be1aa07b14691aa54802c5\", names=[\"qid\", \"type\"], sep=\" \")\n",
    "  qid2type[\"qid\"] = qid2type.apply(lambda row: row[\"qid\"].split(\"-\")[1], axis=1)\n",
    "  rtr = data.merge(qid2type[qid2type[\"type\"] == variant], on=[\"qid\"])\n",
    "  if len(rtr) == 0:\n",
    "    raise ValueError(\"No such topic type '%s'\" % variant)\n",
    "  rtr.drop(columns=['type'], inplace=True)\n",
    "  return (rtr, \"direct\")\n",
    "\n",
    "dataset = pt.get_dataset(\"trec-wt-2004\")\n",
    "for t in [\"np\", \"td\", \"hp\"]:\n",
    "  dataset.locations[\"qrels\"][t] = _filter_on_qid_type\n",
    "  dataset.locations[\"topics\"][t] = _filter_on_qid_type\n",
    "dataset.locations[\"qrels\"][\"all\"] = ('04.qrels.web.mixed.txt', \"http://www.dcs.gla.ac.uk/~craigm/04.qrels.web.mixed.txt\")\n",
    "dataset.locations[\"topics_prefixed\"][\"all\"] = ('Web2004.query.stream.trecformat.txt', \"http://www.dcs.gla.ac.uk/~craigm/Web2004.query.stream.trecformat.txt\", \"trec\")"
   ]
  },
  {
   "cell_type": "markdown",
   "metadata": {
    "id": "d3BwH1hz5dRl"
   },
   "source": [
    "## Index, Topics & Qrels for Exercise 3\n",
    "\n",
    "You will need your login & password credentials from Exercise 2. We will be using again the \"50pct\" and the \"trec-wt-2004\" datasets from Exercise 2.\n"
   ]
  },
  {
   "cell_type": "code",
   "execution_count": 4,
   "metadata": {
    "ExecuteTime": {
     "end_time": "2021-06-18T08:52:29.035093Z",
     "start_time": "2021-06-18T08:52:29.032265Z"
    },
    "id": "Rd5zaOrL5dRm"
   },
   "outputs": [],
   "source": [
    "UNAME=\"2597630w\"\n",
    "PWORD=\"0729af3d\"\n",
    "\n",
    "from pyterrier.datasets import STANDARD_TERRIER_INDEX_FILES, RemoteDataset\n",
    "\n",
    "# we will again be using the \"50pct\" and \"trec-wt-2004\" datasets\n",
    "Fiftypct = pt.get_dataset(\"50pct\",  user=UNAME, password=PWORD)\n",
    "dotgov_topicsqrels = pt.get_dataset(\"trec-wt-2004\")"
   ]
  },
  {
   "cell_type": "markdown",
   "metadata": {
    "id": "VAW4E_7m7na0"
   },
   "source": [
    "On the other hand, you will be using a slightly updated index for Exercise 3. It is a bit bigger than the Exercise 2 index, hence it takes about 2-3 minutes to download to Colab. \n",
    "\n",
    "We also remove the Ex2 index, if it is found (this will only apply if you are not running on Colab). "
   ]
  },
  {
   "cell_type": "code",
   "execution_count": 5,
   "metadata": {
    "ExecuteTime": {
     "end_time": "2021-06-18T08:52:29.842988Z",
     "start_time": "2021-06-18T08:52:29.037460Z"
    },
    "id": "4XYmUmh25dRl"
   },
   "outputs": [
    {
     "name": "stdout",
     "output_type": "stream",
     "text": [
      "16:52:29.821 [main] WARN  o.t.s.BaseCompressingMetaIndex - Structure meta reading data file directly from disk (SLOW) - try index.meta.data-source=fileinmem in the index properties file. 860.9 MiB of memory would be required.\n"
     ]
    }
   ],
   "source": [
    "def removeEx2Index():\n",
    "  import os\n",
    "  indexdir = os.path.join(Fiftypct.corpus_home, \"index\")\n",
    "  if os.path.exists(os.path.join(indexdir, \"data.properties\")) and not os.path.exists(os.path.join(indexdir, \"data-pagerank.oos\")):\n",
    "    #this branch only occurs if the index from IRM Ex2 is found  \n",
    "    print(\"WARNING: I have detected and removed an Ex2 index - if you are still working on Ex2, results will be identical, but \" +\n",
    "          \"querying time will be a bit longer\")\n",
    "    print(\"To restore the original Ex2 index, you can delete %s and rerun the Ex2 notebook\" % indexdir)\n",
    "    import shutil\n",
    "    shutil.rmtree(indexdir)\n",
    "\n",
    "removeEx2Index()\n",
    "\n",
    "indexref = Fiftypct.get_index(variant=\"ex2\")\n",
    "index = pt.IndexFactory.of(indexref)\n"
   ]
  },
  {
   "cell_type": "markdown",
   "metadata": {
    "id": "zSWbTO8d5dRl"
   },
   "source": [
    "Let's check out the new index. Compared to the index we used for Exercise 2, you can see that this index has `Field Names: [TITLE, ELSE]`, which means that we can provide statistics about how many times each term occurs in the title of each document (the \"TITLE\" field), vs the rest of the document (the \"ELSE\" field). Refer to Lecture 8 for more information about fields.\n",
    "\n",
    "Let's also display the keys in the meta index - this is the metadata that we have stored for each document. You can see that we are storing the \"url\" and the \"body\" (content) of the document. These will particularly come in handy for Q2 and Q3 of Exercise 3, respectively.\n"
   ]
  },
  {
   "cell_type": "code",
   "execution_count": 6,
   "metadata": {
    "ExecuteTime": {
     "end_time": "2021-06-18T08:52:29.865657Z",
     "start_time": "2021-06-18T08:52:29.844581Z"
    },
    "id": "rp6-MDzY5dRl"
   },
   "outputs": [
    {
     "name": "stdout",
     "output_type": "stream",
     "text": [
      "Number of documents: 807775\n",
      "Number of terms: 2043788\n",
      "Number of postings: 177737957\n",
      "Number of fields: 2\n",
      "Number of tokens: 572916194\n",
      "Field names: [TITLE, ELSE]\n",
      "Positions:   true\n",
      "\n",
      "In the meta index: ['docno', 'url', 'title', 'body']\n"
     ]
    }
   ],
   "source": [
    "print(index.getCollectionStatistics())\n",
    "print(\"In the meta index: \" + str(index.getMetaIndex().getKeys()))"
   ]
  },
  {
   "cell_type": "markdown",
   "metadata": {
    "id": "OdMiyeZ177AK"
   },
   "source": [
    "Finally, these are all of the topics and qrels (including the training and validation datasets) that you will need to conduct Exercise 3."
   ]
  },
  {
   "cell_type": "code",
   "execution_count": 7,
   "metadata": {
    "ExecuteTime": {
     "end_time": "2021-06-18T08:52:34.866555Z",
     "start_time": "2021-06-18T08:52:29.868758Z"
    },
    "id": "gKi5ACEj5dRm",
    "scrolled": true
   },
   "outputs": [],
   "source": [
    "tr_topics = Fiftypct.get_topics(\"training\")\n",
    "va_topics = Fiftypct.get_topics(\"validation\")\n",
    "\n",
    "tr_qrels = Fiftypct.get_qrels(\"training\")\n",
    "va_qrels = Fiftypct.get_qrels(\"validation\")\n",
    "\n",
    "test_topics = dotgov_topicsqrels.get_topics(\"hp\")\n",
    "test_qrels = dotgov_topicsqrels.get_qrels(\"hp\")"
   ]
  },
  {
   "cell_type": "markdown",
   "metadata": {
    "id": "1hWAMSAK5dRm"
   },
   "source": [
    "## Baseline Setup\n",
    "\n",
    "We introduce here the BatchRetrieve for our baseline. Note that:\n",
    " - We are using PL2 as our weighting model to generate the sample (the candidate set of documents to re-rank).\n",
    " - We expose more document metadata, namely \"url\" and \"body\" for each document retrieved, which you will need to deploy your two new features. \n",
    " - By setting `verbose=True`, we display a progress bar while retrieval executes."
   ]
  },
  {
   "cell_type": "code",
   "execution_count": 8,
   "metadata": {
    "ExecuteTime": {
     "end_time": "2021-06-18T08:52:34.895866Z",
     "start_time": "2021-06-18T08:52:34.869437Z"
    },
    "id": "3atqw8q35dRn"
   },
   "outputs": [],
   "source": [
    "firstpassUB = pt.BatchRetrieve(index, wmodel=\"PL2\", metadata=[\"docno\", \"url\", \"body\"], verbose=True)\n"
   ]
  },
  {
   "cell_type": "markdown",
   "metadata": {
    "id": "iez_aX9D1pXI"
   },
   "source": [
    "Let's see the resulting output - you can see that there are now \"url\" and \"body\" attributed for each retrieved document. (We also display a progress bar, enabled by the `verbose=True`)."
   ]
  },
  {
   "cell_type": "code",
   "execution_count": 9,
   "metadata": {
    "ExecuteTime": {
     "end_time": "2021-06-18T08:52:35.844859Z",
     "start_time": "2021-06-18T08:52:34.898590Z"
    },
    "id": "JkE-UBRd5dRn"
   },
   "outputs": [
    {
     "name": "stderr",
     "output_type": "stream",
     "text": [
      "BR(PL2): 100%|██████████| 1/1 [00:00<00:00,  1.12q/s]\n"
     ]
    },
    {
     "data": {
      "text/html": [
       "<div>\n",
       "<style scoped>\n",
       "    .dataframe tbody tr th:only-of-type {\n",
       "        vertical-align: middle;\n",
       "    }\n",
       "\n",
       "    .dataframe tbody tr th {\n",
       "        vertical-align: top;\n",
       "    }\n",
       "\n",
       "    .dataframe thead th {\n",
       "        text-align: right;\n",
       "    }\n",
       "</style>\n",
       "<table border=\"1\" class=\"dataframe\">\n",
       "  <thead>\n",
       "    <tr style=\"text-align: right;\">\n",
       "      <th></th>\n",
       "      <th>qid</th>\n",
       "      <th>docid</th>\n",
       "      <th>docno</th>\n",
       "      <th>url</th>\n",
       "      <th>body</th>\n",
       "      <th>rank</th>\n",
       "      <th>score</th>\n",
       "      <th>query</th>\n",
       "    </tr>\n",
       "  </thead>\n",
       "  <tbody>\n",
       "    <tr>\n",
       "      <th>0</th>\n",
       "      <td>1</td>\n",
       "      <td>513586</td>\n",
       "      <td>G18-38-1767991</td>\n",
       "      <td>http://www.boulder.nist.gov/div838/tar/file03....</td>\n",
       "      <td>NIST  -  Physical and Chemical Properties Divi...</td>\n",
       "      <td>0</td>\n",
       "      <td>12.755546</td>\n",
       "      <td>chemical reactions</td>\n",
       "    </tr>\n",
       "    <tr>\n",
       "      <th>1</th>\n",
       "      <td>1</td>\n",
       "      <td>38544</td>\n",
       "      <td>G01-14-2537005</td>\n",
       "      <td>http://www.labtrain.noaa.gov/shemtfa/chemhaz/n...</td>\n",
       "      <td>.                                             ...</td>\n",
       "      <td>1</td>\n",
       "      <td>11.906524</td>\n",
       "      <td>chemical reactions</td>\n",
       "    </tr>\n",
       "    <tr>\n",
       "      <th>2</th>\n",
       "      <td>1</td>\n",
       "      <td>707122</td>\n",
       "      <td>G26-06-3754605</td>\n",
       "      <td>http://www.aps.anl.gov/xfd/tech/safetyenvelope...</td>\n",
       "      <td>APS Experiment Safety Envelope 6: Chemicals   ...</td>\n",
       "      <td>2</td>\n",
       "      <td>11.877550</td>\n",
       "      <td>chemical reactions</td>\n",
       "    </tr>\n",
       "    <tr>\n",
       "      <th>3</th>\n",
       "      <td>1</td>\n",
       "      <td>382754</td>\n",
       "      <td>G13-59-3981168</td>\n",
       "      <td>http://response.restoration.noaa.gov/chemaids/...</td>\n",
       "      <td>\"); }        else {            document.write(...</td>\n",
       "      <td>3</td>\n",
       "      <td>11.858475</td>\n",
       "      <td>chemical reactions</td>\n",
       "    </tr>\n",
       "    <tr>\n",
       "      <th>4</th>\n",
       "      <td>1</td>\n",
       "      <td>70292</td>\n",
       "      <td>G02-16-2617043</td>\n",
       "      <td>http://www.symp14.nist.gov/PDF/COR04MAY.PDF</td>\n",
       "      <td>A Database of Chemical Reactions Designed to A...</td>\n",
       "      <td>4</td>\n",
       "      <td>11.731490</td>\n",
       "      <td>chemical reactions</td>\n",
       "    </tr>\n",
       "    <tr>\n",
       "      <th>...</th>\n",
       "      <td>...</td>\n",
       "      <td>...</td>\n",
       "      <td>...</td>\n",
       "      <td>...</td>\n",
       "      <td>...</td>\n",
       "      <td>...</td>\n",
       "      <td>...</td>\n",
       "      <td>...</td>\n",
       "    </tr>\n",
       "    <tr>\n",
       "      <th>995</th>\n",
       "      <td>1</td>\n",
       "      <td>246965</td>\n",
       "      <td>G08-68-4141101</td>\n",
       "      <td>http://en-env.llnl.gov/asd/pinatub.html</td>\n",
       "      <td>The Chemical and Radiative Effects of the Moun...</td>\n",
       "      <td>995</td>\n",
       "      <td>6.290707</td>\n",
       "      <td>chemical reactions</td>\n",
       "    </tr>\n",
       "    <tr>\n",
       "      <th>996</th>\n",
       "      <td>1</td>\n",
       "      <td>611136</td>\n",
       "      <td>G22-04-3955177</td>\n",
       "      <td>http://eospso.gsfc.nasa.gov/ftp_docs/Ch7.pdf</td>\n",
       "      <td>Chapter  7                                    ...</td>\n",
       "      <td>996</td>\n",
       "      <td>6.289822</td>\n",
       "      <td>chemical reactions</td>\n",
       "    </tr>\n",
       "    <tr>\n",
       "      <th>997</th>\n",
       "      <td>1</td>\n",
       "      <td>594957</td>\n",
       "      <td>G21-38-0191596</td>\n",
       "      <td>http://www.oit.doe.gov/news/oittimes/wn02/wn02...</td>\n",
       "      <td>search                                        ...</td>\n",
       "      <td>997</td>\n",
       "      <td>6.287830</td>\n",
       "      <td>chemical reactions</td>\n",
       "    </tr>\n",
       "    <tr>\n",
       "      <th>998</th>\n",
       "      <td>1</td>\n",
       "      <td>280944</td>\n",
       "      <td>G09-85-3411646</td>\n",
       "      <td>http://www.ig.doe.gov/pdf/chemfina.pdf</td>\n",
       "      <td>INS-O-00-01    I N S P E C T I O N            ...</td>\n",
       "      <td>998</td>\n",
       "      <td>6.287759</td>\n",
       "      <td>chemical reactions</td>\n",
       "    </tr>\n",
       "    <tr>\n",
       "      <th>999</th>\n",
       "      <td>1</td>\n",
       "      <td>596471</td>\n",
       "      <td>G21-44-0134257</td>\n",
       "      <td>http://www.atsdr.cdc.gov/toxprofiles/tp4-c1.pdf</td>\n",
       "      <td>BERYLLIUM                                     ...</td>\n",
       "      <td>999</td>\n",
       "      <td>6.285508</td>\n",
       "      <td>chemical reactions</td>\n",
       "    </tr>\n",
       "  </tbody>\n",
       "</table>\n",
       "<p>1000 rows × 8 columns</p>\n",
       "</div>"
      ],
      "text/plain": [
       "    qid   docid           docno  \\\n",
       "0     1  513586  G18-38-1767991   \n",
       "1     1   38544  G01-14-2537005   \n",
       "2     1  707122  G26-06-3754605   \n",
       "3     1  382754  G13-59-3981168   \n",
       "4     1   70292  G02-16-2617043   \n",
       "..   ..     ...             ...   \n",
       "995   1  246965  G08-68-4141101   \n",
       "996   1  611136  G22-04-3955177   \n",
       "997   1  594957  G21-38-0191596   \n",
       "998   1  280944  G09-85-3411646   \n",
       "999   1  596471  G21-44-0134257   \n",
       "\n",
       "                                                   url  \\\n",
       "0    http://www.boulder.nist.gov/div838/tar/file03....   \n",
       "1    http://www.labtrain.noaa.gov/shemtfa/chemhaz/n...   \n",
       "2    http://www.aps.anl.gov/xfd/tech/safetyenvelope...   \n",
       "3    http://response.restoration.noaa.gov/chemaids/...   \n",
       "4          http://www.symp14.nist.gov/PDF/COR04MAY.PDF   \n",
       "..                                                 ...   \n",
       "995            http://en-env.llnl.gov/asd/pinatub.html   \n",
       "996       http://eospso.gsfc.nasa.gov/ftp_docs/Ch7.pdf   \n",
       "997  http://www.oit.doe.gov/news/oittimes/wn02/wn02...   \n",
       "998             http://www.ig.doe.gov/pdf/chemfina.pdf   \n",
       "999    http://www.atsdr.cdc.gov/toxprofiles/tp4-c1.pdf   \n",
       "\n",
       "                                                  body  rank      score  \\\n",
       "0    NIST  -  Physical and Chemical Properties Divi...     0  12.755546   \n",
       "1    .                                             ...     1  11.906524   \n",
       "2    APS Experiment Safety Envelope 6: Chemicals   ...     2  11.877550   \n",
       "3    \"); }        else {            document.write(...     3  11.858475   \n",
       "4    A Database of Chemical Reactions Designed to A...     4  11.731490   \n",
       "..                                                 ...   ...        ...   \n",
       "995  The Chemical and Radiative Effects of the Moun...   995   6.290707   \n",
       "996  Chapter  7                                    ...   996   6.289822   \n",
       "997  search                                        ...   997   6.287830   \n",
       "998  INS-O-00-01    I N S P E C T I O N            ...   998   6.287759   \n",
       "999  BERYLLIUM                                     ...   999   6.285508   \n",
       "\n",
       "                  query  \n",
       "0    chemical reactions  \n",
       "1    chemical reactions  \n",
       "2    chemical reactions  \n",
       "3    chemical reactions  \n",
       "4    chemical reactions  \n",
       "..                  ...  \n",
       "995  chemical reactions  \n",
       "996  chemical reactions  \n",
       "997  chemical reactions  \n",
       "998  chemical reactions  \n",
       "999  chemical reactions  \n",
       "\n",
       "[1000 rows x 8 columns]"
      ]
     },
     "execution_count": 9,
     "metadata": {},
     "output_type": "execute_result"
    }
   ],
   "source": [
    "firstpassUB.search(\"chemical reactions\")"
   ]
  },
  {
   "cell_type": "markdown",
   "metadata": {
    "id": "hVQGefXx5dRo"
   },
   "source": [
    "# Standard list of features\n",
    "\n",
    "Let's introduce the list of features we need to deploy a baseline learning-to-rank approach."
   ]
  },
  {
   "cell_type": "code",
   "execution_count": 10,
   "metadata": {
    "ExecuteTime": {
     "end_time": "2021-06-18T08:52:35.854114Z",
     "start_time": "2021-06-18T08:52:35.847028Z"
    },
    "id": "gMG6P1cG5dRo"
   },
   "outputs": [],
   "source": [
    "pagerankfile = indexref.toString().replace(\".properties\", \"-pagerank.oos\")\n",
    "features = [\n",
    "    \"SAMPLE\", #ie PL2\n",
    "    \"WMODEL:SingleFieldModel(BM25,0)\", #BM25 title\n",
    "    \"QI:StaticFeature(OIS,%s)\" % pagerankfile,\n",
    "]\n",
    "\n",
    "stdfeatures = pt.FeaturesBatchRetrieve(index, features, verbose=True)\n",
    "stage12 = firstpassUB >> stdfeatures"
   ]
  },
  {
   "cell_type": "markdown",
   "metadata": {
    "id": "-oFWy0u9143O"
   },
   "source": [
    "This is our feature set. We will be using FeaturesBatchRetrieve to compute these extra features on the fly. Let's see the output. You can see that there is now a \"features\" column."
   ]
  },
  {
   "cell_type": "code",
   "execution_count": 11,
   "metadata": {
    "ExecuteTime": {
     "end_time": "2021-06-18T08:52:36.797508Z",
     "start_time": "2021-06-18T08:52:35.856792Z"
    },
    "id": "gb-InOIq8Xc7"
   },
   "outputs": [
    {
     "name": "stderr",
     "output_type": "stream",
     "text": [
      "BR(PL2): 100%|██████████| 1/1 [00:00<00:00,  2.32q/s]\n",
      "FBR(3 features): 100%|██████████| 1/1 [00:00<00:00,  2.18q/s]\n"
     ]
    },
    {
     "data": {
      "text/html": [
       "<div>\n",
       "<style scoped>\n",
       "    .dataframe tbody tr th:only-of-type {\n",
       "        vertical-align: middle;\n",
       "    }\n",
       "\n",
       "    .dataframe tbody tr th {\n",
       "        vertical-align: top;\n",
       "    }\n",
       "\n",
       "    .dataframe thead th {\n",
       "        text-align: right;\n",
       "    }\n",
       "</style>\n",
       "<table border=\"1\" class=\"dataframe\">\n",
       "  <thead>\n",
       "    <tr style=\"text-align: right;\">\n",
       "      <th></th>\n",
       "      <th>qid</th>\n",
       "      <th>query</th>\n",
       "      <th>docid</th>\n",
       "      <th>rank</th>\n",
       "      <th>features</th>\n",
       "      <th>docno</th>\n",
       "      <th>score</th>\n",
       "    </tr>\n",
       "  </thead>\n",
       "  <tbody>\n",
       "    <tr>\n",
       "      <th>0</th>\n",
       "      <td>1</td>\n",
       "      <td>chemical reactions</td>\n",
       "      <td>513586</td>\n",
       "      <td>0</td>\n",
       "      <td>[12.755545561073266, 3.0924078763629836, 0.000...</td>\n",
       "      <td>G18-38-1767991</td>\n",
       "      <td>12.755546</td>\n",
       "    </tr>\n",
       "    <tr>\n",
       "      <th>1</th>\n",
       "      <td>1</td>\n",
       "      <td>chemical reactions</td>\n",
       "      <td>38544</td>\n",
       "      <td>1</td>\n",
       "      <td>[11.90652405775751, 10.789390732195702, 0.0002...</td>\n",
       "      <td>G01-14-2537005</td>\n",
       "      <td>11.906524</td>\n",
       "    </tr>\n",
       "  </tbody>\n",
       "</table>\n",
       "</div>"
      ],
      "text/plain": [
       "  qid               query   docid  rank  \\\n",
       "0   1  chemical reactions  513586     0   \n",
       "1   1  chemical reactions   38544     1   \n",
       "\n",
       "                                            features           docno  \\\n",
       "0  [12.755545561073266, 3.0924078763629836, 0.000...  G18-38-1767991   \n",
       "1  [11.90652405775751, 10.789390732195702, 0.0002...  G01-14-2537005   \n",
       "\n",
       "       score  \n",
       "0  12.755546  \n",
       "1  11.906524  "
      ]
     },
     "execution_count": 11,
     "metadata": {},
     "output_type": "execute_result"
    }
   ],
   "source": [
    "stage12.search(\"chemical reactions\").head(2)"
   ]
  },
  {
   "cell_type": "markdown",
   "metadata": {
    "id": "SNoja4352Pvt"
   },
   "source": [
    "Let's look in more detail at the features. It is clear that there are 3 numbers for each document. The first is the PL2 score (1.27555456e+01 == 12.7555), the second is the BM25 score, and the third is the PageRank (a link analysis feature - discussed in more detail in Lecture 10)"
   ]
  },
  {
   "cell_type": "code",
   "execution_count": 12,
   "metadata": {
    "ExecuteTime": {
     "end_time": "2021-06-18T08:52:37.540707Z",
     "start_time": "2021-06-18T08:52:36.798974Z"
    },
    "id": "L6Horkb-2KYT"
   },
   "outputs": [
    {
     "name": "stderr",
     "output_type": "stream",
     "text": [
      "BR(PL2): 100%|██████████| 1/1 [00:00<00:00,  2.68q/s]\n",
      "FBR(3 features): 100%|██████████| 1/1 [00:00<00:00,  2.94q/s]\n"
     ]
    },
    {
     "data": {
      "text/plain": [
       "array([1.27555456e+01, 3.09240788e+00, 1.05668333e-04])"
      ]
     },
     "execution_count": 12,
     "metadata": {},
     "output_type": "execute_result"
    }
   ],
   "source": [
    "stage12.search(\"chemical reactions\").head(1).iloc[0][\"features\"]"
   ]
  },
  {
   "cell_type": "markdown",
   "metadata": {
    "id": "UYoJRrJR4oTL"
   },
   "source": [
    "# Q1\n",
    "\n",
    "You now have everyting you need to attempt Q1. You will need to refer to the specification, and to PyTerrier's [learning to rank documentation](https://pyterrier.readthedocs.io/en/latest/ltr.html).\n",
    "\n",
    "You should use a LightGBM LambdaMART implementation (*not* XGBoost), instantiated using the configuration suggested in the PyTerrier documentation.\n",
    "\n",
    "Hints:\n",
    " - You will need to use the provided separate “training” and “validation” topic sets and qrels to train the learning-to-rank.\n",
    " - There is no need to vary the configuration of LightGBM from that in the documentation."
   ]
  },
  {
   "cell_type": "code",
   "execution_count": 13,
   "metadata": {
    "ExecuteTime": {
     "end_time": "2021-06-18T08:56:41.392932Z",
     "start_time": "2021-06-18T08:52:37.542885Z"
    },
    "id": "KNNPtj7XHsTs",
    "scrolled": true
   },
   "outputs": [
    {
     "name": "stderr",
     "output_type": "stream",
     "text": [
      "BR(PL2): 100%|██████████| 96/96 [01:03<00:00,  1.51q/s]\n",
      "FBR(3 features): 100%|██████████| 96/96 [00:34<00:00,  2.79q/s]\n",
      "BR(PL2): 100%|██████████| 54/54 [00:29<00:00,  1.80q/s]\n",
      "FBR(3 features): 100%|██████████| 54/54 [00:19<00:00,  2.81q/s]\n",
      "/Users/siqiwang/opt/anaconda3/lib/python3.8/site-packages/lightgbm/engine.py:118: UserWarning: Found `num_iterations` in params. Will use it instead of argument\n",
      "  warnings.warn(\"Found `{}` in params. Will use it instead of argument\".format(alias))\n"
     ]
    },
    {
     "name": "stdout",
     "output_type": "stream",
     "text": [
      "[1]\tvalid_0's ndcg@1: 0.277778\n",
      "[2]\tvalid_0's ndcg@1: 0.351852\n",
      "[3]\tvalid_0's ndcg@1: 0.351852\n",
      "[4]\tvalid_0's ndcg@1: 0.388889\n",
      "[5]\tvalid_0's ndcg@1: 0.388889\n",
      "[6]\tvalid_0's ndcg@1: 0.407407\n",
      "[7]\tvalid_0's ndcg@1: 0.407407\n",
      "[8]\tvalid_0's ndcg@1: 0.407407\n",
      "[9]\tvalid_0's ndcg@1: 0.388889\n",
      "[10]\tvalid_0's ndcg@1: 0.388889\n"
     ]
    },
    {
     "name": "stderr",
     "output_type": "stream",
     "text": [
      "BR(PL2): 100%|██████████| 75/75 [00:39<00:00,  1.91q/s]\n",
      "BR(PL2): 100%|██████████| 75/75 [00:28<00:00,  2.59q/s]\n",
      "FBR(3 features): 100%|██████████| 75/75 [00:26<00:00,  2.83q/s]\n"
     ]
    },
    {
     "data": {
      "text/html": [
       "<div>\n",
       "<style scoped>\n",
       "    .dataframe tbody tr th:only-of-type {\n",
       "        vertical-align: middle;\n",
       "    }\n",
       "\n",
       "    .dataframe tbody tr th {\n",
       "        vertical-align: top;\n",
       "    }\n",
       "\n",
       "    .dataframe thead th {\n",
       "        text-align: right;\n",
       "    }\n",
       "</style>\n",
       "<table border=\"1\" class=\"dataframe\">\n",
       "  <thead>\n",
       "    <tr style=\"text-align: right;\">\n",
       "      <th></th>\n",
       "      <th>name</th>\n",
       "      <th>map</th>\n",
       "      <th>P_5</th>\n",
       "      <th>map +</th>\n",
       "      <th>map -</th>\n",
       "      <th>map p-value</th>\n",
       "      <th>P_5 +</th>\n",
       "      <th>P_5 -</th>\n",
       "      <th>P_5 p-value</th>\n",
       "    </tr>\n",
       "  </thead>\n",
       "  <tbody>\n",
       "    <tr>\n",
       "      <th>0</th>\n",
       "      <td>PL2 Baseline</td>\n",
       "      <td>0.2251</td>\n",
       "      <td>0.0693</td>\n",
       "      <td>NaN</td>\n",
       "      <td>NaN</td>\n",
       "      <td>NaN</td>\n",
       "      <td>NaN</td>\n",
       "      <td>NaN</td>\n",
       "      <td>NaN</td>\n",
       "    </tr>\n",
       "    <tr>\n",
       "      <th>1</th>\n",
       "      <td>LambdaMART (LightGBM)</td>\n",
       "      <td>0.4107</td>\n",
       "      <td>0.1147</td>\n",
       "      <td>45.0</td>\n",
       "      <td>15.0</td>\n",
       "      <td>0.000097</td>\n",
       "      <td>22.0</td>\n",
       "      <td>6.0</td>\n",
       "      <td>0.001787</td>\n",
       "    </tr>\n",
       "  </tbody>\n",
       "</table>\n",
       "</div>"
      ],
      "text/plain": [
       "                    name     map     P_5  map +  map -  map p-value  P_5 +  \\\n",
       "0           PL2 Baseline  0.2251  0.0693    NaN    NaN          NaN    NaN   \n",
       "1  LambdaMART (LightGBM)  0.4107  0.1147   45.0   15.0     0.000097   22.0   \n",
       "\n",
       "   P_5 -  P_5 p-value  \n",
       "0    NaN          NaN  \n",
       "1    6.0     0.001787  "
      ]
     },
     "execution_count": 13,
     "metadata": {},
     "output_type": "execute_result"
    }
   ],
   "source": [
    "#YOUR SOLUTION\n",
    "# train LTR\n",
    "# this configures LightGBM as LambdaMART\n",
    "lmart_l = lightgbm.LGBMRanker(task=\"train\",\n",
    "    min_data_in_leaf=1,\n",
    "    min_sum_hessian_in_leaf=100,\n",
    "    max_bin=255,\n",
    "    num_leaves=7,\n",
    "    objective=\"lambdarank\",\n",
    "    metric=\"ndcg\",\n",
    "    ndcg_eval_at=[1, 3, 5, 10],\n",
    "    learning_rate= .1,\n",
    "    importance_type=\"gain\",\n",
    "    num_iterations=10)\n",
    "lmart_l_pipe = stage12 >> pt.ltr.apply_learned_model(lmart_l, form=\"ltr\")\n",
    "lmart_l_pipe.fit(tr_topics, tr_qrels, va_topics, va_qrels)\n",
    "\n",
    "# compare LTR with PL2 using MAP / P@5\n",
    "pt.Experiment(\n",
    "    [firstpassUB, lmart_l_pipe],\n",
    "    test_topics,\n",
    "    test_qrels,\n",
    "    [\"map\", \"P_5\"],\n",
    "    round=4, baseline=0,\n",
    "    names=[\"PL2 Baseline\", \"LambdaMART (LightGBM)\" ]\n",
    ")"
   ]
  },
  {
   "cell_type": "markdown",
   "metadata": {
    "id": "kh0whrbS9-xu"
   },
   "source": [
    "# Q2 - URL Length Features\n",
    "\n",
    "In this block, please provide your code for Q2 concerning your two URL Length features, namely URL Length by counting slashes (URL-slashes) and URL Length through using the type of the URL (URL-type). There are different possible URL length features that you could implement (see specification). Do carefully read and follow the Exercise 3 specification before starting the implementation of the features.\n",
    "\n",
    "Some hints:\n",
    "\n",
    " - You will need to use a [pt.apply function](https://pyterrier.readthedocs.io/en/latest/apply.html) for computing your URL feature(s). The dataframe of results obtained from the upstream transformer has all of the information you need.\n",
    "\n",
    " - You can use a `**` operator for combining feature sets.\n",
    "\n",
    " - Refer to the PyTerrier learning to rank documentation  concerning `features_importances_` for obtaining feature importances.\n",
    "\n",
    " - You may wish to refer to Python's [`urlparse()`](https://docs.python.org/3/library/urllib.parse.html) function.\n",
    "\n",
    " - Use Python assertions to test that your feature implmentation(s) give the expected results. \n"
   ]
  },
  {
   "cell_type": "markdown",
   "metadata": {
    "id": "zeIqqLYtxB_h"
   },
   "source": [
    "## Q2 (a) URL-Slashes Feature\n",
    "\n",
    "In this block you should define your URL-Slashes feature, and test it. "
   ]
  },
  {
   "cell_type": "code",
   "execution_count": 14,
   "metadata": {
    "ExecuteTime": {
     "end_time": "2021-06-18T08:56:41.778084Z",
     "start_time": "2021-06-18T08:56:41.394505Z"
    },
    "id": "oiNTl3HbxZwZ"
   },
   "outputs": [
    {
     "name": "stderr",
     "output_type": "stream",
     "text": [
      "BR(PL2): 100%|██████████| 1/1 [00:00<00:00,  2.73q/s]\n"
     ]
    },
    {
     "data": {
      "text/plain": [
       "3"
      ]
     },
     "execution_count": 14,
     "metadata": {},
     "output_type": "execute_result"
    }
   ],
   "source": [
    "#YOUR SOLUTION\n",
    "from urllib.parse import urlparse\n",
    "import numpy as np\n",
    "\n",
    "def url_slash(row):\n",
    "    urlpath = urlparse(row['url'])[2]\n",
    "    slash_count = urlpath.count(\"/\")\n",
    "    return np.array([slash_count])\n",
    "\n",
    "url_slash(firstpassUB.search(\"chemical reaction\").iloc[1])[0]"
   ]
  },
  {
   "cell_type": "markdown",
   "metadata": {
    "id": "G_ugoAqhxbGM"
   },
   "source": [
    "#### (i) URL-Slashes as a PL2 re-ranker\n",
    "\n",
    "Now you should evaluate your URL-slashes score by re-ranking PL2. You can now answer the corresponding quiz questions."
   ]
  },
  {
   "cell_type": "code",
   "execution_count": 15,
   "metadata": {
    "ExecuteTime": {
     "end_time": "2021-06-18T08:57:41.114189Z",
     "start_time": "2021-06-18T08:56:41.780166Z"
    },
    "id": "IVNHsX_ixoYS"
   },
   "outputs": [
    {
     "name": "stderr",
     "output_type": "stream",
     "text": [
      "BR(PL2): 100%|██████████| 75/75 [00:28<00:00,  2.59q/s]\n",
      "BR(PL2): 100%|██████████| 75/75 [00:28<00:00,  2.65q/s]\n"
     ]
    },
    {
     "data": {
      "text/html": [
       "<div>\n",
       "<style scoped>\n",
       "    .dataframe tbody tr th:only-of-type {\n",
       "        vertical-align: middle;\n",
       "    }\n",
       "\n",
       "    .dataframe tbody tr th {\n",
       "        vertical-align: top;\n",
       "    }\n",
       "\n",
       "    .dataframe thead th {\n",
       "        text-align: right;\n",
       "    }\n",
       "</style>\n",
       "<table border=\"1\" class=\"dataframe\">\n",
       "  <thead>\n",
       "    <tr style=\"text-align: right;\">\n",
       "      <th></th>\n",
       "      <th>name</th>\n",
       "      <th>map</th>\n",
       "      <th>P_5</th>\n",
       "      <th>map +</th>\n",
       "      <th>map -</th>\n",
       "      <th>map p-value</th>\n",
       "      <th>P_5 +</th>\n",
       "      <th>P_5 -</th>\n",
       "      <th>P_5 p-value</th>\n",
       "    </tr>\n",
       "  </thead>\n",
       "  <tbody>\n",
       "    <tr>\n",
       "      <th>0</th>\n",
       "      <td>PL2 Baseline</td>\n",
       "      <td>0.2251</td>\n",
       "      <td>0.0693</td>\n",
       "      <td>NaN</td>\n",
       "      <td>NaN</td>\n",
       "      <td>NaN</td>\n",
       "      <td>NaN</td>\n",
       "      <td>NaN</td>\n",
       "      <td>NaN</td>\n",
       "    </tr>\n",
       "    <tr>\n",
       "      <th>1</th>\n",
       "      <td>URL-Slash re-ranker</td>\n",
       "      <td>0.2848</td>\n",
       "      <td>0.0827</td>\n",
       "      <td>39.0</td>\n",
       "      <td>12.0</td>\n",
       "      <td>0.007463</td>\n",
       "      <td>6.0</td>\n",
       "      <td>2.0</td>\n",
       "      <td>0.132599</td>\n",
       "    </tr>\n",
       "  </tbody>\n",
       "</table>\n",
       "</div>"
      ],
      "text/plain": [
       "                  name     map     P_5  map +  map -  map p-value  P_5 +  \\\n",
       "0         PL2 Baseline  0.2251  0.0693    NaN    NaN          NaN    NaN   \n",
       "1  URL-Slash re-ranker  0.2848  0.0827   39.0   12.0     0.007463    6.0   \n",
       "\n",
       "   P_5 -  P_5 p-value  \n",
       "0    NaN          NaN  \n",
       "1    2.0     0.132599  "
      ]
     },
     "execution_count": 15,
     "metadata": {},
     "output_type": "execute_result"
    }
   ],
   "source": [
    "#YOUR SOLUTION\n",
    "pipe_slash = firstpassUB >> pt.apply.doc_score(lambda row: row['score'] - url_slash(row)[0])\n",
    "pt.Experiment(\n",
    "    [firstpassUB, pipe_slash],\n",
    "    test_topics,\n",
    "    test_qrels,\n",
    "    [\"map\", \"P_5\"],\n",
    "    round=4, baseline=0,\n",
    "    names=[\"PL2 Baseline\", \"URL-Slash re-ranker\"]\n",
    ")"
   ]
  },
  {
   "cell_type": "code",
   "execution_count": 43,
   "metadata": {
    "ExecuteTime": {
     "end_time": "2021-06-18T12:21:33.031184Z",
     "start_time": "2021-06-18T12:21:32.983098Z"
    },
    "scrolled": true
   },
   "outputs": [
    {
     "name": "stderr",
     "output_type": "stream",
     "text": [
      "BR(PL2): 100%|██████████| 1/1 [00:00<00:00, 56.30q/s]\n"
     ]
    },
    {
     "data": {
      "text/html": [
       "<div>\n",
       "<style scoped>\n",
       "    .dataframe tbody tr th:only-of-type {\n",
       "        vertical-align: middle;\n",
       "    }\n",
       "\n",
       "    .dataframe tbody tr th {\n",
       "        vertical-align: top;\n",
       "    }\n",
       "\n",
       "    .dataframe thead th {\n",
       "        text-align: right;\n",
       "    }\n",
       "</style>\n",
       "<table border=\"1\" class=\"dataframe\">\n",
       "  <thead>\n",
       "    <tr style=\"text-align: right;\">\n",
       "      <th></th>\n",
       "      <th>qid</th>\n",
       "      <th>docid</th>\n",
       "      <th>docno</th>\n",
       "      <th>url</th>\n",
       "      <th>body</th>\n",
       "      <th>score</th>\n",
       "      <th>query</th>\n",
       "      <th>rank</th>\n",
       "    </tr>\n",
       "  </thead>\n",
       "  <tbody>\n",
       "    <tr>\n",
       "      <th>0</th>\n",
       "      <td>1</td>\n",
       "      <td>434993</td>\n",
       "      <td>G15-50-1054100</td>\n",
       "      <td>http://cs-www.ncsl.nist.gov/publications/nistp...</td>\n",
       "      <td>References[BOCK 88] Peter Bocker, ISDN The Int...</td>\n",
       "      <td>4.382679</td>\n",
       "      <td>cryption</td>\n",
       "      <td>0</td>\n",
       "    </tr>\n",
       "    <tr>\n",
       "      <th>2</th>\n",
       "      <td>1</td>\n",
       "      <td>515873</td>\n",
       "      <td>G18-46-1865362</td>\n",
       "      <td>http://socialsecurity.gov/employer/Repfal00.pdf</td>\n",
       "      <td>SSA / I R SSocial SecurityAdministrationIntern...</td>\n",
       "      <td>3.029155</td>\n",
       "      <td>cryption</td>\n",
       "      <td>1</td>\n",
       "    </tr>\n",
       "    <tr>\n",
       "      <th>4</th>\n",
       "      <td>1</td>\n",
       "      <td>580563</td>\n",
       "      <td>G20-84-2477732</td>\n",
       "      <td>http://itos.gsfc.nasa.gov/ITOS/remcmd.pdf</td>\n",
       "      <td>Remote Commanding Documentation               ...</td>\n",
       "      <td>2.330407</td>\n",
       "      <td>cryption</td>\n",
       "      <td>2</td>\n",
       "    </tr>\n",
       "    <tr>\n",
       "      <th>3</th>\n",
       "      <td>1</td>\n",
       "      <td>418765</td>\n",
       "      <td>G14-90-3191980</td>\n",
       "      <td>http://cs-www.ncsl.nist.gov/publications/nistb...</td>\n",
       "      <td>November 1997INTERNET                         ...</td>\n",
       "      <td>1.695244</td>\n",
       "      <td>cryption</td>\n",
       "      <td>3</td>\n",
       "    </tr>\n",
       "    <tr>\n",
       "      <th>5</th>\n",
       "      <td>1</td>\n",
       "      <td>88187</td>\n",
       "      <td>G02-78-3621877</td>\n",
       "      <td>http://cs-www.ncsl.nist.gov/ipsec/papers/aes-d...</td>\n",
       "      <td>Network Working Group                         ...</td>\n",
       "      <td>0.716963</td>\n",
       "      <td>cryption</td>\n",
       "      <td>4</td>\n",
       "    </tr>\n",
       "    <tr>\n",
       "      <th>1</th>\n",
       "      <td>1</td>\n",
       "      <td>494954</td>\n",
       "      <td>G17-68-2584616</td>\n",
       "      <td>http://www.ncs.gov/n2/content/technote/tnv7n4/...</td>\n",
       "      <td>OFFICE OF THE MANAGER                         ...</td>\n",
       "      <td>0.182290</td>\n",
       "      <td>cryption</td>\n",
       "      <td>5</td>\n",
       "    </tr>\n",
       "    <tr>\n",
       "      <th>6</th>\n",
       "      <td>1</td>\n",
       "      <td>457024</td>\n",
       "      <td>G16-34-3764782</td>\n",
       "      <td>http://w3.access.gpo.gov/bxa/ear/txt/734.txt</td>\n",
       "      <td>Part 734--Scope of the Export Administration R...</td>\n",
       "      <td>-0.329457</td>\n",
       "      <td>cryption</td>\n",
       "      <td>6</td>\n",
       "    </tr>\n",
       "    <tr>\n",
       "      <th>9</th>\n",
       "      <td>1</td>\n",
       "      <td>567214</td>\n",
       "      <td>G20-36-0506919</td>\n",
       "      <td>http://cs-www.ncsl.nist.gov/staff/jansen/IEEEa...</td>\n",
       "      <td>I N T E L L I G E N T   A G E N T SAgents for ...</td>\n",
       "      <td>-1.700625</td>\n",
       "      <td>cryption</td>\n",
       "      <td>7</td>\n",
       "    </tr>\n",
       "    <tr>\n",
       "      <th>7</th>\n",
       "      <td>1</td>\n",
       "      <td>424551</td>\n",
       "      <td>G15-11-3633588</td>\n",
       "      <td>http://cs-www.ncsl.nist.gov/publications/nistp...</td>\n",
       "      <td>Special Publication 800-41 Guidelines on Firew...</td>\n",
       "      <td>-2.469812</td>\n",
       "      <td>cryption</td>\n",
       "      <td>8</td>\n",
       "    </tr>\n",
       "    <tr>\n",
       "      <th>8</th>\n",
       "      <td>1</td>\n",
       "      <td>427549</td>\n",
       "      <td>G15-22-3805523</td>\n",
       "      <td>http://cs-www.ncsl.nist.gov/publications/nistp...</td>\n",
       "      <td>Security Issues in the Database Language SQLW....</td>\n",
       "      <td>-2.658546</td>\n",
       "      <td>cryption</td>\n",
       "      <td>9</td>\n",
       "    </tr>\n",
       "  </tbody>\n",
       "</table>\n",
       "</div>"
      ],
      "text/plain": [
       "  qid   docid           docno  \\\n",
       "0   1  434993  G15-50-1054100   \n",
       "2   1  515873  G18-46-1865362   \n",
       "4   1  580563  G20-84-2477732   \n",
       "3   1  418765  G14-90-3191980   \n",
       "5   1   88187  G02-78-3621877   \n",
       "1   1  494954  G17-68-2584616   \n",
       "6   1  457024  G16-34-3764782   \n",
       "9   1  567214  G20-36-0506919   \n",
       "7   1  424551  G15-11-3633588   \n",
       "8   1  427549  G15-22-3805523   \n",
       "\n",
       "                                                 url  \\\n",
       "0  http://cs-www.ncsl.nist.gov/publications/nistp...   \n",
       "2    http://socialsecurity.gov/employer/Repfal00.pdf   \n",
       "4          http://itos.gsfc.nasa.gov/ITOS/remcmd.pdf   \n",
       "3  http://cs-www.ncsl.nist.gov/publications/nistb...   \n",
       "5  http://cs-www.ncsl.nist.gov/ipsec/papers/aes-d...   \n",
       "1  http://www.ncs.gov/n2/content/technote/tnv7n4/...   \n",
       "6       http://w3.access.gpo.gov/bxa/ear/txt/734.txt   \n",
       "9  http://cs-www.ncsl.nist.gov/staff/jansen/IEEEa...   \n",
       "7  http://cs-www.ncsl.nist.gov/publications/nistp...   \n",
       "8  http://cs-www.ncsl.nist.gov/publications/nistp...   \n",
       "\n",
       "                                                body     score     query  rank  \n",
       "0  References[BOCK 88] Peter Bocker, ISDN The Int...  4.382679  cryption     0  \n",
       "2  SSA / I R SSocial SecurityAdministrationIntern...  3.029155  cryption     1  \n",
       "4  Remote Commanding Documentation               ...  2.330407  cryption     2  \n",
       "3  November 1997INTERNET                         ...  1.695244  cryption     3  \n",
       "5  Network Working Group                         ...  0.716963  cryption     4  \n",
       "1  OFFICE OF THE MANAGER                         ...  0.182290  cryption     5  \n",
       "6  Part 734--Scope of the Export Administration R... -0.329457  cryption     6  \n",
       "9  I N T E L L I G E N T   A G E N T SAgents for ... -1.700625  cryption     7  \n",
       "7  Special Publication 800-41 Guidelines on Firew... -2.469812  cryption     8  \n",
       "8  Security Issues in the Database Language SQLW.... -2.658546  cryption     9  "
      ]
     },
     "execution_count": 43,
     "metadata": {},
     "output_type": "execute_result"
    }
   ],
   "source": [
    "pipe_slash.search(\"cryption\")"
   ]
  },
  {
   "cell_type": "markdown",
   "metadata": {
    "id": "NGoCpq3QxptA"
   },
   "source": [
    "#### (ii) URL-Slashes within an LTR model\n",
    "\n",
    "Now you should evaluate your URL-slashes score as a feature within a new learned model. You can now answer the corresponding quiz questions."
   ]
  },
  {
   "cell_type": "code",
   "execution_count": 16,
   "metadata": {
    "ExecuteTime": {
     "end_time": "2021-06-18T08:59:39.527745Z",
     "start_time": "2021-06-18T08:57:41.116381Z"
    },
    "id": "leH5uh4xx2el"
   },
   "outputs": [
    {
     "name": "stderr",
     "output_type": "stream",
     "text": [
      "BR(PL2): 100%|██████████| 96/96 [00:37<00:00,  2.53q/s]\n",
      "FBR(3 features): 100%|██████████| 96/96 [00:33<00:00,  2.83q/s]\n",
      "BR(PL2): 100%|██████████| 54/54 [00:21<00:00,  2.53q/s]\n",
      "FBR(3 features): 100%|██████████| 54/54 [00:18<00:00,  2.87q/s]\n",
      "/Users/siqiwang/opt/anaconda3/lib/python3.8/site-packages/lightgbm/engine.py:118: UserWarning: Found `num_iterations` in params. Will use it instead of argument\n",
      "  warnings.warn(\"Found `{}` in params. Will use it instead of argument\".format(alias))\n"
     ]
    },
    {
     "name": "stdout",
     "output_type": "stream",
     "text": [
      "[1]\tvalid_0's ndcg@1: 0.277778\n",
      "[2]\tvalid_0's ndcg@1: 0.296296\n",
      "[3]\tvalid_0's ndcg@1: 0.333333\n",
      "[4]\tvalid_0's ndcg@1: 0.351852\n",
      "[5]\tvalid_0's ndcg@1: 0.388889\n",
      "[6]\tvalid_0's ndcg@1: 0.407407\n",
      "[7]\tvalid_0's ndcg@1: 0.407407\n",
      "[8]\tvalid_0's ndcg@1: 0.592593\n",
      "[9]\tvalid_0's ndcg@1: 0.666667\n",
      "[10]\tvalid_0's ndcg@1: 0.685185\n"
     ]
    }
   ],
   "source": [
    "#YOUR SOLUTION\n",
    "add_slash_feature = pt.apply.doc_features(url_slash)\n",
    "pipe_add_slash = firstpassUB >> (stdfeatures ** add_slash_feature)\n",
    "\n",
    "lmart_l_slash = lightgbm.LGBMRanker(task=\"train\",\n",
    "    min_data_in_leaf=1,\n",
    "    min_sum_hessian_in_leaf=100,\n",
    "    max_bin=255,\n",
    "    num_leaves=7,\n",
    "    objective=\"lambdarank\",\n",
    "    metric=\"ndcg\",\n",
    "    ndcg_eval_at=[1, 3, 5, 10],\n",
    "    learning_rate= .1,\n",
    "    importance_type=\"gain\",\n",
    "    num_iterations=10)\n",
    "lmart_l_pipe_slash = pipe_add_slash >> pt.ltr.apply_learned_model(lmart_l_slash, form=\"ltr\")\n",
    "lmart_l_pipe_slash.fit(tr_topics, tr_qrels, va_topics, va_qrels)\n"
   ]
  },
  {
   "cell_type": "code",
   "execution_count": 17,
   "metadata": {
    "ExecuteTime": {
     "end_time": "2021-06-18T09:01:35.359026Z",
     "start_time": "2021-06-18T08:59:39.529964Z"
    }
   },
   "outputs": [
    {
     "name": "stderr",
     "output_type": "stream",
     "text": [
      "BR(PL2): 100%|██████████| 75/75 [00:29<00:00,  2.57q/s]\n",
      "FBR(3 features): 100%|██████████| 75/75 [00:27<00:00,  2.76q/s]\n",
      "BR(PL2): 100%|██████████| 75/75 [00:29<00:00,  2.56q/s]\n",
      "FBR(3 features): 100%|██████████| 75/75 [00:26<00:00,  2.85q/s]\n"
     ]
    },
    {
     "data": {
      "text/html": [
       "<div>\n",
       "<style scoped>\n",
       "    .dataframe tbody tr th:only-of-type {\n",
       "        vertical-align: middle;\n",
       "    }\n",
       "\n",
       "    .dataframe tbody tr th {\n",
       "        vertical-align: top;\n",
       "    }\n",
       "\n",
       "    .dataframe thead th {\n",
       "        text-align: right;\n",
       "    }\n",
       "</style>\n",
       "<table border=\"1\" class=\"dataframe\">\n",
       "  <thead>\n",
       "    <tr style=\"text-align: right;\">\n",
       "      <th></th>\n",
       "      <th>name</th>\n",
       "      <th>map</th>\n",
       "      <th>P_5</th>\n",
       "      <th>map +</th>\n",
       "      <th>map -</th>\n",
       "      <th>map p-value</th>\n",
       "      <th>P_5 +</th>\n",
       "      <th>P_5 -</th>\n",
       "      <th>P_5 p-value</th>\n",
       "    </tr>\n",
       "  </thead>\n",
       "  <tbody>\n",
       "    <tr>\n",
       "      <th>0</th>\n",
       "      <td>Baseline(3 features)</td>\n",
       "      <td>0.4107</td>\n",
       "      <td>0.1147</td>\n",
       "      <td>NaN</td>\n",
       "      <td>NaN</td>\n",
       "      <td>NaN</td>\n",
       "      <td>NaN</td>\n",
       "      <td>NaN</td>\n",
       "      <td>NaN</td>\n",
       "    </tr>\n",
       "    <tr>\n",
       "      <th>1</th>\n",
       "      <td>Add URL Slash</td>\n",
       "      <td>0.4577</td>\n",
       "      <td>0.1253</td>\n",
       "      <td>23.0</td>\n",
       "      <td>27.0</td>\n",
       "      <td>0.312466</td>\n",
       "      <td>9.0</td>\n",
       "      <td>6.0</td>\n",
       "      <td>0.349206</td>\n",
       "    </tr>\n",
       "  </tbody>\n",
       "</table>\n",
       "</div>"
      ],
      "text/plain": [
       "                   name     map     P_5  map +  map -  map p-value  P_5 +  \\\n",
       "0  Baseline(3 features)  0.4107  0.1147    NaN    NaN          NaN    NaN   \n",
       "1         Add URL Slash  0.4577  0.1253   23.0   27.0     0.312466    9.0   \n",
       "\n",
       "   P_5 -  P_5 p-value  \n",
       "0    NaN          NaN  \n",
       "1    6.0     0.349206  "
      ]
     },
     "execution_count": 17,
     "metadata": {},
     "output_type": "execute_result"
    }
   ],
   "source": [
    "\n",
    "pt.Experiment(\n",
    "    [lmart_l_pipe, lmart_l_pipe_slash],\n",
    "    test_topics,\n",
    "    test_qrels,\n",
    "    [\"map\", \"P_5\"],\n",
    "    round=4, baseline=0,\n",
    "    names=[\"Baseline(3 features)\", \"Add URL Slash\" ]\n",
    ")"
   ]
  },
  {
   "cell_type": "code",
   "execution_count": 42,
   "metadata": {
    "ExecuteTime": {
     "end_time": "2021-06-18T09:47:21.258240Z",
     "start_time": "2021-06-18T09:47:21.251501Z"
    }
   },
   "outputs": [
    {
     "data": {
      "text/plain": [
       "array([166124.06993103, 233412.72677612, 289889.15158081,  42367.00134277])"
      ]
     },
     "execution_count": 42,
     "metadata": {},
     "output_type": "execute_result"
    }
   ],
   "source": [
    "lmart_l_slash.feature_importances_"
   ]
  },
  {
   "cell_type": "code",
   "execution_count": 18,
   "metadata": {
    "ExecuteTime": {
     "end_time": "2021-06-18T09:01:35.830203Z",
     "start_time": "2021-06-18T09:01:35.360846Z"
    }
   },
   "outputs": [
    {
     "data": {
      "text/plain": [
       "<BarContainer object of 4 artists>"
      ]
     },
     "execution_count": 18,
     "metadata": {},
     "output_type": "execute_result"
    },
    {
     "data": {
      "image/png": "[encoded data removed]",
      "text/plain": [
       "<Figure size 576x396 with 1 Axes>"
      ]
     },
     "metadata": {},
     "output_type": "display_data"
    }
   ],
   "source": [
    "import matplotlib.pyplot as plt\n",
    "plt.style.use(\"seaborn\")\n",
    "\n",
    "plt.bar(['pl2', 'bm25', 'pagerank', 'new added'], lmart_l_slash.feature_importances_)"
   ]
  },
  {
   "cell_type": "markdown",
   "metadata": {
    "id": "Bo3mba6sxLqz"
   },
   "source": [
    "## Q2 (b) URL Type Feature\n",
    "\n",
    "In this block you should define your URL Type feature and test it."
   ]
  },
  {
   "cell_type": "code",
   "execution_count": 19,
   "metadata": {
    "ExecuteTime": {
     "end_time": "2021-06-18T09:02:06.694529Z",
     "start_time": "2021-06-18T09:01:35.834615Z"
    },
    "id": "BgSh7TmmyIWN"
   },
   "outputs": [
    {
     "name": "stderr",
     "output_type": "stream",
     "text": [
      "BR(PL2): 100%|██████████| 75/75 [00:29<00:00,  2.55q/s]\n"
     ]
    }
   ],
   "source": [
    "#YOUR SOLUTION\n",
    "# 0: root, 1: subroot, 2: path, 3: file\n",
    "\n",
    "def url_type(row):\n",
    "    urlpath = urlparse(row['url'])[2]\n",
    "    slash_count = urlpath.count(\"/\")\n",
    "    if urlpath.endswith(\"/\"):\n",
    "        if slash_count > 2:\n",
    "            cate = 2\n",
    "        else:\n",
    "            cate = 1\n",
    "    else:\n",
    "        if urlpath.endswith(\"index.html\"):\n",
    "            if slash_count < 2:\n",
    "                cate = 0\n",
    "            if slash_count == 2:\n",
    "                cate = 1\n",
    "            if slash_count > 2:\n",
    "                cate = 2\n",
    "        else:\n",
    "            if slash_count > 0:\n",
    "                cate = 3\n",
    "            else:\n",
    "                cate = 0\n",
    "    return np.array([cate])\n",
    "\n",
    "pipe_test = firstpassUB >> pt.apply.doc_features(url_type)\n",
    "test_df = pipe_test.transform(test_topics)"
   ]
  },
  {
   "cell_type": "code",
   "execution_count": 20,
   "metadata": {
    "ExecuteTime": {
     "end_time": "2021-06-18T09:02:06.774336Z",
     "start_time": "2021-06-18T09:02:06.697124Z"
    }
   },
   "outputs": [
    {
     "data": {
      "text/plain": [
       "60                  http://www.phila.gov\n",
       "533          http://philadelphia.fbi.gov\n",
       "954      http://draweb.library.phila.gov\n",
       "1009          http://usembassy.state.gov\n",
       "1024                    http://state.gov\n",
       "                      ...               \n",
       "73479                http://www.erie.gov\n",
       "73511          http://www.yorkcounty.gov\n",
       "73593             http://newyork.fbi.gov\n",
       "73759          http://schumer.senate.gov\n",
       "73791       http://www.nyed.uscourts.gov\n",
       "Name: url, Length: 597, dtype: object"
      ]
     },
     "execution_count": 20,
     "metadata": {},
     "output_type": "execute_result"
    }
   ],
   "source": [
    "test_df[test_df['features'] == 0]['url']"
   ]
  },
  {
   "cell_type": "markdown",
   "metadata": {
    "id": "VugAPVF8yIWN"
   },
   "source": [
    "#### (i) URL Type as a PL2 re-ranker\n",
    "\n",
    "Now you should evaluate your URL type score by re-ranking PL2. You can now answer the corresponding quiz questions."
   ]
  },
  {
   "cell_type": "code",
   "execution_count": 21,
   "metadata": {
    "ExecuteTime": {
     "end_time": "2021-06-18T09:03:08.837532Z",
     "start_time": "2021-06-18T09:02:06.776686Z"
    },
    "id": "o8L4AVuVyIWO"
   },
   "outputs": [
    {
     "name": "stderr",
     "output_type": "stream",
     "text": [
      "BR(PL2): 100%|██████████| 75/75 [00:30<00:00,  2.46q/s]\n",
      "BR(PL2): 100%|██████████| 75/75 [00:29<00:00,  2.57q/s]\n"
     ]
    },
    {
     "data": {
      "text/html": [
       "<div>\n",
       "<style scoped>\n",
       "    .dataframe tbody tr th:only-of-type {\n",
       "        vertical-align: middle;\n",
       "    }\n",
       "\n",
       "    .dataframe tbody tr th {\n",
       "        vertical-align: top;\n",
       "    }\n",
       "\n",
       "    .dataframe thead th {\n",
       "        text-align: right;\n",
       "    }\n",
       "</style>\n",
       "<table border=\"1\" class=\"dataframe\">\n",
       "  <thead>\n",
       "    <tr style=\"text-align: right;\">\n",
       "      <th></th>\n",
       "      <th>name</th>\n",
       "      <th>map</th>\n",
       "      <th>P_5</th>\n",
       "      <th>map +</th>\n",
       "      <th>map -</th>\n",
       "      <th>map p-value</th>\n",
       "      <th>P_5 +</th>\n",
       "      <th>P_5 -</th>\n",
       "      <th>P_5 p-value</th>\n",
       "    </tr>\n",
       "  </thead>\n",
       "  <tbody>\n",
       "    <tr>\n",
       "      <th>0</th>\n",
       "      <td>PL2 Baseline</td>\n",
       "      <td>0.2251</td>\n",
       "      <td>0.0693</td>\n",
       "      <td>NaN</td>\n",
       "      <td>NaN</td>\n",
       "      <td>NaN</td>\n",
       "      <td>NaN</td>\n",
       "      <td>NaN</td>\n",
       "      <td>NaN</td>\n",
       "    </tr>\n",
       "    <tr>\n",
       "      <th>1</th>\n",
       "      <td>URL-Type re-ranker</td>\n",
       "      <td>0.3632</td>\n",
       "      <td>0.0907</td>\n",
       "      <td>40.0</td>\n",
       "      <td>13.0</td>\n",
       "      <td>0.000022</td>\n",
       "      <td>7.0</td>\n",
       "      <td>0.0</td>\n",
       "      <td>0.010451</td>\n",
       "    </tr>\n",
       "  </tbody>\n",
       "</table>\n",
       "</div>"
      ],
      "text/plain": [
       "                 name     map     P_5  map +  map -  map p-value  P_5 +  \\\n",
       "0        PL2 Baseline  0.2251  0.0693    NaN    NaN          NaN    NaN   \n",
       "1  URL-Type re-ranker  0.3632  0.0907   40.0   13.0     0.000022    7.0   \n",
       "\n",
       "   P_5 -  P_5 p-value  \n",
       "0    NaN          NaN  \n",
       "1    0.0     0.010451  "
      ]
     },
     "execution_count": 21,
     "metadata": {},
     "output_type": "execute_result"
    }
   ],
   "source": [
    "#YOUR SOLUTION\n",
    "pipe_type = firstpassUB >> pt.apply.doc_score(lambda row: row['score'] - url_type(row)[0])\n",
    "pt.Experiment(\n",
    "    [firstpassUB, pipe_type],\n",
    "    test_topics,\n",
    "    test_qrels,\n",
    "    [\"map\", \"P_5\"],\n",
    "    round=4, baseline=0,\n",
    "    names=[\"PL2 Baseline\", \"URL-Type re-ranker\"]\n",
    ")"
   ]
  },
  {
   "cell_type": "code",
   "execution_count": 44,
   "metadata": {
    "ExecuteTime": {
     "end_time": "2021-06-18T12:29:41.585357Z",
     "start_time": "2021-06-18T12:29:41.550214Z"
    }
   },
   "outputs": [
    {
     "name": "stderr",
     "output_type": "stream",
     "text": [
      "BR(PL2): 100%|██████████| 1/1 [00:00<00:00, 120.06q/s]\n"
     ]
    },
    {
     "data": {
      "text/html": [
       "<div>\n",
       "<style scoped>\n",
       "    .dataframe tbody tr th:only-of-type {\n",
       "        vertical-align: middle;\n",
       "    }\n",
       "\n",
       "    .dataframe tbody tr th {\n",
       "        vertical-align: top;\n",
       "    }\n",
       "\n",
       "    .dataframe thead th {\n",
       "        text-align: right;\n",
       "    }\n",
       "</style>\n",
       "<table border=\"1\" class=\"dataframe\">\n",
       "  <thead>\n",
       "    <tr style=\"text-align: right;\">\n",
       "      <th></th>\n",
       "      <th>qid</th>\n",
       "      <th>docid</th>\n",
       "      <th>docno</th>\n",
       "      <th>url</th>\n",
       "      <th>body</th>\n",
       "      <th>score</th>\n",
       "      <th>query</th>\n",
       "      <th>rank</th>\n",
       "    </tr>\n",
       "  </thead>\n",
       "  <tbody>\n",
       "    <tr>\n",
       "      <th>0</th>\n",
       "      <td>1</td>\n",
       "      <td>543541</td>\n",
       "      <td>G19-52-0995113</td>\n",
       "      <td>http://sunshine.jpl.nasa.gov/AAIE%20Site%20%c4...</td>\n",
       "      <td>AAIE Photo Album       The Jet Propulsion Labo...</td>\n",
       "      <td>14.253916</td>\n",
       "      <td>aaie</td>\n",
       "      <td>0</td>\n",
       "    </tr>\n",
       "    <tr>\n",
       "      <th>1</th>\n",
       "      <td>1</td>\n",
       "      <td>88532</td>\n",
       "      <td>G02-80-0379929</td>\n",
       "      <td>http://sunshine.jpl.nasa.gov/1rst%20Tier/Photo...</td>\n",
       "      <td>C ol  o    Photo Album       This section is f...</td>\n",
       "      <td>10.002429</td>\n",
       "      <td>aaie</td>\n",
       "      <td>1</td>\n",
       "    </tr>\n",
       "    <tr>\n",
       "      <th>2</th>\n",
       "      <td>1</td>\n",
       "      <td>301428</td>\n",
       "      <td>G10-61-1895354</td>\n",
       "      <td>http://www.cdpr.ca.gov/docs/ipminov/01awards.htm</td>\n",
       "      <td>The 2001 IPM Innovators Awards      The 2001 A...</td>\n",
       "      <td>3.478513</td>\n",
       "      <td>aaie</td>\n",
       "      <td>2</td>\n",
       "    </tr>\n",
       "    <tr>\n",
       "      <th>3</th>\n",
       "      <td>1</td>\n",
       "      <td>375914</td>\n",
       "      <td>G13-35-3399834</td>\n",
       "      <td>http://www.cdpr.ca.gov/docs/pressrls/9pestinno...</td>\n",
       "      <td>Media Contacts:  Glenn Brank   916/445-3974   ...</td>\n",
       "      <td>2.839415</td>\n",
       "      <td>aaie</td>\n",
       "      <td>3</td>\n",
       "    </tr>\n",
       "    <tr>\n",
       "      <th>4</th>\n",
       "      <td>1</td>\n",
       "      <td>51341</td>\n",
       "      <td>G01-54-3873617</td>\n",
       "      <td>http://goldmine.cde.ca.gov/calendar/</td>\n",
       "      <td>BODY  {        margin-left : 0;        margin-...</td>\n",
       "      <td>2.442986</td>\n",
       "      <td>aaie</td>\n",
       "      <td>4</td>\n",
       "    </tr>\n",
       "    <tr>\n",
       "      <th>5</th>\n",
       "      <td>1</td>\n",
       "      <td>430800</td>\n",
       "      <td>G15-34-2524281</td>\n",
       "      <td>http://www.cde.ca.gov/calendar/</td>\n",
       "      <td>BODY  {        margin-left : 0;        margin-...</td>\n",
       "      <td>2.429759</td>\n",
       "      <td>aaie</td>\n",
       "      <td>5</td>\n",
       "    </tr>\n",
       "  </tbody>\n",
       "</table>\n",
       "</div>"
      ],
      "text/plain": [
       "  qid   docid           docno  \\\n",
       "0   1  543541  G19-52-0995113   \n",
       "1   1   88532  G02-80-0379929   \n",
       "2   1  301428  G10-61-1895354   \n",
       "3   1  375914  G13-35-3399834   \n",
       "4   1   51341  G01-54-3873617   \n",
       "5   1  430800  G15-34-2524281   \n",
       "\n",
       "                                                 url  \\\n",
       "0  http://sunshine.jpl.nasa.gov/AAIE%20Site%20%c4...   \n",
       "1  http://sunshine.jpl.nasa.gov/1rst%20Tier/Photo...   \n",
       "2   http://www.cdpr.ca.gov/docs/ipminov/01awards.htm   \n",
       "3  http://www.cdpr.ca.gov/docs/pressrls/9pestinno...   \n",
       "4               http://goldmine.cde.ca.gov/calendar/   \n",
       "5                    http://www.cde.ca.gov/calendar/   \n",
       "\n",
       "                                                body      score query  rank  \n",
       "0  AAIE Photo Album       The Jet Propulsion Labo...  14.253916  aaie     0  \n",
       "1  C ol  o    Photo Album       This section is f...  10.002429  aaie     1  \n",
       "2  The 2001 IPM Innovators Awards      The 2001 A...   3.478513  aaie     2  \n",
       "3  Media Contacts:  Glenn Brank   916/445-3974   ...   2.839415  aaie     3  \n",
       "4  BODY  {        margin-left : 0;        margin-...   2.442986  aaie     4  \n",
       "5  BODY  {        margin-left : 0;        margin-...   2.429759  aaie     5  "
      ]
     },
     "execution_count": 44,
     "metadata": {},
     "output_type": "execute_result"
    }
   ],
   "source": [
    "pipe_type.search(\"aaie\")"
   ]
  },
  {
   "cell_type": "markdown",
   "metadata": {
    "id": "6HuuiWUSyIWO"
   },
   "source": [
    "#### (ii) URL Type within an LTR model\n",
    "\n",
    "Now you should evaluate your URL type score as a feature within a new learned model. You can now answer the corresponding quiz questions."
   ]
  },
  {
   "cell_type": "code",
   "execution_count": 22,
   "metadata": {
    "ExecuteTime": {
     "end_time": "2021-06-18T09:07:54.898434Z",
     "start_time": "2021-06-18T09:03:08.839252Z"
    },
    "id": "sxBUGnDzyIWO",
    "scrolled": false
   },
   "outputs": [
    {
     "name": "stderr",
     "output_type": "stream",
     "text": [
      "BR(PL2): 100%|██████████| 96/96 [00:39<00:00,  2.40q/s]\n",
      "FBR(3 features): 100%|██████████| 96/96 [00:46<00:00,  2.05q/s]\n",
      "BR(PL2): 100%|██████████| 54/54 [00:31<00:00,  1.70q/s]\n",
      "FBR(3 features): 100%|██████████| 54/54 [00:30<00:00,  1.80q/s]\n",
      "/Users/siqiwang/opt/anaconda3/lib/python3.8/site-packages/lightgbm/engine.py:118: UserWarning: Found `num_iterations` in params. Will use it instead of argument\n",
      "  warnings.warn(\"Found `{}` in params. Will use it instead of argument\".format(alias))\n"
     ]
    },
    {
     "name": "stdout",
     "output_type": "stream",
     "text": [
      "[1]\tvalid_0's ndcg@1: 0.296296\n",
      "[2]\tvalid_0's ndcg@1: 0.351852\n",
      "[3]\tvalid_0's ndcg@1: 0.388889\n",
      "[4]\tvalid_0's ndcg@1: 0.388889\n",
      "[5]\tvalid_0's ndcg@1: 0.407407\n",
      "[6]\tvalid_0's ndcg@1: 0.407407\n",
      "[7]\tvalid_0's ndcg@1: 0.555556\n",
      "[8]\tvalid_0's ndcg@1: 0.555556\n",
      "[9]\tvalid_0's ndcg@1: 0.555556\n"
     ]
    },
    {
     "name": "stderr",
     "output_type": "stream",
     "text": [
      "\r\n",
      "BR(PL2):   0%|          | 0/75 [00:00<?, ?q/s]"
     ]
    },
    {
     "name": "stdout",
     "output_type": "stream",
     "text": [
      "[10]\tvalid_0's ndcg@1: 0.555556\n"
     ]
    },
    {
     "name": "stderr",
     "output_type": "stream",
     "text": [
      "BR(PL2): 100%|██████████| 75/75 [00:42<00:00,  1.75q/s]\n",
      "FBR(3 features): 100%|██████████| 75/75 [00:27<00:00,  2.70q/s]\n",
      "BR(PL2): 100%|██████████| 75/75 [00:29<00:00,  2.55q/s]\n",
      "FBR(3 features): 100%|██████████| 75/75 [00:26<00:00,  2.84q/s]\n"
     ]
    },
    {
     "data": {
      "text/html": [
       "<div>\n",
       "<style scoped>\n",
       "    .dataframe tbody tr th:only-of-type {\n",
       "        vertical-align: middle;\n",
       "    }\n",
       "\n",
       "    .dataframe tbody tr th {\n",
       "        vertical-align: top;\n",
       "    }\n",
       "\n",
       "    .dataframe thead th {\n",
       "        text-align: right;\n",
       "    }\n",
       "</style>\n",
       "<table border=\"1\" class=\"dataframe\">\n",
       "  <thead>\n",
       "    <tr style=\"text-align: right;\">\n",
       "      <th></th>\n",
       "      <th>name</th>\n",
       "      <th>map</th>\n",
       "      <th>P_5</th>\n",
       "      <th>map +</th>\n",
       "      <th>map -</th>\n",
       "      <th>map p-value</th>\n",
       "      <th>P_5 +</th>\n",
       "      <th>P_5 -</th>\n",
       "      <th>P_5 p-value</th>\n",
       "    </tr>\n",
       "  </thead>\n",
       "  <tbody>\n",
       "    <tr>\n",
       "      <th>0</th>\n",
       "      <td>Baseline(3 features)</td>\n",
       "      <td>0.4107</td>\n",
       "      <td>0.1147</td>\n",
       "      <td>NaN</td>\n",
       "      <td>NaN</td>\n",
       "      <td>NaN</td>\n",
       "      <td>NaN</td>\n",
       "      <td>NaN</td>\n",
       "      <td>NaN</td>\n",
       "    </tr>\n",
       "    <tr>\n",
       "      <th>1</th>\n",
       "      <td>Add URL Type</td>\n",
       "      <td>0.4486</td>\n",
       "      <td>0.1253</td>\n",
       "      <td>27.0</td>\n",
       "      <td>19.0</td>\n",
       "      <td>0.302499</td>\n",
       "      <td>9.0</td>\n",
       "      <td>5.0</td>\n",
       "      <td>0.288062</td>\n",
       "    </tr>\n",
       "  </tbody>\n",
       "</table>\n",
       "</div>"
      ],
      "text/plain": [
       "                   name     map     P_5  map +  map -  map p-value  P_5 +  \\\n",
       "0  Baseline(3 features)  0.4107  0.1147    NaN    NaN          NaN    NaN   \n",
       "1          Add URL Type  0.4486  0.1253   27.0   19.0     0.302499    9.0   \n",
       "\n",
       "   P_5 -  P_5 p-value  \n",
       "0    NaN          NaN  \n",
       "1    5.0     0.288062  "
      ]
     },
     "execution_count": 22,
     "metadata": {},
     "output_type": "execute_result"
    }
   ],
   "source": [
    "#YOUR SOLUTION\n",
    "add_type_feature = pt.apply.doc_features(url_type)\n",
    "pipe_add_type = firstpassUB >> (stdfeatures ** add_type_feature)\n",
    "\n",
    "lmart_l_type = lightgbm.LGBMRanker(task=\"train\",\n",
    "    min_data_in_leaf=1,\n",
    "    min_sum_hessian_in_leaf=100,\n",
    "    max_bin=255,\n",
    "    num_leaves=7,\n",
    "    objective=\"lambdarank\",\n",
    "    metric=\"ndcg\",\n",
    "    ndcg_eval_at=[1, 3, 5, 10],\n",
    "    learning_rate= .1,\n",
    "    importance_type=\"gain\",\n",
    "    num_iterations=10)\n",
    "lmart_l_pipe_type = pipe_add_type >> pt.ltr.apply_learned_model(lmart_l_type, form=\"ltr\")\n",
    "lmart_l_pipe_type.fit(tr_topics, tr_qrels, va_topics, va_qrels)\n",
    "\n",
    "pt.Experiment(\n",
    "    [lmart_l_pipe, lmart_l_pipe_type],\n",
    "    test_topics,\n",
    "    test_qrels,\n",
    "    [\"map\", \"P_5\"],\n",
    "    round=4, baseline=0,\n",
    "    names=[\"Baseline(3 features)\", \"Add URL Type\" ]\n",
    ")"
   ]
  },
  {
   "cell_type": "code",
   "execution_count": 41,
   "metadata": {
    "ExecuteTime": {
     "end_time": "2021-06-18T09:46:56.793470Z",
     "start_time": "2021-06-18T09:46:56.787693Z"
    }
   },
   "outputs": [
    {
     "data": {
      "text/plain": [
       "array([134895.78936005, 166788.04193115, 385041.79644775,  42350.96069336])"
      ]
     },
     "execution_count": 41,
     "metadata": {},
     "output_type": "execute_result"
    }
   ],
   "source": [
    "lmart_l_type.feature_importances_"
   ]
  },
  {
   "cell_type": "code",
   "execution_count": 23,
   "metadata": {
    "ExecuteTime": {
     "end_time": "2021-06-18T09:07:54.996061Z",
     "start_time": "2021-06-18T09:07:54.900199Z"
    }
   },
   "outputs": [
    {
     "data": {
      "text/plain": [
       "<BarContainer object of 4 artists>"
      ]
     },
     "execution_count": 23,
     "metadata": {},
     "output_type": "execute_result"
    },
    {
     "data": {
      "image/png": "[encoded data removed]",
      "text/plain": [
       "<Figure size 576x396 with 1 Axes>"
      ]
     },
     "metadata": {},
     "output_type": "display_data"
    }
   ],
   "source": [
    "plt.bar(['pl2', 'bm25', 'pagerank', 'new added'], lmart_l_type.feature_importances_)"
   ]
  },
  {
   "cell_type": "markdown",
   "metadata": {
    "id": "d7LtU56pC9VG"
   },
   "source": [
    "# Q3 Proximity Search Feature\n",
    "\n",
    "Now you will implement a new query-dependent feature, using the MinDist() function, as discussed in the specification. Do carefully read the specification before starting the implementation.\n",
    "\n",
    "Hints:\n",
    " - Again, remember to use assertions to test your feature implementations.\n",
    " - Refer to the PyTerrier learning to rank documentation concerning features_importances_ for obtaining feature importances\n",
    "\n",
    "As mentioned in the specification, you should implement a function called avgmindist(), which takes the text of the query and the text of the document, and returns a score for the document, i.e. it must conform to the following Python specification:\n",
    "```python\n",
    "def avgmindist(query : str, document : str) -> float\n",
    "```\n",
    "\n",
    "NB: There are particular specific requirements for your implementations of MinDist() and avgmindist() that are detailed in the specification."
   ]
  },
  {
   "cell_type": "code",
   "execution_count": 33,
   "metadata": {
    "ExecuteTime": {
     "end_time": "2021-06-18T09:23:52.646373Z",
     "start_time": "2021-06-18T09:23:52.639733Z"
    },
    "id": "XiN0A-g7L0qz"
   },
   "outputs": [],
   "source": [
    "#YOUR AVGMINDIST IMPLEMENTATION\n",
    "import string\n",
    "def avgmindist(query, document):\n",
    "  #update your implementation here.\n",
    "    MinDist = 0.0\n",
    "    dist = {}\n",
    "    document = \"\".join(t.lower() for t in document if t not in string.punctuation)\n",
    "    document = \" \".join(t for t in document.split(\" \") if t != '')\n",
    "# create a dictionary with keys == query terms\n",
    "    for term in query.lower().split(\" \"):\n",
    "        dist[term] = []\n",
    "# set values of dict to corresponding locations in the document\n",
    "    for loc, term in enumerate(document.split(\" \")):\n",
    "        num_token = loc + 1 #max\n",
    "        if term in dist:\n",
    "            dist[term].append(loc)\n",
    "# retrieve those terms can be found in the document\n",
    "    pair_list = []\n",
    "    for key, value in dist.items():\n",
    "        if value != []:\n",
    "            pair_list.append(value)\n",
    "# if no pairs match in a document, set the aggregated value to number of tokens\n",
    "    if len(pair_list) <= 1:\n",
    "        MinDist = num_token\n",
    "# otherwise compute the average MinDist\n",
    "    else:\n",
    "        min_pair_dist = []\n",
    "        for i in range(len(pair_list) - 1):\n",
    "            pair_dist = []\n",
    "            for n in pair_list[i]:\n",
    "                pair_dist.append(min(np.abs(np.array(pair_list[i+1]) - n)) - 1)\n",
    "            min_pair_dist.append(min(pair_dist))\n",
    "        MinDist = np.mean(min_pair_dist)\n",
    "        \n",
    "    return MinDist"
   ]
  },
  {
   "cell_type": "code",
   "execution_count": 38,
   "metadata": {
    "ExecuteTime": {
     "end_time": "2021-06-18T09:26:21.935588Z",
     "start_time": "2021-06-18T09:26:21.534908Z"
    }
   },
   "outputs": [
    {
     "name": "stderr",
     "output_type": "stream",
     "text": [
      "BR(PL2): 100%|██████████| 1/1 [00:00<00:00,  2.64q/s]\n"
     ]
    },
    {
     "data": {
      "text/plain": [
       "1.0"
      ]
     },
     "execution_count": 38,
     "metadata": {},
     "output_type": "execute_result"
    }
   ],
   "source": [
    "avgmindist(\"chemical reactions proposal\", firstpassUB.search(\"chemical reactions\").iloc[90]['body'])\n"
   ]
  },
  {
   "cell_type": "markdown",
   "metadata": {
    "id": "mpCKKQBRL4o4"
   },
   "source": [
    "You should test your impementation yourself, however to allow us to verify your implementation, we have created 9 testcases. Please run `run_test_cases()` and use its responses to answer the relevant quiz questions.\n",
    "\n"
   ]
  },
  {
   "cell_type": "code",
   "execution_count": 37,
   "metadata": {
    "ExecuteTime": {
     "end_time": "2021-06-18T09:24:52.592416Z",
     "start_time": "2021-06-18T09:24:52.553054Z"
    },
    "id": "qnDXgIRlDIDr"
   },
   "outputs": [
    {
     "name": "stdout",
     "output_type": "stream",
     "text": [
      "TEST CASE 1 result G00-00-0478398 \n",
      "TEST CASE 2 result G20-36-1335992 \n",
      "TEST CASE 3 result G13-80-1271020 \n",
      "TEST CASE 4 result G00-00-0478398 \n",
      "TEST CASE 5 result G13-80-1271020 \n",
      "TEST CASE 6 result G23-17-3674898 \n",
      "TEST CASE 7 result G13-80-1271020 \n",
      "TEST CASE 8 result G23-17-3674898 \n",
      "TEST CASE 9 result G11-79-2454097 \n"
     ]
    }
   ],
   "source": [
    "#DO NOT ALTER THIS CELL\n",
    "TEST_CASES = [\n",
    "  ('fermilab directory', 45, 567257), #1\n",
    "  ('webcam', 45, 567257), #2\n",
    "  ('DOM surface', 384034, 388292), #3\n",
    "  ('DOM surface', 45, 384034), #4\n",
    "  ('DOM surface document', 388292, 384034), #5\n",
    "  ('DOM software AMANDA', 639302, 384034), #6\n",
    "  ('fermilab directory', 388292, 384034), #7\n",
    "  ('trigger data', 596532, 639302), #8\n",
    "  ('underlying hardware', 384034, 333649) #9\n",
    "]\n",
    "\n",
    "def run_test_cases():\n",
    "    docno=0\n",
    "    body=3\n",
    "    for i, (query, docid1, docid2) in enumerate(TEST_CASES):\n",
    "        meta1 = index.getMetaIndex().getAllItems(docid1)\n",
    "        meta2 = index.getMetaIndex().getAllItems(docid2)\n",
    "        s1 = avgmindist(query, meta1[body])\n",
    "        s2 = avgmindist(query, meta2[body])\n",
    "        if s1 > s2:\n",
    "            result = meta1[docno]\n",
    "            cmpD = \"%s > %s\" % (meta1[docno],meta2[docno])\n",
    "        elif s2 > s1:\n",
    "            result = meta2[docno]\n",
    "            cmpD = \"%s > %s\" % (meta2[docno],meta1[docno])\n",
    "        else:\n",
    "            result = \"EQUAL\"\n",
    "            cmpD = \"%s == %s\" % (meta1[docno],meta2[docno])\n",
    "        print(\"TEST CASE %d result %s \" % (i+1, result))\n",
    "\n",
    "run_test_cases()"
   ]
  },
  {
   "cell_type": "markdown",
   "metadata": {
    "id": "Qp57S1vTMiB5"
   },
   "source": [
    "You should now integrate your avgmindist() function into a new LTR model, and compare its MAP & P@5 performance to the LTR baseline. You can now answer the corresponding quiz questions."
   ]
  },
  {
   "cell_type": "code",
   "execution_count": 39,
   "metadata": {
    "ExecuteTime": {
     "end_time": "2021-06-18T09:34:09.545314Z",
     "start_time": "2021-06-18T09:27:07.804487Z"
    },
    "id": "HaFXG5_PMnRN"
   },
   "outputs": [
    {
     "name": "stderr",
     "output_type": "stream",
     "text": [
      "BR(PL2): 100%|██████████| 96/96 [00:58<00:00,  1.63q/s]\n",
      "FBR(3 features): 100%|██████████| 96/96 [00:34<00:00,  2.76q/s]\n",
      "BR(PL2): 100%|██████████| 54/54 [00:30<00:00,  1.80q/s]\n",
      "FBR(3 features): 100%|██████████| 54/54 [00:19<00:00,  2.78q/s]\n",
      "/Users/siqiwang/opt/anaconda3/lib/python3.8/site-packages/lightgbm/engine.py:118: UserWarning: Found `num_iterations` in params. Will use it instead of argument\n",
      "  warnings.warn(\"Found `{}` in params. Will use it instead of argument\".format(alias))\n"
     ]
    },
    {
     "name": "stdout",
     "output_type": "stream",
     "text": [
      "[1]\tvalid_0's ndcg@1: 0.296296\n",
      "[2]\tvalid_0's ndcg@1: 0.37037\n",
      "[3]\tvalid_0's ndcg@1: 0.388889\n",
      "[4]\tvalid_0's ndcg@1: 0.388889\n",
      "[5]\tvalid_0's ndcg@1: 0.388889\n",
      "[6]\tvalid_0's ndcg@1: 0.37037\n",
      "[7]\tvalid_0's ndcg@1: 0.37037\n",
      "[8]\tvalid_0's ndcg@1: 0.5\n",
      "[9]\tvalid_0's ndcg@1: 0.5\n",
      "[10]\tvalid_0's ndcg@1: 0.5\n"
     ]
    },
    {
     "name": "stderr",
     "output_type": "stream",
     "text": [
      "BR(PL2): 100%|██████████| 75/75 [00:38<00:00,  1.94q/s]\n",
      "FBR(3 features): 100%|██████████| 75/75 [00:27<00:00,  2.75q/s]\n",
      "BR(PL2): 100%|██████████| 75/75 [00:29<00:00,  2.51q/s]\n",
      "FBR(3 features): 100%|██████████| 75/75 [00:26<00:00,  2.82q/s]\n"
     ]
    },
    {
     "data": {
      "text/html": [
       "<div>\n",
       "<style scoped>\n",
       "    .dataframe tbody tr th:only-of-type {\n",
       "        vertical-align: middle;\n",
       "    }\n",
       "\n",
       "    .dataframe tbody tr th {\n",
       "        vertical-align: top;\n",
       "    }\n",
       "\n",
       "    .dataframe thead th {\n",
       "        text-align: right;\n",
       "    }\n",
       "</style>\n",
       "<table border=\"1\" class=\"dataframe\">\n",
       "  <thead>\n",
       "    <tr style=\"text-align: right;\">\n",
       "      <th></th>\n",
       "      <th>name</th>\n",
       "      <th>map</th>\n",
       "      <th>P_5</th>\n",
       "      <th>map +</th>\n",
       "      <th>map -</th>\n",
       "      <th>map p-value</th>\n",
       "      <th>P_5 +</th>\n",
       "      <th>P_5 -</th>\n",
       "      <th>P_5 p-value</th>\n",
       "    </tr>\n",
       "  </thead>\n",
       "  <tbody>\n",
       "    <tr>\n",
       "      <th>0</th>\n",
       "      <td>Baseline(3 features)</td>\n",
       "      <td>0.4107</td>\n",
       "      <td>0.1147</td>\n",
       "      <td>NaN</td>\n",
       "      <td>NaN</td>\n",
       "      <td>NaN</td>\n",
       "      <td>NaN</td>\n",
       "      <td>NaN</td>\n",
       "      <td>NaN</td>\n",
       "    </tr>\n",
       "    <tr>\n",
       "      <th>1</th>\n",
       "      <td>Add AvgMinDist</td>\n",
       "      <td>0.4063</td>\n",
       "      <td>0.1173</td>\n",
       "      <td>27.0</td>\n",
       "      <td>23.0</td>\n",
       "      <td>0.90473</td>\n",
       "      <td>8.0</td>\n",
       "      <td>7.0</td>\n",
       "      <td>0.798211</td>\n",
       "    </tr>\n",
       "  </tbody>\n",
       "</table>\n",
       "</div>"
      ],
      "text/plain": [
       "                   name     map     P_5  map +  map -  map p-value  P_5 +  \\\n",
       "0  Baseline(3 features)  0.4107  0.1147    NaN    NaN          NaN    NaN   \n",
       "1        Add AvgMinDist  0.4063  0.1173   27.0   23.0      0.90473    8.0   \n",
       "\n",
       "   P_5 -  P_5 p-value  \n",
       "0    NaN          NaN  \n",
       "1    7.0     0.798211  "
      ]
     },
     "execution_count": 39,
     "metadata": {},
     "output_type": "execute_result"
    }
   ],
   "source": [
    "#YOUR SOLUTION\n",
    "add_dist_feature = pt.apply.doc_features(lambda row: np.array([avgmindist(row['query'], row['body'])]))\n",
    "pipe_add_dist = firstpassUB >> (stdfeatures ** add_dist_feature)\n",
    "\n",
    "lmart_l_dist = lightgbm.LGBMRanker(task=\"train\",\n",
    "    min_data_in_leaf=1,\n",
    "    min_sum_hessian_in_leaf=100,\n",
    "    max_bin=255,\n",
    "    num_leaves=7,\n",
    "    objective=\"lambdarank\",\n",
    "    metric=\"ndcg\",\n",
    "    ndcg_eval_at=[1, 3, 5, 10],\n",
    "    learning_rate= .1,\n",
    "    importance_type=\"gain\",\n",
    "    num_iterations=10)\n",
    "lmart_l_pipe_dist = pipe_add_dist >> pt.ltr.apply_learned_model(lmart_l_dist, form=\"ltr\")\n",
    "lmart_l_pipe_dist.fit(tr_topics, tr_qrels, va_topics, va_qrels)\n",
    "\n",
    "pt.Experiment(\n",
    "    [lmart_l_pipe, lmart_l_pipe_dist],\n",
    "    test_topics,\n",
    "    test_qrels,\n",
    "    [\"map\", \"P_5\"],\n",
    "    round=4, baseline=0,\n",
    "    names=[\"Baseline(3 features)\", \"Add AvgMinDist\" ]\n",
    ")"
   ]
  },
  {
   "cell_type": "markdown",
   "metadata": {
    "id": "-akCsk7tDoOs"
   },
   "source": [
    "# Q4 A 5-feature Learning-to-Rank Model\n",
    "\n",
    "You will now experiment with the LightGBM LambdaMART technique where you include both your added features (URL Type and AvgMinDist) along the 3 initial features inc PL2 sample (5 features in total). \n",
    "\n",
    "You need to learn a *new* model when using your final selection of 5 features.\n",
    "\n",
    "Evaluate the performance of your resulting LTR system in comparison to the LTR baseline and answer the quiz questions."
   ]
  },
  {
   "cell_type": "code",
   "execution_count": 40,
   "metadata": {
    "ExecuteTime": {
     "end_time": "2021-06-18T09:43:56.617499Z",
     "start_time": "2021-06-18T09:37:22.410053Z"
    },
    "id": "25AQ4Mn2QAqg"
   },
   "outputs": [
    {
     "name": "stderr",
     "output_type": "stream",
     "text": [
      "BR(PL2): 100%|██████████| 96/96 [00:39<00:00,  2.41q/s]\n",
      "FBR(3 features): 100%|██████████| 96/96 [00:34<00:00,  2.76q/s]\n",
      "BR(PL2): 100%|██████████| 54/54 [00:22<00:00,  2.41q/s]\n",
      "FBR(3 features): 100%|██████████| 54/54 [00:19<00:00,  2.73q/s]\n",
      "/Users/siqiwang/opt/anaconda3/lib/python3.8/site-packages/lightgbm/engine.py:118: UserWarning: Found `num_iterations` in params. Will use it instead of argument\n",
      "  warnings.warn(\"Found `{}` in params. Will use it instead of argument\".format(alias))\n"
     ]
    },
    {
     "name": "stdout",
     "output_type": "stream",
     "text": [
      "[1]\tvalid_0's ndcg@1: 0.314815\n",
      "[2]\tvalid_0's ndcg@1: 0.407407\n",
      "[3]\tvalid_0's ndcg@1: 0.425926\n",
      "[4]\tvalid_0's ndcg@1: 0.444444\n",
      "[5]\tvalid_0's ndcg@1: 0.444444\n",
      "[6]\tvalid_0's ndcg@1: 0.444444\n",
      "[7]\tvalid_0's ndcg@1: 0.555556\n",
      "[8]\tvalid_0's ndcg@1: 0.574074\n",
      "[9]\tvalid_0's ndcg@1: 0.592593\n",
      "[10]\tvalid_0's ndcg@1: 0.592593\n"
     ]
    },
    {
     "name": "stderr",
     "output_type": "stream",
     "text": [
      "BR(PL2): 100%|██████████| 75/75 [00:29<00:00,  2.50q/s]\n",
      "FBR(3 features): 100%|██████████| 75/75 [00:26<00:00,  2.81q/s]\n",
      "BR(PL2): 100%|██████████| 75/75 [00:29<00:00,  2.57q/s]\n",
      "FBR(3 features): 100%|██████████| 75/75 [00:26<00:00,  2.85q/s]\n"
     ]
    },
    {
     "data": {
      "text/html": [
       "<div>\n",
       "<style scoped>\n",
       "    .dataframe tbody tr th:only-of-type {\n",
       "        vertical-align: middle;\n",
       "    }\n",
       "\n",
       "    .dataframe tbody tr th {\n",
       "        vertical-align: top;\n",
       "    }\n",
       "\n",
       "    .dataframe thead th {\n",
       "        text-align: right;\n",
       "    }\n",
       "</style>\n",
       "<table border=\"1\" class=\"dataframe\">\n",
       "  <thead>\n",
       "    <tr style=\"text-align: right;\">\n",
       "      <th></th>\n",
       "      <th>name</th>\n",
       "      <th>map</th>\n",
       "      <th>P_5</th>\n",
       "      <th>map +</th>\n",
       "      <th>map -</th>\n",
       "      <th>map p-value</th>\n",
       "      <th>P_5 +</th>\n",
       "      <th>P_5 -</th>\n",
       "      <th>P_5 p-value</th>\n",
       "    </tr>\n",
       "  </thead>\n",
       "  <tbody>\n",
       "    <tr>\n",
       "      <th>0</th>\n",
       "      <td>Baseline(3 features)</td>\n",
       "      <td>0.4107</td>\n",
       "      <td>0.1147</td>\n",
       "      <td>NaN</td>\n",
       "      <td>NaN</td>\n",
       "      <td>NaN</td>\n",
       "      <td>NaN</td>\n",
       "      <td>NaN</td>\n",
       "      <td>NaN</td>\n",
       "    </tr>\n",
       "    <tr>\n",
       "      <th>1</th>\n",
       "      <td>5 features</td>\n",
       "      <td>0.4565</td>\n",
       "      <td>0.1307</td>\n",
       "      <td>31.0</td>\n",
       "      <td>18.0</td>\n",
       "      <td>0.242447</td>\n",
       "      <td>9.0</td>\n",
       "      <td>3.0</td>\n",
       "      <td>0.083236</td>\n",
       "    </tr>\n",
       "  </tbody>\n",
       "</table>\n",
       "</div>"
      ],
      "text/plain": [
       "                   name     map     P_5  map +  map -  map p-value  P_5 +  \\\n",
       "0  Baseline(3 features)  0.4107  0.1147    NaN    NaN          NaN    NaN   \n",
       "1            5 features  0.4565  0.1307   31.0   18.0     0.242447    9.0   \n",
       "\n",
       "   P_5 -  P_5 p-value  \n",
       "0    NaN          NaN  \n",
       "1    3.0     0.083236  "
      ]
     },
     "execution_count": 40,
     "metadata": {},
     "output_type": "execute_result"
    }
   ],
   "source": [
    "#YOUR SOLUTION\n",
    "pipe_final = firstpassUB >> (stdfeatures ** add_type_feature ** add_dist_feature)\n",
    "\n",
    "lmart_l_final = lightgbm.LGBMRanker(task=\"train\",\n",
    "    min_data_in_leaf=1,\n",
    "    min_sum_hessian_in_leaf=100,\n",
    "    max_bin=255,\n",
    "    num_leaves=7,\n",
    "    objective=\"lambdarank\",\n",
    "    metric=\"ndcg\",\n",
    "    ndcg_eval_at=[1, 3, 5, 10],\n",
    "    learning_rate= .1,\n",
    "    importance_type=\"gain\",\n",
    "    num_iterations=10)\n",
    "lmart_l_pipe_final = pipe_final >> pt.ltr.apply_learned_model(lmart_l_final, form=\"ltr\")\n",
    "lmart_l_pipe_final.fit(tr_topics, tr_qrels, va_topics, va_qrels)\n",
    "\n",
    "pt.Experiment(\n",
    "    [lmart_l_pipe, lmart_l_pipe_final],\n",
    "    test_topics,\n",
    "    test_qrels,\n",
    "    [\"map\", \"P_5\"],\n",
    "    round=4, baseline=0,\n",
    "    names=[\"Baseline(3 features)\", \"5 features\" ]\n",
    ")"
   ]
  },
  {
   "cell_type": "code",
   "execution_count": 45,
   "metadata": {
    "ExecuteTime": {
     "end_time": "2021-06-18T13:02:23.431054Z",
     "start_time": "2021-06-18T12:55:51.609037Z"
    }
   },
   "outputs": [
    {
     "name": "stderr",
     "output_type": "stream",
     "text": [
      "BR(PL2): 100%|██████████| 75/75 [00:51<00:00,  1.46q/s]\n",
      "FBR(3 features): 100%|██████████| 75/75 [00:46<00:00,  1.60q/s]\n",
      "BR(PL2): 100%|██████████| 75/75 [00:29<00:00,  2.57q/s]\n",
      "FBR(3 features): 100%|██████████| 75/75 [00:29<00:00,  2.53q/s]\n",
      "BR(PL2): 100%|██████████| 75/75 [00:33<00:00,  2.23q/s]\n",
      "FBR(3 features): 100%|██████████| 75/75 [00:25<00:00,  2.96q/s]\n",
      "BR(PL2): 100%|██████████| 75/75 [00:53<00:00,  1.40q/s]\n",
      "FBR(3 features): 100%|██████████| 75/75 [00:25<00:00,  2.90q/s]\n"
     ]
    },
    {
     "data": {
      "text/html": [
       "<div>\n",
       "<style scoped>\n",
       "    .dataframe tbody tr th:only-of-type {\n",
       "        vertical-align: middle;\n",
       "    }\n",
       "\n",
       "    .dataframe tbody tr th {\n",
       "        vertical-align: top;\n",
       "    }\n",
       "\n",
       "    .dataframe thead th {\n",
       "        text-align: right;\n",
       "    }\n",
       "</style>\n",
       "<table border=\"1\" class=\"dataframe\">\n",
       "  <thead>\n",
       "    <tr style=\"text-align: right;\">\n",
       "      <th></th>\n",
       "      <th>name</th>\n",
       "      <th>map</th>\n",
       "      <th>P_1</th>\n",
       "      <th>map +</th>\n",
       "      <th>map -</th>\n",
       "      <th>map p-value</th>\n",
       "      <th>P_1 +</th>\n",
       "      <th>P_1 -</th>\n",
       "      <th>P_1 p-value</th>\n",
       "    </tr>\n",
       "  </thead>\n",
       "  <tbody>\n",
       "    <tr>\n",
       "      <th>0</th>\n",
       "      <td>Baseline(3 features)</td>\n",
       "      <td>0.4107</td>\n",
       "      <td>0.2933</td>\n",
       "      <td>NaN</td>\n",
       "      <td>NaN</td>\n",
       "      <td>NaN</td>\n",
       "      <td>NaN</td>\n",
       "      <td>NaN</td>\n",
       "      <td>NaN</td>\n",
       "    </tr>\n",
       "    <tr>\n",
       "      <th>1</th>\n",
       "      <td>Add URL type</td>\n",
       "      <td>0.4486</td>\n",
       "      <td>0.3200</td>\n",
       "      <td>27.0</td>\n",
       "      <td>19.0</td>\n",
       "      <td>0.302499</td>\n",
       "      <td>8.0</td>\n",
       "      <td>6.0</td>\n",
       "      <td>0.596346</td>\n",
       "    </tr>\n",
       "    <tr>\n",
       "      <th>2</th>\n",
       "      <td>Add AvgMinDist</td>\n",
       "      <td>0.4063</td>\n",
       "      <td>0.2667</td>\n",
       "      <td>27.0</td>\n",
       "      <td>23.0</td>\n",
       "      <td>0.904730</td>\n",
       "      <td>6.0</td>\n",
       "      <td>8.0</td>\n",
       "      <td>0.596346</td>\n",
       "    </tr>\n",
       "    <tr>\n",
       "      <th>3</th>\n",
       "      <td>5 features</td>\n",
       "      <td>0.4565</td>\n",
       "      <td>0.3333</td>\n",
       "      <td>31.0</td>\n",
       "      <td>18.0</td>\n",
       "      <td>0.242447</td>\n",
       "      <td>9.0</td>\n",
       "      <td>6.0</td>\n",
       "      <td>0.442272</td>\n",
       "    </tr>\n",
       "  </tbody>\n",
       "</table>\n",
       "</div>"
      ],
      "text/plain": [
       "                   name     map     P_1  map +  map -  map p-value  P_1 +  \\\n",
       "0  Baseline(3 features)  0.4107  0.2933    NaN    NaN          NaN    NaN   \n",
       "1          Add URL type  0.4486  0.3200   27.0   19.0     0.302499    8.0   \n",
       "2        Add AvgMinDist  0.4063  0.2667   27.0   23.0     0.904730    6.0   \n",
       "3            5 features  0.4565  0.3333   31.0   18.0     0.242447    9.0   \n",
       "\n",
       "   P_1 -  P_1 p-value  \n",
       "0    NaN          NaN  \n",
       "1    6.0     0.596346  \n",
       "2    8.0     0.596346  \n",
       "3    6.0     0.442272  "
      ]
     },
     "execution_count": 45,
     "metadata": {},
     "output_type": "execute_result"
    }
   ],
   "source": [
    "pt.Experiment(\n",
    "    [lmart_l_pipe, lmart_l_pipe_type, lmart_l_pipe_dist, lmart_l_pipe_final],\n",
    "    test_topics,\n",
    "    test_qrels,\n",
    "    [\"map\", \"P_1\"],\n",
    "    round=4, baseline=0,\n",
    "    names=[\"Baseline(3 features)\", \"Add URL type\", \"Add AvgMinDist\", \"5 features\" ]\n",
    ")"
   ]
  },
  {
   "cell_type": "markdown",
   "metadata": {
    "id": "9n_C4m5WEnMz"
   },
   "source": [
    "# That's all Folks\n",
    "\n",
    "**Submission Instructions:** Complete this notebook. All your answers to Exercise 3 must be submitted on the Exercise 3 Quiz instance on Moodle with your completed notebook (showing both your solutions and the results of their executions).\n",
    "\n",
    "\n",
    "Your answers to the Quiz questions along with your .ipynb notebook file (showing code and outputs) must be submitted by **Friday 18th June 2021, 4:30pm**."
   ]
  },
  {
   "cell_type": "code",
   "execution_count": null,
   "metadata": {
    "id": "ammXItAGm2UR"
   },
   "outputs": [],
   "source": []
  }
 ],
 "metadata": {
  "colab": {
   "collapsed_sections": [],
   "name": "IRM 2021 Exercise3 TEMPLATE.ipynb",
   "provenance": []
  },
  "kernelspec": {
   "display_name": "Python 3.8.11 ('base')",
   "language": "python",
   "name": "python3"
  },
  "language_info": {
   "codemirror_mode": {
    "name": "ipython",
    "version": 3
   },
   "file_extension": ".py",
   "mimetype": "text/x-python",
   "name": "python",
   "nbconvert_exporter": "python",
   "pygments_lexer": "ipython3",
   "version": "3.8.11"
  },
  "vscode": {
   "interpreter": {
    "hash": "770510e7088ace3c32cce6818dde9ebd6e058745eeb50e52cbe80c6047931d25"
   }
  }
 },
 "nbformat": 4,
 "nbformat_minor": 1
}
