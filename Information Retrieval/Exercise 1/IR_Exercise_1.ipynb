{
 "cells": [
  {
   "cell_type": "markdown",
   "metadata": {
    "id": "6UxEkLc6yz6J"
   },
   "source": [
    "# Exercise 1 - Pandas and PyTerrier introduction\n",
    "\n",
    "In this notebook, we recap [Pandas](https://pandas.pydata.org/), as well as provide an introduction to [PyTerrier](https://github.com/terrier-org/pyterrier).  This exercise is **an individual assessment** (with a weighting of 5%). \n",
    "\n",
    "At the end of this lab, you must complete the corresponding Exercise 1 assessment Quiz instance on the Moodle page, as well as download the ipynb file and submit it along your answers to the Quiz by **Thursday 10th June 4:40pm**.\n",
    "\n",
    "The intended learning outcomes of this lab are:\n",
    "1. provide an overview/refresher of Pandas for relational data manipulation, including:\n",
    "  - creating Pandas dataframes\n",
    "  - applying relational algebra operations on dataframes (projection, restriction, set-union)\n",
    "  - joining dataframes\n",
    "  - applying functions on dataframes\n",
    "2. provide an introduction to PyTerrier\n",
    "  - installation\n",
    "  - indexing a collection\n",
    "  - accessing an index\n",
    "  - the BatchRetrieve transformer for searching an index \n",
    "  - reformulating queries\n",
    "  - composing transformers together to make retrieval pipelines\n",
    "\n",
    "Pre-requisites:\n",
    " - We assume that you are confident in programming Python, including [lambda functions](https://realpython.com/python-lambda/).\n",
    " - We will **only be supporting notebooks on the Google Colab platform**.\n",
    " - You can also try to use your own personal machine, but if you have problems, you should resort to using Colab.\n",
    "\n",
    "Related Reading:\n",
    " - [Pandas documentation](https://pandas.pydata.org/docs/)\n",
    " - [PyTerrier documentation](https://pyterrier.readthedocs.io/en/latest/)\n"
   ]
  },
  {
   "cell_type": "markdown",
   "metadata": {
    "id": "NlNrCyggueji"
   },
   "source": [
    "## Part 1 - Pandas"
   ]
  },
  {
   "cell_type": "code",
   "execution_count": 1,
   "metadata": {
    "ExecuteTime": {
     "end_time": "2021-06-10T08:13:18.925251Z",
     "start_time": "2021-06-10T08:13:18.079840Z"
    },
    "id": "qpQGo9Sv9yIT"
   },
   "outputs": [],
   "source": [
    "# we need to import pandas. We commonly rename it to pd, to make commands shorter\n",
    "import pandas as pd\n",
    "\n",
    "# let's not truncate Pandas output too much\n",
    "pd.set_option('display.max_colwidth', 150)"
   ]
  },
  {
   "cell_type": "markdown",
   "metadata": {
    "id": "9EhtYovQGJVT"
   },
   "source": [
    "### Constructing a Pandas dataframe"
   ]
  },
  {
   "cell_type": "code",
   "execution_count": 2,
   "metadata": {
    "ExecuteTime": {
     "end_time": "2021-06-10T08:13:18.945573Z",
     "start_time": "2021-06-10T08:13:18.928136Z"
    },
    "id": "Qp7dHcV054TB"
   },
   "outputs": [
    {
     "data": {
      "text/html": [
       "<div>\n",
       "<style scoped>\n",
       "    .dataframe tbody tr th:only-of-type {\n",
       "        vertical-align: middle;\n",
       "    }\n",
       "\n",
       "    .dataframe tbody tr th {\n",
       "        vertical-align: top;\n",
       "    }\n",
       "\n",
       "    .dataframe thead th {\n",
       "        text-align: right;\n",
       "    }\n",
       "</style>\n",
       "<table border=\"1\" class=\"dataframe\">\n",
       "  <thead>\n",
       "    <tr style=\"text-align: right;\">\n",
       "      <th></th>\n",
       "      <th>State</th>\n",
       "      <th>Population</th>\n",
       "    </tr>\n",
       "  </thead>\n",
       "  <tbody>\n",
       "    <tr>\n",
       "      <th>0</th>\n",
       "      <td>California</td>\n",
       "      <td>38332521</td>\n",
       "    </tr>\n",
       "    <tr>\n",
       "      <th>1</th>\n",
       "      <td>Texas</td>\n",
       "      <td>26448193</td>\n",
       "    </tr>\n",
       "    <tr>\n",
       "      <th>2</th>\n",
       "      <td>Illinois</td>\n",
       "      <td>12882135</td>\n",
       "    </tr>\n",
       "  </tbody>\n",
       "</table>\n",
       "</div>"
      ],
      "text/plain": [
       "        State  Population\n",
       "0  California    38332521\n",
       "1       Texas    26448193\n",
       "2    Illinois    12882135"
      ]
     },
     "execution_count": 2,
     "metadata": {},
     "output_type": "execute_result"
    }
   ],
   "source": [
    "# let's take our data from a list, where each element is the rows of the data.\n",
    "population_data = [\n",
    "  ['California', 38332521],\n",
    "  ['Texas', 26448193],                  \n",
    "  ['Illinois', 12882135]                  \n",
    "]\n",
    "\n",
    "# now we construct a dataframe object. this is our relation\n",
    "# we need to name the columns\n",
    "population_df = pd.DataFrame(population_data, columns=['State', 'Population']) \n",
    "# if we put a variable last in the code cell, its content will be printed\n",
    "population_df"
   ]
  },
  {
   "cell_type": "markdown",
   "metadata": {
    "id": "tsoO8i73Bmlv"
   },
   "source": [
    "As you can see, this is very much like a relation, with a name (`population_df`), a header with attribute names, and rows.\n",
    "\n",
    "We can also make a dataframe using a dictionary:"
   ]
  },
  {
   "cell_type": "code",
   "execution_count": 3,
   "metadata": {
    "ExecuteTime": {
     "end_time": "2021-06-10T08:13:18.954925Z",
     "start_time": "2021-06-10T08:13:18.947891Z"
    },
    "id": "mVeczn_Wvlw6"
   },
   "outputs": [
    {
     "data": {
      "text/html": [
       "<div>\n",
       "<style scoped>\n",
       "    .dataframe tbody tr th:only-of-type {\n",
       "        vertical-align: middle;\n",
       "    }\n",
       "\n",
       "    .dataframe tbody tr th {\n",
       "        vertical-align: top;\n",
       "    }\n",
       "\n",
       "    .dataframe thead th {\n",
       "        text-align: right;\n",
       "    }\n",
       "</style>\n",
       "<table border=\"1\" class=\"dataframe\">\n",
       "  <thead>\n",
       "    <tr style=\"text-align: right;\">\n",
       "      <th></th>\n",
       "      <th>State</th>\n",
       "      <th>Population</th>\n",
       "    </tr>\n",
       "  </thead>\n",
       "  <tbody>\n",
       "    <tr>\n",
       "      <th>0</th>\n",
       "      <td>California</td>\n",
       "      <td>38332521</td>\n",
       "    </tr>\n",
       "    <tr>\n",
       "      <th>1</th>\n",
       "      <td>Texas</td>\n",
       "      <td>26448193</td>\n",
       "    </tr>\n",
       "    <tr>\n",
       "      <th>2</th>\n",
       "      <td>Illinois</td>\n",
       "      <td>12882135</td>\n",
       "    </tr>\n",
       "  </tbody>\n",
       "</table>\n",
       "</div>"
      ],
      "text/plain": [
       "        State  Population\n",
       "0  California    38332521\n",
       "1       Texas    26448193\n",
       "2    Illinois    12882135"
      ]
     },
     "execution_count": 3,
     "metadata": {},
     "output_type": "execute_result"
    }
   ],
   "source": [
    "population_df = pd.DataFrame({\n",
    "      'State' : ['California', 'Texas', 'Illinois'],\n",
    "      'Population' : [38332521, 26448193, 12882135]\n",
    "    })\n",
    "population_df"
   ]
  },
  {
   "cell_type": "markdown",
   "metadata": {
    "id": "30zr36uBwMgN"
   },
   "source": [
    "Dataframes have attributes (such as length).\n"
   ]
  },
  {
   "cell_type": "code",
   "execution_count": 4,
   "metadata": {
    "ExecuteTime": {
     "end_time": "2021-06-10T08:13:18.960816Z",
     "start_time": "2021-06-10T08:13:18.956969Z"
    },
    "id": "7oIvyT__v632"
   },
   "outputs": [
    {
     "data": {
      "text/plain": [
       "3"
      ]
     },
     "execution_count": 4,
     "metadata": {},
     "output_type": "execute_result"
    }
   ],
   "source": [
    "len(population_df)"
   ]
  },
  {
   "cell_type": "markdown",
   "metadata": {
    "id": "GhyF_0pawkly"
   },
   "source": [
    "Each column is typed (actually using Numpy datatypes)"
   ]
  },
  {
   "cell_type": "code",
   "execution_count": 5,
   "metadata": {
    "ExecuteTime": {
     "end_time": "2021-06-10T08:13:18.967861Z",
     "start_time": "2021-06-10T08:13:18.962730Z"
    },
    "id": "AlrRiW06wVQZ"
   },
   "outputs": [
    {
     "data": {
      "text/plain": [
       "State         object\n",
       "Population     int64\n",
       "dtype: object"
      ]
     },
     "execution_count": 5,
     "metadata": {},
     "output_type": "execute_result"
    }
   ],
   "source": [
    "population_df.dtypes"
   ]
  },
  {
   "cell_type": "markdown",
   "metadata": {
    "id": "Wt8s9GkMAsiL"
   },
   "source": [
    "\n",
    "### Projection"
   ]
  },
  {
   "cell_type": "markdown",
   "metadata": {
    "id": "SaV7E9Uc-OJq"
   },
   "source": [
    "Ok, we now have a dataframe. Unlike a relation, this has order, so we can ask to *select* the first or second rows:"
   ]
  },
  {
   "cell_type": "code",
   "execution_count": 6,
   "metadata": {
    "ExecuteTime": {
     "end_time": "2021-06-10T08:13:18.977044Z",
     "start_time": "2021-06-10T08:13:18.972792Z"
    },
    "id": "lTEUphBB9t5I"
   },
   "outputs": [
    {
     "data": {
      "text/plain": [
       "State            Texas\n",
       "Population    26448193\n",
       "Name: 1, dtype: object"
      ]
     },
     "execution_count": 6,
     "metadata": {},
     "output_type": "execute_result"
    }
   ],
   "source": [
    "population_df.iloc[1]"
   ]
  },
  {
   "cell_type": "markdown",
   "metadata": {
    "id": "F1KwS-vp_O9C"
   },
   "source": [
    "We'll return to selection shortly.\n",
    "\n",
    "We can *project* one column:"
   ]
  },
  {
   "cell_type": "code",
   "execution_count": 7,
   "metadata": {
    "ExecuteTime": {
     "end_time": "2021-06-10T08:13:18.982917Z",
     "start_time": "2021-06-10T08:13:18.979590Z"
    },
    "id": "wHAWpZAE_Hzs"
   },
   "outputs": [
    {
     "data": {
      "text/plain": [
       "0    38332521\n",
       "1    26448193\n",
       "2    12882135\n",
       "Name: Population, dtype: int64"
      ]
     },
     "execution_count": 7,
     "metadata": {},
     "output_type": "execute_result"
    }
   ],
   "source": [
    "population_df['Population']"
   ]
  },
  {
   "cell_type": "markdown",
   "metadata": {
    "id": "NrsWbWo0w08l"
   },
   "source": [
    "When both projecting single rows or columns, we get an object of type [Pandas Series](https://pandas.pydata.org/pandas-docs/stable/reference/series.html). "
   ]
  },
  {
   "cell_type": "code",
   "execution_count": 8,
   "metadata": {
    "ExecuteTime": {
     "end_time": "2021-06-10T08:13:18.988381Z",
     "start_time": "2021-06-10T08:13:18.984723Z"
    },
    "id": "VXkZbpP4w-X7"
   },
   "outputs": [
    {
     "data": {
      "text/plain": [
       "pandas.core.series.Series"
      ]
     },
     "execution_count": 8,
     "metadata": {},
     "output_type": "execute_result"
    }
   ],
   "source": [
    "type(population_df['Population'])"
   ]
  },
  {
   "cell_type": "markdown",
   "metadata": {
    "id": "xLszXgqyxBFH"
   },
   "source": [
    "A Pandas Series can be thought of as a kind of dictionary/key-value store. We can ask for a given value using 'dot notation', or square brackets:"
   ]
  },
  {
   "cell_type": "code",
   "execution_count": 9,
   "metadata": {
    "ExecuteTime": {
     "end_time": "2021-06-10T08:13:18.993982Z",
     "start_time": "2021-06-10T08:13:18.990212Z"
    },
    "id": "FAV-K4KsxTtx"
   },
   "outputs": [
    {
     "data": {
      "text/plain": [
       "'Texas'"
      ]
     },
     "execution_count": 9,
     "metadata": {},
     "output_type": "execute_result"
    }
   ],
   "source": [
    "population_df.iloc[1].State"
   ]
  },
  {
   "cell_type": "code",
   "execution_count": 10,
   "metadata": {
    "ExecuteTime": {
     "end_time": "2021-06-10T08:13:18.999252Z",
     "start_time": "2021-06-10T08:13:18.995526Z"
    },
    "id": "8YFHeT-_xchT"
   },
   "outputs": [
    {
     "data": {
      "text/plain": [
       "'Texas'"
      ]
     },
     "execution_count": 10,
     "metadata": {},
     "output_type": "execute_result"
    }
   ],
   "source": [
    "population_df.iloc[1][\"State\"]"
   ]
  },
  {
   "cell_type": "markdown",
   "metadata": {
    "id": "EXJMXq-q_2Wv"
   },
   "source": [
    "On the other hand, if we wanted to project many columns we would end up with a *dataframe* that looks similar to the original one, just with columns reordered).\n",
    "\n",
    "Note how we use an additional `[]` when we want to project many columns - i.e. we are projecting a *list* of columns."
   ]
  },
  {
   "cell_type": "code",
   "execution_count": 11,
   "metadata": {
    "ExecuteTime": {
     "end_time": "2021-06-10T08:13:19.007494Z",
     "start_time": "2021-06-10T08:13:19.000971Z"
    },
    "id": "wVC8tM0J_w-X"
   },
   "outputs": [
    {
     "data": {
      "text/html": [
       "<div>\n",
       "<style scoped>\n",
       "    .dataframe tbody tr th:only-of-type {\n",
       "        vertical-align: middle;\n",
       "    }\n",
       "\n",
       "    .dataframe tbody tr th {\n",
       "        vertical-align: top;\n",
       "    }\n",
       "\n",
       "    .dataframe thead th {\n",
       "        text-align: right;\n",
       "    }\n",
       "</style>\n",
       "<table border=\"1\" class=\"dataframe\">\n",
       "  <thead>\n",
       "    <tr style=\"text-align: right;\">\n",
       "      <th></th>\n",
       "      <th>Population</th>\n",
       "      <th>State</th>\n",
       "    </tr>\n",
       "  </thead>\n",
       "  <tbody>\n",
       "    <tr>\n",
       "      <th>0</th>\n",
       "      <td>38332521</td>\n",
       "      <td>California</td>\n",
       "    </tr>\n",
       "    <tr>\n",
       "      <th>1</th>\n",
       "      <td>26448193</td>\n",
       "      <td>Texas</td>\n",
       "    </tr>\n",
       "    <tr>\n",
       "      <th>2</th>\n",
       "      <td>12882135</td>\n",
       "      <td>Illinois</td>\n",
       "    </tr>\n",
       "  </tbody>\n",
       "</table>\n",
       "</div>"
      ],
      "text/plain": [
       "   Population       State\n",
       "0    38332521  California\n",
       "1    26448193       Texas\n",
       "2    12882135    Illinois"
      ]
     },
     "execution_count": 11,
     "metadata": {},
     "output_type": "execute_result"
    }
   ],
   "source": [
    "population_df[['Population', 'State']]"
   ]
  },
  {
   "cell_type": "markdown",
   "metadata": {
    "id": "kJ6AFYvsAn9S"
   },
   "source": [
    "### Union\n",
    "\n",
    "\n",
    "One of the simplest operations in relational algebra is data union. That is uniting two tables to create a third, which contains all the rows of both the first and the second table!\n",
    "\n",
    "Here, we're interested in the union of DataFrames. With Pandas, this operation is carried out using `pd.concat`."
   ]
  },
  {
   "cell_type": "code",
   "execution_count": 12,
   "metadata": {
    "ExecuteTime": {
     "end_time": "2021-06-10T08:13:19.016179Z",
     "start_time": "2021-06-10T08:13:19.009086Z"
    },
    "id": "zkIESYJq_7Ug"
   },
   "outputs": [
    {
     "data": {
      "text/html": [
       "<div>\n",
       "<style scoped>\n",
       "    .dataframe tbody tr th:only-of-type {\n",
       "        vertical-align: middle;\n",
       "    }\n",
       "\n",
       "    .dataframe tbody tr th {\n",
       "        vertical-align: top;\n",
       "    }\n",
       "\n",
       "    .dataframe thead th {\n",
       "        text-align: right;\n",
       "    }\n",
       "</style>\n",
       "<table border=\"1\" class=\"dataframe\">\n",
       "  <thead>\n",
       "    <tr style=\"text-align: right;\">\n",
       "      <th></th>\n",
       "      <th>State</th>\n",
       "      <th>Population</th>\n",
       "    </tr>\n",
       "  </thead>\n",
       "  <tbody>\n",
       "    <tr>\n",
       "      <th>0</th>\n",
       "      <td>California</td>\n",
       "      <td>38332521</td>\n",
       "    </tr>\n",
       "    <tr>\n",
       "      <th>1</th>\n",
       "      <td>Texas</td>\n",
       "      <td>26448193</td>\n",
       "    </tr>\n",
       "    <tr>\n",
       "      <th>2</th>\n",
       "      <td>Illinois</td>\n",
       "      <td>12882135</td>\n",
       "    </tr>\n",
       "    <tr>\n",
       "      <th>0</th>\n",
       "      <td>New York</td>\n",
       "      <td>19651127</td>\n",
       "    </tr>\n",
       "    <tr>\n",
       "      <th>1</th>\n",
       "      <td>Florida</td>\n",
       "      <td>19552860</td>\n",
       "    </tr>\n",
       "  </tbody>\n",
       "</table>\n",
       "</div>"
      ],
      "text/plain": [
       "        State  Population\n",
       "0  California    38332521\n",
       "1       Texas    26448193\n",
       "2    Illinois    12882135\n",
       "0    New York    19651127\n",
       "1     Florida    19552860"
      ]
     },
     "execution_count": 12,
     "metadata": {},
     "output_type": "execute_result"
    }
   ],
   "source": [
    "#we've just been informed about the population of some east coast states\n",
    "population_df_eastcoast = pd.DataFrame([['New York', 19651127], ['Florida', 19552860]], columns=['State', 'Population'])\n",
    "\n",
    "#we can make a new dataframe by concatenating the dataframes - this is the union. \n",
    "population_all_df = pd.concat([population_df, population_df_eastcoast])\n",
    "population_all_df"
   ]
  },
  {
   "cell_type": "markdown",
   "metadata": {
    "id": "mz40jshoGP9x"
   },
   "source": [
    "### Selection\n",
    "\n",
    "Selection is the filtering of rows. We can do this based on conditions, for instance with a population greater than a threshold, e.g. 30M."
   ]
  },
  {
   "cell_type": "code",
   "execution_count": 13,
   "metadata": {
    "ExecuteTime": {
     "end_time": "2021-06-10T08:13:19.038103Z",
     "start_time": "2021-06-10T08:13:19.017881Z"
    },
    "id": "8cLpByWEIAqA"
   },
   "outputs": [
    {
     "data": {
      "text/html": [
       "<div>\n",
       "<style scoped>\n",
       "    .dataframe tbody tr th:only-of-type {\n",
       "        vertical-align: middle;\n",
       "    }\n",
       "\n",
       "    .dataframe tbody tr th {\n",
       "        vertical-align: top;\n",
       "    }\n",
       "\n",
       "    .dataframe thead th {\n",
       "        text-align: right;\n",
       "    }\n",
       "</style>\n",
       "<table border=\"1\" class=\"dataframe\">\n",
       "  <thead>\n",
       "    <tr style=\"text-align: right;\">\n",
       "      <th></th>\n",
       "      <th>State</th>\n",
       "      <th>Population</th>\n",
       "    </tr>\n",
       "  </thead>\n",
       "  <tbody>\n",
       "    <tr>\n",
       "      <th>0</th>\n",
       "      <td>California</td>\n",
       "      <td>38332521</td>\n",
       "    </tr>\n",
       "  </tbody>\n",
       "</table>\n",
       "</div>"
      ],
      "text/plain": [
       "        State  Population\n",
       "0  California    38332521"
      ]
     },
     "execution_count": 13,
     "metadata": {},
     "output_type": "execute_result"
    }
   ],
   "source": [
    "population_all_df[population_all_df['Population'] > 3e7]"
   ]
  },
  {
   "cell_type": "markdown",
   "metadata": {
    "id": "u1zUQrdaIW1y"
   },
   "source": [
    "What happened here? Let's break this down.\n",
    "\n",
    "Inside the brackets is \n",
    "```python\n",
    "population_all_df['Population'] > 3e7\n",
    "```\n",
    "This identifies all rows that have a population greater than 30 million (I'm using 3e7, a shorthand scientific notation for 30 million). Let's run that by itself"
   ]
  },
  {
   "cell_type": "code",
   "execution_count": 14,
   "metadata": {
    "ExecuteTime": {
     "end_time": "2021-06-10T08:13:19.046065Z",
     "start_time": "2021-06-10T08:13:19.040387Z"
    },
    "id": "2oQwt38oIkTD"
   },
   "outputs": [
    {
     "data": {
      "text/plain": [
       "0     True\n",
       "1    False\n",
       "2    False\n",
       "0    False\n",
       "1    False\n",
       "Name: Population, dtype: bool"
      ]
     },
     "execution_count": 14,
     "metadata": {},
     "output_type": "execute_result"
    }
   ],
   "source": [
    "population_all_df['Population'] > 3e7"
   ]
  },
  {
   "cell_type": "markdown",
   "metadata": {
    "id": "y9_2XLGDIxfY"
   },
   "source": [
    "It evaluates the expression Population > 3e7 for each row, and returns a kind of list (actually a Pandas [Series](https://pandas.pydata.org/pandas-docs/stable/reference/api/pandas.Series.html)), with `True` and `False` values for each row, determining if the row meets the selection condition.\n",
    "\n",
    "By inserting this into `population_all_df[]`, we determine which rows to return (i.e. only those for California)."
   ]
  },
  {
   "cell_type": "markdown",
   "metadata": {
    "id": "rWmlLM9zCYZ6"
   },
   "source": [
    "### Join\n",
    "\n",
    "Another very useful function to manipulate Dataframes is `pd.merge`, which allows you to **join** DataFrames.\n",
    "\n",
    "A join assembles information from one table A with that from another table B according to a chosen criterion. This criterion is called the join condition. This condition is composed of one or more columns that are common to A and B.\n",
    "\n",
    "Here is a quick example to help explain. Let's imagine that we have two Dataframes:\n",
    "\n",
    "*  `df1`  containing a list of employees and the names of the departments in which they work,\n",
    "\n",
    "*  `df2`  containing the same list of employees and their dates of entry into the company.\n",
    "\n",
    "The `pd.merge` function allows us to transform these two Dataframes into one, containing both information.\n",
    "\n",
    "![alt text](https://user.oc-static.com/upload/2018/11/19/15426263274571_15190382351255_foo.png)"
   ]
  },
  {
   "cell_type": "code",
   "execution_count": 15,
   "metadata": {
    "ExecuteTime": {
     "end_time": "2021-06-10T08:13:19.061814Z",
     "start_time": "2021-06-10T08:13:19.048722Z"
    },
    "id": "z5fhpGEeAjJz"
   },
   "outputs": [
    {
     "data": {
      "text/html": [
       "<div>\n",
       "<style scoped>\n",
       "    .dataframe tbody tr th:only-of-type {\n",
       "        vertical-align: middle;\n",
       "    }\n",
       "\n",
       "    .dataframe tbody tr th {\n",
       "        vertical-align: top;\n",
       "    }\n",
       "\n",
       "    .dataframe thead th {\n",
       "        text-align: right;\n",
       "    }\n",
       "</style>\n",
       "<table border=\"1\" class=\"dataframe\">\n",
       "  <thead>\n",
       "    <tr style=\"text-align: right;\">\n",
       "      <th></th>\n",
       "      <th>employee</th>\n",
       "      <th>department</th>\n",
       "      <th>date</th>\n",
       "    </tr>\n",
       "  </thead>\n",
       "  <tbody>\n",
       "    <tr>\n",
       "      <th>0</th>\n",
       "      <td>Bob</td>\n",
       "      <td>Accounting</td>\n",
       "      <td>2008</td>\n",
       "    </tr>\n",
       "    <tr>\n",
       "      <th>1</th>\n",
       "      <td>Jake</td>\n",
       "      <td>Engineering</td>\n",
       "      <td>2012</td>\n",
       "    </tr>\n",
       "    <tr>\n",
       "      <th>2</th>\n",
       "      <td>Lisa</td>\n",
       "      <td>Engineering</td>\n",
       "      <td>2004</td>\n",
       "    </tr>\n",
       "    <tr>\n",
       "      <th>3</th>\n",
       "      <td>Sue</td>\n",
       "      <td>HR</td>\n",
       "      <td>2014</td>\n",
       "    </tr>\n",
       "  </tbody>\n",
       "</table>\n",
       "</div>"
      ],
      "text/plain": [
       "  employee   department  date\n",
       "0      Bob   Accounting  2008\n",
       "1     Jake  Engineering  2012\n",
       "2     Lisa  Engineering  2004\n",
       "3      Sue           HR  2014"
      ]
     },
     "execution_count": 15,
     "metadata": {},
     "output_type": "execute_result"
    }
   ],
   "source": [
    "df1 = pd.DataFrame({'employee': ['Bob', 'Jake', 'Lisa', 'Sue'],\n",
    "                    'department': ['Accounting', 'Engineering', 'Engineering', 'HR']})\n",
    "                    \n",
    "df2 = pd.DataFrame({'employee': ['Lisa', 'Bob', 'Jake', 'Sue'],\n",
    "                    'date': [2004, 2008, 2012, 2014]})\n",
    "df3 = pd.merge(df1, df2)\n",
    "df3"
   ]
  },
  {
   "cell_type": "markdown",
   "metadata": {
    "id": "nn4Jkv5-DHbG"
   },
   "source": [
    "`pd.merge` automatically recognised that the `employee` column was common to both Dataframes, and used it as a join condition. This is akin to a **natural join** in relational algebra. We might explicitly make this clear using the `on=` kwarg.\n",
    "\n",
    "```python\n",
    "df3 = pd.merge(df1, df2, on=\"employee\")\n",
    "```\n",
    "\n",
    "But if these 2 columns had different names (for example employee on df1 and emp_name on df2), then you would instead write:\n",
    "\n",
    "```python\n",
    "  df3 = pd.merge(df1, df2, left_on=\"employee\", right_on=\"emp_name\")\n",
    "```\n",
    "\n",
    "(This would have been an equi-join).\n",
    "\n",
    "We can do left and right outer joins using the `how=` kwarg, which control what we do with rows from the left or right dataframes that don't have a match in the other. See the [Pandas merge documentation for more details](https://pandas.pydata.org/pandas-docs/stable/reference/api/pandas.merge.html).\n",
    "\n",
    "\n",
    "Gotcha: There is also a `pd.join()` method, which does NOT do the same thing (it only operates on special columns called indexes, which we dont use here). Only use `pd.merge()`.\n"
   ]
  },
  {
   "cell_type": "markdown",
   "metadata": {
    "id": "vXB4pO_e1a5O"
   },
   "source": [
    "### Apply\n",
    "\n",
    "Sometimes we want to apply a function on a row of a dataframe. [Pandas apply() function](https://pandas.pydata.org/pandas-docs/stable/reference/api/pandas.DataFrame.apply.html) is very useful for this.\n",
    "\n",
    "For instance, perhaps we want to add a string representation of the states population, e.g. `\"38M\"` for the population of California.\n",
    "\n",
    "I'm going to use a nice Python function from [StackExchange](https://stackoverflow.com/a/3155023):\n"
   ]
  },
  {
   "cell_type": "code",
   "execution_count": 16,
   "metadata": {
    "ExecuteTime": {
     "end_time": "2021-06-10T08:13:19.075983Z",
     "start_time": "2021-06-10T08:13:19.063847Z"
    },
    "id": "0bzXnkt62Qtb"
   },
   "outputs": [
    {
     "data": {
      "text/plain": [
       "'38M'"
      ]
     },
     "execution_count": 16,
     "metadata": {},
     "output_type": "execute_result"
    }
   ],
   "source": [
    "import math\n",
    "millnames = ['','K','M','B','T']\n",
    "def millify(n):\n",
    "    n = float(n)\n",
    "    millidx = max(0,min(len(millnames)-1,\n",
    "                        int(math.floor(0 if n == 0 else math.log10(abs(n))/3))))\n",
    "    return '{:.0f}{}'.format(n / 10**(3 * millidx), millnames[millidx])\n",
    "  \n",
    "millify(38332521)"
   ]
  },
  {
   "cell_type": "markdown",
   "metadata": {
    "id": "YFqRee4m2olm"
   },
   "source": [
    "Ok, so how to \"apply\" this function to our dataframe. \n",
    "\n",
    "Well, let's take the Series for the population columns, and apply the function. That returns a new Series with the new string form of the column. "
   ]
  },
  {
   "cell_type": "code",
   "execution_count": 17,
   "metadata": {
    "ExecuteTime": {
     "end_time": "2021-06-10T08:13:19.081919Z",
     "start_time": "2021-06-10T08:13:19.077506Z"
    },
    "id": "fb14Xxox2tt4"
   },
   "outputs": [
    {
     "data": {
      "text/plain": [
       "0    38M\n",
       "1    26M\n",
       "2    13M\n",
       "0    20M\n",
       "1    20M\n",
       "Name: Population, dtype: object"
      ]
     },
     "execution_count": 17,
     "metadata": {},
     "output_type": "execute_result"
    }
   ],
   "source": [
    "population_all_df[\"Population\"].apply(millify)"
   ]
  },
  {
   "cell_type": "markdown",
   "metadata": {
    "id": "By1WCNzL3MCL"
   },
   "source": [
    "In this case, for *each* Population value, millify is called on the numeric value. \n",
    "\n",
    "We can also apply on an entire dataframe. Here, we use a lambda function to call millify on the attribute we care about. The lambda is called for each row of population_all_df, being passed that row as a Pandas series. We use the square brackets notation to get the Population value. Finally, `axis=1` tells Pandas we are operating row-by-row, not column-by-column, which is the default. "
   ]
  },
  {
   "cell_type": "code",
   "execution_count": 18,
   "metadata": {
    "ExecuteTime": {
     "end_time": "2021-06-10T08:13:19.094713Z",
     "start_time": "2021-06-10T08:13:19.088100Z"
    },
    "id": "ITntzYWI3Arf"
   },
   "outputs": [
    {
     "data": {
      "text/plain": [
       "0    38M\n",
       "1    26M\n",
       "2    13M\n",
       "0    20M\n",
       "1    20M\n",
       "dtype: object"
      ]
     },
     "execution_count": 18,
     "metadata": {},
     "output_type": "execute_result"
    }
   ],
   "source": [
    "population_all_df.apply(lambda row: millify(row[\"Population\"]), axis=1)"
   ]
  },
  {
   "cell_type": "markdown",
   "metadata": {
    "id": "xPN_JKPb35W2"
   },
   "source": [
    "Ok, so how can we make a new column. Well we can assign columns to dataframes too."
   ]
  },
  {
   "cell_type": "code",
   "execution_count": 19,
   "metadata": {
    "ExecuteTime": {
     "end_time": "2021-06-10T08:13:19.103638Z",
     "start_time": "2021-06-10T08:13:19.098112Z"
    },
    "id": "MKLtFyIz34R1"
   },
   "outputs": [
    {
     "data": {
      "text/html": [
       "<div>\n",
       "<style scoped>\n",
       "    .dataframe tbody tr th:only-of-type {\n",
       "        vertical-align: middle;\n",
       "    }\n",
       "\n",
       "    .dataframe tbody tr th {\n",
       "        vertical-align: top;\n",
       "    }\n",
       "\n",
       "    .dataframe thead th {\n",
       "        text-align: right;\n",
       "    }\n",
       "</style>\n",
       "<table border=\"1\" class=\"dataframe\">\n",
       "  <thead>\n",
       "    <tr style=\"text-align: right;\">\n",
       "      <th></th>\n",
       "      <th>State</th>\n",
       "      <th>Population</th>\n",
       "    </tr>\n",
       "  </thead>\n",
       "  <tbody>\n",
       "    <tr>\n",
       "      <th>0</th>\n",
       "      <td>California</td>\n",
       "      <td>38332521</td>\n",
       "    </tr>\n",
       "    <tr>\n",
       "      <th>1</th>\n",
       "      <td>Texas</td>\n",
       "      <td>26448193</td>\n",
       "    </tr>\n",
       "    <tr>\n",
       "      <th>2</th>\n",
       "      <td>Illinois</td>\n",
       "      <td>12882135</td>\n",
       "    </tr>\n",
       "    <tr>\n",
       "      <th>0</th>\n",
       "      <td>New York</td>\n",
       "      <td>19651127</td>\n",
       "    </tr>\n",
       "    <tr>\n",
       "      <th>1</th>\n",
       "      <td>Florida</td>\n",
       "      <td>19552860</td>\n",
       "    </tr>\n",
       "  </tbody>\n",
       "</table>\n",
       "</div>"
      ],
      "text/plain": [
       "        State  Population\n",
       "0  California    38332521\n",
       "1       Texas    26448193\n",
       "2    Illinois    12882135\n",
       "0    New York    19651127\n",
       "1     Florida    19552860"
      ]
     },
     "execution_count": 19,
     "metadata": {},
     "output_type": "execute_result"
    }
   ],
   "source": [
    "# population_all_df[\"Pop Human\"] = population_all_df[\"Population\"].apply(millify)\n",
    "population_all_df"
   ]
  },
  {
   "cell_type": "markdown",
   "metadata": {
    "id": "nAfB0bd54HWD"
   },
   "source": [
    "Beautiful!"
   ]
  },
  {
   "cell_type": "markdown",
   "metadata": {
    "id": "DH0FmKDoJWQO"
   },
   "source": [
    "### Pandas Exercises\n"
   ]
  },
  {
   "cell_type": "markdown",
   "metadata": {
    "id": "J8Oib3jdJx4j"
   },
   "source": [
    "#### Q1. Creating a Pandas dataframe\n",
    "\n",
    "Create a dataframe `area_df` for the following information about states:\n",
    "\n",
    "State| Area\n",
    "--- | ---\n",
    "California | 423967\n",
    "Texas | 695662\n",
    "New York | 141297\n",
    "Florida | 170312\n",
    "Illinois | 149995\n",
    "\n"
   ]
  },
  {
   "cell_type": "code",
   "execution_count": 20,
   "metadata": {
    "ExecuteTime": {
     "end_time": "2021-06-10T08:13:19.112724Z",
     "start_time": "2021-06-10T08:13:19.106104Z"
    },
    "id": "-izi15qBC4t9"
   },
   "outputs": [
    {
     "data": {
      "text/html": [
       "<div>\n",
       "<style scoped>\n",
       "    .dataframe tbody tr th:only-of-type {\n",
       "        vertical-align: middle;\n",
       "    }\n",
       "\n",
       "    .dataframe tbody tr th {\n",
       "        vertical-align: top;\n",
       "    }\n",
       "\n",
       "    .dataframe thead th {\n",
       "        text-align: right;\n",
       "    }\n",
       "</style>\n",
       "<table border=\"1\" class=\"dataframe\">\n",
       "  <thead>\n",
       "    <tr style=\"text-align: right;\">\n",
       "      <th></th>\n",
       "      <th>State</th>\n",
       "      <th>Area</th>\n",
       "    </tr>\n",
       "  </thead>\n",
       "  <tbody>\n",
       "    <tr>\n",
       "      <th>0</th>\n",
       "      <td>California</td>\n",
       "      <td>423967</td>\n",
       "    </tr>\n",
       "    <tr>\n",
       "      <th>1</th>\n",
       "      <td>Texas</td>\n",
       "      <td>695662</td>\n",
       "    </tr>\n",
       "    <tr>\n",
       "      <th>2</th>\n",
       "      <td>New York</td>\n",
       "      <td>141297</td>\n",
       "    </tr>\n",
       "    <tr>\n",
       "      <th>3</th>\n",
       "      <td>Florida</td>\n",
       "      <td>170312</td>\n",
       "    </tr>\n",
       "    <tr>\n",
       "      <th>4</th>\n",
       "      <td>Illinois</td>\n",
       "      <td>149995</td>\n",
       "    </tr>\n",
       "  </tbody>\n",
       "</table>\n",
       "</div>"
      ],
      "text/plain": [
       "        State    Area\n",
       "0  California  423967\n",
       "1       Texas  695662\n",
       "2    New York  141297\n",
       "3     Florida  170312\n",
       "4    Illinois  149995"
      ]
     },
     "execution_count": 20,
     "metadata": {},
     "output_type": "execute_result"
    }
   ],
   "source": [
    "#YOUR SOLUTION\n",
    "\n",
    "area_df = pd.DataFrame({'State': ['California', 'Texas', 'New York', 'Florida', 'Illinois'],\n",
    "                        'Area': [423967, 695662, 141297, 170312, 149995]})\n",
    "\n",
    "area_df"
   ]
  },
  {
   "cell_type": "markdown",
   "metadata": {
    "id": "umPsES8RJ-mJ"
   },
   "source": [
    "#### Q2. What are the names of states which have an area less than 150,000?\n",
    "\n"
   ]
  },
  {
   "cell_type": "code",
   "execution_count": 21,
   "metadata": {
    "ExecuteTime": {
     "end_time": "2021-06-10T08:13:19.118359Z",
     "start_time": "2021-06-10T08:13:19.114185Z"
    },
    "id": "mjrtM9ntK9L3"
   },
   "outputs": [
    {
     "data": {
      "text/plain": [
       "2    New York\n",
       "4    Illinois\n",
       "Name: State, dtype: object"
      ]
     },
     "execution_count": 21,
     "metadata": {},
     "output_type": "execute_result"
    }
   ],
   "source": [
    "#YOUR SOLUTION\n",
    "area_df[area_df['Area'] < 150000]['State']"
   ]
  },
  {
   "cell_type": "markdown",
   "metadata": {
    "id": "jBRKINffLZS-"
   },
   "source": [
    "#### Q3. Provide the population and area for the states of Texas and Florida in a single dataframe\n",
    "\n",
    "It should have columns State, Population, Area, and have 2 rows."
   ]
  },
  {
   "cell_type": "code",
   "execution_count": 22,
   "metadata": {
    "ExecuteTime": {
     "end_time": "2021-06-10T08:13:19.128695Z",
     "start_time": "2021-06-10T08:13:19.119956Z"
    },
    "id": "IW8a14YtLnGi"
   },
   "outputs": [
    {
     "data": {
      "text/html": [
       "<div>\n",
       "<style scoped>\n",
       "    .dataframe tbody tr th:only-of-type {\n",
       "        vertical-align: middle;\n",
       "    }\n",
       "\n",
       "    .dataframe tbody tr th {\n",
       "        vertical-align: top;\n",
       "    }\n",
       "\n",
       "    .dataframe thead th {\n",
       "        text-align: right;\n",
       "    }\n",
       "</style>\n",
       "<table border=\"1\" class=\"dataframe\">\n",
       "  <thead>\n",
       "    <tr style=\"text-align: right;\">\n",
       "      <th></th>\n",
       "      <th>State</th>\n",
       "      <th>Population</th>\n",
       "      <th>Area</th>\n",
       "    </tr>\n",
       "  </thead>\n",
       "  <tbody>\n",
       "    <tr>\n",
       "      <th>1</th>\n",
       "      <td>Texas</td>\n",
       "      <td>26448193</td>\n",
       "      <td>695662</td>\n",
       "    </tr>\n",
       "    <tr>\n",
       "      <th>4</th>\n",
       "      <td>Florida</td>\n",
       "      <td>19552860</td>\n",
       "      <td>170312</td>\n",
       "    </tr>\n",
       "  </tbody>\n",
       "</table>\n",
       "</div>"
      ],
      "text/plain": [
       "     State  Population    Area\n",
       "1    Texas    26448193  695662\n",
       "4  Florida    19552860  170312"
      ]
     },
     "execution_count": 22,
     "metadata": {},
     "output_type": "execute_result"
    }
   ],
   "source": [
    "#YOUR SOLUTION\n",
    "pd.merge(population_all_df, area_df, on='State').iloc[[1,4]]"
   ]
  },
  {
   "cell_type": "markdown",
   "metadata": {
    "id": "7u2hD-zBzfpR"
   },
   "source": [
    "## Part 2 - PyTerrier\n",
    "\n",
    "PyTerrier is a Python framework, but uses the underlying [Terrier.org information retrieval toolkit](http://terrier.org) for many indexing and retrieval operations. While PyTerrier was new in 2020, Terrier is written in Java and has a long history dating back to 2001. PyTerrier makes it easy to perform IR experiments in Python, but using the mature Terrier platform for the expensive indexing and retrieval operations. \n",
    "\n",
    "In the following, we introduce everything you need to know about PyTerrier, and also provide appropriate links to relevant parts of the [PyTerrier documentation](https://pyterrier.readthedocs.io/en/latest/).\n"
   ]
  },
  {
   "cell_type": "markdown",
   "metadata": {
    "id": "iH0Ds2370V0G"
   },
   "source": [
    "### Installation & Configuration\n",
    "\n",
    "PyTerrier is installed as follows. This might take a few minutes, so you can read on."
   ]
  },
  {
   "cell_type": "code",
   "execution_count": 23,
   "metadata": {
    "ExecuteTime": {
     "end_time": "2021-06-10T08:13:19.131930Z",
     "start_time": "2021-06-10T08:13:19.130171Z"
    },
    "id": "5oE5neAX0bkW"
   },
   "outputs": [],
   "source": [
    "# !pip install python-terrier"
   ]
  },
  {
   "cell_type": "markdown",
   "metadata": {
    "id": "JUN1B8RI0gPC"
   },
   "source": [
    "The next step is to initialise PyTerrier. This is performed using PyTerrier's `init()` method. The `init()` method is needed as PyTerrier must download Terrier's jar file and start the Java virtual machine. We prevent init() from being called more than once by checking `started()`."
   ]
  },
  {
   "cell_type": "code",
   "execution_count": 24,
   "metadata": {
    "ExecuteTime": {
     "end_time": "2021-06-10T08:13:24.804127Z",
     "start_time": "2021-06-10T08:13:19.133930Z"
    },
    "id": "Z4qALBa90-7g"
   },
   "outputs": [
    {
     "name": "stderr",
     "output_type": "stream",
     "text": [
      "/Users/siqiwang/opt/anaconda3/lib/python3.8/site-packages/tqdm/std.py:697: FutureWarning: The Panel class is removed from pandas. Accessing it from the top-level namespace will also be removed in the next version\n",
      "  from pandas import Panel\n"
     ]
    },
    {
     "name": "stdout",
     "output_type": "stream",
     "text": [
      "PyTerrier 0.6.0 has loaded Terrier 5.5 (built by craigmacdonald on 2021-05-20 13:12)\n"
     ]
    }
   ],
   "source": [
    "import pyterrier as pt\n",
    "if not pt.started():\n",
    "    pt.init()"
   ]
  },
  {
   "cell_type": "markdown",
   "metadata": {
    "id": "-qqjVSu-5_FX"
   },
   "source": [
    "### Documents, Indexing and Indexes"
   ]
  },
  {
   "cell_type": "markdown",
   "metadata": {
    "id": "3soS1IIy5B83"
   },
   "source": [
    "Much of PyTerrier's view of the world is wrapped up in Pandas dataframes. Let's consider some textual documents in a dataframe.\n"
   ]
  },
  {
   "cell_type": "code",
   "execution_count": 25,
   "metadata": {
    "ExecuteTime": {
     "end_time": "2021-06-10T08:13:24.818001Z",
     "start_time": "2021-06-10T08:13:24.806578Z"
    },
    "id": "gSEiEuTE5uyL"
   },
   "outputs": [
    {
     "data": {
      "text/html": [
       "<div>\n",
       "<style scoped>\n",
       "    .dataframe tbody tr th:only-of-type {\n",
       "        vertical-align: middle;\n",
       "    }\n",
       "\n",
       "    .dataframe tbody tr th {\n",
       "        vertical-align: top;\n",
       "    }\n",
       "\n",
       "    .dataframe thead th {\n",
       "        text-align: right;\n",
       "    }\n",
       "</style>\n",
       "<table border=\"1\" class=\"dataframe\">\n",
       "  <thead>\n",
       "    <tr style=\"text-align: right;\">\n",
       "      <th></th>\n",
       "      <th>docno</th>\n",
       "      <th>text</th>\n",
       "    </tr>\n",
       "  </thead>\n",
       "  <tbody>\n",
       "    <tr>\n",
       "      <th>0</th>\n",
       "      <td>d1</td>\n",
       "      <td>this is the first document of many documents</td>\n",
       "    </tr>\n",
       "    <tr>\n",
       "      <th>1</th>\n",
       "      <td>d2</td>\n",
       "      <td>this is another document</td>\n",
       "    </tr>\n",
       "    <tr>\n",
       "      <th>2</th>\n",
       "      <td>d3</td>\n",
       "      <td>the topic of this document is unknown</td>\n",
       "    </tr>\n",
       "  </tbody>\n",
       "</table>\n",
       "</div>"
      ],
      "text/plain": [
       "  docno                                          text\n",
       "0    d1  this is the first document of many documents\n",
       "1    d2                      this is another document\n",
       "2    d3         the topic of this document is unknown"
      ]
     },
     "execution_count": 25,
     "metadata": {},
     "output_type": "execute_result"
    }
   ],
   "source": [
    "import pandas as pd\n",
    "docs_df = pd.DataFrame([\n",
    "    [\"d1\", \"this is the first document of many documents\"],\n",
    "    [\"d2\", \"this is another document\"],\n",
    "    [\"d3\", \"the topic of this document is unknown\"]\n",
    "], columns=[\"docno\", \"text\"])\n",
    "docs_df"
   ]
  },
  {
   "cell_type": "markdown",
   "metadata": {
    "id": "2RCtCCTU6GAj"
   },
   "source": [
    "Before any search engine can estimate which documents are most likely to be relevant for a given query, it must index the documents. The index is written into a directory called `index_3docs`. "
   ]
  },
  {
   "cell_type": "code",
   "execution_count": 26,
   "metadata": {
    "ExecuteTime": {
     "end_time": "2021-06-10T08:13:26.757519Z",
     "start_time": "2021-06-10T08:13:24.820064Z"
    },
    "id": "1YvLhEOS6V8w"
   },
   "outputs": [
    {
     "data": {
      "text/plain": [
       "'./index_3docs/data.properties'"
      ]
     },
     "execution_count": 26,
     "metadata": {},
     "output_type": "execute_result"
    }
   ],
   "source": [
    "indexer = pt.DFIndexer(\"./index_3docs\", overwrite=True)\n",
    "indexref = indexer.index(docs_df[\"text\"], docs_df['docno'])\n",
    "indexref.toString()"
   ]
  },
  {
   "cell_type": "markdown",
   "metadata": {
    "id": "TUm6r6_625gW"
   },
   "source": [
    "An IndexRef is essentially a string saying where an index is stored. \n",
    "\n",
    "Indeed, we can look in the `index_3docs` directory and see that it has created various small files. The filenames give hints to the corresponding data structures: \n",
    " - some files relating to a lexicon (aka vocabulary)\n",
    " - a file relating to the inverted index\n",
    " - a file relating to the direct index (aka forward index, used for QE)\n",
    " - files relating to document metadata (e.g. storing the unique identifiers for documents) and document lengths\n"
   ]
  },
  {
   "cell_type": "code",
   "execution_count": 27,
   "metadata": {
    "ExecuteTime": {
     "end_time": "2021-06-10T08:13:26.901912Z",
     "start_time": "2021-06-10T08:13:26.759711Z"
    },
    "id": "TF45pl5O8p7R"
   },
   "outputs": [
    {
     "name": "stdout",
     "output_type": "stream",
     "text": [
      "total 72\n",
      "-rw-r--r--  1 siqiwang  staff     3B 10 Jun 16:13 data.direct.bf\n",
      "-rw-r--r--  1 siqiwang  staff    51B 10 Jun 16:13 data.document.fsarrayfile\n",
      "-rw-r--r--  1 siqiwang  staff     4B 10 Jun 16:13 data.inverted.bf\n",
      "-rw-r--r--  1 siqiwang  staff   344B 10 Jun 16:13 data.lexicon.fsomapfile\n",
      "-rw-r--r--  1 siqiwang  staff   249B 10 Jun 16:13 data.lexicon.fsomaphash\n",
      "-rw-r--r--  1 siqiwang  staff    24B 10 Jun 16:13 data.meta.idx\n",
      "-rw-r--r--  1 siqiwang  staff    48B 10 Jun 16:13 data.meta.zdata\n",
      "-rw-r--r--  1 siqiwang  staff   4.1K 10 Jun 16:13 data.properties\n"
     ]
    }
   ],
   "source": [
    "!ls -lh index_3docs/"
   ]
  },
  {
   "cell_type": "markdown",
   "metadata": {
    "id": "B2b8isFP3Kv6"
   },
   "source": [
    "How can we make an IndexRef useful - we can load it to an actual index - pt.IndexFactory.of() is the relevant factory. "
   ]
  },
  {
   "cell_type": "code",
   "execution_count": 28,
   "metadata": {
    "ExecuteTime": {
     "end_time": "2021-06-10T08:13:26.940051Z",
     "start_time": "2021-06-10T08:13:26.906616Z"
    },
    "id": "TTM17szD6pNy"
   },
   "outputs": [
    {
     "data": {
      "text/plain": [
       "jnius.reflect.org.terrier.structures.Index"
      ]
     },
     "execution_count": 28,
     "metadata": {},
     "output_type": "execute_result"
    }
   ],
   "source": [
    "index = pt.IndexFactory.of(indexref)\n",
    "#lets see what Python type index is.\n",
    "type(index)"
   ]
  },
  {
   "cell_type": "markdown",
   "metadata": {
    "id": "mZe3HD5i7G3v"
   },
   "source": [
    "Ok, so this object refers to Terrier's [Index type](http://terrier.org/docs/current/javadoc/org/terrier/structures/Index.html). Check the linked Javadoc - you will see that this Java object has methods such as:\n",
    " - getCollectionStatistics()\n",
    " - getInvertedIndex()\n",
    " - getLexicon() \n",
    "\n",
    "Let's see what's in the CollectionStatistics:"
   ]
  },
  {
   "cell_type": "code",
   "execution_count": 29,
   "metadata": {
    "ExecuteTime": {
     "end_time": "2021-06-10T08:13:26.953605Z",
     "start_time": "2021-06-10T08:13:26.941805Z"
    },
    "id": "6-gXEDSX65bx"
   },
   "outputs": [
    {
     "name": "stdout",
     "output_type": "stream",
     "text": [
      "Number of documents: 3\n",
      "Number of terms: 4\n",
      "Number of postings: 6\n",
      "Number of fields: 0\n",
      "Number of tokens: 7\n",
      "Field names: []\n",
      "Positions:   false\n",
      "\n"
     ]
    }
   ],
   "source": [
    "print(index.getCollectionStatistics())"
   ]
  },
  {
   "cell_type": "markdown",
   "metadata": {
    "id": "i6HrR4lc7i10"
   },
   "source": [
    "Ok, that seems fair - we have 3 documents. But why only 4 terms? \n",
    "Let's check the [Lexicon](http://terrier.org/docs/current/javadoc/org/terrier/structures/Lexicon.html), which is our vocabulary. Fortunately, the Lexicon can be iterated easily from Python:"
   ]
  },
  {
   "cell_type": "code",
   "execution_count": 30,
   "metadata": {
    "ExecuteTime": {
     "end_time": "2021-06-10T08:13:26.979758Z",
     "start_time": "2021-06-10T08:13:26.956059Z"
    },
    "id": "us2mAzTW7Bny"
   },
   "outputs": [
    {
     "name": "stdout",
     "output_type": "stream",
     "text": [
      "document (<class 'str'>) -> term0 Nt=3 TF=4 maxTF=2 @{0 0 0} (<class 'jnius.reflect.org.terrier.structures.LexiconEntry'>)\n",
      "first (<class 'str'>) -> term1 Nt=1 TF=1 maxTF=1 @{0 0 7} (<class 'jnius.reflect.org.terrier.structures.LexiconEntry'>)\n",
      "topic (<class 'str'>) -> term2 Nt=1 TF=1 maxTF=1 @{0 1 1} (<class 'jnius.reflect.org.terrier.structures.LexiconEntry'>)\n",
      "unknown (<class 'str'>) -> term3 Nt=1 TF=1 maxTF=1 @{0 1 5} (<class 'jnius.reflect.org.terrier.structures.LexiconEntry'>)\n",
      "document\n",
      "term0 Nt=3 TF=4 maxTF=2 @{0 0 0}\n",
      "first\n",
      "term1 Nt=1 TF=1 maxTF=1 @{0 0 7}\n",
      "topic\n",
      "term2 Nt=1 TF=1 maxTF=1 @{0 1 1}\n",
      "unknown\n",
      "term3 Nt=1 TF=1 maxTF=1 @{0 1 5}\n"
     ]
    }
   ],
   "source": [
    "for kv in index.getLexicon():\n",
    "    print(\"%s (%s) -> %s (%s)\" % (kv.getKey(), type(kv.getKey()), kv.getValue(), type(kv.getValue()) ) )\n",
    "\n",
    "for kv in index.getLexicon():\n",
    "    print(kv.getKey())\n",
    "    print(kv.getValue())"
   ]
  },
  {
   "cell_type": "markdown",
   "metadata": {
    "id": "fwbp94gh86pw"
   },
   "source": [
    "Here, iterating over the Lexicon returns a pair of String term, and a [LexiconEntry](http://terrier.org/docs/current/javadoc/org/terrier/structures/LexiconEntry.html) -- which itself is an [EntryStatistics](http://terrier.org/docs/current/javadoc/org/terrier/structures/EntryStatistics.html) -- and contains information including the statistics of that term.\n",
    "\n",
    "\n",
    "So what did we find? Here are some observations:\n",
    " - we only have 4 unique terms, as stopwords were removed\n",
    " - we have one term for `\"document\"`, even though `\"documents\"` occurred in document \"d1\". \n",
    " \n",
    "Both these observations make sense, as indeed Terrier removes standard stopwords and applies Porter's stemmer by default.\n",
    "\n",
    "Further:\n",
    " - `Nt` is the number of unique documents that each term occurs in. This is useful for calculating IDF\n",
    " - `TF` is the total number of occurrences - some weighting models use this instead of Nt.\n",
    " - The numbers in the `@{}` are a pointer - they tell Terrier where the postings are for that term in the inverted index data structure.\n",
    "\n",
    "Finally, we can also use the square bracket notation to lookup terms in Terrier's lexicon. This is equivalent to [Lexicon.getLexiconEntry(\"chemical\")](http://terrier.org/docs/current/javadoc/org/terrier/structures/Lexicon.html#getLexiconEntry(KEY))\n"
   ]
  },
  {
   "cell_type": "code",
   "execution_count": 31,
   "metadata": {
    "ExecuteTime": {
     "end_time": "2021-06-10T08:13:26.989446Z",
     "start_time": "2021-06-10T08:13:26.981502Z"
    },
    "id": "SZmi9498-Ijw"
   },
   "outputs": [
    {
     "data": {
      "text/plain": [
       "'term0 Nt=3 TF=4 maxTF=2 @{0 0 0}'"
      ]
     },
     "execution_count": 31,
     "metadata": {},
     "output_type": "execute_result"
    }
   ],
   "source": [
    "index.getLexicon()[\"document\"].toString()\n",
    "# index.getLexicon().getLexiconEntry(\"document\").toString()"
   ]
  },
  {
   "cell_type": "markdown",
   "metadata": {
    "id": "vaKaU59l-kzg"
   },
   "source": [
    "Let's now think about the inverted index. Remember from Lecture 2 that the inverted index tells us in which *documents* each term occurs in. The LexiconEntry is the pointer that tell us where to find the postings for that term in the inverted index."
   ]
  },
  {
   "cell_type": "code",
   "execution_count": 32,
   "metadata": {
    "ExecuteTime": {
     "end_time": "2021-06-10T08:13:26.999956Z",
     "start_time": "2021-06-10T08:13:26.991386Z"
    },
    "id": "XQki_Pds8ut2"
   },
   "outputs": [
    {
     "name": "stdout",
     "output_type": "stream",
     "text": [
      "ID(0) TF(2) doclen=3\n",
      "ID(1) TF(1) doclen=1\n",
      "ID(2) TF(1) doclen=3\n"
     ]
    }
   ],
   "source": [
    "pointer = index.getLexicon()[\"document\"]\n",
    "for posting in index.getInvertedIndex().getPostings(pointer):\n",
    "    print(posting.toString() + \" doclen=%d\" % posting.getDocumentLength())"
   ]
  },
  {
   "cell_type": "markdown",
   "metadata": {
    "id": "l7EaoIIO_DPx"
   },
   "source": [
    "Ok, so we can see that `\"document\"` occurs once in each of the three documents. NB: Terrier counts documents as integers from 0 (called *docids*). It records the mapping back to *docnos* (the string form, i.e. \"d1\", \"d2\") in a separate data structure called the metaindex."
   ]
  },
  {
   "cell_type": "markdown",
   "metadata": {
    "id": "Klgep_b6AGOA"
   },
   "source": [
    "Similarly, we can see what terms occur in document d1, by using a datastructure called the *direct* index. You can think of this as the opposite of the inverted index: the inverted index tell us, for each term, which documents contain that term; the direct index tells us, for each document, which terms it contains.\n",
    "\n",
    "Let's define a function to show us the contents of a document using the direct index. This a translation of [the Java code for displaying the contents of a document in the Terrier documentation](https://github.com/terrier-org/terrier-core/blob/5.x/doc/extend_retrieval.md#what-terms-occur-in-the-11th-document). When using our function, we can specify which document either by docno (string) or docid (int)."
   ]
  },
  {
   "cell_type": "code",
   "execution_count": 33,
   "metadata": {
    "ExecuteTime": {
     "end_time": "2021-06-10T08:13:27.007077Z",
     "start_time": "2021-06-10T08:13:27.001671Z"
    },
    "id": "J93Pg8w5AFrP"
   },
   "outputs": [],
   "source": [
    "def get_document_direct(index, docno=None, docid=None):\n",
    "    if docid is None and docno is None:\n",
    "        raise ValueError(\"Must specify docno or docid\")\n",
    "    if docno is not None:\n",
    "        docid = index.getMetaIndex().getDocument(\"docno\", docno)\n",
    "    else:\n",
    "        docno = index.getMetaIndex().getItem(\"docno\", docid)\n",
    "    rtr = \"Docno %s (docid %d)\\n\" % (docno, docid)\n",
    "    pointer = index.getDocumentIndex().getDocumentEntry(docid)\n",
    "    for p in index.getDirectIndex().getPostings(pointer):\n",
    "        termid = p.getId()\n",
    "        term = index.getLexicon()[termid].getKey()\n",
    "        rtr += (\"\\t%s %d\\n\" % ( term, p.getFrequency()))\n",
    "    return rtr"
   ]
  },
  {
   "cell_type": "code",
   "execution_count": 34,
   "metadata": {
    "ExecuteTime": {
     "end_time": "2021-06-10T08:13:27.021342Z",
     "start_time": "2021-06-10T08:13:27.009547Z"
    },
    "id": "iX608k5j7uHT"
   },
   "outputs": [
    {
     "name": "stdout",
     "output_type": "stream",
     "text": [
      "Docno d1 (docid 0)\n",
      "\tdocument 2\n",
      "\tfirst 1\n",
      "\n"
     ]
    }
   ],
   "source": [
    "print(get_document_direct(index, docno=\"d1\"))"
   ]
  },
  {
   "cell_type": "code",
   "execution_count": 35,
   "metadata": {
    "ExecuteTime": {
     "end_time": "2021-06-10T08:13:27.027491Z",
     "start_time": "2021-06-10T08:13:27.023088Z"
    },
    "id": "QZmQPitqAZ_4"
   },
   "outputs": [
    {
     "name": "stdout",
     "output_type": "stream",
     "text": [
      "Docno d3 (docid 2)\n",
      "\tdocument 1\n",
      "\ttopic 1\n",
      "\tunknown 1\n",
      "\n"
     ]
    }
   ],
   "source": [
    "print(get_document_direct(index, docid=2))"
   ]
  },
  {
   "cell_type": "markdown",
   "metadata": {
    "id": "zOSdVAr-CGRf"
   },
   "source": [
    "### Searching an Index\n",
    "\n",
    "Our way into search in PyTerrier is called BatchRetrieve. BatchRetrieve is configured by specifying an index and a weighting model. We then search for a single-word query, `\"document\"`."
   ]
  },
  {
   "cell_type": "code",
   "execution_count": 36,
   "metadata": {
    "ExecuteTime": {
     "end_time": "2021-06-10T08:13:27.119455Z",
     "start_time": "2021-06-10T08:13:27.029449Z"
    },
    "id": "XtK93nwXCF5C"
   },
   "outputs": [
    {
     "data": {
      "text/html": [
       "<div>\n",
       "<style scoped>\n",
       "    .dataframe tbody tr th:only-of-type {\n",
       "        vertical-align: middle;\n",
       "    }\n",
       "\n",
       "    .dataframe tbody tr th {\n",
       "        vertical-align: top;\n",
       "    }\n",
       "\n",
       "    .dataframe thead th {\n",
       "        text-align: right;\n",
       "    }\n",
       "</style>\n",
       "<table border=\"1\" class=\"dataframe\">\n",
       "  <thead>\n",
       "    <tr style=\"text-align: right;\">\n",
       "      <th></th>\n",
       "      <th>qid</th>\n",
       "      <th>docid</th>\n",
       "      <th>docno</th>\n",
       "      <th>rank</th>\n",
       "      <th>score</th>\n",
       "      <th>query</th>\n",
       "    </tr>\n",
       "  </thead>\n",
       "  <tbody>\n",
       "    <tr>\n",
       "      <th>0</th>\n",
       "      <td>1</td>\n",
       "      <td>0</td>\n",
       "      <td>d1</td>\n",
       "      <td>0</td>\n",
       "      <td>2.0</td>\n",
       "      <td>document</td>\n",
       "    </tr>\n",
       "    <tr>\n",
       "      <th>1</th>\n",
       "      <td>1</td>\n",
       "      <td>2</td>\n",
       "      <td>d3</td>\n",
       "      <td>1</td>\n",
       "      <td>1.0</td>\n",
       "      <td>document</td>\n",
       "    </tr>\n",
       "    <tr>\n",
       "      <th>2</th>\n",
       "      <td>1</td>\n",
       "      <td>1</td>\n",
       "      <td>d2</td>\n",
       "      <td>2</td>\n",
       "      <td>1.0</td>\n",
       "      <td>document</td>\n",
       "    </tr>\n",
       "  </tbody>\n",
       "</table>\n",
       "</div>"
      ],
      "text/plain": [
       "  qid  docid docno  rank  score     query\n",
       "0   1      0    d1     0    2.0  document\n",
       "1   1      2    d3     1    1.0  document\n",
       "2   1      1    d2     2    1.0  document"
      ]
     },
     "execution_count": 36,
     "metadata": {},
     "output_type": "execute_result"
    }
   ],
   "source": [
    "br = pt.BatchRetrieve(index, wmodel=\"Tf\")\n",
    "br.search(\"document\")"
   ]
  },
  {
   "cell_type": "markdown",
   "metadata": {
    "id": "BHqSfTCtDM2T"
   },
   "source": [
    "So `search()` returns a dataframe with columns:\n",
    " - qid: this is by default \"1\", since it's our first and only query\n",
    " - docid: Terrier' internal integer for each doucment\n",
    " - docno: the external (string) unique identifier for each document\n",
    " - score: the total frequency of the query (terms) in each document\n",
    " - rank: A handy attribute showing the descending order by score\n",
    " - query: the input query\n",
    "\n",
    "As expected, the Tf weighting model used here only counts the frequencies of the query terms in each document, i.e.:\n",
    "$$\n",
    "score(d,Q) = \\sum_{t \\in Q} tf_{t,d}\n",
    "$$\n",
    "\n",
    "Hence, it's clear that document d1 should be the highest scored document with two occurrences (c.f. `'document'` and `'documents'`).  "
   ]
  },
  {
   "cell_type": "markdown",
   "metadata": {
    "id": "BJBXquPOD6q7"
   },
   "source": [
    "We can also pass a dataframe of one or more queries to the `transform()` method (rather than the `search()` method) of a transformer, with queries numbered \"q1\", \"q2\" etc.. "
   ]
  },
  {
   "cell_type": "code",
   "execution_count": 37,
   "metadata": {
    "ExecuteTime": {
     "end_time": "2021-06-10T08:13:27.139330Z",
     "start_time": "2021-06-10T08:13:27.121153Z"
    },
    "id": "TPBmPOETBKWk"
   },
   "outputs": [
    {
     "data": {
      "text/html": [
       "<div>\n",
       "<style scoped>\n",
       "    .dataframe tbody tr th:only-of-type {\n",
       "        vertical-align: middle;\n",
       "    }\n",
       "\n",
       "    .dataframe tbody tr th {\n",
       "        vertical-align: top;\n",
       "    }\n",
       "\n",
       "    .dataframe thead th {\n",
       "        text-align: right;\n",
       "    }\n",
       "</style>\n",
       "<table border=\"1\" class=\"dataframe\">\n",
       "  <thead>\n",
       "    <tr style=\"text-align: right;\">\n",
       "      <th></th>\n",
       "      <th>qid</th>\n",
       "      <th>docid</th>\n",
       "      <th>docno</th>\n",
       "      <th>rank</th>\n",
       "      <th>score</th>\n",
       "      <th>query</th>\n",
       "    </tr>\n",
       "  </thead>\n",
       "  <tbody>\n",
       "    <tr>\n",
       "      <th>0</th>\n",
       "      <td>q1</td>\n",
       "      <td>0</td>\n",
       "      <td>d1</td>\n",
       "      <td>0</td>\n",
       "      <td>2.0</td>\n",
       "      <td>document</td>\n",
       "    </tr>\n",
       "    <tr>\n",
       "      <th>1</th>\n",
       "      <td>q1</td>\n",
       "      <td>2</td>\n",
       "      <td>d3</td>\n",
       "      <td>1</td>\n",
       "      <td>1.0</td>\n",
       "      <td>document</td>\n",
       "    </tr>\n",
       "    <tr>\n",
       "      <th>2</th>\n",
       "      <td>q1</td>\n",
       "      <td>1</td>\n",
       "      <td>d2</td>\n",
       "      <td>2</td>\n",
       "      <td>1.0</td>\n",
       "      <td>document</td>\n",
       "    </tr>\n",
       "    <tr>\n",
       "      <th>3</th>\n",
       "      <td>q2</td>\n",
       "      <td>0</td>\n",
       "      <td>d1</td>\n",
       "      <td>0</td>\n",
       "      <td>3.0</td>\n",
       "      <td>first document</td>\n",
       "    </tr>\n",
       "    <tr>\n",
       "      <th>4</th>\n",
       "      <td>q2</td>\n",
       "      <td>2</td>\n",
       "      <td>d3</td>\n",
       "      <td>1</td>\n",
       "      <td>1.0</td>\n",
       "      <td>first document</td>\n",
       "    </tr>\n",
       "    <tr>\n",
       "      <th>5</th>\n",
       "      <td>q2</td>\n",
       "      <td>1</td>\n",
       "      <td>d2</td>\n",
       "      <td>2</td>\n",
       "      <td>1.0</td>\n",
       "      <td>first document</td>\n",
       "    </tr>\n",
       "  </tbody>\n",
       "</table>\n",
       "</div>"
      ],
      "text/plain": [
       "  qid  docid docno  rank  score           query\n",
       "0  q1      0    d1     0    2.0        document\n",
       "1  q1      2    d3     1    1.0        document\n",
       "2  q1      1    d2     2    1.0        document\n",
       "3  q2      0    d1     0    3.0  first document\n",
       "4  q2      2    d3     1    1.0  first document\n",
       "5  q2      1    d2     2    1.0  first document"
      ]
     },
     "execution_count": 37,
     "metadata": {},
     "output_type": "execute_result"
    }
   ],
   "source": [
    "import pandas as pd\n",
    "queries = pd.DataFrame([[\"q1\", \"document\"], [\"q2\", \"first document\"]], columns=[\"qid\", \"query\"])\n",
    "br.transform(queries)"
   ]
  },
  {
   "cell_type": "markdown",
   "metadata": {
    "id": "tcgDzFLBEWAI"
   },
   "source": [
    "In fact, we are usually calling `transform()`, so it's the default method - i.e. \n",
    "`br.transform(queries)` can be more succinctly written as `br(queries)`."
   ]
  },
  {
   "cell_type": "code",
   "execution_count": 38,
   "metadata": {
    "ExecuteTime": {
     "end_time": "2021-06-10T08:13:27.160060Z",
     "start_time": "2021-06-10T08:13:27.141997Z"
    },
    "id": "YCwxb3HhEOp_"
   },
   "outputs": [
    {
     "data": {
      "text/html": [
       "<div>\n",
       "<style scoped>\n",
       "    .dataframe tbody tr th:only-of-type {\n",
       "        vertical-align: middle;\n",
       "    }\n",
       "\n",
       "    .dataframe tbody tr th {\n",
       "        vertical-align: top;\n",
       "    }\n",
       "\n",
       "    .dataframe thead th {\n",
       "        text-align: right;\n",
       "    }\n",
       "</style>\n",
       "<table border=\"1\" class=\"dataframe\">\n",
       "  <thead>\n",
       "    <tr style=\"text-align: right;\">\n",
       "      <th></th>\n",
       "      <th>qid</th>\n",
       "      <th>docid</th>\n",
       "      <th>docno</th>\n",
       "      <th>rank</th>\n",
       "      <th>score</th>\n",
       "      <th>query</th>\n",
       "    </tr>\n",
       "  </thead>\n",
       "  <tbody>\n",
       "    <tr>\n",
       "      <th>0</th>\n",
       "      <td>q1</td>\n",
       "      <td>0</td>\n",
       "      <td>d1</td>\n",
       "      <td>0</td>\n",
       "      <td>2.0</td>\n",
       "      <td>document</td>\n",
       "    </tr>\n",
       "    <tr>\n",
       "      <th>1</th>\n",
       "      <td>q1</td>\n",
       "      <td>2</td>\n",
       "      <td>d3</td>\n",
       "      <td>1</td>\n",
       "      <td>1.0</td>\n",
       "      <td>document</td>\n",
       "    </tr>\n",
       "    <tr>\n",
       "      <th>2</th>\n",
       "      <td>q1</td>\n",
       "      <td>1</td>\n",
       "      <td>d2</td>\n",
       "      <td>2</td>\n",
       "      <td>1.0</td>\n",
       "      <td>document</td>\n",
       "    </tr>\n",
       "    <tr>\n",
       "      <th>3</th>\n",
       "      <td>q2</td>\n",
       "      <td>0</td>\n",
       "      <td>d1</td>\n",
       "      <td>0</td>\n",
       "      <td>3.0</td>\n",
       "      <td>first document</td>\n",
       "    </tr>\n",
       "    <tr>\n",
       "      <th>4</th>\n",
       "      <td>q2</td>\n",
       "      <td>2</td>\n",
       "      <td>d3</td>\n",
       "      <td>1</td>\n",
       "      <td>1.0</td>\n",
       "      <td>first document</td>\n",
       "    </tr>\n",
       "    <tr>\n",
       "      <th>5</th>\n",
       "      <td>q2</td>\n",
       "      <td>1</td>\n",
       "      <td>d2</td>\n",
       "      <td>2</td>\n",
       "      <td>1.0</td>\n",
       "      <td>first document</td>\n",
       "    </tr>\n",
       "  </tbody>\n",
       "</table>\n",
       "</div>"
      ],
      "text/plain": [
       "  qid  docid docno  rank  score           query\n",
       "0  q1      0    d1     0    2.0        document\n",
       "1  q1      2    d3     1    1.0        document\n",
       "2  q1      1    d2     2    1.0        document\n",
       "3  q2      0    d1     0    3.0  first document\n",
       "4  q2      2    d3     1    1.0  first document\n",
       "5  q2      1    d2     2    1.0  first document"
      ]
     },
     "execution_count": 38,
     "metadata": {},
     "output_type": "execute_result"
    }
   ],
   "source": [
    "br(queries)"
   ]
  },
  {
   "cell_type": "markdown",
   "metadata": {
    "id": "ldY8VV8wQ60Z"
   },
   "source": [
    "### Moving on up\n",
    "\n",
    "OK, having 3 documents is quite trivial, so let's move upto a slightly larger corpus of documents. We'll be using Vaswani NPL. Terrier has a handy `get_dataset()` API, which allows us to download a ready-made index. "
   ]
  },
  {
   "cell_type": "code",
   "execution_count": 39,
   "metadata": {
    "ExecuteTime": {
     "end_time": "2021-06-10T08:13:27.189962Z",
     "start_time": "2021-06-10T08:13:27.162180Z"
    },
    "id": "L2lJsK-vEcQx"
   },
   "outputs": [],
   "source": [
    "vaswani_dataset = pt.get_dataset(\"vaswani\")\n",
    "index = pt.IndexFactory.of(vaswani_dataset.get_index())"
   ]
  },
  {
   "cell_type": "markdown",
   "metadata": {
    "id": "y7GK9uANRt8w"
   },
   "source": [
    "#### **Task 1**\n",
    "- What are the statistics of our index?\n",
    "- Can you get a feeling for what kind of documents this index contains by inspecting a few documents. e.g. look into the content of the index of docids 0, 10 and 100"
   ]
  },
  {
   "cell_type": "code",
   "execution_count": 40,
   "metadata": {
    "ExecuteTime": {
     "end_time": "2021-06-10T08:13:27.208923Z",
     "start_time": "2021-06-10T08:13:27.192046Z"
    },
    "id": "bNAVqf9uRr2p",
    "scrolled": true
   },
   "outputs": [
    {
     "name": "stdout",
     "output_type": "stream",
     "text": [
      "Docno 1 (docid 0)\n",
      "\tstorag 1\n",
      "\trandom 1\n",
      "\tflexibl 1\n",
      "\tdata 1\n",
      "\tsystem 1\n",
      "\tcompact 1\n",
      "\tsequenti 1\n",
      "\tdigit 1\n",
      "\tmemori 1\n",
      "\tbit 1\n",
      "\taccess 1\n",
      "\tcapac 2\n",
      "\n",
      "Docno 11 (docid 10)\n",
      "\tcircuit 3\n",
      "\ttransistor 1\n",
      "\tus 1\n",
      "\tobtain 1\n",
      "\tswitch 2\n",
      "\tdesign 1\n",
      "\taffect 1\n",
      "\tplot 1\n",
      "\tjunction 1\n",
      "\tcharacterist 1\n",
      "\tparamet 1\n",
      "\trelat 1\n",
      "\ttheoret 1\n",
      "\tload 1\n",
      "\tbistabl 1\n",
      "\tcurv 1\n",
      "\tmai 1\n",
      "\tdiagram 1\n",
      "\tline 1\n",
      "\tstatic 1\n",
      "\n",
      "Docno 101 (docid 100)\n",
      "\tmeasur 1\n",
      "\tobtain 1\n",
      "\tdiscuss 1\n",
      "\tmai 1\n",
      "\tthird 1\n",
      "\tanalysi 1\n",
      "\tresult 1\n",
      "\ttaken 1\n",
      "\tfunction 1\n",
      "\tmolecular 1\n",
      "\tobserv 1\n",
      "\trel 1\n",
      "\tion 1\n",
      "\tshow 1\n",
      "\tspectromet 1\n",
      "\tsatellit 1\n",
      "\tartifici 1\n",
      "\tintens 1\n",
      "\tkm 2\n",
      "\tatmospher 1\n",
      "\theight 2\n",
      "\tvariat 1\n",
      "\tearth 1\n",
      "\tgraph 1\n",
      "\tlatitud 2\n",
      "\tinterv 1\n",
      "\tspectrogram 1\n",
      "\tionic 2\n",
      "\tmass 2\n",
      "\tcomposit 1\n",
      "\tlonger 1\n",
      "\n"
     ]
    }
   ],
   "source": [
    "#YOUR SOLUTION\n",
    "# print(index.getCollectionStatistics())\n",
    "print(get_document_direct(index, docid=0))\n",
    "print(get_document_direct(index, docid=10))\n",
    "print(get_document_direct(index, docid=100))"
   ]
  },
  {
   "cell_type": "markdown",
   "metadata": {
    "id": "UaD-_XX7tD4v"
   },
   "source": [
    "So Vaswani is a reasonable index - let's examine the extent that it exhibits some of the textual properties we would expect.\n",
    "\n",
    "#### **Task 2**\n",
    "\n",
    "Use a matplotlib histogram to examine the distribution of the terms occurring in the Lexicon - i.e. it should be possible to read for a given frequency range, the number of terms that have that frequency.\n",
    "\n",
    "Hint: What method of the LexiconEntry can be used to determine the frequency for each term?\n",
    "\n",
    "Hint: it might be easier to read if you apply a logarithmic scale for the y-axis. Allow matplotlib to use its default number of bins (which is 10).\n",
    "\n",
    "<p>&nbsp;</p>\n",
    "\n",
    "#### **Stretch Task (Optional)**\n",
    "\n",
    "Next, let's try to see if Vaswani follows a Zipfian distribution. In terms of probabilities, we have \n",
    "$$\n",
    "r.Pr_t \\approx A\n",
    "$$\n",
    "where $r$ is the rank of the term, and $Pr_t$ is the probability of the term. To check how well Vaswani follows Zipf, reproduce slide 14 from Lecture 3 (concerning AP89) for this collection. We expect that Zipf's law will not hold for low and high ranked terms.\n",
    "\n",
    "Hint: SciPy's [rankdata()](https://docs.scipy.org/doc/scipy/reference/generated/scipy.stats.rankdata.html) function might be useful for getting the rank of any term frequency.\n",
    "\n",
    "Hint: To obtain $Pr_t$, you should compare each term's frequency to one of the collection statistics. \n"
   ]
  },
  {
   "cell_type": "code",
   "execution_count": 41,
   "metadata": {
    "ExecuteTime": {
     "end_time": "2021-06-10T08:13:28.708050Z",
     "start_time": "2021-06-10T08:13:27.211383Z"
    },
    "id": "bZ7kZhBVtoPy"
   },
   "outputs": [
    {
     "data": {
      "image/png": "[encoded data removed]",
      "text/plain": [
       "<Figure size 576x396 with 1 Axes>"
      ]
     },
     "metadata": {},
     "output_type": "display_data"
    }
   ],
   "source": [
    "#YOUR SOLUTION\n",
    "import matplotlib.pyplot as plt\n",
    "import numpy as np\n",
    "plt.style.use('seaborn')\n",
    "y = []\n",
    "for kv in index.getLexicon():\n",
    "    tf = index.getLexicon()[kv.getKey()].getFrequency()\n",
    "    y.append(tf)\n",
    "plt.hist(y)\n",
    "plt.yscale('log')"
   ]
  },
  {
   "cell_type": "code",
   "execution_count": 56,
   "metadata": {
    "ExecuteTime": {
     "end_time": "2021-06-10T08:15:04.818416Z",
     "start_time": "2021-06-10T08:15:04.123919Z"
    },
    "id": "gxxicWjfVN70"
   },
   "outputs": [
    {
     "data": {
      "image/png": "[encoded data removed]",
      "text/plain": [
       "<Figure size 576x396 with 1 Axes>"
      ]
     },
     "metadata": {},
     "output_type": "display_data"
    }
   ],
   "source": [
    "#YOUR SOLUTION - STRETCH/OPTIONAL\n",
    "from scipy.stats import rankdata\n",
    "\n",
    "# x axis: rank, y axis: prob\n",
    "rank = rankdata(-np.array(y), method='ordinal')\n",
    "pr = np.array(y) / 7756\n",
    "plt.scatter(rank, pr)\n",
    "plt.xlabel(\"Rank\")\n",
    "plt.ylabel(\"Probability\")\n",
    "plt.xscale('log')\n",
    "plt.yscale('log')"
   ]
  },
  {
   "cell_type": "markdown",
   "metadata": {
    "id": "tQD9Q8CqSirN"
   },
   "source": [
    "Next, Vaswani is a *test collection*, in that it is not just a corpus of documents, but it also has a set of queries (called *topics*), with each query having one or more **known** *relevant* documents (also called *qrels*). We'll hear more about test collections in Lecture 5.\n",
    "\n",
    "We can easily access the topics and qrels from the dataset. Indeed these are expressed as dataframes as well (we use Pandas's [head()](https://pandas.pydata.org/pandas-docs/stable/reference/api/pandas.DataFrame.head.html) method to show only the first 5 topics):"
   ]
  },
  {
   "cell_type": "code",
   "execution_count": 43,
   "metadata": {
    "ExecuteTime": {
     "end_time": "2021-06-10T08:13:29.492485Z",
     "start_time": "2021-06-10T08:13:29.467356Z"
    },
    "id": "8n7oY-YYS_-A"
   },
   "outputs": [
    {
     "data": {
      "text/html": [
       "<div>\n",
       "<style scoped>\n",
       "    .dataframe tbody tr th:only-of-type {\n",
       "        vertical-align: middle;\n",
       "    }\n",
       "\n",
       "    .dataframe tbody tr th {\n",
       "        vertical-align: top;\n",
       "    }\n",
       "\n",
       "    .dataframe thead th {\n",
       "        text-align: right;\n",
       "    }\n",
       "</style>\n",
       "<table border=\"1\" class=\"dataframe\">\n",
       "  <thead>\n",
       "    <tr style=\"text-align: right;\">\n",
       "      <th></th>\n",
       "      <th>qid</th>\n",
       "      <th>query</th>\n",
       "    </tr>\n",
       "  </thead>\n",
       "  <tbody>\n",
       "    <tr>\n",
       "      <th>0</th>\n",
       "      <td>1</td>\n",
       "      <td>measurement of dielectric constant of liquids by the use of microwave techniques</td>\n",
       "    </tr>\n",
       "    <tr>\n",
       "      <th>1</th>\n",
       "      <td>2</td>\n",
       "      <td>mathematical analysis and design details of waveguide fed microwave radiations</td>\n",
       "    </tr>\n",
       "    <tr>\n",
       "      <th>2</th>\n",
       "      <td>3</td>\n",
       "      <td>use of digital computers in the design of band pass filters having given phase and attenuation characteristics</td>\n",
       "    </tr>\n",
       "    <tr>\n",
       "      <th>3</th>\n",
       "      <td>4</td>\n",
       "      <td>systems of data coding for information transfer</td>\n",
       "    </tr>\n",
       "    <tr>\n",
       "      <th>4</th>\n",
       "      <td>5</td>\n",
       "      <td>use of programs in engineering testing of computers</td>\n",
       "    </tr>\n",
       "  </tbody>\n",
       "</table>\n",
       "</div>"
      ],
      "text/plain": [
       "  qid  \\\n",
       "0   1   \n",
       "1   2   \n",
       "2   3   \n",
       "3   4   \n",
       "4   5   \n",
       "\n",
       "                                                                                                            query  \n",
       "0                                measurement of dielectric constant of liquids by the use of microwave techniques  \n",
       "1                                  mathematical analysis and design details of waveguide fed microwave radiations  \n",
       "2  use of digital computers in the design of band pass filters having given phase and attenuation characteristics  \n",
       "3                                                                 systems of data coding for information transfer  \n",
       "4                                                             use of programs in engineering testing of computers  "
      ]
     },
     "execution_count": 43,
     "metadata": {},
     "output_type": "execute_result"
    }
   ],
   "source": [
    "vaswani_dataset.get_topics().head(5)"
   ]
  },
  {
   "cell_type": "code",
   "execution_count": 44,
   "metadata": {
    "ExecuteTime": {
     "end_time": "2021-06-10T08:13:29.508513Z",
     "start_time": "2021-06-10T08:13:29.494309Z"
    },
    "id": "-rYxqvhJTGNX"
   },
   "outputs": [
    {
     "data": {
      "text/html": [
       "<div>\n",
       "<style scoped>\n",
       "    .dataframe tbody tr th:only-of-type {\n",
       "        vertical-align: middle;\n",
       "    }\n",
       "\n",
       "    .dataframe tbody tr th {\n",
       "        vertical-align: top;\n",
       "    }\n",
       "\n",
       "    .dataframe thead th {\n",
       "        text-align: right;\n",
       "    }\n",
       "</style>\n",
       "<table border=\"1\" class=\"dataframe\">\n",
       "  <thead>\n",
       "    <tr style=\"text-align: right;\">\n",
       "      <th></th>\n",
       "      <th>qid</th>\n",
       "      <th>docno</th>\n",
       "      <th>label</th>\n",
       "    </tr>\n",
       "  </thead>\n",
       "  <tbody>\n",
       "    <tr>\n",
       "      <th>0</th>\n",
       "      <td>1</td>\n",
       "      <td>1239</td>\n",
       "      <td>1</td>\n",
       "    </tr>\n",
       "    <tr>\n",
       "      <th>1</th>\n",
       "      <td>1</td>\n",
       "      <td>1502</td>\n",
       "      <td>1</td>\n",
       "    </tr>\n",
       "    <tr>\n",
       "      <th>2</th>\n",
       "      <td>1</td>\n",
       "      <td>4462</td>\n",
       "      <td>1</td>\n",
       "    </tr>\n",
       "    <tr>\n",
       "      <th>3</th>\n",
       "      <td>1</td>\n",
       "      <td>4569</td>\n",
       "      <td>1</td>\n",
       "    </tr>\n",
       "    <tr>\n",
       "      <th>4</th>\n",
       "      <td>1</td>\n",
       "      <td>5472</td>\n",
       "      <td>1</td>\n",
       "    </tr>\n",
       "  </tbody>\n",
       "</table>\n",
       "</div>"
      ],
      "text/plain": [
       "  qid docno  label\n",
       "0   1  1239      1\n",
       "1   1  1502      1\n",
       "2   1  4462      1\n",
       "3   1  4569      1\n",
       "4   1  5472      1"
      ]
     },
     "execution_count": 44,
     "metadata": {},
     "output_type": "execute_result"
    }
   ],
   "source": [
    "vaswani_dataset.get_qrels().head(5)"
   ]
  },
  {
   "cell_type": "markdown",
   "metadata": {
    "id": "PX2Y-0DiTSAI"
   },
   "source": [
    "#### **Task 3**\n",
    "\n",
    "Using `get_document_direct()` and the qrels, print the contents of the relevant documents for the query with qid \"4\". NB: qids are strings.\n",
    "\n",
    "Hint: Try a Pandas apply()?\n"
   ]
  },
  {
   "cell_type": "code",
   "execution_count": 45,
   "metadata": {
    "ExecuteTime": {
     "end_time": "2021-06-10T08:13:29.547317Z",
     "start_time": "2021-06-10T08:13:29.511999Z"
    },
    "id": "qPWFJErjTP50",
    "scrolled": true
   },
   "outputs": [
    {
     "name": "stdout",
     "output_type": "stream",
     "text": [
      "Docno 2042 (docid 2041)\n",
      "\tdata 1\n",
      "\tprocess 2\n",
      "\tgroup 1\n",
      "\trepresent 1\n",
      "\tautomat 1\n",
      "\n",
      "Docno 2180 (docid 2179)\n",
      "\tstorag 1\n",
      "\tdata 1\n",
      "\tdigit 1\n",
      "\tprocess 1\n",
      "\tmagnet 1\n",
      "\ttape 1\n",
      "\n",
      "Docno 3595 (docid 3594)\n",
      "\tdata 1\n",
      "\tsystem 2\n",
      "\tdigit 2\n",
      "\tprocess 1\n",
      "\tdiscuss 1\n",
      "\tdesign 1\n",
      "\tdetect 1\n",
      "\tcorrect 1\n",
      "\tinclud 1\n",
      "\terror 2\n",
      "\tcode 3\n",
      "\n",
      "Docno 4057 (docid 4056)\n",
      "\tdata 1\n",
      "\tsystem 1\n",
      "\tdigit 3\n",
      "\telectron 1\n",
      "\tunit 1\n",
      "\tgiven 2\n",
      "\tcount 1\n",
      "\tprocess 1\n",
      "\tsimpl 2\n",
      "\tdiscuss 1\n",
      "\tdesign 1\n",
      "\tbasic 1\n",
      "\tbriefli 1\n",
      "\tapplic 1\n",
      "\tdescript 1\n",
      "\tproblem 1\n",
      "\tconsider 1\n",
      "\tcathod 1\n",
      "\ttube 1\n",
      "\tinput 1\n",
      "\tphysic 1\n",
      "\tcorrel 3\n",
      "\toutlin 1\n",
      "\tmeteor 1\n",
      "\tvisual 1\n",
      "\ttape 1\n",
      "\tcode 2\n",
      "\trecent 1\n",
      "\treadout 1\n",
      "\temploi 1\n",
      "\tarithmet 1\n",
      "\tpunch 1\n",
      "\n",
      "Docno 7985 (docid 7984)\n",
      "\tsystem 1\n",
      "\tdigit 1\n",
      "\tcontrol 1\n",
      "\treflect 1\n",
      "\tcode 1\n",
      "\n"
     ]
    },
    {
     "data": {
      "text/plain": [
       "67    None\n",
       "68    None\n",
       "69    None\n",
       "70    None\n",
       "71    None\n",
       "dtype: object"
      ]
     },
     "execution_count": 45,
     "metadata": {},
     "output_type": "execute_result"
    }
   ],
   "source": [
    "#YOUR SOLUTION\n",
    "qrels = vaswani_dataset.get_qrels()\n",
    "qrels[qrels['qid'] == '4'].apply(lambda x: print(get_document_direct(index, docno=x['docno'])), axis=1)"
   ]
  },
  {
   "cell_type": "markdown",
   "metadata": {
    "id": "2Gop4-jVbIIu"
   },
   "source": [
    "### Weighting Models\n",
    "\n",
    "So far, we have been using the simple Tf as our ranking function for document retrieval in BatchRetrieve. However, we can use other models such as `\"TF_IDF\"` by simply changing the `wmodel=\"Tf\"` keyword argument in the constructor of BatchRetrieve.\n"
   ]
  },
  {
   "cell_type": "code",
   "execution_count": 46,
   "metadata": {
    "ExecuteTime": {
     "end_time": "2021-06-10T08:13:29.640500Z",
     "start_time": "2021-06-10T08:13:29.548994Z"
    },
    "id": "Cg8AGzCibdPG"
   },
   "outputs": [
    {
     "data": {
      "text/html": [
       "<div>\n",
       "<style scoped>\n",
       "    .dataframe tbody tr th:only-of-type {\n",
       "        vertical-align: middle;\n",
       "    }\n",
       "\n",
       "    .dataframe tbody tr th {\n",
       "        vertical-align: top;\n",
       "    }\n",
       "\n",
       "    .dataframe thead th {\n",
       "        text-align: right;\n",
       "    }\n",
       "</style>\n",
       "<table border=\"1\" class=\"dataframe\">\n",
       "  <thead>\n",
       "    <tr style=\"text-align: right;\">\n",
       "      <th></th>\n",
       "      <th>qid</th>\n",
       "      <th>docid</th>\n",
       "      <th>docno</th>\n",
       "      <th>rank</th>\n",
       "      <th>score</th>\n",
       "      <th>query</th>\n",
       "    </tr>\n",
       "  </thead>\n",
       "  <tbody>\n",
       "    <tr>\n",
       "      <th>0</th>\n",
       "      <td>1</td>\n",
       "      <td>8171</td>\n",
       "      <td>8172</td>\n",
       "      <td>0</td>\n",
       "      <td>13.746087</td>\n",
       "      <td>measurement of dielectric constant of liquids by the use of microwave techniques</td>\n",
       "    </tr>\n",
       "    <tr>\n",
       "      <th>1</th>\n",
       "      <td>1</td>\n",
       "      <td>9880</td>\n",
       "      <td>9881</td>\n",
       "      <td>1</td>\n",
       "      <td>12.352666</td>\n",
       "      <td>measurement of dielectric constant of liquids by the use of microwave techniques</td>\n",
       "    </tr>\n",
       "    <tr>\n",
       "      <th>2</th>\n",
       "      <td>1</td>\n",
       "      <td>5501</td>\n",
       "      <td>5502</td>\n",
       "      <td>2</td>\n",
       "      <td>12.178153</td>\n",
       "      <td>measurement of dielectric constant of liquids by the use of microwave techniques</td>\n",
       "    </tr>\n",
       "    <tr>\n",
       "      <th>3</th>\n",
       "      <td>1</td>\n",
       "      <td>1501</td>\n",
       "      <td>1502</td>\n",
       "      <td>3</td>\n",
       "      <td>10.993585</td>\n",
       "      <td>measurement of dielectric constant of liquids by the use of microwave techniques</td>\n",
       "    </tr>\n",
       "    <tr>\n",
       "      <th>4</th>\n",
       "      <td>1</td>\n",
       "      <td>9858</td>\n",
       "      <td>9859</td>\n",
       "      <td>4</td>\n",
       "      <td>10.271452</td>\n",
       "      <td>measurement of dielectric constant of liquids by the use of microwave techniques</td>\n",
       "    </tr>\n",
       "    <tr>\n",
       "      <th>...</th>\n",
       "      <td>...</td>\n",
       "      <td>...</td>\n",
       "      <td>...</td>\n",
       "      <td>...</td>\n",
       "      <td>...</td>\n",
       "      <td>...</td>\n",
       "    </tr>\n",
       "    <tr>\n",
       "      <th>995</th>\n",
       "      <td>1</td>\n",
       "      <td>2455</td>\n",
       "      <td>2456</td>\n",
       "      <td>995</td>\n",
       "      <td>2.646072</td>\n",
       "      <td>measurement of dielectric constant of liquids by the use of microwave techniques</td>\n",
       "    </tr>\n",
       "    <tr>\n",
       "      <th>996</th>\n",
       "      <td>1</td>\n",
       "      <td>3972</td>\n",
       "      <td>3973</td>\n",
       "      <td>996</td>\n",
       "      <td>2.646072</td>\n",
       "      <td>measurement of dielectric constant of liquids by the use of microwave techniques</td>\n",
       "    </tr>\n",
       "    <tr>\n",
       "      <th>997</th>\n",
       "      <td>1</td>\n",
       "      <td>8288</td>\n",
       "      <td>8289</td>\n",
       "      <td>997</td>\n",
       "      <td>2.646072</td>\n",
       "      <td>measurement of dielectric constant of liquids by the use of microwave techniques</td>\n",
       "    </tr>\n",
       "    <tr>\n",
       "      <th>998</th>\n",
       "      <td>1</td>\n",
       "      <td>11011</td>\n",
       "      <td>11012</td>\n",
       "      <td>998</td>\n",
       "      <td>2.644992</td>\n",
       "      <td>measurement of dielectric constant of liquids by the use of microwave techniques</td>\n",
       "    </tr>\n",
       "    <tr>\n",
       "      <th>999</th>\n",
       "      <td>1</td>\n",
       "      <td>8036</td>\n",
       "      <td>8037</td>\n",
       "      <td>999</td>\n",
       "      <td>2.644992</td>\n",
       "      <td>measurement of dielectric constant of liquids by the use of microwave techniques</td>\n",
       "    </tr>\n",
       "  </tbody>\n",
       "</table>\n",
       "<p>1000 rows × 6 columns</p>\n",
       "</div>"
      ],
      "text/plain": [
       "    qid  docid  docno  rank      score  \\\n",
       "0     1   8171   8172     0  13.746087   \n",
       "1     1   9880   9881     1  12.352666   \n",
       "2     1   5501   5502     2  12.178153   \n",
       "3     1   1501   1502     3  10.993585   \n",
       "4     1   9858   9859     4  10.271452   \n",
       "..   ..    ...    ...   ...        ...   \n",
       "995   1   2455   2456   995   2.646072   \n",
       "996   1   3972   3973   996   2.646072   \n",
       "997   1   8288   8289   997   2.646072   \n",
       "998   1  11011  11012   998   2.644992   \n",
       "999   1   8036   8037   999   2.644992   \n",
       "\n",
       "                                                                                query  \n",
       "0    measurement of dielectric constant of liquids by the use of microwave techniques  \n",
       "1    measurement of dielectric constant of liquids by the use of microwave techniques  \n",
       "2    measurement of dielectric constant of liquids by the use of microwave techniques  \n",
       "3    measurement of dielectric constant of liquids by the use of microwave techniques  \n",
       "4    measurement of dielectric constant of liquids by the use of microwave techniques  \n",
       "..                                                                                ...  \n",
       "995  measurement of dielectric constant of liquids by the use of microwave techniques  \n",
       "996  measurement of dielectric constant of liquids by the use of microwave techniques  \n",
       "997  measurement of dielectric constant of liquids by the use of microwave techniques  \n",
       "998  measurement of dielectric constant of liquids by the use of microwave techniques  \n",
       "999  measurement of dielectric constant of liquids by the use of microwave techniques  \n",
       "\n",
       "[1000 rows x 6 columns]"
      ]
     },
     "execution_count": 46,
     "metadata": {},
     "output_type": "execute_result"
    }
   ],
   "source": [
    "tfidf = pt.BatchRetrieve(index, wmodel=\"TF_IDF\")\n",
    "\n",
    "tfidf.transform(vaswani_dataset.get_topics().head(1))"
   ]
  },
  {
   "cell_type": "markdown",
   "metadata": {
    "id": "m6aZGX9sbdmc"
   },
   "source": [
    "You will note that, as expected, the scores of documents ranked by TF_IDF are no longer integers. You can see the exact formula used by Terrier from [the Github repo](https://github.com/terrier-org/terrier-core/blob/5.x/modules/core/src/main/java/org/terrier/matching/models/TF_IDF.java#L79).\n",
    "\n",
    "Terrier supports many weighting models - the documentation contains [a list of supported models](http://terrier.org/docs/current/javadoc/org/terrier/matching/models/package-summary.html) - some of which we will discover later in the IR course.\n"
   ]
  },
  {
   "cell_type": "markdown",
   "metadata": {
    "id": "OiM8I_fkUcQ9"
   },
   "source": [
    "### PyTerrier Transformers\n",
    "\n",
    "You'll have noted that BatchRetrieve has a `transform()` method that takes as input a dataframe, and returns another dataframe, which is somehow a *transformation* of the earlier dataframe (e.g. a retrieval transformation). In fact, BatchRetrieve is just one of many similar objects in PyTerrier, which we call [transformers](https://pyterrier.readthedocs.io/en/latest/transformer.html) (represented by the TransformerBase class).\n",
    "\n",
    "Let's give a look at a BatchRetrieve transformer, e.g. the tfidf one:"
   ]
  },
  {
   "cell_type": "code",
   "execution_count": 47,
   "metadata": {
    "ExecuteTime": {
     "end_time": "2021-06-10T08:13:29.647751Z",
     "start_time": "2021-06-10T08:13:29.642955Z"
    },
    "id": "UqMt-9UlTqLa"
   },
   "outputs": [
    {
     "name": "stdout",
     "output_type": "stream",
     "text": [
      "True\n"
     ]
    },
    {
     "data": {
      "text/plain": [
       "(pyterrier.batchretrieve.BatchRetrieve,\n",
       " pyterrier.batchretrieve.BatchRetrieveBase,\n",
       " pyterrier.transformer.TransformerBase,\n",
       " matchpy.expressions.expressions.Symbol,\n",
       " matchpy.expressions.expressions.Atom,\n",
       " matchpy.expressions.expressions.Expression,\n",
       " object)"
      ]
     },
     "execution_count": 47,
     "metadata": {},
     "output_type": "execute_result"
    }
   ],
   "source": [
    "#tfidf is a transformer...\n",
    "print(isinstance(tfidf, pt.transformer.TransformerBase))\n",
    "#Yes!\n",
    "\n",
    "# this prints the type hierarchy of the TF_IDF class\n",
    "tfidf.__class__.__mro__"
   ]
  },
  {
   "cell_type": "markdown",
   "metadata": {
    "id": "GW3afDgPukvU"
   },
   "source": [
    "One interesting capability of all transformers is that they can be combined using Python operators (this is called operator overloading).\n",
    "\n",
    "Concretely, imagine that you want to chain transformers together - e.g. rank documents first by Tf then re-ranked the *exact same* documents by BM25. We can do this using the `>>` operator - we call this composition, or \"then\"."
   ]
  },
  {
   "cell_type": "code",
   "execution_count": 48,
   "metadata": {
    "ExecuteTime": {
     "end_time": "2021-06-10T08:13:29.709748Z",
     "start_time": "2021-06-10T08:13:29.650268Z"
    },
    "id": "e9HkXxtgug15"
   },
   "outputs": [
    {
     "data": {
      "text/html": [
       "<div>\n",
       "<style scoped>\n",
       "    .dataframe tbody tr th:only-of-type {\n",
       "        vertical-align: middle;\n",
       "    }\n",
       "\n",
       "    .dataframe tbody tr th {\n",
       "        vertical-align: top;\n",
       "    }\n",
       "\n",
       "    .dataframe thead th {\n",
       "        text-align: right;\n",
       "    }\n",
       "</style>\n",
       "<table border=\"1\" class=\"dataframe\">\n",
       "  <thead>\n",
       "    <tr style=\"text-align: right;\">\n",
       "      <th></th>\n",
       "      <th>qid</th>\n",
       "      <th>docid</th>\n",
       "      <th>docno</th>\n",
       "      <th>rank</th>\n",
       "      <th>score</th>\n",
       "      <th>query</th>\n",
       "    </tr>\n",
       "  </thead>\n",
       "  <tbody>\n",
       "    <tr>\n",
       "      <th>0</th>\n",
       "      <td>1</td>\n",
       "      <td>7233</td>\n",
       "      <td>7234</td>\n",
       "      <td>0</td>\n",
       "      <td>9.0</td>\n",
       "      <td>measurement of dielectric constant of liquids by the use of microwave techniques</td>\n",
       "    </tr>\n",
       "    <tr>\n",
       "      <th>1</th>\n",
       "      <td>1</td>\n",
       "      <td>3692</td>\n",
       "      <td>3693</td>\n",
       "      <td>1</td>\n",
       "      <td>8.0</td>\n",
       "      <td>measurement of dielectric constant of liquids by the use of microwave techniques</td>\n",
       "    </tr>\n",
       "    <tr>\n",
       "      <th>2</th>\n",
       "      <td>1</td>\n",
       "      <td>5501</td>\n",
       "      <td>5502</td>\n",
       "      <td>2</td>\n",
       "      <td>7.0</td>\n",
       "      <td>measurement of dielectric constant of liquids by the use of microwave techniques</td>\n",
       "    </tr>\n",
       "    <tr>\n",
       "      <th>3</th>\n",
       "      <td>1</td>\n",
       "      <td>8907</td>\n",
       "      <td>8908</td>\n",
       "      <td>3</td>\n",
       "      <td>7.0</td>\n",
       "      <td>measurement of dielectric constant of liquids by the use of microwave techniques</td>\n",
       "    </tr>\n",
       "    <tr>\n",
       "      <th>4</th>\n",
       "      <td>1</td>\n",
       "      <td>6460</td>\n",
       "      <td>6461</td>\n",
       "      <td>4</td>\n",
       "      <td>6.0</td>\n",
       "      <td>measurement of dielectric constant of liquids by the use of microwave techniques</td>\n",
       "    </tr>\n",
       "    <tr>\n",
       "      <th>...</th>\n",
       "      <td>...</td>\n",
       "      <td>...</td>\n",
       "      <td>...</td>\n",
       "      <td>...</td>\n",
       "      <td>...</td>\n",
       "      <td>...</td>\n",
       "    </tr>\n",
       "    <tr>\n",
       "      <th>995</th>\n",
       "      <td>1</td>\n",
       "      <td>4267</td>\n",
       "      <td>4268</td>\n",
       "      <td>995</td>\n",
       "      <td>1.0</td>\n",
       "      <td>measurement of dielectric constant of liquids by the use of microwave techniques</td>\n",
       "    </tr>\n",
       "    <tr>\n",
       "      <th>996</th>\n",
       "      <td>1</td>\n",
       "      <td>532</td>\n",
       "      <td>533</td>\n",
       "      <td>996</td>\n",
       "      <td>1.0</td>\n",
       "      <td>measurement of dielectric constant of liquids by the use of microwave techniques</td>\n",
       "    </tr>\n",
       "    <tr>\n",
       "      <th>997</th>\n",
       "      <td>1</td>\n",
       "      <td>4597</td>\n",
       "      <td>4598</td>\n",
       "      <td>997</td>\n",
       "      <td>1.0</td>\n",
       "      <td>measurement of dielectric constant of liquids by the use of microwave techniques</td>\n",
       "    </tr>\n",
       "    <tr>\n",
       "      <th>998</th>\n",
       "      <td>1</td>\n",
       "      <td>521</td>\n",
       "      <td>522</td>\n",
       "      <td>998</td>\n",
       "      <td>1.0</td>\n",
       "      <td>measurement of dielectric constant of liquids by the use of microwave techniques</td>\n",
       "    </tr>\n",
       "    <tr>\n",
       "      <th>999</th>\n",
       "      <td>1</td>\n",
       "      <td>523</td>\n",
       "      <td>524</td>\n",
       "      <td>999</td>\n",
       "      <td>1.0</td>\n",
       "      <td>measurement of dielectric constant of liquids by the use of microwave techniques</td>\n",
       "    </tr>\n",
       "  </tbody>\n",
       "</table>\n",
       "<p>1000 rows × 6 columns</p>\n",
       "</div>"
      ],
      "text/plain": [
       "    qid  docid docno  rank  score  \\\n",
       "0     1   7233  7234     0    9.0   \n",
       "1     1   3692  3693     1    8.0   \n",
       "2     1   5501  5502     2    7.0   \n",
       "3     1   8907  8908     3    7.0   \n",
       "4     1   6460  6461     4    6.0   \n",
       "..   ..    ...   ...   ...    ...   \n",
       "995   1   4267  4268   995    1.0   \n",
       "996   1    532   533   996    1.0   \n",
       "997   1   4597  4598   997    1.0   \n",
       "998   1    521   522   998    1.0   \n",
       "999   1    523   524   999    1.0   \n",
       "\n",
       "                                                                                query  \n",
       "0    measurement of dielectric constant of liquids by the use of microwave techniques  \n",
       "1    measurement of dielectric constant of liquids by the use of microwave techniques  \n",
       "2    measurement of dielectric constant of liquids by the use of microwave techniques  \n",
       "3    measurement of dielectric constant of liquids by the use of microwave techniques  \n",
       "4    measurement of dielectric constant of liquids by the use of microwave techniques  \n",
       "..                                                                                ...  \n",
       "995  measurement of dielectric constant of liquids by the use of microwave techniques  \n",
       "996  measurement of dielectric constant of liquids by the use of microwave techniques  \n",
       "997  measurement of dielectric constant of liquids by the use of microwave techniques  \n",
       "998  measurement of dielectric constant of liquids by the use of microwave techniques  \n",
       "999  measurement of dielectric constant of liquids by the use of microwave techniques  \n",
       "\n",
       "[1000 rows x 6 columns]"
      ]
     },
     "execution_count": 48,
     "metadata": {},
     "output_type": "execute_result"
    }
   ],
   "source": [
    "# this is our first retrieval transformer -\n",
    "# it transform a queries dataframe to a results dataframe\n",
    "tf = pt.BatchRetrieve(index, wmodel=\"Tf\")\n",
    "\n",
    "tf( vaswani_dataset.get_topics().head(1) )"
   ]
  },
  {
   "cell_type": "code",
   "execution_count": 49,
   "metadata": {
    "ExecuteTime": {
     "end_time": "2021-06-10T08:13:29.803187Z",
     "start_time": "2021-06-10T08:13:29.711950Z"
    },
    "id": "uHHIn-rMvk_5"
   },
   "outputs": [
    {
     "name": "stdout",
     "output_type": "stream",
     "text": [
      "True\n"
     ]
    },
    {
     "data": {
      "text/html": [
       "<div>\n",
       "<style scoped>\n",
       "    .dataframe tbody tr th:only-of-type {\n",
       "        vertical-align: middle;\n",
       "    }\n",
       "\n",
       "    .dataframe tbody tr th {\n",
       "        vertical-align: top;\n",
       "    }\n",
       "\n",
       "    .dataframe thead th {\n",
       "        text-align: right;\n",
       "    }\n",
       "</style>\n",
       "<table border=\"1\" class=\"dataframe\">\n",
       "  <thead>\n",
       "    <tr style=\"text-align: right;\">\n",
       "      <th></th>\n",
       "      <th>qid</th>\n",
       "      <th>docid</th>\n",
       "      <th>docno</th>\n",
       "      <th>rank</th>\n",
       "      <th>score</th>\n",
       "      <th>query</th>\n",
       "    </tr>\n",
       "  </thead>\n",
       "  <tbody>\n",
       "    <tr>\n",
       "      <th>0</th>\n",
       "      <td>1</td>\n",
       "      <td>8171</td>\n",
       "      <td>8172</td>\n",
       "      <td>0</td>\n",
       "      <td>13.746087</td>\n",
       "      <td>measurement of dielectric constant of liquids by the use of microwave techniques</td>\n",
       "    </tr>\n",
       "    <tr>\n",
       "      <th>1</th>\n",
       "      <td>1</td>\n",
       "      <td>9880</td>\n",
       "      <td>9881</td>\n",
       "      <td>1</td>\n",
       "      <td>12.352666</td>\n",
       "      <td>measurement of dielectric constant of liquids by the use of microwave techniques</td>\n",
       "    </tr>\n",
       "    <tr>\n",
       "      <th>2</th>\n",
       "      <td>1</td>\n",
       "      <td>5501</td>\n",
       "      <td>5502</td>\n",
       "      <td>2</td>\n",
       "      <td>12.178153</td>\n",
       "      <td>measurement of dielectric constant of liquids by the use of microwave techniques</td>\n",
       "    </tr>\n",
       "    <tr>\n",
       "      <th>3</th>\n",
       "      <td>1</td>\n",
       "      <td>1501</td>\n",
       "      <td>1502</td>\n",
       "      <td>3</td>\n",
       "      <td>10.993585</td>\n",
       "      <td>measurement of dielectric constant of liquids by the use of microwave techniques</td>\n",
       "    </tr>\n",
       "    <tr>\n",
       "      <th>4</th>\n",
       "      <td>1</td>\n",
       "      <td>9858</td>\n",
       "      <td>9859</td>\n",
       "      <td>4</td>\n",
       "      <td>10.271452</td>\n",
       "      <td>measurement of dielectric constant of liquids by the use of microwave techniques</td>\n",
       "    </tr>\n",
       "    <tr>\n",
       "      <th>...</th>\n",
       "      <td>...</td>\n",
       "      <td>...</td>\n",
       "      <td>...</td>\n",
       "      <td>...</td>\n",
       "      <td>...</td>\n",
       "      <td>...</td>\n",
       "    </tr>\n",
       "    <tr>\n",
       "      <th>995</th>\n",
       "      <td>1</td>\n",
       "      <td>117</td>\n",
       "      <td>118</td>\n",
       "      <td>995</td>\n",
       "      <td>0.985003</td>\n",
       "      <td>measurement of dielectric constant of liquids by the use of microwave techniques</td>\n",
       "    </tr>\n",
       "    <tr>\n",
       "      <th>996</th>\n",
       "      <td>1</td>\n",
       "      <td>4135</td>\n",
       "      <td>4136</td>\n",
       "      <td>996</td>\n",
       "      <td>0.958458</td>\n",
       "      <td>measurement of dielectric constant of liquids by the use of microwave techniques</td>\n",
       "    </tr>\n",
       "    <tr>\n",
       "      <th>997</th>\n",
       "      <td>1</td>\n",
       "      <td>1239</td>\n",
       "      <td>1240</td>\n",
       "      <td>997</td>\n",
       "      <td>0.941543</td>\n",
       "      <td>measurement of dielectric constant of liquids by the use of microwave techniques</td>\n",
       "    </tr>\n",
       "    <tr>\n",
       "      <th>998</th>\n",
       "      <td>1</td>\n",
       "      <td>4053</td>\n",
       "      <td>4054</td>\n",
       "      <td>998</td>\n",
       "      <td>0.925214</td>\n",
       "      <td>measurement of dielectric constant of liquids by the use of microwave techniques</td>\n",
       "    </tr>\n",
       "    <tr>\n",
       "      <th>999</th>\n",
       "      <td>1</td>\n",
       "      <td>615</td>\n",
       "      <td>616</td>\n",
       "      <td>999</td>\n",
       "      <td>0.788473</td>\n",
       "      <td>measurement of dielectric constant of liquids by the use of microwave techniques</td>\n",
       "    </tr>\n",
       "  </tbody>\n",
       "</table>\n",
       "<p>1000 rows × 6 columns</p>\n",
       "</div>"
      ],
      "text/plain": [
       "    qid  docid docno  rank      score  \\\n",
       "0     1   8171  8172     0  13.746087   \n",
       "1     1   9880  9881     1  12.352666   \n",
       "2     1   5501  5502     2  12.178153   \n",
       "3     1   1501  1502     3  10.993585   \n",
       "4     1   9858  9859     4  10.271452   \n",
       "..   ..    ...   ...   ...        ...   \n",
       "995   1    117   118   995   0.985003   \n",
       "996   1   4135  4136   996   0.958458   \n",
       "997   1   1239  1240   997   0.941543   \n",
       "998   1   4053  4054   998   0.925214   \n",
       "999   1    615   616   999   0.788473   \n",
       "\n",
       "                                                                                query  \n",
       "0    measurement of dielectric constant of liquids by the use of microwave techniques  \n",
       "1    measurement of dielectric constant of liquids by the use of microwave techniques  \n",
       "2    measurement of dielectric constant of liquids by the use of microwave techniques  \n",
       "3    measurement of dielectric constant of liquids by the use of microwave techniques  \n",
       "4    measurement of dielectric constant of liquids by the use of microwave techniques  \n",
       "..                                                                                ...  \n",
       "995  measurement of dielectric constant of liquids by the use of microwave techniques  \n",
       "996  measurement of dielectric constant of liquids by the use of microwave techniques  \n",
       "997  measurement of dielectric constant of liquids by the use of microwave techniques  \n",
       "998  measurement of dielectric constant of liquids by the use of microwave techniques  \n",
       "999  measurement of dielectric constant of liquids by the use of microwave techniques  \n",
       "\n",
       "[1000 rows x 6 columns]"
      ]
     },
     "execution_count": 49,
     "metadata": {},
     "output_type": "execute_result"
    }
   ],
   "source": [
    "# now let's define a pipeline \n",
    "pipeline = tf >> tfidf\n",
    "print(isinstance(pipeline, pt.transformer.TransformerBase))\n",
    "\n",
    "pipeline( vaswani_dataset.get_topics().head(1) )\n"
   ]
  },
  {
   "cell_type": "markdown",
   "metadata": {
    "id": "r1yCXIB5w1Qb"
   },
   "source": [
    "There are a number of PyTerrier operators - there are more examples in the [PyTerrier documentation on operators](https://pyterrier.readthedocs.io/en/latest/operators.html)"
   ]
  },
  {
   "cell_type": "markdown",
   "metadata": {
    "id": "NaYavGvnxDk5"
   },
   "source": [
    "#### **Task 4**\n",
    "\n",
    "This task aims to improve your understanding of the PyTerrier operators.\n",
    "\n",
    "**(a)**\n",
    "\n",
    "Create a ranker that returns the top 10 scored documents based on the following retrieval model:\n",
    "$$\n",
    "score(d,Q) = \\big( \\sum_{t \\in Q} w_{TF\\_IDF}(t,d) \\big)  + 3 * \\sum_{t \\in Q} tf_{t,d}\n",
    "$$\n",
    "In essence, this equation scores documents by linearly combining the scores of two different retrieval models. \n",
    "\n",
    "For the correct solution, your pipeline should return no more than 10 documents and document docno `\"10703\"` should have a score of 10.381090 for query `\"chemical\"`.\n",
    "\n",
    "**(b)**\n",
    "\n",
    "Create a ranker that performs the following:\n",
    "\n",
    " - obtains the top 10 highest scoring documents by term frequency (wmodel=\"Tf\")\n",
    " - obtains the top 10 highest scoring documents by TF.IDF (wmodel=\"TF_IDF\")\n",
    " - reranks only those documents found in BOTH of the previous retrieval settings using BM25.\n",
    "\n",
    "How many documents are retrieved by this full pipeline for the query \"chemical\".\n",
    "\n",
    "If you obtain the correct solution, the document with docno \"2558\" should have a score of 10.322110 for query \"chemical\".\n",
    "\n",
    "Hints:\n",
    " - each correct solution needs only a few lines of code if you properly use the PyTerrier operators\n",
    " - you should not need to perform any Pandas dataframe operations\n",
    " - a Tf BatchRetrieve was already illustrated on the 3-documents index above. You will need an equivalent one on the Vaswani index."
   ]
  },
  {
   "cell_type": "code",
   "execution_count": 50,
   "metadata": {
    "ExecuteTime": {
     "end_time": "2021-06-10T08:13:29.874641Z",
     "start_time": "2021-06-10T08:13:29.806018Z"
    },
    "id": "XnsRdT4WvspD"
   },
   "outputs": [
    {
     "name": "stdout",
     "output_type": "stream",
     "text": [
      "  qid  docid  docno      score     query  rank\n",
      "3   1   6278   6279  12.128197  chemical     0\n",
      "0   1  10702  10703  10.381090  chemical     1\n",
      "1   1   1055   1056   9.857900  chemical     2\n",
      "2   1   4885   4886   9.699605  chemical     3\n",
      "4   1   8765   8766   8.884626  chemical     4\n",
      "5   1   1139   1140   8.884626  chemical     5\n",
      "6   1  10138  10139   8.767690  chemical     6\n",
      "7   1   2519   2520   8.655311  chemical     7\n",
      "8   1   2557   2558   8.655311  chemical     8\n",
      "9   1   4686   4687   8.547228  chemical     9\n",
      "  qid  docid  docno  rank      score     query\n",
      "0   1  10702  10703     0  13.472012  chemical\n",
      "1   1   6278   6279     1  11.185223  chemical\n",
      "2   1   8765   8766     2  10.740657  chemical\n",
      "3   1  10138  10139     3  10.527225  chemical\n",
      "4   1   2557   2558     4  10.322110  chemical\n"
     ]
    }
   ],
   "source": [
    "# YOUR SOLUTION\n",
    "# a\n",
    "pipeline_combine = (tfidf + 3 * tf) % 10\n",
    "print(pipeline_combine.search(\"chemical\"))\n",
    "# b\n",
    "pipe1 = tf % 10\n",
    "pipe2 = tfidf % 10\n",
    "bm = pt.BatchRetrieve(index, wmodel='BM25')\n",
    "pipe_final = (pipe1 & pipe2) >> bm\n",
    "print(pipe_final.search(\"chemical\"))"
   ]
  },
  {
   "cell_type": "markdown",
   "metadata": {
    "id": "YQ0j9lFfx-gO"
   },
   "source": [
    "### What is Success?\n",
    "\n",
    "So far, we have been creating search engine models, but we haven't decided if any of them ia actually any good. While we will study *evaluation measures* in Lecture 5, let's just investigate if we are getting a correct (\"relevant\") document at the first rank."
   ]
  },
  {
   "cell_type": "code",
   "execution_count": 51,
   "metadata": {
    "ExecuteTime": {
     "end_time": "2021-06-10T08:13:29.933271Z",
     "start_time": "2021-06-10T08:13:29.876584Z"
    },
    "id": "iyShZYpwwNSx"
   },
   "outputs": [
    {
     "data": {
      "text/html": [
       "<div>\n",
       "<style scoped>\n",
       "    .dataframe tbody tr th:only-of-type {\n",
       "        vertical-align: middle;\n",
       "    }\n",
       "\n",
       "    .dataframe tbody tr th {\n",
       "        vertical-align: top;\n",
       "    }\n",
       "\n",
       "    .dataframe thead th {\n",
       "        text-align: right;\n",
       "    }\n",
       "</style>\n",
       "<table border=\"1\" class=\"dataframe\">\n",
       "  <thead>\n",
       "    <tr style=\"text-align: right;\">\n",
       "      <th></th>\n",
       "      <th>qid</th>\n",
       "      <th>docid</th>\n",
       "      <th>docno</th>\n",
       "      <th>rank</th>\n",
       "      <th>score</th>\n",
       "      <th>query</th>\n",
       "      <th>label</th>\n",
       "    </tr>\n",
       "  </thead>\n",
       "  <tbody>\n",
       "    <tr>\n",
       "      <th>0</th>\n",
       "      <td>1</td>\n",
       "      <td>7233</td>\n",
       "      <td>7234</td>\n",
       "      <td>0</td>\n",
       "      <td>9.0</td>\n",
       "      <td>measurement of dielectric constant of liquids by the use of microwave techniques</td>\n",
       "      <td>0.0</td>\n",
       "    </tr>\n",
       "    <tr>\n",
       "      <th>1</th>\n",
       "      <td>1</td>\n",
       "      <td>3692</td>\n",
       "      <td>3693</td>\n",
       "      <td>1</td>\n",
       "      <td>8.0</td>\n",
       "      <td>measurement of dielectric constant of liquids by the use of microwave techniques</td>\n",
       "      <td>0.0</td>\n",
       "    </tr>\n",
       "    <tr>\n",
       "      <th>2</th>\n",
       "      <td>1</td>\n",
       "      <td>5501</td>\n",
       "      <td>5502</td>\n",
       "      <td>2</td>\n",
       "      <td>7.0</td>\n",
       "      <td>measurement of dielectric constant of liquids by the use of microwave techniques</td>\n",
       "      <td>1.0</td>\n",
       "    </tr>\n",
       "    <tr>\n",
       "      <th>3</th>\n",
       "      <td>1</td>\n",
       "      <td>8907</td>\n",
       "      <td>8908</td>\n",
       "      <td>3</td>\n",
       "      <td>7.0</td>\n",
       "      <td>measurement of dielectric constant of liquids by the use of microwave techniques</td>\n",
       "      <td>0.0</td>\n",
       "    </tr>\n",
       "    <tr>\n",
       "      <th>4</th>\n",
       "      <td>1</td>\n",
       "      <td>6460</td>\n",
       "      <td>6461</td>\n",
       "      <td>4</td>\n",
       "      <td>6.0</td>\n",
       "      <td>measurement of dielectric constant of liquids by the use of microwave techniques</td>\n",
       "      <td>0.0</td>\n",
       "    </tr>\n",
       "    <tr>\n",
       "      <th>...</th>\n",
       "      <td>...</td>\n",
       "      <td>...</td>\n",
       "      <td>...</td>\n",
       "      <td>...</td>\n",
       "      <td>...</td>\n",
       "      <td>...</td>\n",
       "      <td>...</td>\n",
       "    </tr>\n",
       "    <tr>\n",
       "      <th>995</th>\n",
       "      <td>1</td>\n",
       "      <td>4267</td>\n",
       "      <td>4268</td>\n",
       "      <td>995</td>\n",
       "      <td>1.0</td>\n",
       "      <td>measurement of dielectric constant of liquids by the use of microwave techniques</td>\n",
       "      <td>0.0</td>\n",
       "    </tr>\n",
       "    <tr>\n",
       "      <th>996</th>\n",
       "      <td>1</td>\n",
       "      <td>532</td>\n",
       "      <td>533</td>\n",
       "      <td>996</td>\n",
       "      <td>1.0</td>\n",
       "      <td>measurement of dielectric constant of liquids by the use of microwave techniques</td>\n",
       "      <td>0.0</td>\n",
       "    </tr>\n",
       "    <tr>\n",
       "      <th>997</th>\n",
       "      <td>1</td>\n",
       "      <td>4597</td>\n",
       "      <td>4598</td>\n",
       "      <td>997</td>\n",
       "      <td>1.0</td>\n",
       "      <td>measurement of dielectric constant of liquids by the use of microwave techniques</td>\n",
       "      <td>0.0</td>\n",
       "    </tr>\n",
       "    <tr>\n",
       "      <th>998</th>\n",
       "      <td>1</td>\n",
       "      <td>521</td>\n",
       "      <td>522</td>\n",
       "      <td>998</td>\n",
       "      <td>1.0</td>\n",
       "      <td>measurement of dielectric constant of liquids by the use of microwave techniques</td>\n",
       "      <td>0.0</td>\n",
       "    </tr>\n",
       "    <tr>\n",
       "      <th>999</th>\n",
       "      <td>1</td>\n",
       "      <td>523</td>\n",
       "      <td>524</td>\n",
       "      <td>999</td>\n",
       "      <td>1.0</td>\n",
       "      <td>measurement of dielectric constant of liquids by the use of microwave techniques</td>\n",
       "      <td>0.0</td>\n",
       "    </tr>\n",
       "  </tbody>\n",
       "</table>\n",
       "<p>1000 rows × 7 columns</p>\n",
       "</div>"
      ],
      "text/plain": [
       "    qid  docid docno  rank  score  \\\n",
       "0     1   7233  7234     0    9.0   \n",
       "1     1   3692  3693     1    8.0   \n",
       "2     1   5501  5502     2    7.0   \n",
       "3     1   8907  8908     3    7.0   \n",
       "4     1   6460  6461     4    6.0   \n",
       "..   ..    ...   ...   ...    ...   \n",
       "995   1   4267  4268   995    1.0   \n",
       "996   1    532   533   996    1.0   \n",
       "997   1   4597  4598   997    1.0   \n",
       "998   1    521   522   998    1.0   \n",
       "999   1    523   524   999    1.0   \n",
       "\n",
       "                                                                                query  \\\n",
       "0    measurement of dielectric constant of liquids by the use of microwave techniques   \n",
       "1    measurement of dielectric constant of liquids by the use of microwave techniques   \n",
       "2    measurement of dielectric constant of liquids by the use of microwave techniques   \n",
       "3    measurement of dielectric constant of liquids by the use of microwave techniques   \n",
       "4    measurement of dielectric constant of liquids by the use of microwave techniques   \n",
       "..                                                                                ...   \n",
       "995  measurement of dielectric constant of liquids by the use of microwave techniques   \n",
       "996  measurement of dielectric constant of liquids by the use of microwave techniques   \n",
       "997  measurement of dielectric constant of liquids by the use of microwave techniques   \n",
       "998  measurement of dielectric constant of liquids by the use of microwave techniques   \n",
       "999  measurement of dielectric constant of liquids by the use of microwave techniques   \n",
       "\n",
       "     label  \n",
       "0      0.0  \n",
       "1      0.0  \n",
       "2      1.0  \n",
       "3      0.0  \n",
       "4      0.0  \n",
       "..     ...  \n",
       "995    0.0  \n",
       "996    0.0  \n",
       "997    0.0  \n",
       "998    0.0  \n",
       "999    0.0  \n",
       "\n",
       "[1000 rows x 7 columns]"
      ]
     },
     "execution_count": 51,
     "metadata": {},
     "output_type": "execute_result"
    }
   ],
   "source": [
    "qrels = vaswani_dataset.get_qrels()\n",
    "def get_res_with_labels(ranker, df):\n",
    "  #get the results for the query or queries\n",
    "    results = ranker( df )\n",
    "  # left outer join with the qrels\n",
    "    with_labels = results.merge(qrels, on=[\"qid\", \"docno\"], how=\"left\").fillna(0)\n",
    "    return with_labels\n",
    "\n",
    "#lets get the Tf results for the first query\n",
    "get_res_with_labels(tf, vaswani_dataset.get_topics().head(1) )"
   ]
  },
  {
   "cell_type": "markdown",
   "metadata": {
    "id": "qHlNDnHsegNz"
   },
   "source": [
    "So, we got a relevant document third ranked using Tf. Let's check TF_IDF to see whether it does better:"
   ]
  },
  {
   "cell_type": "code",
   "execution_count": 52,
   "metadata": {
    "ExecuteTime": {
     "end_time": "2021-06-10T08:13:29.986555Z",
     "start_time": "2021-06-10T08:13:29.935116Z"
    },
    "id": "tScqYO0FeHMi"
   },
   "outputs": [
    {
     "data": {
      "text/html": [
       "<div>\n",
       "<style scoped>\n",
       "    .dataframe tbody tr th:only-of-type {\n",
       "        vertical-align: middle;\n",
       "    }\n",
       "\n",
       "    .dataframe tbody tr th {\n",
       "        vertical-align: top;\n",
       "    }\n",
       "\n",
       "    .dataframe thead th {\n",
       "        text-align: right;\n",
       "    }\n",
       "</style>\n",
       "<table border=\"1\" class=\"dataframe\">\n",
       "  <thead>\n",
       "    <tr style=\"text-align: right;\">\n",
       "      <th></th>\n",
       "      <th>qid</th>\n",
       "      <th>docid</th>\n",
       "      <th>docno</th>\n",
       "      <th>rank</th>\n",
       "      <th>score</th>\n",
       "      <th>query</th>\n",
       "      <th>label</th>\n",
       "    </tr>\n",
       "  </thead>\n",
       "  <tbody>\n",
       "    <tr>\n",
       "      <th>0</th>\n",
       "      <td>1</td>\n",
       "      <td>8171</td>\n",
       "      <td>8172</td>\n",
       "      <td>0</td>\n",
       "      <td>13.746087</td>\n",
       "      <td>measurement of dielectric constant of liquids by the use of microwave techniques</td>\n",
       "      <td>1.0</td>\n",
       "    </tr>\n",
       "    <tr>\n",
       "      <th>1</th>\n",
       "      <td>1</td>\n",
       "      <td>9880</td>\n",
       "      <td>9881</td>\n",
       "      <td>1</td>\n",
       "      <td>12.352666</td>\n",
       "      <td>measurement of dielectric constant of liquids by the use of microwave techniques</td>\n",
       "      <td>0.0</td>\n",
       "    </tr>\n",
       "    <tr>\n",
       "      <th>2</th>\n",
       "      <td>1</td>\n",
       "      <td>5501</td>\n",
       "      <td>5502</td>\n",
       "      <td>2</td>\n",
       "      <td>12.178153</td>\n",
       "      <td>measurement of dielectric constant of liquids by the use of microwave techniques</td>\n",
       "      <td>1.0</td>\n",
       "    </tr>\n",
       "    <tr>\n",
       "      <th>3</th>\n",
       "      <td>1</td>\n",
       "      <td>1501</td>\n",
       "      <td>1502</td>\n",
       "      <td>3</td>\n",
       "      <td>10.993585</td>\n",
       "      <td>measurement of dielectric constant of liquids by the use of microwave techniques</td>\n",
       "      <td>1.0</td>\n",
       "    </tr>\n",
       "    <tr>\n",
       "      <th>4</th>\n",
       "      <td>1</td>\n",
       "      <td>9858</td>\n",
       "      <td>9859</td>\n",
       "      <td>4</td>\n",
       "      <td>10.271452</td>\n",
       "      <td>measurement of dielectric constant of liquids by the use of microwave techniques</td>\n",
       "      <td>1.0</td>\n",
       "    </tr>\n",
       "    <tr>\n",
       "      <th>...</th>\n",
       "      <td>...</td>\n",
       "      <td>...</td>\n",
       "      <td>...</td>\n",
       "      <td>...</td>\n",
       "      <td>...</td>\n",
       "      <td>...</td>\n",
       "      <td>...</td>\n",
       "    </tr>\n",
       "    <tr>\n",
       "      <th>995</th>\n",
       "      <td>1</td>\n",
       "      <td>2455</td>\n",
       "      <td>2456</td>\n",
       "      <td>995</td>\n",
       "      <td>2.646072</td>\n",
       "      <td>measurement of dielectric constant of liquids by the use of microwave techniques</td>\n",
       "      <td>0.0</td>\n",
       "    </tr>\n",
       "    <tr>\n",
       "      <th>996</th>\n",
       "      <td>1</td>\n",
       "      <td>3972</td>\n",
       "      <td>3973</td>\n",
       "      <td>996</td>\n",
       "      <td>2.646072</td>\n",
       "      <td>measurement of dielectric constant of liquids by the use of microwave techniques</td>\n",
       "      <td>0.0</td>\n",
       "    </tr>\n",
       "    <tr>\n",
       "      <th>997</th>\n",
       "      <td>1</td>\n",
       "      <td>8288</td>\n",
       "      <td>8289</td>\n",
       "      <td>997</td>\n",
       "      <td>2.646072</td>\n",
       "      <td>measurement of dielectric constant of liquids by the use of microwave techniques</td>\n",
       "      <td>0.0</td>\n",
       "    </tr>\n",
       "    <tr>\n",
       "      <th>998</th>\n",
       "      <td>1</td>\n",
       "      <td>11011</td>\n",
       "      <td>11012</td>\n",
       "      <td>998</td>\n",
       "      <td>2.644992</td>\n",
       "      <td>measurement of dielectric constant of liquids by the use of microwave techniques</td>\n",
       "      <td>0.0</td>\n",
       "    </tr>\n",
       "    <tr>\n",
       "      <th>999</th>\n",
       "      <td>1</td>\n",
       "      <td>8036</td>\n",
       "      <td>8037</td>\n",
       "      <td>999</td>\n",
       "      <td>2.644992</td>\n",
       "      <td>measurement of dielectric constant of liquids by the use of microwave techniques</td>\n",
       "      <td>0.0</td>\n",
       "    </tr>\n",
       "  </tbody>\n",
       "</table>\n",
       "<p>1000 rows × 7 columns</p>\n",
       "</div>"
      ],
      "text/plain": [
       "    qid  docid  docno  rank      score  \\\n",
       "0     1   8171   8172     0  13.746087   \n",
       "1     1   9880   9881     1  12.352666   \n",
       "2     1   5501   5502     2  12.178153   \n",
       "3     1   1501   1502     3  10.993585   \n",
       "4     1   9858   9859     4  10.271452   \n",
       "..   ..    ...    ...   ...        ...   \n",
       "995   1   2455   2456   995   2.646072   \n",
       "996   1   3972   3973   996   2.646072   \n",
       "997   1   8288   8289   997   2.646072   \n",
       "998   1  11011  11012   998   2.644992   \n",
       "999   1   8036   8037   999   2.644992   \n",
       "\n",
       "                                                                                query  \\\n",
       "0    measurement of dielectric constant of liquids by the use of microwave techniques   \n",
       "1    measurement of dielectric constant of liquids by the use of microwave techniques   \n",
       "2    measurement of dielectric constant of liquids by the use of microwave techniques   \n",
       "3    measurement of dielectric constant of liquids by the use of microwave techniques   \n",
       "4    measurement of dielectric constant of liquids by the use of microwave techniques   \n",
       "..                                                                                ...   \n",
       "995  measurement of dielectric constant of liquids by the use of microwave techniques   \n",
       "996  measurement of dielectric constant of liquids by the use of microwave techniques   \n",
       "997  measurement of dielectric constant of liquids by the use of microwave techniques   \n",
       "998  measurement of dielectric constant of liquids by the use of microwave techniques   \n",
       "999  measurement of dielectric constant of liquids by the use of microwave techniques   \n",
       "\n",
       "     label  \n",
       "0      1.0  \n",
       "1      0.0  \n",
       "2      1.0  \n",
       "3      1.0  \n",
       "4      1.0  \n",
       "..     ...  \n",
       "995    0.0  \n",
       "996    0.0  \n",
       "997    0.0  \n",
       "998    0.0  \n",
       "999    0.0  \n",
       "\n",
       "[1000 rows x 7 columns]"
      ]
     },
     "execution_count": 52,
     "metadata": {},
     "output_type": "execute_result"
    }
   ],
   "source": [
    "#lets get the tfidf results for the first query\n",
    "get_res_with_labels(tfidf, vaswani_dataset.get_topics().head(1) )"
   ]
  },
  {
   "cell_type": "markdown",
   "metadata": {
    "id": "TH8qbvhFek5b"
   },
   "source": [
    "Interesting - it got a relevant document at the top rank. Think about what TF_IDF is doing compared to Tf. "
   ]
  },
  {
   "cell_type": "markdown",
   "metadata": {
    "id": "R41fzAkjzVl3"
   },
   "source": [
    "Keeping with the Tf ranking function, let's try to help it perform better by better formulating the query `'measurement of dielectric constant of liquids by the use of microwave techniques'`.\n",
    "\n",
    "In particular, Terrier can take into account how often a query term occurs in a query. In doing so, documents are actually scored like this:\n",
    "$$\n",
    "score(d,Q) = \\sum_{t \\in Q} tf_{t,q} * tf_{t,d}\n",
    "$$\n",
    "where $tf_{t,d}$ is the frequency of the term in *document* and $tf_{t,q}$ is the frequency of the term in the *query*.\n",
    "\n",
    "However, in our example query ( `'measurement of dielectric constant of liquids by the use of microwave techniques'`) all (non-stopword) query terms have a query term frequency of 1. \n",
    "\n",
    "We can try is to give more (or less) weight to some of these query terms, so as to place more or less emphasis on those terms, by appending a number such as `^2` (or `^0.1`) to some words in the query string."
   ]
  },
  {
   "cell_type": "code",
   "execution_count": 53,
   "metadata": {
    "ExecuteTime": {
     "end_time": "2021-06-10T08:13:30.033679Z",
     "start_time": "2021-06-10T08:13:29.988166Z"
    },
    "id": "42pNBGLdytV-"
   },
   "outputs": [
    {
     "data": {
      "text/html": [
       "<div>\n",
       "<style scoped>\n",
       "    .dataframe tbody tr th:only-of-type {\n",
       "        vertical-align: middle;\n",
       "    }\n",
       "\n",
       "    .dataframe tbody tr th {\n",
       "        vertical-align: top;\n",
       "    }\n",
       "\n",
       "    .dataframe thead th {\n",
       "        text-align: right;\n",
       "    }\n",
       "</style>\n",
       "<table border=\"1\" class=\"dataframe\">\n",
       "  <thead>\n",
       "    <tr style=\"text-align: right;\">\n",
       "      <th></th>\n",
       "      <th>qid</th>\n",
       "      <th>docid</th>\n",
       "      <th>docno</th>\n",
       "      <th>rank</th>\n",
       "      <th>score</th>\n",
       "      <th>query</th>\n",
       "      <th>label</th>\n",
       "    </tr>\n",
       "  </thead>\n",
       "  <tbody>\n",
       "    <tr>\n",
       "      <th>0</th>\n",
       "      <td>1</td>\n",
       "      <td>3692</td>\n",
       "      <td>3693</td>\n",
       "      <td>0</td>\n",
       "      <td>4.00</td>\n",
       "      <td>measurement^0.1 of dielectric constant of liquids by the use of microwave techniques^2</td>\n",
       "      <td>0.0</td>\n",
       "    </tr>\n",
       "    <tr>\n",
       "      <th>1</th>\n",
       "      <td>1</td>\n",
       "      <td>7233</td>\n",
       "      <td>7234</td>\n",
       "      <td>1</td>\n",
       "      <td>3.60</td>\n",
       "      <td>measurement^0.1 of dielectric constant of liquids by the use of microwave techniques^2</td>\n",
       "      <td>0.0</td>\n",
       "    </tr>\n",
       "    <tr>\n",
       "      <th>2</th>\n",
       "      <td>1</td>\n",
       "      <td>8907</td>\n",
       "      <td>8908</td>\n",
       "      <td>2</td>\n",
       "      <td>3.20</td>\n",
       "      <td>measurement^0.1 of dielectric constant of liquids by the use of microwave techniques^2</td>\n",
       "      <td>0.0</td>\n",
       "    </tr>\n",
       "    <tr>\n",
       "      <th>3</th>\n",
       "      <td>1</td>\n",
       "      <td>5501</td>\n",
       "      <td>5502</td>\n",
       "      <td>3</td>\n",
       "      <td>3.05</td>\n",
       "      <td>measurement^0.1 of dielectric constant of liquids by the use of microwave techniques^2</td>\n",
       "      <td>1.0</td>\n",
       "    </tr>\n",
       "    <tr>\n",
       "      <th>4</th>\n",
       "      <td>1</td>\n",
       "      <td>8662</td>\n",
       "      <td>8663</td>\n",
       "      <td>4</td>\n",
       "      <td>3.00</td>\n",
       "      <td>measurement^0.1 of dielectric constant of liquids by the use of microwave techniques^2</td>\n",
       "      <td>0.0</td>\n",
       "    </tr>\n",
       "    <tr>\n",
       "      <th>...</th>\n",
       "      <td>...</td>\n",
       "      <td>...</td>\n",
       "      <td>...</td>\n",
       "      <td>...</td>\n",
       "      <td>...</td>\n",
       "      <td>...</td>\n",
       "      <td>...</td>\n",
       "    </tr>\n",
       "    <tr>\n",
       "      <th>995</th>\n",
       "      <td>1</td>\n",
       "      <td>7115</td>\n",
       "      <td>7116</td>\n",
       "      <td>995</td>\n",
       "      <td>0.50</td>\n",
       "      <td>measurement^0.1 of dielectric constant of liquids by the use of microwave techniques^2</td>\n",
       "      <td>0.0</td>\n",
       "    </tr>\n",
       "    <tr>\n",
       "      <th>996</th>\n",
       "      <td>1</td>\n",
       "      <td>8092</td>\n",
       "      <td>8093</td>\n",
       "      <td>996</td>\n",
       "      <td>0.50</td>\n",
       "      <td>measurement^0.1 of dielectric constant of liquids by the use of microwave techniques^2</td>\n",
       "      <td>0.0</td>\n",
       "    </tr>\n",
       "    <tr>\n",
       "      <th>997</th>\n",
       "      <td>1</td>\n",
       "      <td>1979</td>\n",
       "      <td>1980</td>\n",
       "      <td>997</td>\n",
       "      <td>0.50</td>\n",
       "      <td>measurement^0.1 of dielectric constant of liquids by the use of microwave techniques^2</td>\n",
       "      <td>0.0</td>\n",
       "    </tr>\n",
       "    <tr>\n",
       "      <th>998</th>\n",
       "      <td>1</td>\n",
       "      <td>1991</td>\n",
       "      <td>1992</td>\n",
       "      <td>998</td>\n",
       "      <td>0.50</td>\n",
       "      <td>measurement^0.1 of dielectric constant of liquids by the use of microwave techniques^2</td>\n",
       "      <td>0.0</td>\n",
       "    </tr>\n",
       "    <tr>\n",
       "      <th>999</th>\n",
       "      <td>1</td>\n",
       "      <td>7387</td>\n",
       "      <td>7388</td>\n",
       "      <td>999</td>\n",
       "      <td>0.50</td>\n",
       "      <td>measurement^0.1 of dielectric constant of liquids by the use of microwave techniques^2</td>\n",
       "      <td>0.0</td>\n",
       "    </tr>\n",
       "  </tbody>\n",
       "</table>\n",
       "<p>1000 rows × 7 columns</p>\n",
       "</div>"
      ],
      "text/plain": [
       "    qid  docid docno  rank  score  \\\n",
       "0     1   3692  3693     0   4.00   \n",
       "1     1   7233  7234     1   3.60   \n",
       "2     1   8907  8908     2   3.20   \n",
       "3     1   5501  5502     3   3.05   \n",
       "4     1   8662  8663     4   3.00   \n",
       "..   ..    ...   ...   ...    ...   \n",
       "995   1   7115  7116   995   0.50   \n",
       "996   1   8092  8093   996   0.50   \n",
       "997   1   1979  1980   997   0.50   \n",
       "998   1   1991  1992   998   0.50   \n",
       "999   1   7387  7388   999   0.50   \n",
       "\n",
       "                                                                                      query  \\\n",
       "0    measurement^0.1 of dielectric constant of liquids by the use of microwave techniques^2   \n",
       "1    measurement^0.1 of dielectric constant of liquids by the use of microwave techniques^2   \n",
       "2    measurement^0.1 of dielectric constant of liquids by the use of microwave techniques^2   \n",
       "3    measurement^0.1 of dielectric constant of liquids by the use of microwave techniques^2   \n",
       "4    measurement^0.1 of dielectric constant of liquids by the use of microwave techniques^2   \n",
       "..                                                                                      ...   \n",
       "995  measurement^0.1 of dielectric constant of liquids by the use of microwave techniques^2   \n",
       "996  measurement^0.1 of dielectric constant of liquids by the use of microwave techniques^2   \n",
       "997  measurement^0.1 of dielectric constant of liquids by the use of microwave techniques^2   \n",
       "998  measurement^0.1 of dielectric constant of liquids by the use of microwave techniques^2   \n",
       "999  measurement^0.1 of dielectric constant of liquids by the use of microwave techniques^2   \n",
       "\n",
       "     label  \n",
       "0      0.0  \n",
       "1      0.0  \n",
       "2      0.0  \n",
       "3      1.0  \n",
       "4      0.0  \n",
       "..     ...  \n",
       "995    0.0  \n",
       "996    0.0  \n",
       "997    0.0  \n",
       "998    0.0  \n",
       "999    0.0  \n",
       "\n",
       "[1000 rows x 7 columns]"
      ]
     },
     "execution_count": 53,
     "metadata": {},
     "output_type": "execute_result"
    }
   ],
   "source": [
    "# here I try to change the emphasis on some words\n",
    "newQueryDf = pd.DataFrame([\n",
    "  [\"1\", \"measurement^0.1 of dielectric constant of liquids by \"+\n",
    "    \"the use of microwave techniques^2\"]\n",
    "  ], columns=[\"qid\", \"query\"])\n",
    "get_res_with_labels(tf, newQueryDf )\n"
   ]
  },
  {
   "cell_type": "markdown",
   "metadata": {
    "id": "F45OJVIO1AhS"
   },
   "source": [
    "#### **Task 5**\n",
    "\n",
    "Spend **up to 5 minutes** trying to reformulate the query by increasing or decreasing the weight of some query terms to get a relevant result at the first rank.\n",
    "\n",
    "Hint: You might want to inspect some of the relevant (or non-relevant!) documents to see what words they contain. E.g. you might want to look at the contents of docnos 7923 and 3693."
   ]
  },
  {
   "cell_type": "code",
   "execution_count": 54,
   "metadata": {
    "ExecuteTime": {
     "end_time": "2021-06-10T08:13:30.088743Z",
     "start_time": "2021-06-10T08:13:30.042476Z"
    },
    "id": "SZc72D6Ezf5y"
   },
   "outputs": [
    {
     "data": {
      "text/html": [
       "<div>\n",
       "<style scoped>\n",
       "    .dataframe tbody tr th:only-of-type {\n",
       "        vertical-align: middle;\n",
       "    }\n",
       "\n",
       "    .dataframe tbody tr th {\n",
       "        vertical-align: top;\n",
       "    }\n",
       "\n",
       "    .dataframe thead th {\n",
       "        text-align: right;\n",
       "    }\n",
       "</style>\n",
       "<table border=\"1\" class=\"dataframe\">\n",
       "  <thead>\n",
       "    <tr style=\"text-align: right;\">\n",
       "      <th></th>\n",
       "      <th>qid</th>\n",
       "      <th>docid</th>\n",
       "      <th>docno</th>\n",
       "      <th>rank</th>\n",
       "      <th>score</th>\n",
       "      <th>query</th>\n",
       "      <th>label</th>\n",
       "    </tr>\n",
       "  </thead>\n",
       "  <tbody>\n",
       "    <tr>\n",
       "      <th>0</th>\n",
       "      <td>1</td>\n",
       "      <td>7922</td>\n",
       "      <td>7923</td>\n",
       "      <td>0</td>\n",
       "      <td>5.00</td>\n",
       "      <td>measurement of dielectric^2 constant^0.1of liquids by the use of microwave^2 techniques</td>\n",
       "      <td>1.0</td>\n",
       "    </tr>\n",
       "    <tr>\n",
       "      <th>1</th>\n",
       "      <td>1</td>\n",
       "      <td>5501</td>\n",
       "      <td>5502</td>\n",
       "      <td>1</td>\n",
       "      <td>4.60</td>\n",
       "      <td>measurement of dielectric^2 constant^0.1of liquids by the use of microwave^2 techniques</td>\n",
       "      <td>1.0</td>\n",
       "    </tr>\n",
       "    <tr>\n",
       "      <th>2</th>\n",
       "      <td>1</td>\n",
       "      <td>9858</td>\n",
       "      <td>9859</td>\n",
       "      <td>2</td>\n",
       "      <td>4.55</td>\n",
       "      <td>measurement of dielectric^2 constant^0.1of liquids by the use of microwave^2 techniques</td>\n",
       "      <td>1.0</td>\n",
       "    </tr>\n",
       "    <tr>\n",
       "      <th>3</th>\n",
       "      <td>1</td>\n",
       "      <td>4570</td>\n",
       "      <td>4571</td>\n",
       "      <td>3</td>\n",
       "      <td>4.50</td>\n",
       "      <td>measurement of dielectric^2 constant^0.1of liquids by the use of microwave^2 techniques</td>\n",
       "      <td>0.0</td>\n",
       "    </tr>\n",
       "    <tr>\n",
       "      <th>4</th>\n",
       "      <td>1</td>\n",
       "      <td>3692</td>\n",
       "      <td>3693</td>\n",
       "      <td>4</td>\n",
       "      <td>4.20</td>\n",
       "      <td>measurement of dielectric^2 constant^0.1of liquids by the use of microwave^2 techniques</td>\n",
       "      <td>0.0</td>\n",
       "    </tr>\n",
       "    <tr>\n",
       "      <th>...</th>\n",
       "      <td>...</td>\n",
       "      <td>...</td>\n",
       "      <td>...</td>\n",
       "      <td>...</td>\n",
       "      <td>...</td>\n",
       "      <td>...</td>\n",
       "      <td>...</td>\n",
       "    </tr>\n",
       "    <tr>\n",
       "      <th>995</th>\n",
       "      <td>1</td>\n",
       "      <td>5627</td>\n",
       "      <td>5628</td>\n",
       "      <td>995</td>\n",
       "      <td>0.50</td>\n",
       "      <td>measurement of dielectric^2 constant^0.1of liquids by the use of microwave^2 techniques</td>\n",
       "      <td>0.0</td>\n",
       "    </tr>\n",
       "    <tr>\n",
       "      <th>996</th>\n",
       "      <td>1</td>\n",
       "      <td>4829</td>\n",
       "      <td>4830</td>\n",
       "      <td>996</td>\n",
       "      <td>0.50</td>\n",
       "      <td>measurement of dielectric^2 constant^0.1of liquids by the use of microwave^2 techniques</td>\n",
       "      <td>0.0</td>\n",
       "    </tr>\n",
       "    <tr>\n",
       "      <th>997</th>\n",
       "      <td>1</td>\n",
       "      <td>5474</td>\n",
       "      <td>5475</td>\n",
       "      <td>997</td>\n",
       "      <td>0.50</td>\n",
       "      <td>measurement of dielectric^2 constant^0.1of liquids by the use of microwave^2 techniques</td>\n",
       "      <td>0.0</td>\n",
       "    </tr>\n",
       "    <tr>\n",
       "      <th>998</th>\n",
       "      <td>1</td>\n",
       "      <td>1283</td>\n",
       "      <td>1284</td>\n",
       "      <td>998</td>\n",
       "      <td>0.50</td>\n",
       "      <td>measurement of dielectric^2 constant^0.1of liquids by the use of microwave^2 techniques</td>\n",
       "      <td>0.0</td>\n",
       "    </tr>\n",
       "    <tr>\n",
       "      <th>999</th>\n",
       "      <td>1</td>\n",
       "      <td>2468</td>\n",
       "      <td>2469</td>\n",
       "      <td>999</td>\n",
       "      <td>0.50</td>\n",
       "      <td>measurement of dielectric^2 constant^0.1of liquids by the use of microwave^2 techniques</td>\n",
       "      <td>0.0</td>\n",
       "    </tr>\n",
       "  </tbody>\n",
       "</table>\n",
       "<p>1000 rows × 7 columns</p>\n",
       "</div>"
      ],
      "text/plain": [
       "    qid  docid docno  rank  score  \\\n",
       "0     1   7922  7923     0   5.00   \n",
       "1     1   5501  5502     1   4.60   \n",
       "2     1   9858  9859     2   4.55   \n",
       "3     1   4570  4571     3   4.50   \n",
       "4     1   3692  3693     4   4.20   \n",
       "..   ..    ...   ...   ...    ...   \n",
       "995   1   5627  5628   995   0.50   \n",
       "996   1   4829  4830   996   0.50   \n",
       "997   1   5474  5475   997   0.50   \n",
       "998   1   1283  1284   998   0.50   \n",
       "999   1   2468  2469   999   0.50   \n",
       "\n",
       "                                                                                       query  \\\n",
       "0    measurement of dielectric^2 constant^0.1of liquids by the use of microwave^2 techniques   \n",
       "1    measurement of dielectric^2 constant^0.1of liquids by the use of microwave^2 techniques   \n",
       "2    measurement of dielectric^2 constant^0.1of liquids by the use of microwave^2 techniques   \n",
       "3    measurement of dielectric^2 constant^0.1of liquids by the use of microwave^2 techniques   \n",
       "4    measurement of dielectric^2 constant^0.1of liquids by the use of microwave^2 techniques   \n",
       "..                                                                                       ...   \n",
       "995  measurement of dielectric^2 constant^0.1of liquids by the use of microwave^2 techniques   \n",
       "996  measurement of dielectric^2 constant^0.1of liquids by the use of microwave^2 techniques   \n",
       "997  measurement of dielectric^2 constant^0.1of liquids by the use of microwave^2 techniques   \n",
       "998  measurement of dielectric^2 constant^0.1of liquids by the use of microwave^2 techniques   \n",
       "999  measurement of dielectric^2 constant^0.1of liquids by the use of microwave^2 techniques   \n",
       "\n",
       "     label  \n",
       "0      1.0  \n",
       "1      1.0  \n",
       "2      1.0  \n",
       "3      0.0  \n",
       "4      0.0  \n",
       "..     ...  \n",
       "995    0.0  \n",
       "996    0.0  \n",
       "997    0.0  \n",
       "998    0.0  \n",
       "999    0.0  \n",
       "\n",
       "[1000 rows x 7 columns]"
      ]
     },
     "execution_count": 54,
     "metadata": {},
     "output_type": "execute_result"
    }
   ],
   "source": [
    "#YOUR SOLUTION\n",
    "# print(get_document_direct(index, docno='3693'))\n",
    "newQueryDf = pd.DataFrame([\n",
    "  [\"1\", \"measurement \" + \"of dielectric^2 constant^0.1\" + \n",
    "   \"of liquids by the use of microwave^2 techniques\"]\n",
    "  ], columns=[\"qid\", \"query\"])\n",
    "get_res_with_labels(tf, newQueryDf )"
   ]
  },
  {
   "cell_type": "markdown",
   "metadata": {
    "id": "yCITs_Iq1W3w"
   },
   "source": [
    "**Reflection**: While we could not manually reformulate each user's query, however knowing which words should be important or not can help us understand what a good ranking model should do.\n",
    "\n",
    "Later in the course, we'll talk about other approaches to (automatically) reformulate queries, such as query expansion, which can help to improve the search engine's effectiveness.\n"
   ]
  },
  {
   "cell_type": "markdown",
   "metadata": {
    "id": "Mt0iPhRw2J-S"
   },
   "source": [
    "## That's all folks\n",
    "\n",
    "**Submission Instructions**:\n",
    "Complete this notebook, and answer the related questions in the [Exercise 1 Quiz Instance on Moodle](https://moodle.gla.ac.uk/mod/quiz/view.php?id=2195723). As part of the Quiz, you will be asked to upload your .ipynb notebook solution and answer a few simple questions (use File... Download .ipynb).\n",
    "\n",
    "Your responses to the Quiz along with your ipynb notebook solution must be submitted by **Thursday 10th June 2021, 4:30pm**.\n",
    "\n",
    "Future IR exercises will build upon the learning outcome from this assessed lab. Should you need to reinforce any of the material in this lab, the following parts of the PyTerrier documentation will be useful:\n",
    " * [PyTerrier datasets](https://pyterrier.readthedocs.io/en/latest/datasets.html)\n",
    " * [Using Terrier for retrieval](https://pyterrier.readthedocs.io/en/latest/terrier-indexing.html)\n",
    " * [Transformers in PyTerrier](https://pyterrier.readthedocs.io/en/latest/transformer.html)\n",
    " * [Transformer Operators](https://pyterrier.readthedocs.io/en/latest/operators.html)"
   ]
  },
  {
   "cell_type": "code",
   "execution_count": null,
   "metadata": {
    "id": "YobrIo5-L31t"
   },
   "outputs": [],
   "source": []
  }
 ],
 "metadata": {
  "colab": {
   "collapsed_sections": [],
   "name": "Information Retrieval (M) - Ex1 TEMPLATE",
   "provenance": [],
   "toc_visible": true
  },
  "kernelspec": {
   "display_name": "Python 3 (ipykernel)",
   "language": "python",
   "name": "python3"
  },
  "language_info": {
   "codemirror_mode": {
    "name": "ipython",
    "version": 3
   },
   "file_extension": ".py",
   "mimetype": "text/x-python",
   "name": "python",
   "nbconvert_exporter": "python",
   "pygments_lexer": "ipython3",
   "version": "3.8.11"
  }
 },
 "nbformat": 4,
 "nbformat_minor": 4
}
