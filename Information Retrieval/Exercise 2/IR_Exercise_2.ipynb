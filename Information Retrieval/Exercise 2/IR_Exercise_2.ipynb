{
 "cells": [
  {
   "cell_type": "markdown",
   "metadata": {
    "id": "OrfB2Z3LfT33"
   },
   "source": [
    "# Information Retrieval Exercise 2 Notebook\n",
    "\n",
    "This is the template notebook for Exercise 2. The specification for the exercise and the corresponding Exercise 2 Quiz submission instance are available on the Moodle page of the course.\n",
    "\n",
    "## Assumed Knowledge\n",
    "\n",
    "This Exercise assumes knowedge of Pandas and PyTerrier from Exercise 1. The relevant parts of the PyTerrier documentation are:\n",
    " - [Using Terrier indices in PyTerrier](https://pyterrier.readthedocs.io/en/latest/terrier-indexing.html)\n",
    " - [Terrier Retrieval using PyTerrier](https://pyterrier.readthedocs.io/en/latest/terrier-retrieval.html), e.g. BatchRetrieve\n",
    " - [Operators on PyTerrier transformers](https://pyterrier.readthedocs.io/en/latest/operators.html)\n",
    "\n",
    "\n",
    "## Setup\n",
    "\n",
    "NB: Windows users may need to use `!pip install  --user python-terrier gensim` -- you can ignore warnings about cython, PATH etc. If in doubt, resort to Colab."
   ]
  },
  {
   "cell_type": "code",
   "execution_count": 1,
   "metadata": {
    "ExecuteTime": {
     "end_time": "2021-06-15T03:00:52.563494Z",
     "start_time": "2021-06-15T03:00:52.560825Z"
    },
    "colab": {
     "base_uri": "https://localhost:8080/"
    },
    "id": "0m5M7WiZfNfk",
    "outputId": "9e97001a-d2ab-455f-8ee4-16f9c6eafd0d",
    "scrolled": true
   },
   "outputs": [],
   "source": [
    "# !pip install python-terrier gensim"
   ]
  },
  {
   "cell_type": "code",
   "execution_count": 2,
   "metadata": {
    "ExecuteTime": {
     "end_time": "2021-06-15T03:00:59.907331Z",
     "start_time": "2021-06-15T03:00:52.565690Z"
    },
    "id": "pEJSTrbdfdK8"
   },
   "outputs": [
    {
     "name": "stderr",
     "output_type": "stream",
     "text": [
      "/Users/siqiwang/opt/anaconda3/lib/python3.8/site-packages/tqdm/std.py:697: FutureWarning: The Panel class is removed from pandas. Accessing it from the top-level namespace will also be removed in the next version\n",
      "  from pandas import Panel\n"
     ]
    },
    {
     "name": "stdout",
     "output_type": "stream",
     "text": [
      "PyTerrier 0.6.0 has loaded Terrier 5.5 (built by craigmacdonald on 2021-05-20 13:12)\n"
     ]
    }
   ],
   "source": [
    "import pyterrier as pt\n",
    "if not pt.started():\n",
    "    pt.init()\n",
    "\n",
    "import pandas as pd\n",
    "pd.set_option('display.max_colwidth', 150)\n",
    "pd.set_option('display.max_rows', 200)"
   ]
  },
  {
   "cell_type": "markdown",
   "metadata": {
    "id": "NJRbjP2_64IV"
   },
   "source": [
    "# Datasets for Ex2\n",
    "\n",
    "For Exercise 2, we'll be using the Datasets API to obtain the files we need for this exercise. PyTerrier actually provides many datasets. You can list all of them using `pt.list_datasets()`."
   ]
  },
  {
   "cell_type": "code",
   "execution_count": 3,
   "metadata": {
    "ExecuteTime": {
     "end_time": "2021-06-15T03:00:59.950757Z",
     "start_time": "2021-06-15T03:00:59.911012Z"
    },
    "colab": {
     "base_uri": "https://localhost:8080/",
     "height": 606
    },
    "id": "9ZJDJ6dl-X2R",
    "outputId": "085f5794-ec6f-4aab-eb2f-f2134cca999b"
   },
   "outputs": [
    {
     "data": {
      "text/html": [
       "<div>\n",
       "<style scoped>\n",
       "    .dataframe tbody tr th:only-of-type {\n",
       "        vertical-align: middle;\n",
       "    }\n",
       "\n",
       "    .dataframe tbody tr th {\n",
       "        vertical-align: top;\n",
       "    }\n",
       "\n",
       "    .dataframe thead th {\n",
       "        text-align: right;\n",
       "    }\n",
       "</style>\n",
       "<table border=\"1\" class=\"dataframe\">\n",
       "  <thead>\n",
       "    <tr style=\"text-align: right;\">\n",
       "      <th></th>\n",
       "      <th>dataset</th>\n",
       "      <th>topics</th>\n",
       "      <th>topics_lang</th>\n",
       "      <th>qrels</th>\n",
       "      <th>corpus</th>\n",
       "      <th>corpus_lang</th>\n",
       "      <th>index</th>\n",
       "      <th>info_url</th>\n",
       "    </tr>\n",
       "  </thead>\n",
       "  <tbody>\n",
       "    <tr>\n",
       "      <th>0</th>\n",
       "      <td>50pct</td>\n",
       "      <td>[training, validation]</td>\n",
       "      <td>en</td>\n",
       "      <td>[training, validation]</td>\n",
       "      <td>None</td>\n",
       "      <td>None</td>\n",
       "      <td>[ex1, ex2]</td>\n",
       "      <td>None</td>\n",
       "    </tr>\n",
       "    <tr>\n",
       "      <th>1</th>\n",
       "      <td>antique</td>\n",
       "      <td>[train, test]</td>\n",
       "      <td>en</td>\n",
       "      <td>[train, test]</td>\n",
       "      <td>True</td>\n",
       "      <td>en</td>\n",
       "      <td>None</td>\n",
       "      <td>https://ciir.cs.umass.edu/downloads/Antique/readme.txt</td>\n",
       "    </tr>\n",
       "    <tr>\n",
       "      <th>2</th>\n",
       "      <td>vaswani</td>\n",
       "      <td>True</td>\n",
       "      <td>en</td>\n",
       "      <td>True</td>\n",
       "      <td>True</td>\n",
       "      <td>en</td>\n",
       "      <td>True</td>\n",
       "      <td>http://ir.dcs.gla.ac.uk/resources/test_collections/npl/</td>\n",
       "    </tr>\n",
       "    <tr>\n",
       "      <th>3</th>\n",
       "      <td>trec-deep-learning-docs</td>\n",
       "      <td>[train, dev, test, test-2020, leaderboard-2020]</td>\n",
       "      <td>en</td>\n",
       "      <td>[train, dev, test, test-2020]</td>\n",
       "      <td>True</td>\n",
       "      <td>en</td>\n",
       "      <td>None</td>\n",
       "      <td>https://microsoft.github.io/msmarco/</td>\n",
       "    </tr>\n",
       "    <tr>\n",
       "      <th>4</th>\n",
       "      <td>trec-deep-learning-passages</td>\n",
       "      <td>[train, dev, dev.small, eval, eval.small, test-2019, test-2020]</td>\n",
       "      <td>en</td>\n",
       "      <td>[train, dev, test-2019, test-2020, dev.small]</td>\n",
       "      <td>True</td>\n",
       "      <td>en</td>\n",
       "      <td>None</td>\n",
       "      <td>https://microsoft.github.io/MSMARCO-Passage-Ranking/</td>\n",
       "    </tr>\n",
       "    <tr>\n",
       "      <th>...</th>\n",
       "      <td>...</td>\n",
       "      <td>...</td>\n",
       "      <td>...</td>\n",
       "      <td>...</td>\n",
       "      <td>...</td>\n",
       "      <td>...</td>\n",
       "      <td>...</td>\n",
       "      <td>...</td>\n",
       "    </tr>\n",
       "    <tr>\n",
       "      <th>289</th>\n",
       "      <td>irds:wikir/en1k/validation</td>\n",
       "      <td>True</td>\n",
       "      <td>en</td>\n",
       "      <td>True</td>\n",
       "      <td>True</td>\n",
       "      <td>en</td>\n",
       "      <td>None</td>\n",
       "      <td>https://ir-datasets.com/wikir.html#wikir/en1k/validation</td>\n",
       "    </tr>\n",
       "    <tr>\n",
       "      <th>290</th>\n",
       "      <td>irds:wikir/en59k</td>\n",
       "      <td>None</td>\n",
       "      <td>None</td>\n",
       "      <td>None</td>\n",
       "      <td>True</td>\n",
       "      <td>en</td>\n",
       "      <td>None</td>\n",
       "      <td>https://ir-datasets.com/wikir.html#wikir/en59k</td>\n",
       "    </tr>\n",
       "    <tr>\n",
       "      <th>291</th>\n",
       "      <td>irds:wikir/en59k/test</td>\n",
       "      <td>True</td>\n",
       "      <td>en</td>\n",
       "      <td>True</td>\n",
       "      <td>True</td>\n",
       "      <td>en</td>\n",
       "      <td>None</td>\n",
       "      <td>https://ir-datasets.com/wikir.html#wikir/en59k/test</td>\n",
       "    </tr>\n",
       "    <tr>\n",
       "      <th>292</th>\n",
       "      <td>irds:wikir/en59k/training</td>\n",
       "      <td>True</td>\n",
       "      <td>en</td>\n",
       "      <td>True</td>\n",
       "      <td>True</td>\n",
       "      <td>en</td>\n",
       "      <td>None</td>\n",
       "      <td>https://ir-datasets.com/wikir.html#wikir/en59k/training</td>\n",
       "    </tr>\n",
       "    <tr>\n",
       "      <th>293</th>\n",
       "      <td>irds:wikir/en59k/validation</td>\n",
       "      <td>True</td>\n",
       "      <td>en</td>\n",
       "      <td>True</td>\n",
       "      <td>True</td>\n",
       "      <td>en</td>\n",
       "      <td>None</td>\n",
       "      <td>https://ir-datasets.com/wikir.html#wikir/en59k/validation</td>\n",
       "    </tr>\n",
       "  </tbody>\n",
       "</table>\n",
       "<p>259 rows × 8 columns</p>\n",
       "</div>"
      ],
      "text/plain": [
       "                         dataset  \\\n",
       "0                          50pct   \n",
       "1                        antique   \n",
       "2                        vaswani   \n",
       "3        trec-deep-learning-docs   \n",
       "4    trec-deep-learning-passages   \n",
       "..                           ...   \n",
       "289   irds:wikir/en1k/validation   \n",
       "290             irds:wikir/en59k   \n",
       "291        irds:wikir/en59k/test   \n",
       "292    irds:wikir/en59k/training   \n",
       "293  irds:wikir/en59k/validation   \n",
       "\n",
       "                                                              topics  \\\n",
       "0                                             [training, validation]   \n",
       "1                                                      [train, test]   \n",
       "2                                                               True   \n",
       "3                    [train, dev, test, test-2020, leaderboard-2020]   \n",
       "4    [train, dev, dev.small, eval, eval.small, test-2019, test-2020]   \n",
       "..                                                               ...   \n",
       "289                                                             True   \n",
       "290                                                             None   \n",
       "291                                                             True   \n",
       "292                                                             True   \n",
       "293                                                             True   \n",
       "\n",
       "    topics_lang                                          qrels corpus  \\\n",
       "0            en                         [training, validation]   None   \n",
       "1            en                                  [train, test]   True   \n",
       "2            en                                           True   True   \n",
       "3            en                  [train, dev, test, test-2020]   True   \n",
       "4            en  [train, dev, test-2019, test-2020, dev.small]   True   \n",
       "..          ...                                            ...    ...   \n",
       "289          en                                           True   True   \n",
       "290        None                                           None   True   \n",
       "291          en                                           True   True   \n",
       "292          en                                           True   True   \n",
       "293          en                                           True   True   \n",
       "\n",
       "    corpus_lang       index  \\\n",
       "0          None  [ex1, ex2]   \n",
       "1            en        None   \n",
       "2            en        True   \n",
       "3            en        None   \n",
       "4            en        None   \n",
       "..          ...         ...   \n",
       "289          en        None   \n",
       "290          en        None   \n",
       "291          en        None   \n",
       "292          en        None   \n",
       "293          en        None   \n",
       "\n",
       "                                                      info_url  \n",
       "0                                                         None  \n",
       "1       https://ciir.cs.umass.edu/downloads/Antique/readme.txt  \n",
       "2      http://ir.dcs.gla.ac.uk/resources/test_collections/npl/  \n",
       "3                         https://microsoft.github.io/msmarco/  \n",
       "4         https://microsoft.github.io/MSMARCO-Passage-Ranking/  \n",
       "..                                                         ...  \n",
       "289   https://ir-datasets.com/wikir.html#wikir/en1k/validation  \n",
       "290             https://ir-datasets.com/wikir.html#wikir/en59k  \n",
       "291        https://ir-datasets.com/wikir.html#wikir/en59k/test  \n",
       "292    https://ir-datasets.com/wikir.html#wikir/en59k/training  \n",
       "293  https://ir-datasets.com/wikir.html#wikir/en59k/validation  \n",
       "\n",
       "[259 rows x 8 columns]"
      ]
     },
     "execution_count": 3,
     "metadata": {},
     "output_type": "execute_result"
    }
   ],
   "source": [
    "pt.list_datasets()"
   ]
  },
  {
   "cell_type": "markdown",
   "metadata": {
    "id": "wD3GIPfC7EHS"
   },
   "source": [
    "There are several sets of files we need for Exercise 2:\n",
    " - the index for 50% of the TREC GOV corpus. We provide this through the \"50pct\" dataset, but you will need the username and password that we will assign to you once you sign the user license agreement.\n",
    " - the topics (queries) and qrels (relevance assessments) for evaluating the performance of our search engine. These come from the \"trec-wt-2004\" dataset.\n",
    "\n",
    "Update your username and password. DO NOT SHARE your login details with other students - all they need to do is submit a signed user agreement to us.\n",
    "\n"
   ]
  },
  {
   "cell_type": "code",
   "execution_count": 4,
   "metadata": {
    "ExecuteTime": {
     "end_time": "2021-06-15T03:00:59.959813Z",
     "start_time": "2021-06-15T03:00:59.954112Z"
    }
   },
   "outputs": [],
   "source": [
    "def _filter_on_qid_type(self, component, variant):\n",
    "  import pandas as pd\n",
    "  if component == \"topics\":\n",
    "    data = self.get_topics(\"all\")\n",
    "  elif component == \"qrels\":\n",
    "    data = self.get_qrels(\"all\")\n",
    "  qid2type = pd.read_csv(\"http://mirror.ir-datasets.com/79737768b3be1aa07b14691aa54802c5\", names=[\"qid\", \"type\"], sep=\" \")\n",
    "  qid2type[\"qid\"] = qid2type.apply(lambda row: row[\"qid\"].split(\"-\")[1], axis=1)\n",
    "  rtr = data.merge(qid2type[qid2type[\"type\"] == variant], on=[\"qid\"])\n",
    "  if len(rtr) == 0:\n",
    "    raise ValueError(\"No such topic type '%s'\" % variant)\n",
    "  rtr.drop(columns=['type'], inplace=True)\n",
    "  return (rtr, \"direct\")\n",
    "dataset = pt.get_dataset(\"trec-wt-2004\")\n",
    "for t in [\"np\", \"td\", \"hp\"]:\n",
    "  dataset.locations[\"qrels\"][t] = _filter_on_qid_type\n",
    "  dataset.locations[\"topics\"][t] = _filter_on_qid_type\n",
    "dataset.locations[\"qrels\"][\"all\"] = ('04.qrels.web.mixed.txt', \"http://www.dcs.gla.ac.uk/~craigm/04.qrels.web.mixed.txt\")\n",
    "dataset.locations[\"topics_prefixed\"][\"all\"] = ('Web2004.query.stream.trecformat.txt', \"http://www.dcs.gla.ac.uk/~craigm/Web2004.query.stream.trecformat.txt\", \"trec\")"
   ]
  },
  {
   "cell_type": "code",
   "execution_count": 5,
   "metadata": {
    "ExecuteTime": {
     "end_time": "2021-06-15T03:00:59.964245Z",
     "start_time": "2021-06-15T03:00:59.961555Z"
    },
    "id": "GzxpU1Kn7t8n"
   },
   "outputs": [],
   "source": [
    "USERNAME = \"2597630w\"\n",
    "PASSWORD = \"0729af3d\"\n",
    "\n",
    "dotgov_50pct = pt.get_dataset(\"50pct\", user=USERNAME, password=PASSWORD)\n",
    "dotgov_topicsqrels = pt.get_dataset(\"trec-wt-2004\")"
   ]
  },
  {
   "cell_type": "markdown",
   "metadata": {
    "id": "xi4PSIgmaN5K"
   },
   "source": [
    "The size of the \"50pct\" index is 800MB - this will take a minute or so for Colab to download before we load it for the first time."
   ]
  },
  {
   "cell_type": "code",
   "execution_count": 6,
   "metadata": {
    "ExecuteTime": {
     "end_time": "2021-06-15T03:01:00.603257Z",
     "start_time": "2021-06-15T03:00:59.966074Z"
    },
    "colab": {
     "base_uri": "https://localhost:8080/",
     "height": 505,
     "referenced_widgets": [
      "a85c2125613148d7ba3ccbe19d42191e",
      "6000313b3e90415cbdcbafc3ba23e854",
      "994affa386604abcb68823dbfb2d6026",
      "8b44cf40f1024070af14dbf689f7c213",
      "a1332feaad0c4011bb93f535bf5a3315",
      "553992a8219246c99ee30d60e02a1154",
      "8fb7e111a925421b92d734ccb83cfa6e",
      "878037adbf454986ae585205dbe48ac3",
      "013b15bc956e40359a7506661181d20f",
      "2c4a49d746bf4e4fba9db41baa84e35f",
      "02232e07cda74d51943c4a81c8feeb0e",
      "f05b26d51e03436d88f08588ff0f0116",
      "13241a7afa9744b89af37b328e07a40b",
      "1c98f1257a1840ed86afb3e972e49fe6",
      "854fb26cf8c840a68097278f381fae9e",
      "0215b53d0a914cf7940b114a4b534240",
      "c7c784dcb0e245ab82df15788a89a96b",
      "f404559b780f456497312741df6d77bf",
      "f3dc7f0dd9ee490fb46bf62e90569641",
      "3403938673cb4382b0053145c6708eb5",
      "cb050dc8a8764b339e0a3780d94560d1",
      "e8f4a7fcccec41318fbbe9a98156383a",
      "952a162724cd4b08a514e5c3800d9769",
      "669c40be5d45438d872f61070b2e4e8d",
      "c328fb8635ab49b6a43f7e303267ff83",
      "4f67250f02d94da68e05f75fe64bc7fc",
      "7999a1c640f34087b5f9a6981912473e",
      "5a2eaa80dec144169eabee71c07e189b",
      "43da7364ccae4f4b9c6217f4f20ffb3a",
      "1b0be72083b84258b043397bb801e6c3",
      "8a1feec50fba4de78b0e13b119808ca3",
      "ad476d75d3104105a8aa6510f051d3fe",
      "5eefd86d45ac4dd5b377042b85ea033b",
      "e998592e84f84f0ba73c50ad43fd4c70",
      "ee62d38a75f44290b157828ca3507c29",
      "4c22b7ca21464785b3264c4838051f53",
      "c5d0a73efbe342f4955c323672c46f46",
      "5b39758690fc4955bbfeec7dfe6ec25a",
      "0d3beae19e094822b745243e4751f36d",
      "fa2adfdc0f47439fb7813725b46ed6be",
      "f00d6d8221044259859f2bc3488644c0",
      "91119fbece5f44619746387d13b8f840",
      "8d822e7ba7ff4c6f82817914125de6e0",
      "97e9914908664de8807604ebbabea587",
      "f84fc31da60e4b09a34de7ea31ca84b3",
      "75b176d2135948a589d6ce3689bda029",
      "4468827d72cb442285f97862f4a4453d",
      "0dec935f87f94050aba3c939b2573a27",
      "9329032dd5d5442caeb9df93a85cadf4",
      "b43b8a8a6dec4d93b3d83bde6f574e26",
      "2527184c0d214204992c1abf3416fbc9",
      "e6dc3f92081f4712a5ca2968108cc3cf",
      "98878c72bac346989e1b901509e0c0b6",
      "51f0f542470c4b388e6938879ad49a53",
      "cffdd75ea03349c1bd714a860925b348",
      "d14040f79bc548caa8d1fe5bbd3bc596",
      "d9cb49e469f94941bf4ac1d7595e7c79",
      "7fe0efb1eb974971a2f9371999972b3a",
      "3c43d498e8274e788e2c1d686323265f",
      "8038ddfc39ec4672a9c05c6e115064d4",
      "a7581c82cb294bd9bdf75a26b776062b",
      "7e79d2a4c6a744f19c7a7cc2e4cb2b5a",
      "5e5c6f814af44a64aa966ab8f0557711",
      "aca2fcad7f1c485b826a9fd05f57413d",
      "bd150574767a44a5ac91a0a632800fff",
      "f816a9647d1f4a9f8f2893e2082791cf",
      "77b1662273bc43f39e067dab28b388f7",
      "bd325f19a40043a9a7423b27af07b8b7",
      "97e453f8bfa3439da593c62ba7d9fad0",
      "445f4495d01a4bddade8cee5fc235225",
      "61f223d2a36047fd8e8ccfd69ea3971c",
      "18adddec26944a24a470fa96c1a763e5",
      "6fe4638e64b74fb0945c413a0aa99b4f",
      "3819236656184abaa48da23bea7f0a23",
      "d99125c0d4694d7d936cce565ace4cef",
      "bc0f2f0d8b5b447ebbf554c0d11b11d2",
      "4ab5be2df584479ea102568ccc74a7b5",
      "305dfc86069f441486340fa799602d37",
      "4a08497d1f9142239c1318bb95f8b80c",
      "fae093d4d90f4d749e0fedbe8f733c2a"
     ]
    },
    "id": "SLGyh2OkuaXd",
    "outputId": "8644a1f3-9bf7-4eb5-ddb9-58f0e388c897",
    "scrolled": true
   },
   "outputs": [],
   "source": [
    "indexref = dotgov_50pct.get_index()\n",
    "index = pt.IndexFactory.of(indexref)"
   ]
  },
  {
   "cell_type": "markdown",
   "metadata": {
    "id": "L0BTGU9_aQ44"
   },
   "source": [
    "# Q1\n",
    "\n",
    "Using this setup, you now have sufficient knowledge from the introductory lab to complete Q1 of this assessed exercise, namely to get the indexing statistics of the \"50pct\" collection."
   ]
  },
  {
   "cell_type": "code",
   "execution_count": 7,
   "metadata": {
    "ExecuteTime": {
     "end_time": "2021-06-15T03:01:00.621911Z",
     "start_time": "2021-06-15T03:01:00.606680Z"
    },
    "id": "DD2dAGIdLQg7"
   },
   "outputs": [
    {
     "name": "stdout",
     "output_type": "stream",
     "text": [
      "Number of documents: 807775\n",
      "Number of terms: 2043788\n",
      "Number of postings: 177737957\n",
      "Number of fields: 0\n",
      "Number of tokens: 572916194\n",
      "Field names: []\n",
      "Positions:   false\n",
      "\n"
     ]
    }
   ],
   "source": [
    "#YOUR SOLUTION\n",
    "print(index.getCollectionStatistics())"
   ]
  },
  {
   "cell_type": "markdown",
   "metadata": {
    "id": "rzW2v-qchgIF"
   },
   "source": [
    "# Retrieval & Evaluation\n",
    "\n",
    "In our experiments, we are using three sets of topics: \"hp\", \"np\" and \"td\". We can obtain them from the `dotgov_topicsqrels` dataset as follows:"
   ]
  },
  {
   "cell_type": "code",
   "execution_count": 8,
   "metadata": {
    "ExecuteTime": {
     "end_time": "2021-06-15T03:01:02.390525Z",
     "start_time": "2021-06-15T03:01:00.624669Z"
    },
    "colab": {
     "base_uri": "https://localhost:8080/",
     "height": 281,
     "referenced_widgets": [
      "9bdd3e79b16d4553acce712a1b0c8aa5",
      "7ebfaca4fdae4c93b9088e255a61e75f",
      "9a417a794872471eaa0c575f530ad048",
      "badd4c06f95c47ae90dde73f743da910",
      "9b509b0a924b46f7b3ff5d033be386eb",
      "df2be546365f415f8c4a2ea4dd3d5523",
      "606016c1becd46d3860f79693ceeef70",
      "c38832883b404e1aa53cca8934a4f773"
     ]
    },
    "id": "qR5fkwEglDIA",
    "outputId": "dafec4db-3248-4849-8aa0-e0481484b9b3"
   },
   "outputs": [
    {
     "data": {
      "text/html": [
       "<div>\n",
       "<style scoped>\n",
       "    .dataframe tbody tr th:only-of-type {\n",
       "        vertical-align: middle;\n",
       "    }\n",
       "\n",
       "    .dataframe tbody tr th {\n",
       "        vertical-align: top;\n",
       "    }\n",
       "\n",
       "    .dataframe thead th {\n",
       "        text-align: right;\n",
       "    }\n",
       "</style>\n",
       "<table border=\"1\" class=\"dataframe\">\n",
       "  <thead>\n",
       "    <tr style=\"text-align: right;\">\n",
       "      <th></th>\n",
       "      <th>qid</th>\n",
       "      <th>query</th>\n",
       "    </tr>\n",
       "  </thead>\n",
       "  <tbody>\n",
       "    <tr>\n",
       "      <th>0</th>\n",
       "      <td>6</td>\n",
       "      <td>philadelphia streets</td>\n",
       "    </tr>\n",
       "    <tr>\n",
       "      <th>1</th>\n",
       "      <td>7</td>\n",
       "      <td>togo embassy</td>\n",
       "    </tr>\n",
       "    <tr>\n",
       "      <th>2</th>\n",
       "      <td>9</td>\n",
       "      <td>baltimore</td>\n",
       "    </tr>\n",
       "    <tr>\n",
       "      <th>3</th>\n",
       "      <td>17</td>\n",
       "      <td>secure linux</td>\n",
       "    </tr>\n",
       "    <tr>\n",
       "      <th>4</th>\n",
       "      <td>29</td>\n",
       "      <td>grand canyon monitoring and research center</td>\n",
       "    </tr>\n",
       "  </tbody>\n",
       "</table>\n",
       "</div>"
      ],
      "text/plain": [
       "  qid                                        query\n",
       "0   6                         philadelphia streets\n",
       "1   7                                 togo embassy\n",
       "2   9                                    baltimore\n",
       "3  17                                 secure linux\n",
       "4  29  grand canyon monitoring and research center"
      ]
     },
     "execution_count": 8,
     "metadata": {},
     "output_type": "execute_result"
    }
   ],
   "source": [
    "topics = dotgov_topicsqrels.get_topics(variant=\"hp\")\n",
    "topics.head(5)"
   ]
  },
  {
   "cell_type": "markdown",
   "metadata": {
    "id": "aDjZa_9v_vuw"
   },
   "source": [
    "Let's create a simple TF_IDF retriever - we will use this for demonstrating IR evaluation using PyTerrier."
   ]
  },
  {
   "cell_type": "code",
   "execution_count": 9,
   "metadata": {
    "ExecuteTime": {
     "end_time": "2021-06-15T03:01:02.430341Z",
     "start_time": "2021-06-15T03:01:02.392825Z"
    },
    "id": "vfqR_MHF7wvn"
   },
   "outputs": [],
   "source": [
    "retr = pt.BatchRetrieve(index, wmodel=\"TF_IDF\")"
   ]
  },
  {
   "cell_type": "markdown",
   "metadata": {
    "id": "JeNYoPbrj7FN"
   },
   "source": [
    "Let's see how we can actually evaluate our TF_IDF retrieval system. Firstly, we'll need the qrels."
   ]
  },
  {
   "cell_type": "code",
   "execution_count": 10,
   "metadata": {
    "ExecuteTime": {
     "end_time": "2021-06-15T03:01:04.961613Z",
     "start_time": "2021-06-15T03:01:02.432061Z"
    },
    "colab": {
     "base_uri": "https://localhost:8080/",
     "height": 82,
     "referenced_widgets": [
      "3ffce9e7fcf641e183f59033e4b3d03b",
      "0744b5d1d39243738281a05bef42b7aa",
      "7d6dbe2a765c40a8b6f61f197fcbf8de",
      "eb884a7fa36642088bd897cbf9aa6049",
      "00f0acda1a0b47268e52a65414de3e0c",
      "6d330623d2d84a0a823f83ebef3c4d0c",
      "65aacb16c3c54b41b3981dbe68005eeb",
      "ad3336288e364a43a404d0b9ff947ac6"
     ]
    },
    "id": "uvw_CXrak5MQ",
    "outputId": "7540425d-1d4a-4e8b-8f78-eee3eb033c23"
   },
   "outputs": [
    {
     "data": {
      "text/html": [
       "<div>\n",
       "<style scoped>\n",
       "    .dataframe tbody tr th:only-of-type {\n",
       "        vertical-align: middle;\n",
       "    }\n",
       "\n",
       "    .dataframe tbody tr th {\n",
       "        vertical-align: top;\n",
       "    }\n",
       "\n",
       "    .dataframe thead th {\n",
       "        text-align: right;\n",
       "    }\n",
       "</style>\n",
       "<table border=\"1\" class=\"dataframe\">\n",
       "  <thead>\n",
       "    <tr style=\"text-align: right;\">\n",
       "      <th></th>\n",
       "      <th>qid</th>\n",
       "      <th>docno</th>\n",
       "      <th>label</th>\n",
       "    </tr>\n",
       "  </thead>\n",
       "  <tbody>\n",
       "    <tr>\n",
       "      <th>0</th>\n",
       "      <td>6</td>\n",
       "      <td>G00-02-2698369</td>\n",
       "      <td>0</td>\n",
       "    </tr>\n",
       "    <tr>\n",
       "      <th>1</th>\n",
       "      <td>6</td>\n",
       "      <td>G00-05-1954873</td>\n",
       "      <td>0</td>\n",
       "    </tr>\n",
       "    <tr>\n",
       "      <th>2</th>\n",
       "      <td>6</td>\n",
       "      <td>G00-05-2082516</td>\n",
       "      <td>0</td>\n",
       "    </tr>\n",
       "    <tr>\n",
       "      <th>3</th>\n",
       "      <td>6</td>\n",
       "      <td>G00-05-3598626</td>\n",
       "      <td>0</td>\n",
       "    </tr>\n",
       "    <tr>\n",
       "      <th>4</th>\n",
       "      <td>6</td>\n",
       "      <td>G00-09-3229156</td>\n",
       "      <td>0</td>\n",
       "    </tr>\n",
       "  </tbody>\n",
       "</table>\n",
       "</div>"
      ],
      "text/plain": [
       "  qid           docno  label\n",
       "0   6  G00-02-2698369      0\n",
       "1   6  G00-05-1954873      0\n",
       "2   6  G00-05-2082516      0\n",
       "3   6  G00-05-3598626      0\n",
       "4   6  G00-09-3229156      0"
      ]
     },
     "execution_count": 10,
     "metadata": {},
     "output_type": "execute_result"
    }
   ],
   "source": [
    "qrels = dotgov_topicsqrels.get_qrels(variant='hp')\n",
    "qrels.head()"
   ]
  },
  {
   "cell_type": "markdown",
   "metadata": {
    "id": "ON8yEcWukIIA"
   },
   "source": [
    "We can use `pt.Utils.evaluate(results, qrels)` to evaluate the results    \n",
    "Args:    \n",
    " - metrics, `default = [\"map\", ndcg\"]`, select the evaluation metrics    \n",
    " - perquery, `default = False`, select whether to show the mean of the metrics over all queries or the metrics for each query"
   ]
  },
  {
   "cell_type": "code",
   "execution_count": 11,
   "metadata": {
    "ExecuteTime": {
     "end_time": "2021-06-15T03:01:08.628217Z",
     "start_time": "2021-06-15T03:01:04.964035Z"
    },
    "colab": {
     "base_uri": "https://localhost:8080/"
    },
    "id": "LXfETppwj55p",
    "outputId": "a78144ae-adce-42b8-e074-b5862991e4e5"
   },
   "outputs": [
    {
     "data": {
      "text/plain": [
       "{'map': 0.20894845478512017}"
      ]
     },
     "execution_count": 11,
     "metadata": {},
     "output_type": "execute_result"
    }
   ],
   "source": [
    "res = retr.transform(topics)\n",
    "eval = pt.Utils.evaluate(res, qrels, metrics=[\"map\"])\n",
    "eval"
   ]
  },
  {
   "cell_type": "markdown",
   "metadata": {
    "id": "Ph_ZxuEPJVeN"
   },
   "source": [
    "However, creating the res dataframe for each system in turn, and then evaluating it is laborious. We strongly recommend using [`pt.Experiment()`](https://pyterrier.readthedocs.io/en/latest/experiments.html) to evaluate one or more retrieval systems at once, in a declarative manner. \n",
    "\n",
    "Take the time to read the [documentation for `pt.Experiment()`](https://pyterrier.readthedocs.io/en/latest/experiments.html) to understand its available functionality. Q2-Q4 will all require that you adapt the arguments to `pt.Experiment()` and use its output in different ways (e.g. for significance testing)."
   ]
  },
  {
   "cell_type": "code",
   "execution_count": 12,
   "metadata": {
    "ExecuteTime": {
     "end_time": "2021-06-15T03:01:15.588329Z",
     "start_time": "2021-06-15T03:01:08.630027Z"
    },
    "colab": {
     "base_uri": "https://localhost:8080/",
     "height": 77
    },
    "id": "hdUacQVaJVpd",
    "outputId": "865b1b25-66a7-4013-b574-99f28320b2df"
   },
   "outputs": [
    {
     "data": {
      "text/html": [
       "<div>\n",
       "<style scoped>\n",
       "    .dataframe tbody tr th:only-of-type {\n",
       "        vertical-align: middle;\n",
       "    }\n",
       "\n",
       "    .dataframe tbody tr th {\n",
       "        vertical-align: top;\n",
       "    }\n",
       "\n",
       "    .dataframe thead th {\n",
       "        text-align: right;\n",
       "    }\n",
       "</style>\n",
       "<table border=\"1\" class=\"dataframe\">\n",
       "  <thead>\n",
       "    <tr style=\"text-align: right;\">\n",
       "      <th></th>\n",
       "      <th>name</th>\n",
       "      <th>map</th>\n",
       "    </tr>\n",
       "  </thead>\n",
       "  <tbody>\n",
       "    <tr>\n",
       "      <th>0</th>\n",
       "      <td>BR(TF_IDF)</td>\n",
       "      <td>0.208948</td>\n",
       "    </tr>\n",
       "  </tbody>\n",
       "</table>\n",
       "</div>"
      ],
      "text/plain": [
       "         name       map\n",
       "0  BR(TF_IDF)  0.208948"
      ]
     },
     "execution_count": 12,
     "metadata": {},
     "output_type": "execute_result"
    }
   ],
   "source": [
    "pt.Experiment(\n",
    "    [retr],\n",
    "     dotgov_topicsqrels.get_topics(variant='hp'),\n",
    "     dotgov_topicsqrels.get_qrels(variant='hp'), \n",
    "     eval_metrics=['map']\n",
    ")"
   ]
  },
  {
   "cell_type": "markdown",
   "metadata": {
    "id": "ZZ-9Oo8ebpu9"
   },
   "source": [
    "# Q2(a)\n",
    "\n",
    "You now have enough information to complete Q2(a) of the assessed exercise. \n",
    "\n",
    "*Hint*: We encourage you to write your own functions that perform reusable operations across different topic sets."
   ]
  },
  {
   "cell_type": "code",
   "execution_count": 14,
   "metadata": {
    "ExecuteTime": {
     "end_time": "2021-06-15T03:07:57.555205Z",
     "start_time": "2021-06-15T03:07:21.275203Z"
    },
    "id": "bwSEX6jYIu1r"
   },
   "outputs": [
    {
     "data": {
      "text/html": [
       "<div>\n",
       "<style scoped>\n",
       "    .dataframe tbody tr th:only-of-type {\n",
       "        vertical-align: middle;\n",
       "    }\n",
       "\n",
       "    .dataframe tbody tr th {\n",
       "        vertical-align: top;\n",
       "    }\n",
       "\n",
       "    .dataframe thead th {\n",
       "        text-align: right;\n",
       "    }\n",
       "</style>\n",
       "<table border=\"1\" class=\"dataframe\">\n",
       "  <thead>\n",
       "    <tr style=\"text-align: right;\">\n",
       "      <th></th>\n",
       "      <th>name</th>\n",
       "      <th>map</th>\n",
       "      <th>map +</th>\n",
       "      <th>map -</th>\n",
       "      <th>map p-value</th>\n",
       "    </tr>\n",
       "  </thead>\n",
       "  <tbody>\n",
       "    <tr>\n",
       "      <th>0</th>\n",
       "      <td>BR(TF_IDF)</td>\n",
       "      <td>0.2089</td>\n",
       "      <td>NaN</td>\n",
       "      <td>NaN</td>\n",
       "      <td>NaN</td>\n",
       "    </tr>\n",
       "    <tr>\n",
       "      <th>1</th>\n",
       "      <td>BR(BM25)</td>\n",
       "      <td>0.2186</td>\n",
       "      <td>11.0</td>\n",
       "      <td>20.0</td>\n",
       "      <td>0.463462</td>\n",
       "    </tr>\n",
       "    <tr>\n",
       "      <th>2</th>\n",
       "      <td>BR(PL2)</td>\n",
       "      <td>0.2251</td>\n",
       "      <td>17.0</td>\n",
       "      <td>36.0</td>\n",
       "      <td>0.448418</td>\n",
       "    </tr>\n",
       "  </tbody>\n",
       "</table>\n",
       "</div>"
      ],
      "text/plain": [
       "         name     map  map +  map -  map p-value\n",
       "0  BR(TF_IDF)  0.2089    NaN    NaN          NaN\n",
       "1    BR(BM25)  0.2186   11.0   20.0     0.463462\n",
       "2     BR(PL2)  0.2251   17.0   36.0     0.448418"
      ]
     },
     "execution_count": 14,
     "metadata": {},
     "output_type": "execute_result"
    }
   ],
   "source": [
    "#YOUR SOLUTION\n",
    "# wmodel: a list of transformers to be evaluated\n",
    "# topic: topic sets, 'hp', 'np', 'td'\n",
    "def evaluate(wmodel, topic, measure):\n",
    "    return pt.Experiment(wmodel, dotgov_topicsqrels.get_topics(variant=topic),\n",
    "                         dotgov_topicsqrels.get_qrels(variant=topic),\n",
    "                         eval_metrics=measure, round=4, baseline=0)\n",
    "tfidf = pt.BatchRetrieve(index, wmodel=\"TF_IDF\")\n",
    "bm25 = pt.BatchRetrieve(index, wmodel=\"BM25\")\n",
    "pl2 = pt.BatchRetrieve(index, wmodel=\"PL2\")\n",
    "hp_df = evaluate([tfidf, bm25, pl2], 'hp', ['map'])\n",
    "np_df = evaluate([tfidf, bm25, pl2], 'np', ['map'])\n",
    "td_df = evaluate([tfidf, bm25, pl2], 'td', ['map'])\n",
    "hp_df"
   ]
  },
  {
   "cell_type": "code",
   "execution_count": 15,
   "metadata": {
    "ExecuteTime": {
     "end_time": "2021-06-15T03:08:18.921276Z",
     "start_time": "2021-06-15T03:08:18.908931Z"
    }
   },
   "outputs": [
    {
     "data": {
      "text/html": [
       "<div>\n",
       "<style scoped>\n",
       "    .dataframe tbody tr th:only-of-type {\n",
       "        vertical-align: middle;\n",
       "    }\n",
       "\n",
       "    .dataframe tbody tr th {\n",
       "        vertical-align: top;\n",
       "    }\n",
       "\n",
       "    .dataframe thead th {\n",
       "        text-align: right;\n",
       "    }\n",
       "</style>\n",
       "<table border=\"1\" class=\"dataframe\">\n",
       "  <thead>\n",
       "    <tr style=\"text-align: right;\">\n",
       "      <th></th>\n",
       "      <th>name</th>\n",
       "      <th>map</th>\n",
       "      <th>map +</th>\n",
       "      <th>map -</th>\n",
       "      <th>map p-value</th>\n",
       "    </tr>\n",
       "  </thead>\n",
       "  <tbody>\n",
       "    <tr>\n",
       "      <th>0</th>\n",
       "      <td>BR(TF_IDF)</td>\n",
       "      <td>0.4477</td>\n",
       "      <td>NaN</td>\n",
       "      <td>NaN</td>\n",
       "      <td>NaN</td>\n",
       "    </tr>\n",
       "    <tr>\n",
       "      <th>1</th>\n",
       "      <td>BR(BM25)</td>\n",
       "      <td>0.4416</td>\n",
       "      <td>6.0</td>\n",
       "      <td>11.0</td>\n",
       "      <td>0.066561</td>\n",
       "    </tr>\n",
       "    <tr>\n",
       "      <th>2</th>\n",
       "      <td>BR(PL2)</td>\n",
       "      <td>0.4392</td>\n",
       "      <td>17.0</td>\n",
       "      <td>20.0</td>\n",
       "      <td>0.654736</td>\n",
       "    </tr>\n",
       "  </tbody>\n",
       "</table>\n",
       "</div>"
      ],
      "text/plain": [
       "         name     map  map +  map -  map p-value\n",
       "0  BR(TF_IDF)  0.4477    NaN    NaN          NaN\n",
       "1    BR(BM25)  0.4416    6.0   11.0     0.066561\n",
       "2     BR(PL2)  0.4392   17.0   20.0     0.654736"
      ]
     },
     "execution_count": 15,
     "metadata": {},
     "output_type": "execute_result"
    }
   ],
   "source": [
    "np_df"
   ]
  },
  {
   "cell_type": "code",
   "execution_count": 16,
   "metadata": {
    "ExecuteTime": {
     "end_time": "2021-06-15T03:08:20.251758Z",
     "start_time": "2021-06-15T03:08:20.238717Z"
    }
   },
   "outputs": [
    {
     "data": {
      "text/html": [
       "<div>\n",
       "<style scoped>\n",
       "    .dataframe tbody tr th:only-of-type {\n",
       "        vertical-align: middle;\n",
       "    }\n",
       "\n",
       "    .dataframe tbody tr th {\n",
       "        vertical-align: top;\n",
       "    }\n",
       "\n",
       "    .dataframe thead th {\n",
       "        text-align: right;\n",
       "    }\n",
       "</style>\n",
       "<table border=\"1\" class=\"dataframe\">\n",
       "  <thead>\n",
       "    <tr style=\"text-align: right;\">\n",
       "      <th></th>\n",
       "      <th>name</th>\n",
       "      <th>map</th>\n",
       "      <th>map +</th>\n",
       "      <th>map -</th>\n",
       "      <th>map p-value</th>\n",
       "    </tr>\n",
       "  </thead>\n",
       "  <tbody>\n",
       "    <tr>\n",
       "      <th>0</th>\n",
       "      <td>BR(TF_IDF)</td>\n",
       "      <td>0.0698</td>\n",
       "      <td>NaN</td>\n",
       "      <td>NaN</td>\n",
       "      <td>NaN</td>\n",
       "    </tr>\n",
       "    <tr>\n",
       "      <th>1</th>\n",
       "      <td>BR(BM25)</td>\n",
       "      <td>0.0703</td>\n",
       "      <td>26.0</td>\n",
       "      <td>31.0</td>\n",
       "      <td>0.249291</td>\n",
       "    </tr>\n",
       "    <tr>\n",
       "      <th>2</th>\n",
       "      <td>BR(PL2)</td>\n",
       "      <td>0.0695</td>\n",
       "      <td>39.0</td>\n",
       "      <td>36.0</td>\n",
       "      <td>0.862098</td>\n",
       "    </tr>\n",
       "  </tbody>\n",
       "</table>\n",
       "</div>"
      ],
      "text/plain": [
       "         name     map  map +  map -  map p-value\n",
       "0  BR(TF_IDF)  0.0698    NaN    NaN          NaN\n",
       "1    BR(BM25)  0.0703   26.0   31.0     0.249291\n",
       "2     BR(PL2)  0.0695   39.0   36.0     0.862098"
      ]
     },
     "execution_count": 16,
     "metadata": {},
     "output_type": "execute_result"
    }
   ],
   "source": [
    "td_df"
   ]
  },
  {
   "cell_type": "markdown",
   "metadata": {
    "id": "VbIV9xcFe586"
   },
   "source": [
    "# Q2(b) \n",
    "\n",
    "Question 2(b) is concerned with drawing interpolated recall precision graphs, each comparing TFIDF, BM25 and PL2, allowing you to answer the corresponding quiz questions. You will need to use the `\"iprec_at_recall\"` measure. You should have three curves, respectively addressing the \"hp\", \"np\", and \"td\" topic sets.\n",
    "\n",
    "*Hint*: Matplotlib has a [`savefig()`](https://chartio.com/resources/tutorials/how-to-save-a-plot-to-a-file-using-matplotlib/#the-savefig-method) function for saving a PNG of a figure."
   ]
  },
  {
   "cell_type": "code",
   "execution_count": 17,
   "metadata": {
    "ExecuteTime": {
     "end_time": "2021-06-15T03:09:11.964391Z",
     "start_time": "2021-06-15T03:08:35.651645Z"
    },
    "id": "eDRQw-hQIyvc"
   },
   "outputs": [],
   "source": [
    "#YOUR SOLUTION\n",
    "import matplotlib.pyplot as plt\n",
    "plt.style.use('seaborn')\n",
    "\n",
    "x = [0.0, 0.1, 0.2, 0.3, 0.4, 0.5, 0.6, 0.7, 0.8, 0.9, 1.0]\n",
    "def evaluate(wmodel, topic, measure):\n",
    "    return pt.Experiment(wmodel, dotgov_topicsqrels.get_topics(variant=topic),\n",
    "                         dotgov_topicsqrels.get_qrels(variant=topic),\n",
    "                         eval_metrics=measure, round=4)\n",
    "hp_curve = evaluate([tfidf, bm25, pl2], 'hp', ['iprec_at_recall'])\n",
    "np_curve = evaluate([tfidf, bm25, pl2], 'np', ['iprec_at_recall'])\n",
    "td_curve = evaluate([tfidf, bm25, pl2], 'td', ['iprec_at_recall'])"
   ]
  },
  {
   "cell_type": "code",
   "execution_count": 38,
   "metadata": {
    "ExecuteTime": {
     "end_time": "2021-06-15T03:47:53.835737Z",
     "start_time": "2021-06-15T03:47:53.820754Z"
    }
   },
   "outputs": [
    {
     "data": {
      "text/html": [
       "<div>\n",
       "<style scoped>\n",
       "    .dataframe tbody tr th:only-of-type {\n",
       "        vertical-align: middle;\n",
       "    }\n",
       "\n",
       "    .dataframe tbody tr th {\n",
       "        vertical-align: top;\n",
       "    }\n",
       "\n",
       "    .dataframe thead th {\n",
       "        text-align: right;\n",
       "    }\n",
       "</style>\n",
       "<table border=\"1\" class=\"dataframe\">\n",
       "  <thead>\n",
       "    <tr style=\"text-align: right;\">\n",
       "      <th></th>\n",
       "      <th>name</th>\n",
       "      <th>IPrec@0.0</th>\n",
       "      <th>IPrec@0.1</th>\n",
       "      <th>IPrec@0.2</th>\n",
       "      <th>IPrec@0.3</th>\n",
       "      <th>IPrec@0.4</th>\n",
       "      <th>IPrec@0.5</th>\n",
       "      <th>IPrec@0.6</th>\n",
       "      <th>IPrec@0.7</th>\n",
       "      <th>IPrec@0.8</th>\n",
       "      <th>IPrec@0.9</th>\n",
       "      <th>IPrec@1.0</th>\n",
       "    </tr>\n",
       "  </thead>\n",
       "  <tbody>\n",
       "    <tr>\n",
       "      <th>0</th>\n",
       "      <td>BR(TF_IDF)</td>\n",
       "      <td>0.2761</td>\n",
       "      <td>0.1759</td>\n",
       "      <td>0.1282</td>\n",
       "      <td>0.1017</td>\n",
       "      <td>0.0864</td>\n",
       "      <td>0.0573</td>\n",
       "      <td>0.0415</td>\n",
       "      <td>0.0248</td>\n",
       "      <td>0.0125</td>\n",
       "      <td>0.0068</td>\n",
       "      <td>0.0056</td>\n",
       "    </tr>\n",
       "    <tr>\n",
       "      <th>1</th>\n",
       "      <td>BR(BM25)</td>\n",
       "      <td>0.2746</td>\n",
       "      <td>0.1765</td>\n",
       "      <td>0.1284</td>\n",
       "      <td>0.1035</td>\n",
       "      <td>0.0873</td>\n",
       "      <td>0.0583</td>\n",
       "      <td>0.0421</td>\n",
       "      <td>0.0251</td>\n",
       "      <td>0.0123</td>\n",
       "      <td>0.0067</td>\n",
       "      <td>0.0056</td>\n",
       "    </tr>\n",
       "    <tr>\n",
       "      <th>2</th>\n",
       "      <td>BR(PL2)</td>\n",
       "      <td>0.2708</td>\n",
       "      <td>0.1644</td>\n",
       "      <td>0.1247</td>\n",
       "      <td>0.1063</td>\n",
       "      <td>0.0877</td>\n",
       "      <td>0.0583</td>\n",
       "      <td>0.0434</td>\n",
       "      <td>0.0279</td>\n",
       "      <td>0.0126</td>\n",
       "      <td>0.0066</td>\n",
       "      <td>0.0056</td>\n",
       "    </tr>\n",
       "  </tbody>\n",
       "</table>\n",
       "</div>"
      ],
      "text/plain": [
       "         name  IPrec@0.0  IPrec@0.1  IPrec@0.2  IPrec@0.3  IPrec@0.4  \\\n",
       "0  BR(TF_IDF)     0.2761     0.1759     0.1282     0.1017     0.0864   \n",
       "1    BR(BM25)     0.2746     0.1765     0.1284     0.1035     0.0873   \n",
       "2     BR(PL2)     0.2708     0.1644     0.1247     0.1063     0.0877   \n",
       "\n",
       "   IPrec@0.5  IPrec@0.6  IPrec@0.7  IPrec@0.8  IPrec@0.9  IPrec@1.0  \n",
       "0     0.0573     0.0415     0.0248     0.0125     0.0068     0.0056  \n",
       "1     0.0583     0.0421     0.0251     0.0123     0.0067     0.0056  \n",
       "2     0.0583     0.0434     0.0279     0.0126     0.0066     0.0056  "
      ]
     },
     "execution_count": 38,
     "metadata": {},
     "output_type": "execute_result"
    }
   ],
   "source": [
    "td_curve"
   ]
  },
  {
   "cell_type": "code",
   "execution_count": 18,
   "metadata": {
    "ExecuteTime": {
     "end_time": "2021-06-15T03:10:45.953144Z",
     "start_time": "2021-06-15T03:10:45.667327Z"
    }
   },
   "outputs": [
    {
     "data": {
      "image/png": "[encoded data removed]",
      "text/plain": [
       "<Figure size 576x396 with 1 Axes>"
      ]
     },
     "metadata": {},
     "output_type": "display_data"
    }
   ],
   "source": [
    "def plot_curve(curve, title):\n",
    "    for i in range(3):\n",
    "        plt.plot(x, curve.iloc[i][1:], label=curve.iloc[i][0])\n",
    "        plt.scatter(x, curve.iloc[i][1:])\n",
    "        plt.xlabel('recall')\n",
    "        plt.ylabel('precision')\n",
    "        plt.legend()\n",
    "    plt.title(title)\n",
    "    plt.savefig('%s.png' % title)\n",
    "plot_curve(hp_curve, 'Topic set: hp')"
   ]
  },
  {
   "cell_type": "code",
   "execution_count": 19,
   "metadata": {
    "ExecuteTime": {
     "end_time": "2021-06-15T03:10:48.640763Z",
     "start_time": "2021-06-15T03:10:48.390177Z"
    }
   },
   "outputs": [
    {
     "data": {
      "image/png": "[encoded data removed]",
      "text/plain": [
       "<Figure size 576x396 with 1 Axes>"
      ]
     },
     "metadata": {},
     "output_type": "display_data"
    }
   ],
   "source": [
    "plot_curve(np_curve, 'Topic set: np')"
   ]
  },
  {
   "cell_type": "code",
   "execution_count": 20,
   "metadata": {
    "ExecuteTime": {
     "end_time": "2021-06-15T03:10:51.805072Z",
     "start_time": "2021-06-15T03:10:51.564353Z"
    }
   },
   "outputs": [
    {
     "data": {
      "image/png": "[encoded data removed]",
      "text/plain": [
       "<Figure size 576x396 with 1 Axes>"
      ]
     },
     "metadata": {},
     "output_type": "display_data"
    }
   ],
   "source": [
    "plot_curve(td_curve, 'Topic set: td')"
   ]
  },
  {
   "cell_type": "markdown",
   "metadata": {
    "id": "ixEtgsSeiKEA"
   },
   "source": [
    "# Q2(c)\n",
    "\n",
    "Now identify the most effective weighting model in terms of average MAP across the 3 topic sets."
   ]
  },
  {
   "cell_type": "code",
   "execution_count": 21,
   "metadata": {
    "ExecuteTime": {
     "end_time": "2021-06-15T03:11:20.111942Z",
     "start_time": "2021-06-15T03:11:20.101184Z"
    },
    "id": "5LNFH_9gIzuB"
   },
   "outputs": [
    {
     "data": {
      "text/plain": [
       "[(0.2421333333333333, 'BR(TF_IDF)'),\n",
       " (0.24350000000000002, 'BR(BM25)'),\n",
       " (0.2446, 'BR(PL2)')]"
      ]
     },
     "execution_count": 21,
     "metadata": {},
     "output_type": "execute_result"
    }
   ],
   "source": [
    "#YOUR SOLUTION\n",
    "# highest = PL2\n",
    "avg_map = []\n",
    "for i in range(3):\n",
    "    avg_map.append(((hp_df.iloc[i]['map'] + np_df.iloc[i]['map'] \n",
    "                     + td_df.iloc[i]['map']) / 3, hp_df.iloc[i]['name']))\n",
    "avg_map"
   ]
  },
  {
   "cell_type": "markdown",
   "metadata": {
    "id": "2lmdaFvk56na"
   },
   "source": [
    "# Q3 Query Expansion"
   ]
  },
  {
   "cell_type": "markdown",
   "metadata": {
    "id": "hUE4Kcn18WmR"
   },
   "source": [
    "Query expansion is one of the most well-known and effective techniques for improving the effectiveness of a search engine. We'll be using Terrier's Bo1 query expansion model.\n",
    "\n",
    "See the [relevant documentation](https://pyterrier.readthedocs.io/en/latest/rewrite.html#bo1queryexpansion) about creating a QE transformer pipeline in PyTerrier using the Bo1 model.\n",
    "\n",
    "You now have enough information to conduct Q3(a) and (b).\n",
    "\n"
   ]
  },
  {
   "cell_type": "markdown",
   "metadata": {
    "id": "MYz0Rs1U6ATl"
   },
   "source": [
    "## Q3(a)\n",
    "Run the required experiments for evaluating the application of query expansion on the best weighting model identified in the previous question."
   ]
  },
  {
   "cell_type": "code",
   "execution_count": 22,
   "metadata": {
    "ExecuteTime": {
     "end_time": "2021-06-15T03:11:46.502213Z",
     "start_time": "2021-06-15T03:11:28.107788Z"
    },
    "id": "fb0ZKxI7I0vP"
   },
   "outputs": [
    {
     "data": {
      "text/html": [
       "<div>\n",
       "<style scoped>\n",
       "    .dataframe tbody tr th:only-of-type {\n",
       "        vertical-align: middle;\n",
       "    }\n",
       "\n",
       "    .dataframe tbody tr th {\n",
       "        vertical-align: top;\n",
       "    }\n",
       "\n",
       "    .dataframe thead th {\n",
       "        text-align: right;\n",
       "    }\n",
       "</style>\n",
       "<table border=\"1\" class=\"dataframe\">\n",
       "  <thead>\n",
       "    <tr style=\"text-align: right;\">\n",
       "      <th></th>\n",
       "      <th>name</th>\n",
       "      <th>map</th>\n",
       "      <th>map +</th>\n",
       "      <th>map -</th>\n",
       "      <th>map p-value</th>\n",
       "    </tr>\n",
       "  </thead>\n",
       "  <tbody>\n",
       "    <tr>\n",
       "      <th>0</th>\n",
       "      <td>PL2</td>\n",
       "      <td>0.2251</td>\n",
       "      <td>NaN</td>\n",
       "      <td>NaN</td>\n",
       "      <td>NaN</td>\n",
       "    </tr>\n",
       "    <tr>\n",
       "      <th>1</th>\n",
       "      <td>QE</td>\n",
       "      <td>0.2423</td>\n",
       "      <td>21.0</td>\n",
       "      <td>29.0</td>\n",
       "      <td>0.252385</td>\n",
       "    </tr>\n",
       "  </tbody>\n",
       "</table>\n",
       "</div>"
      ],
      "text/plain": [
       "  name     map  map +  map -  map p-value\n",
       "0  PL2  0.2251    NaN    NaN          NaN\n",
       "1   QE  0.2423   21.0   29.0     0.252385"
      ]
     },
     "execution_count": 22,
     "metadata": {},
     "output_type": "execute_result"
    }
   ],
   "source": [
    "#YOUR SOLUTION\n",
    "# using PL2\n",
    "bo1 = pt.rewrite.Bo1QueryExpansion(index)\n",
    "pipe_QE = pl2 >> bo1 >> pl2\n",
    "pt.Experiment([pl2, pipe_QE],\n",
    "              dotgov_topicsqrels.get_topics(variant='hp'),\n",
    "              dotgov_topicsqrels.get_qrels(variant='hp'),\n",
    "              eval_metrics=['map'], round=4, baseline=0,\n",
    "              names=[\"PL2\", \"QE\"])"
   ]
  },
  {
   "cell_type": "code",
   "execution_count": 23,
   "metadata": {
    "ExecuteTime": {
     "end_time": "2021-06-15T03:12:21.499642Z",
     "start_time": "2021-06-15T03:12:04.750275Z"
    }
   },
   "outputs": [
    {
     "data": {
      "text/html": [
       "<div>\n",
       "<style scoped>\n",
       "    .dataframe tbody tr th:only-of-type {\n",
       "        vertical-align: middle;\n",
       "    }\n",
       "\n",
       "    .dataframe tbody tr th {\n",
       "        vertical-align: top;\n",
       "    }\n",
       "\n",
       "    .dataframe thead th {\n",
       "        text-align: right;\n",
       "    }\n",
       "</style>\n",
       "<table border=\"1\" class=\"dataframe\">\n",
       "  <thead>\n",
       "    <tr style=\"text-align: right;\">\n",
       "      <th></th>\n",
       "      <th>name</th>\n",
       "      <th>map</th>\n",
       "      <th>map +</th>\n",
       "      <th>map -</th>\n",
       "      <th>map p-value</th>\n",
       "    </tr>\n",
       "  </thead>\n",
       "  <tbody>\n",
       "    <tr>\n",
       "      <th>0</th>\n",
       "      <td>PL2</td>\n",
       "      <td>0.4392</td>\n",
       "      <td>NaN</td>\n",
       "      <td>NaN</td>\n",
       "      <td>NaN</td>\n",
       "    </tr>\n",
       "    <tr>\n",
       "      <th>1</th>\n",
       "      <td>QE</td>\n",
       "      <td>0.4442</td>\n",
       "      <td>18.0</td>\n",
       "      <td>18.0</td>\n",
       "      <td>0.847885</td>\n",
       "    </tr>\n",
       "  </tbody>\n",
       "</table>\n",
       "</div>"
      ],
      "text/plain": [
       "  name     map  map +  map -  map p-value\n",
       "0  PL2  0.4392    NaN    NaN          NaN\n",
       "1   QE  0.4442   18.0   18.0     0.847885"
      ]
     },
     "execution_count": 23,
     "metadata": {},
     "output_type": "execute_result"
    }
   ],
   "source": [
    "pt.Experiment([pl2, pipe_QE],\n",
    "              dotgov_topicsqrels.get_topics(variant='np'),\n",
    "              dotgov_topicsqrels.get_qrels(variant='np'),\n",
    "              eval_metrics=['map'], round=4, baseline=0,\n",
    "              names=[\"PL2\", \"QE\"])"
   ]
  },
  {
   "cell_type": "code",
   "execution_count": 24,
   "metadata": {
    "ExecuteTime": {
     "end_time": "2021-06-15T03:13:22.106990Z",
     "start_time": "2021-06-15T03:13:07.236828Z"
    }
   },
   "outputs": [
    {
     "data": {
      "text/html": [
       "<div>\n",
       "<style scoped>\n",
       "    .dataframe tbody tr th:only-of-type {\n",
       "        vertical-align: middle;\n",
       "    }\n",
       "\n",
       "    .dataframe tbody tr th {\n",
       "        vertical-align: top;\n",
       "    }\n",
       "\n",
       "    .dataframe thead th {\n",
       "        text-align: right;\n",
       "    }\n",
       "</style>\n",
       "<table border=\"1\" class=\"dataframe\">\n",
       "  <thead>\n",
       "    <tr style=\"text-align: right;\">\n",
       "      <th></th>\n",
       "      <th>name</th>\n",
       "      <th>map</th>\n",
       "      <th>map +</th>\n",
       "      <th>map -</th>\n",
       "      <th>map p-value</th>\n",
       "    </tr>\n",
       "  </thead>\n",
       "  <tbody>\n",
       "    <tr>\n",
       "      <th>0</th>\n",
       "      <td>PL2</td>\n",
       "      <td>0.0695</td>\n",
       "      <td>NaN</td>\n",
       "      <td>NaN</td>\n",
       "      <td>NaN</td>\n",
       "    </tr>\n",
       "    <tr>\n",
       "      <th>1</th>\n",
       "      <td>QE</td>\n",
       "      <td>0.0671</td>\n",
       "      <td>30.0</td>\n",
       "      <td>45.0</td>\n",
       "      <td>0.239678</td>\n",
       "    </tr>\n",
       "  </tbody>\n",
       "</table>\n",
       "</div>"
      ],
      "text/plain": [
       "  name     map  map +  map -  map p-value\n",
       "0  PL2  0.0695    NaN    NaN          NaN\n",
       "1   QE  0.0671   30.0   45.0     0.239678"
      ]
     },
     "execution_count": 24,
     "metadata": {},
     "output_type": "execute_result"
    }
   ],
   "source": [
    "pt.Experiment([pl2, pipe_QE],\n",
    "              dotgov_topicsqrels.get_topics(variant='td'),\n",
    "              dotgov_topicsqrels.get_qrels(variant='td'),\n",
    "              eval_metrics=['map'], round=4, baseline=0,\n",
    "              names=[\"PL2\", \"QE\"])"
   ]
  },
  {
   "cell_type": "markdown",
   "metadata": {
    "id": "5yPScO7S_RcC"
   },
   "source": [
    "## Q3(b)\n",
    "\n",
    "This question calls for a query-delta bar chart (See example in Lecture 5). You will need to use the ` perquery=True` option for `pt.Experiment()`. \n",
    "\n",
    "*Hints*: \n",
    " - You may need a [self-join](https://www.w3schools.com/sql/sql_join_self.asp) on a dataframe.\n",
    " - You can iterate through a dataframe using [`dataframe.iterrows()`](https://cmdlinetips.com/2018/12/how-to-loop-through-pandas-rows-or-how-to-iterate-over-pandas-rows/)"
   ]
  },
  {
   "cell_type": "code",
   "execution_count": 25,
   "metadata": {
    "ExecuteTime": {
     "end_time": "2021-06-15T03:13:48.721796Z",
     "start_time": "2021-06-15T03:13:35.146852Z"
    },
    "id": "rDfFUuDzI1QG"
   },
   "outputs": [],
   "source": [
    "#YOUR SOLUTION\n",
    "# using BM25\n",
    "pipe_QE = bm25 >> bo1 >> bm25\n",
    "delta_ap_df = pt.Experiment([bm25, pipe_QE],\n",
    "                              dotgov_topicsqrels.get_topics(variant='td'),\n",
    "                              dotgov_topicsqrels.get_qrels(variant='td'),\n",
    "                              eval_metrics=['map'], round=4,\n",
    "                              names=[\"BM25\", \"QE\"], perquery=True)"
   ]
  },
  {
   "cell_type": "code",
   "execution_count": 48,
   "metadata": {
    "ExecuteTime": {
     "end_time": "2021-06-15T04:18:01.592625Z",
     "start_time": "2021-06-15T04:17:49.579934Z"
    }
   },
   "outputs": [
    {
     "data": {
      "text/plain": [
       "array(['applypipeline:off skin^1.402936462 cancer^1.233351080 sunscreen^0.081970932 cell^0.071433646 melanoma^0.070226770 sun^0.068207895 squamou^0.067213993 carcinoma^0.063889040 uv^0.055406079 basal^0.054696254'],\n",
       "      dtype=object)"
      ]
     },
     "execution_count": 48,
     "metadata": {},
     "output_type": "execute_result"
    }
   ],
   "source": [
    "bo1_td = pipe_QE.transform(dotgov_topicsqrels.get_topics(variant='td'))\n",
    "bo1_td[bo1_td['qid'] == '74']['query'].unique()"
   ]
  },
  {
   "cell_type": "code",
   "execution_count": 42,
   "metadata": {
    "ExecuteTime": {
     "end_time": "2021-06-15T04:06:51.897689Z",
     "start_time": "2021-06-15T04:06:51.890436Z"
    },
    "scrolled": true
   },
   "outputs": [],
   "source": [
    "import numpy as np\n",
    "\n",
    "def plot_delta(delta_ap_df):\n",
    "    ap_plot_df = delta_ap_df.copy().iloc[:75]\n",
    "    ap_plot_df['delta'] = np.array(delta_ap_df.iloc[75:]['value'].tolist()) - np.array(delta_ap_df.iloc[:75]['value'].tolist())\n",
    "    topics = dotgov_topicsqrels.get_topics(variant='td')\n",
    "    ap_plot_df = pd.merge(ap_plot_df, topics, on='qid', how='left')\n",
    "    plot_df = ap_plot_df[ap_plot_df['delta'].apply(np.abs) > 0.02].sort_values(by='delta', ascending=False)\n",
    "    x = plot_df['qid'] + ': ' + plot_df['query']\n",
    "    y = plot_df['delta']\n",
    "    plt.bar(x, y)\n",
    "    plt.xlabel(\"Qid: Query\")\n",
    "    plt.ylabel(\"Delta AP\")\n",
    "    plt.xticks(rotation='vertical')\n",
    "    plt.show()\n",
    "    return plot_df"
   ]
  },
  {
   "cell_type": "code",
   "execution_count": 43,
   "metadata": {
    "ExecuteTime": {
     "end_time": "2021-06-15T04:06:55.075152Z",
     "start_time": "2021-06-15T04:06:52.821963Z"
    },
    "scrolled": true
   },
   "outputs": [
    {
     "data": {
      "image/png": "[encoded data removed]",
      "text/plain": [
       "<Figure size 576x396 with 1 Axes>"
      ]
     },
     "metadata": {},
     "output_type": "display_data"
    },
    {
     "data": {
      "text/html": [
       "<div>\n",
       "<style scoped>\n",
       "    .dataframe tbody tr th:only-of-type {\n",
       "        vertical-align: middle;\n",
       "    }\n",
       "\n",
       "    .dataframe tbody tr th {\n",
       "        vertical-align: top;\n",
       "    }\n",
       "\n",
       "    .dataframe thead th {\n",
       "        text-align: right;\n",
       "    }\n",
       "</style>\n",
       "<table border=\"1\" class=\"dataframe\">\n",
       "  <thead>\n",
       "    <tr style=\"text-align: right;\">\n",
       "      <th></th>\n",
       "      <th>name</th>\n",
       "      <th>qid</th>\n",
       "      <th>measure</th>\n",
       "      <th>value</th>\n",
       "      <th>delta</th>\n",
       "      <th>query</th>\n",
       "    </tr>\n",
       "  </thead>\n",
       "  <tbody>\n",
       "    <tr>\n",
       "      <th>31</th>\n",
       "      <td>BM25</td>\n",
       "      <td>97</td>\n",
       "      <td>map</td>\n",
       "      <td>0.2206</td>\n",
       "      <td>0.0409</td>\n",
       "      <td>ufos</td>\n",
       "    </tr>\n",
       "    <tr>\n",
       "      <th>33</th>\n",
       "      <td>BM25</td>\n",
       "      <td>101</td>\n",
       "      <td>map</td>\n",
       "      <td>0.1072</td>\n",
       "      <td>0.0348</td>\n",
       "      <td>migrant farm workers</td>\n",
       "    </tr>\n",
       "    <tr>\n",
       "      <th>56</th>\n",
       "      <td>BM25</td>\n",
       "      <td>164</td>\n",
       "      <td>map</td>\n",
       "      <td>0.2263</td>\n",
       "      <td>0.0303</td>\n",
       "      <td>winter weather safety</td>\n",
       "    </tr>\n",
       "    <tr>\n",
       "      <th>43</th>\n",
       "      <td>BM25</td>\n",
       "      <td>133</td>\n",
       "      <td>map</td>\n",
       "      <td>0.0318</td>\n",
       "      <td>0.0287</td>\n",
       "      <td>human genome research</td>\n",
       "    </tr>\n",
       "    <tr>\n",
       "      <th>50</th>\n",
       "      <td>BM25</td>\n",
       "      <td>152</td>\n",
       "      <td>map</td>\n",
       "      <td>0.0505</td>\n",
       "      <td>0.0253</td>\n",
       "      <td>bioengineered foods crops</td>\n",
       "    </tr>\n",
       "    <tr>\n",
       "      <th>5</th>\n",
       "      <td>BM25</td>\n",
       "      <td>15</td>\n",
       "      <td>map</td>\n",
       "      <td>0.1919</td>\n",
       "      <td>0.0209</td>\n",
       "      <td>welfare reform</td>\n",
       "    </tr>\n",
       "    <tr>\n",
       "      <th>51</th>\n",
       "      <td>BM25</td>\n",
       "      <td>153</td>\n",
       "      <td>map</td>\n",
       "      <td>0.0869</td>\n",
       "      <td>-0.0203</td>\n",
       "      <td>technology transfer</td>\n",
       "    </tr>\n",
       "    <tr>\n",
       "      <th>48</th>\n",
       "      <td>BM25</td>\n",
       "      <td>141</td>\n",
       "      <td>map</td>\n",
       "      <td>0.1244</td>\n",
       "      <td>-0.0208</td>\n",
       "      <td>international monetary fund</td>\n",
       "    </tr>\n",
       "    <tr>\n",
       "      <th>25</th>\n",
       "      <td>BM25</td>\n",
       "      <td>73</td>\n",
       "      <td>map</td>\n",
       "      <td>0.0302</td>\n",
       "      <td>-0.0212</td>\n",
       "      <td>solar flares</td>\n",
       "    </tr>\n",
       "    <tr>\n",
       "      <th>36</th>\n",
       "      <td>BM25</td>\n",
       "      <td>104</td>\n",
       "      <td>map</td>\n",
       "      <td>0.0280</td>\n",
       "      <td>-0.0216</td>\n",
       "      <td>space exploration</td>\n",
       "    </tr>\n",
       "    <tr>\n",
       "      <th>19</th>\n",
       "      <td>BM25</td>\n",
       "      <td>50</td>\n",
       "      <td>map</td>\n",
       "      <td>0.0513</td>\n",
       "      <td>-0.0289</td>\n",
       "      <td>money laundering</td>\n",
       "    </tr>\n",
       "    <tr>\n",
       "      <th>61</th>\n",
       "      <td>BM25</td>\n",
       "      <td>176</td>\n",
       "      <td>map</td>\n",
       "      <td>0.0555</td>\n",
       "      <td>-0.0328</td>\n",
       "      <td>hurricanes</td>\n",
       "    </tr>\n",
       "    <tr>\n",
       "      <th>44</th>\n",
       "      <td>BM25</td>\n",
       "      <td>134</td>\n",
       "      <td>map</td>\n",
       "      <td>0.0370</td>\n",
       "      <td>-0.0334</td>\n",
       "      <td>national parks</td>\n",
       "    </tr>\n",
       "    <tr>\n",
       "      <th>22</th>\n",
       "      <td>BM25</td>\n",
       "      <td>58</td>\n",
       "      <td>map</td>\n",
       "      <td>0.1010</td>\n",
       "      <td>-0.0336</td>\n",
       "      <td>automobile emissions vehicle pollution</td>\n",
       "    </tr>\n",
       "    <tr>\n",
       "      <th>45</th>\n",
       "      <td>BM25</td>\n",
       "      <td>136</td>\n",
       "      <td>map</td>\n",
       "      <td>0.0366</td>\n",
       "      <td>-0.0364</td>\n",
       "      <td>career information</td>\n",
       "    </tr>\n",
       "    <tr>\n",
       "      <th>15</th>\n",
       "      <td>BM25</td>\n",
       "      <td>41</td>\n",
       "      <td>map</td>\n",
       "      <td>0.0758</td>\n",
       "      <td>-0.0380</td>\n",
       "      <td>historic preservation</td>\n",
       "    </tr>\n",
       "    <tr>\n",
       "      <th>73</th>\n",
       "      <td>BM25</td>\n",
       "      <td>209</td>\n",
       "      <td>map</td>\n",
       "      <td>0.1714</td>\n",
       "      <td>-0.0478</td>\n",
       "      <td>radon</td>\n",
       "    </tr>\n",
       "    <tr>\n",
       "      <th>0</th>\n",
       "      <td>BM25</td>\n",
       "      <td>1</td>\n",
       "      <td>map</td>\n",
       "      <td>0.1892</td>\n",
       "      <td>-0.0555</td>\n",
       "      <td>electoral college</td>\n",
       "    </tr>\n",
       "    <tr>\n",
       "      <th>71</th>\n",
       "      <td>BM25</td>\n",
       "      <td>204</td>\n",
       "      <td>map</td>\n",
       "      <td>0.0846</td>\n",
       "      <td>-0.0563</td>\n",
       "      <td>endangered species</td>\n",
       "    </tr>\n",
       "    <tr>\n",
       "      <th>28</th>\n",
       "      <td>BM25</td>\n",
       "      <td>81</td>\n",
       "      <td>map</td>\n",
       "      <td>0.2609</td>\n",
       "      <td>-0.0953</td>\n",
       "      <td>mosquito control</td>\n",
       "    </tr>\n",
       "    <tr>\n",
       "      <th>74</th>\n",
       "      <td>BM25</td>\n",
       "      <td>221</td>\n",
       "      <td>map</td>\n",
       "      <td>0.1996</td>\n",
       "      <td>-0.1060</td>\n",
       "      <td>homeland security</td>\n",
       "    </tr>\n",
       "    <tr>\n",
       "      <th>26</th>\n",
       "      <td>BM25</td>\n",
       "      <td>74</td>\n",
       "      <td>map</td>\n",
       "      <td>0.3529</td>\n",
       "      <td>-0.1519</td>\n",
       "      <td>skin cancer</td>\n",
       "    </tr>\n",
       "  </tbody>\n",
       "</table>\n",
       "</div>"
      ],
      "text/plain": [
       "    name  qid measure   value   delta                                   query\n",
       "31  BM25   97     map  0.2206  0.0409                                    ufos\n",
       "33  BM25  101     map  0.1072  0.0348                    migrant farm workers\n",
       "56  BM25  164     map  0.2263  0.0303                   winter weather safety\n",
       "43  BM25  133     map  0.0318  0.0287                   human genome research\n",
       "50  BM25  152     map  0.0505  0.0253               bioengineered foods crops\n",
       "5   BM25   15     map  0.1919  0.0209                          welfare reform\n",
       "51  BM25  153     map  0.0869 -0.0203                     technology transfer\n",
       "48  BM25  141     map  0.1244 -0.0208             international monetary fund\n",
       "25  BM25   73     map  0.0302 -0.0212                            solar flares\n",
       "36  BM25  104     map  0.0280 -0.0216                       space exploration\n",
       "19  BM25   50     map  0.0513 -0.0289                        money laundering\n",
       "61  BM25  176     map  0.0555 -0.0328                              hurricanes\n",
       "44  BM25  134     map  0.0370 -0.0334                          national parks\n",
       "22  BM25   58     map  0.1010 -0.0336  automobile emissions vehicle pollution\n",
       "45  BM25  136     map  0.0366 -0.0364                      career information\n",
       "15  BM25   41     map  0.0758 -0.0380                   historic preservation\n",
       "73  BM25  209     map  0.1714 -0.0478                                   radon\n",
       "0   BM25    1     map  0.1892 -0.0555                       electoral college\n",
       "71  BM25  204     map  0.0846 -0.0563                      endangered species\n",
       "28  BM25   81     map  0.2609 -0.0953                        mosquito control\n",
       "74  BM25  221     map  0.1996 -0.1060                       homeland security\n",
       "26  BM25   74     map  0.3529 -0.1519                             skin cancer"
      ]
     },
     "execution_count": 43,
     "metadata": {},
     "output_type": "execute_result"
    }
   ],
   "source": [
    "plot_delta(delta_ap_df)"
   ]
  },
  {
   "cell_type": "markdown",
   "metadata": {
    "id": "-msK8wu79sXy"
   },
   "source": [
    "# Q4 Word Embeddings\n",
    "\n",
    "Q4 asks for a word2vec-based query expansion model. Word2vec (also called word embeddings) is a shallow neural network where semantically similar words end up with similar embedding vectors.\n",
    "\n",
    "If you haven't taken Text-as-Data, you can do some background reading about word embeddings at:\n",
    " - https://towardsdatascience.com/introduction-to-word-embedding-and-word2vec-652d0c2060fa\n",
    " - https://en.wikipedia.org/wiki/Word2vec\n",
    " - https://en.wikipedia.org/wiki/Word_embedding\n",
    "\n",
    "In general, while word2vec is still a very widely used model, note that it has been surpassed by more complex models such as BERT. But word2vec is still useful to consider in the context of query expansion.\n"
   ]
  },
  {
   "cell_type": "markdown",
   "metadata": {
    "id": "Urs_h1V5OBNk"
   },
   "source": [
    "In this part of the exercise, we will use [Gensim](https://radimrehurek.com/gensim/auto_examples/tutorials/run_word2vec.html), a Python toolkit for working with a word2vec model. \n",
    "\n",
    "We are providing a pre-trained word2vec model that Gensim will download and open - the file is very large, so this might take a few minutes to download and a couple of minutes to load. You can read on while it opens."
   ]
  },
  {
   "cell_type": "code",
   "execution_count": 28,
   "metadata": {
    "ExecuteTime": {
     "end_time": "2021-06-15T03:15:47.291163Z",
     "start_time": "2021-06-15T03:14:00.970951Z"
    },
    "colab": {
     "base_uri": "https://localhost:8080/"
    },
    "id": "sd87GzpQafAw",
    "outputId": "51b84b38-9aa4-47aa-cfcd-418292151e3f"
   },
   "outputs": [
    {
     "name": "stderr",
     "output_type": "stream",
     "text": [
      "/Users/siqiwang/opt/anaconda3/lib/python3.8/site-packages/gensim/similarities/__init__.py:15: UserWarning: The gensim.similarities.levenshtein submodule is disabled, because the optional Levenshtein package <https://pypi.org/project/python-Levenshtein/> is unavailable. Install Levenhstein (e.g. `pip install python-Levenshtein`) to suppress this warning.\n",
      "  warnings.warn(msg)\n"
     ]
    },
    {
     "name": "stdout",
     "output_type": "stream",
     "text": [
      "CPU times: user 1min 42s, sys: 1.57 s, total: 1min 43s\n",
      "Wall time: 1min 46s\n"
     ]
    }
   ],
   "source": [
    "import gensim.downloader as api\n",
    "%time model = api.load(\"glove-wiki-gigaword-300\")"
   ]
  },
  {
   "cell_type": "markdown",
   "metadata": {
    "id": "gWW6jMYsPdVu"
   },
   "source": [
    "`model` is of type [gensim.models.keyedvectors.KeyedVectors](https://radimrehurek.com/gensim/models/keyedvectors.html#gensim.models.keyedvectors.KeyedVectors).\n",
    "\n",
    "You can think of this as a dictionary mapping string words to the vector embeddings for each word.  For example, we can get the vector for the word `'government'` as follows:"
   ]
  },
  {
   "cell_type": "code",
   "execution_count": 29,
   "metadata": {
    "ExecuteTime": {
     "end_time": "2021-06-15T03:20:27.874450Z",
     "start_time": "2021-06-15T03:20:27.859854Z"
    },
    "colab": {
     "base_uri": "https://localhost:8080/"
    },
    "id": "-qAOz8MNPsXr",
    "outputId": "85ce6996-6948-4543-8a6d-8c7236b6f8e8",
    "scrolled": true
   },
   "outputs": [
    {
     "name": "stdout",
     "output_type": "stream",
     "text": [
      "(300,)\n",
      "[ 2.5470e-02 -1.0216e-01 -2.8455e-01  2.8603e-01  1.9018e-01 -4.7529e-01\n",
      "  1.4468e-01  1.9805e-01 -4.2931e-02 -2.9325e+00 -6.3137e-01  9.7630e-02\n",
      "  1.0803e-01  5.4072e-01 -1.1834e-02  6.8399e-01  3.7241e-02 -3.8651e-01\n",
      "  5.1331e-01 -4.0682e-01  3.3802e-01  3.9780e-02  1.0934e+00 -2.6993e-02\n",
      " -3.2652e-01  1.8426e-01  2.5084e-02 -1.9201e-02 -1.9761e-01  4.9951e-01\n",
      " -2.3426e-01 -1.1926e-01  4.3991e-02  3.2443e-01 -2.6306e-01 -1.7991e-01\n",
      "  2.3484e-01  3.4124e-01 -3.1304e-01 -1.9777e-01 -1.9651e-01  2.8835e-01\n",
      " -1.6815e-01  3.8187e-01 -1.6562e-01 -4.0849e-01 -3.9998e-01  2.6185e-01\n",
      " -5.3972e-01  2.4353e-01  1.3366e-01 -3.0213e-01  3.7712e-01  1.8414e-01\n",
      "  7.4082e-03  1.4511e-01  3.2574e-01  1.6853e-01 -1.0872e-01  1.9417e-02\n",
      " -3.2784e-01  3.9864e-01 -7.8588e-01  2.3249e-01  2.8092e-02 -4.3737e-01\n",
      "  1.3954e-01 -4.0254e-01 -3.2712e-01  4.1180e-01  1.3976e-01  6.8819e-01\n",
      "  3.9624e-02  2.7002e-02  2.3729e-01 -6.6964e-02  5.5686e-02  2.4415e-01\n",
      "  1.2575e-03  5.1176e-01  1.3287e-01 -3.3563e-01  4.3484e-01  2.8397e-01\n",
      "  5.1968e-01  1.0791e-01 -7.4799e-02 -3.4167e-03 -1.3757e-01 -5.0712e-02\n",
      " -1.3372e-01 -1.9203e-01 -2.6988e-01  1.2323e-01  3.8608e-01 -2.7709e-02\n",
      " -8.5306e-02  3.0588e-01 -2.0863e-01  5.1200e-01  2.7791e-01 -2.6512e-01\n",
      " -3.6793e-01 -2.7299e-01  1.2325e-01  2.4941e-02 -5.6067e-01  5.3860e-02\n",
      " -6.0468e-02  1.2572e-01 -7.2452e-02 -6.5689e-01 -2.7048e-01 -5.1343e-01\n",
      "  3.5888e-01  2.4968e-01  9.2726e-02  1.1145e-01  4.1245e-01 -8.3346e-01\n",
      "  9.9315e-02 -6.8263e-02 -2.6200e-01  1.5697e-01  6.5353e-02 -6.1494e-01\n",
      "  2.0978e-01  1.9596e-01  1.0233e-02  4.2670e-01 -3.0503e-01 -7.2013e-02\n",
      " -2.5165e-02 -9.4581e-02  4.2129e-01  2.5155e-01  2.1072e-01 -2.4235e-02\n",
      "  3.6006e-01 -1.4018e-01 -9.7339e-02  4.7664e-01 -3.1374e-01  8.3262e-02\n",
      " -5.9347e-01 -1.3060e-01  1.9546e-01  2.6835e-01  4.3899e-02 -1.7273e-02\n",
      "  1.0099e+00 -1.4987e-02  1.7707e-02  3.1759e-01  2.7929e-01  4.5154e-01\n",
      "  1.0662e-02  7.6270e-02  3.9064e-02 -1.2765e-01  1.5507e-01  1.2937e-01\n",
      "  2.8904e-01  5.7720e-02 -4.1774e-01 -1.8795e-01  1.6175e-01 -1.4805e-01\n",
      " -1.9554e-03  1.1287e-01 -2.9316e-01 -2.7471e-01 -7.4981e-01  2.0245e-01\n",
      "  5.4333e-02  2.0324e-01 -4.1409e-01 -2.2466e-01 -1.5163e-01  7.4656e-01\n",
      "  9.3554e-02  2.2191e-01  1.7560e-01 -1.6155e-01 -7.8256e-02  3.3462e-01\n",
      " -1.1481e-01 -3.6853e-02  3.7746e-01 -1.0307e-01  2.1646e-01 -7.7427e-02\n",
      " -6.4254e-02  1.7607e-01  2.8693e-01  4.3777e-01  2.1964e-02  2.3730e-01\n",
      "  2.6717e-02 -1.1660e-01  2.7223e-01 -7.8559e-02  2.1517e-02 -2.8614e-02\n",
      "  1.9661e-03 -2.1028e-01 -1.5228e-01 -2.4300e-02  4.9377e-01 -8.3850e-02\n",
      " -4.5019e-02  5.1382e-02  6.9632e-02  1.0506e-01  1.6457e-01  3.2654e-01\n",
      " -6.0213e-02  2.7409e-01  1.2652e-01  6.7440e-01  6.0100e-01 -6.1608e-02\n",
      " -2.8924e-01  2.1374e-01  2.0753e-02 -1.8507e-01  4.3709e-01 -4.9838e-02\n",
      "  1.3316e-01 -3.4565e-01  2.7452e-01 -6.8051e-02  1.6351e-01  4.9942e-01\n",
      " -3.5026e-02 -5.0862e-02 -1.7264e-01 -1.8708e-01  4.8739e-01 -7.9031e-02\n",
      "  2.0715e-01 -6.5269e-02  3.7214e-01 -1.2470e-02 -6.2193e-01  9.5748e-01\n",
      "  4.7598e-01 -5.1563e-01  9.2283e-02  9.4128e-02  1.2573e-02 -1.8689e-01\n",
      "  2.2435e-01 -1.5478e-01  7.8359e-01 -1.7577e-01 -4.5908e-01  3.9201e-01\n",
      " -4.5039e-01 -1.6417e-01 -1.5380e-01 -1.8668e-01 -1.7151e-02 -5.4394e-02\n",
      "  9.7406e-02 -2.0390e-01  1.4467e-01  2.5500e-01 -1.8374e-01 -9.3682e-02\n",
      "  9.2240e-02  3.2854e-01  6.4037e-02  5.8784e-02  2.4794e-01  1.6599e-01\n",
      " -2.4789e+00  2.0171e-01  1.2950e+00 -1.8016e-01  8.4134e-01 -5.2966e-01\n",
      "  8.2971e-02 -5.5717e-02  2.7861e-01 -1.1111e-01 -2.5051e-02  3.9859e-01\n",
      " -1.1919e-01 -1.6299e-01  1.9196e-01 -2.6775e-01  2.3950e-01 -1.8337e-01\n",
      "  5.0646e-01  9.7249e-01 -1.0446e-01 -5.4483e-01 -1.3254e-01 -7.3358e-02]\n"
     ]
    }
   ],
   "source": [
    "emb = model.get_vector(\"government\")\n",
    "print(emb.shape)\n",
    "print(emb)"
   ]
  },
  {
   "cell_type": "markdown",
   "metadata": {
    "id": "kTmkl3ZjP5lr"
   },
   "source": [
    "As you can see, each word is represented by a 300-dimension vector.\n",
    "\n",
    "We can also ask `model` for the most similar words to `'government'` using [`model.most_similar()`](https://radimrehurek.com/gensim/models/keyedvectors.html#gensim.models.keyedvectors.KeyedVectors.most_similar). It returns the 10 most similar words, based on the cosine similarity of their emebddings to that of `'government'`. \n",
    "\n",
    "See also: [Example in Gensim documentation](https://radimrehurek.com/gensim/models/keyedvectors.html#what-can-i-do-with-word-vectors)."
   ]
  },
  {
   "cell_type": "code",
   "execution_count": 62,
   "metadata": {
    "ExecuteTime": {
     "end_time": "2021-06-15T04:38:48.993500Z",
     "start_time": "2021-06-15T04:38:48.968025Z"
    },
    "colab": {
     "base_uri": "https://localhost:8080/"
    },
    "id": "Ji4egT__bQYZ",
    "outputId": "b2a2e668-8a07-413f-a7e0-6a0a7358e9ef"
   },
   "outputs": [
    {
     "data": {
      "text/plain": [
       "[('example', 0.5769190788269043),\n",
       " ('languages', 0.5604609251022339),\n",
       " ('processes', 0.5535740256309509),\n",
       " ('instance', 0.5427410006523132),\n",
       " ('e.g.', 0.5152060985565186),\n",
       " ('learning', 0.5118433833122253),\n",
       " ('means', 0.5095254182815552),\n",
       " ('forms', 0.5081191658973694),\n",
       " ('particular', 0.5075994729995728),\n",
       " ('use', 0.504721999168396)]"
      ]
     },
     "execution_count": 62,
     "metadata": {},
     "output_type": "execute_result"
    }
   ],
   "source": [
    "model.most_similar(['natural', 'language', 'processing'])"
   ]
  },
  {
   "cell_type": "markdown",
   "metadata": {
    "id": "ejW6i4hUQjmp"
   },
   "source": [
    "As you can see, some words are clearly related to the original word `'government'`, including some lexical variations (`'governments'`), as well as semantically similar (`\"authorities\"`) words. You can also see some words that perhaps seem unrelated - probably they are highly weighted because they appeared in similar contexts to `\"government\"` (e.g. `\"saying\"`)."
   ]
  },
  {
   "cell_type": "markdown",
   "metadata": {
    "id": "8ElGY5PwQbd8"
   },
   "source": [
    "# Q4 Word2Vec-based Query Expansion\n",
    "\n",
    "The next task is to use `model` to develop your custom transformer for a word2vec-based query expansion.\n",
    "\n",
    "*Hints*:\n",
    " - Inspired by Pandas, PyTerrier has the notion of [apply functions](https://pyterrier.readthedocs.io/en/latest/apply.html) for applying transformations.\n",
    " - What to do with out-of-vocabulary (OOV) words?\n",
    " - How many similar terms to identify for each existing query term?  \n",
    " - What is the relative importance of these new terms compared to the existing query terms? e.g. you might want to give more emphasis to the original query terms. \n",
    " - How/if to integrate the Word2Vec cosine distance into your weighting formula? \n",
    " - How to deal with special characters not recognised by the default Terrier query parser, causing a QueryParserException (e.g `/`)?\n",
    "\n",
    "You now have sufficient information to make a start on Q4."
   ]
  },
  {
   "cell_type": "code",
   "execution_count": 72,
   "metadata": {
    "ExecuteTime": {
     "end_time": "2021-06-15T05:13:43.199704Z",
     "start_time": "2021-06-15T05:13:43.193325Z"
    },
    "id": "CohQ29flI20e"
   },
   "outputs": [],
   "source": [
    "#YOUR SOLUTION\n",
    "def query_expansion(row):\n",
    "    expansion = []\n",
    "    terms = row['query'].split(\" \")\n",
    "    for t in terms:\n",
    "        expansion.append(t + \"^1.5\")\n",
    "        similar = model.most_similar(t.lower(), topn=1)\n",
    "        for key, cos in similar:\n",
    "#             if \"/\" not in key:\n",
    "            expansion.append(key + \"^\" + str(cos * 0.75))\n",
    "    return \" \".join(expansion)\n",
    "\n",
    "pipe_QE_cus = pt.apply.query(query_expansion) >> pt.rewrite.linear(0.5, 0.5) >> pl2\n",
    "pipe_QE = pl2 >> bo1 >> pl2\n",
    "# pl2_cusQE = pt.Experiment([pl2, pipe_QE_cus],\n",
    "#                   dotgov_topicsqrels.get_topics(variant='td'),\n",
    "#                   dotgov_topicsqrels.get_qrels(variant='td'),\n",
    "#                   eval_metrics=['map'], round=4,\n",
    "#                   names=[\"PL2\", \"Word2Vec\"], perquery=True)"
   ]
  },
  {
   "cell_type": "code",
   "execution_count": 71,
   "metadata": {
    "ExecuteTime": {
     "end_time": "2021-06-15T05:12:44.229875Z",
     "start_time": "2021-06-15T05:12:44.148818Z"
    }
   },
   "outputs": [
    {
     "data": {
      "text/plain": [
       "array(['(hiv^1.5 aids^0.653292328119278 aids^1.5 hiv^0.6532923728227615)^0.500000 (hiv aids)^0.500000'],\n",
       "      dtype=object)"
      ]
     },
     "execution_count": 71,
     "metadata": {},
     "output_type": "execute_result"
    }
   ],
   "source": [
    "pipe_QE_cus.search(\"hiv aids\")['query'].unique()"
   ]
  },
  {
   "cell_type": "code",
   "execution_count": 73,
   "metadata": {
    "ExecuteTime": {
     "end_time": "2021-06-15T05:14:06.293967Z",
     "start_time": "2021-06-15T05:13:45.420846Z"
    }
   },
   "outputs": [
    {
     "data": {
      "text/html": [
       "<div>\n",
       "<style scoped>\n",
       "    .dataframe tbody tr th:only-of-type {\n",
       "        vertical-align: middle;\n",
       "    }\n",
       "\n",
       "    .dataframe tbody tr th {\n",
       "        vertical-align: top;\n",
       "    }\n",
       "\n",
       "    .dataframe thead th {\n",
       "        text-align: right;\n",
       "    }\n",
       "</style>\n",
       "<table border=\"1\" class=\"dataframe\">\n",
       "  <thead>\n",
       "    <tr style=\"text-align: right;\">\n",
       "      <th></th>\n",
       "      <th>name</th>\n",
       "      <th>map</th>\n",
       "      <th>map +</th>\n",
       "      <th>map -</th>\n",
       "      <th>map p-value</th>\n",
       "    </tr>\n",
       "  </thead>\n",
       "  <tbody>\n",
       "    <tr>\n",
       "      <th>0</th>\n",
       "      <td>PL2</td>\n",
       "      <td>0.0695</td>\n",
       "      <td>NaN</td>\n",
       "      <td>NaN</td>\n",
       "      <td>NaN</td>\n",
       "    </tr>\n",
       "    <tr>\n",
       "      <th>1</th>\n",
       "      <td>BO1</td>\n",
       "      <td>0.0671</td>\n",
       "      <td>30.0</td>\n",
       "      <td>45.0</td>\n",
       "      <td>0.239678</td>\n",
       "    </tr>\n",
       "    <tr>\n",
       "      <th>2</th>\n",
       "      <td>Word2Vec</td>\n",
       "      <td>0.0719</td>\n",
       "      <td>24.0</td>\n",
       "      <td>45.0</td>\n",
       "      <td>0.311405</td>\n",
       "    </tr>\n",
       "  </tbody>\n",
       "</table>\n",
       "</div>"
      ],
      "text/plain": [
       "       name     map  map +  map -  map p-value\n",
       "0       PL2  0.0695    NaN    NaN          NaN\n",
       "1       BO1  0.0671   30.0   45.0     0.239678\n",
       "2  Word2Vec  0.0719   24.0   45.0     0.311405"
      ]
     },
     "execution_count": 73,
     "metadata": {},
     "output_type": "execute_result"
    }
   ],
   "source": [
    "# overall MAP\n",
    "\n",
    "pt.Experiment([pl2, pipe_QE, pipe_QE_cus],\n",
    "                  dotgov_topicsqrels.get_topics(variant='td'),\n",
    "                  dotgov_topicsqrels.get_qrels(variant='td'),\n",
    "                  eval_metrics=['map'], round=4,\n",
    "                  names=[\"PL2\", \"BO1\", \"Word2Vec\"], baseline=0)"
   ]
  },
  {
   "cell_type": "code",
   "execution_count": 33,
   "metadata": {
    "ExecuteTime": {
     "end_time": "2021-06-15T03:21:46.477222Z",
     "start_time": "2021-06-15T03:21:44.788454Z"
    }
   },
   "outputs": [
    {
     "data": {
      "image/png": "[encoded data removed]",
      "text/plain": [
       "<Figure size 576x396 with 1 Axes>"
      ]
     },
     "metadata": {},
     "output_type": "display_data"
    }
   ],
   "source": [
    "# compare with baseline PL2 per query\n",
    "\n",
    "plot_delta(pl2_cusQE)"
   ]
  },
  {
   "cell_type": "code",
   "execution_count": 34,
   "metadata": {
    "ExecuteTime": {
     "end_time": "2021-06-15T03:22:06.169293Z",
     "start_time": "2021-06-15T03:21:46.479506Z"
    }
   },
   "outputs": [
    {
     "data": {
      "image/png": "[encoded data removed]",
      "text/plain": [
       "<Figure size 576x396 with 1 Axes>"
      ]
     },
     "metadata": {},
     "output_type": "display_data"
    }
   ],
   "source": [
    "# compare the performance of BO1 and custom transformer per query\n",
    "\n",
    "bo1_cusQE = pt.Experiment([pipe_QE, pipe_QE_cus],\n",
    "                  dotgov_topicsqrels.get_topics(variant='td'),\n",
    "                  dotgov_topicsqrels.get_qrels(variant='td'),\n",
    "                  eval_metrics=['map'], round=4,\n",
    "                  names=[\"BO1\", \"Word2Vec\"], perquery=True)\n",
    "plot_delta(bo1_cusQE)"
   ]
  },
  {
   "cell_type": "markdown",
   "metadata": {
    "id": "BLuwITIISDL-"
   },
   "source": [
    "# That's all Folks\n",
    "\n",
    "**Submission Instructions:** Complete this notebook, and answer the related questions in the Exercise 2 Quiz Instance on Moodle. As part of the Quiz, you will be asked to upload your .ipynb notebook solution and answer various corresponding questions as per the exercise specification (use File... Download .ipynb).\n",
    "\n",
    "Your responses to the Quiz along with your ipynb notebook solution must be submitted by **Wednesday 16th June 2021, 4:30pm**."
   ]
  }
 ],
 "metadata": {
  "colab": {
   "collapsed_sections": [],
   "name": "IR(M) Exercise 2 TEMPLATE.ipynb",
   "provenance": [],
   "toc_visible": true
  },
  "kernelspec": {
   "display_name": "Python 3 (ipykernel)",
   "language": "python",
   "name": "python3"
  },
  "language_info": {
   "codemirror_mode": {
    "name": "ipython",
    "version": 3
   },
   "file_extension": ".py",
   "mimetype": "text/x-python",
   "name": "python",
   "nbconvert_exporter": "python",
   "pygments_lexer": "ipython3",
   "version": "3.8.11"
  },
  "widgets": {
   "application/vnd.jupyter.widget-state+json": {
    "00f0acda1a0b47268e52a65414de3e0c": {
     "model_module": "@jupyter-widgets/controls",
     "model_name": "ProgressStyleModel",
     "state": {
      "_model_module": "@jupyter-widgets/controls",
      "_model_module_version": "1.5.0",
      "_model_name": "ProgressStyleModel",
      "_view_count": null,
      "_view_module": "@jupyter-widgets/base",
      "_view_module_version": "1.2.0",
      "_view_name": "StyleView",
      "bar_color": null,
      "description_width": "initial"
     }
    },
    "013b15bc956e40359a7506661181d20f": {
     "model_module": "@jupyter-widgets/controls",
     "model_name": "HBoxModel",
     "state": {
      "_dom_classes": [],
      "_model_module": "@jupyter-widgets/controls",
      "_model_module_version": "1.5.0",
      "_model_name": "HBoxModel",
      "_view_count": null,
      "_view_module": "@jupyter-widgets/controls",
      "_view_module_version": "1.5.0",
      "_view_name": "HBoxView",
      "box_style": "",
      "children": [
       "IPY_MODEL_02232e07cda74d51943c4a81c8feeb0e",
       "IPY_MODEL_f05b26d51e03436d88f08588ff0f0116"
      ],
      "layout": "IPY_MODEL_2c4a49d746bf4e4fba9db41baa84e35f"
     }
    },
    "0215b53d0a914cf7940b114a4b534240": {
     "model_module": "@jupyter-widgets/base",
     "model_name": "LayoutModel",
     "state": {
      "_model_module": "@jupyter-widgets/base",
      "_model_module_version": "1.2.0",
      "_model_name": "LayoutModel",
      "_view_count": null,
      "_view_module": "@jupyter-widgets/base",
      "_view_module_version": "1.2.0",
      "_view_name": "LayoutView",
      "align_content": null,
      "align_items": null,
      "align_self": null,
      "border": null,
      "bottom": null,
      "display": null,
      "flex": null,
      "flex_flow": null,
      "grid_area": null,
      "grid_auto_columns": null,
      "grid_auto_flow": null,
      "grid_auto_rows": null,
      "grid_column": null,
      "grid_gap": null,
      "grid_row": null,
      "grid_template_areas": null,
      "grid_template_columns": null,
      "grid_template_rows": null,
      "height": null,
      "justify_content": null,
      "justify_items": null,
      "left": null,
      "margin": null,
      "max_height": null,
      "max_width": null,
      "min_height": null,
      "min_width": null,
      "object_fit": null,
      "object_position": null,
      "order": null,
      "overflow": null,
      "overflow_x": null,
      "overflow_y": null,
      "padding": null,
      "right": null,
      "top": null,
      "visibility": null,
      "width": null
     }
    },
    "02232e07cda74d51943c4a81c8feeb0e": {
     "model_module": "@jupyter-widgets/controls",
     "model_name": "FloatProgressModel",
     "state": {
      "_dom_classes": [],
      "_model_module": "@jupyter-widgets/controls",
      "_model_module_version": "1.5.0",
      "_model_name": "FloatProgressModel",
      "_view_count": null,
      "_view_module": "@jupyter-widgets/controls",
      "_view_module_version": "1.5.0",
      "_view_name": "ProgressView",
      "bar_style": "success",
      "description": "data.direct.bf: 100%",
      "description_tooltip": null,
      "layout": "IPY_MODEL_1c98f1257a1840ed86afb3e972e49fe6",
      "max": 276124794,
      "min": 0,
      "orientation": "horizontal",
      "style": "IPY_MODEL_13241a7afa9744b89af37b328e07a40b",
      "value": 276124794
     }
    },
    "0744b5d1d39243738281a05bef42b7aa": {
     "model_module": "@jupyter-widgets/base",
     "model_name": "LayoutModel",
     "state": {
      "_model_module": "@jupyter-widgets/base",
      "_model_module_version": "1.2.0",
      "_model_name": "LayoutModel",
      "_view_count": null,
      "_view_module": "@jupyter-widgets/base",
      "_view_module_version": "1.2.0",
      "_view_name": "LayoutView",
      "align_content": null,
      "align_items": null,
      "align_self": null,
      "border": null,
      "bottom": null,
      "display": null,
      "flex": null,
      "flex_flow": null,
      "grid_area": null,
      "grid_auto_columns": null,
      "grid_auto_flow": null,
      "grid_auto_rows": null,
      "grid_column": null,
      "grid_gap": null,
      "grid_row": null,
      "grid_template_areas": null,
      "grid_template_columns": null,
      "grid_template_rows": null,
      "height": null,
      "justify_content": null,
      "justify_items": null,
      "left": null,
      "margin": null,
      "max_height": null,
      "max_width": null,
      "min_height": null,
      "min_width": null,
      "object_fit": null,
      "object_position": null,
      "order": null,
      "overflow": null,
      "overflow_x": null,
      "overflow_y": null,
      "padding": null,
      "right": null,
      "top": null,
      "visibility": null,
      "width": null
     }
    },
    "0d3beae19e094822b745243e4751f36d": {
     "model_module": "@jupyter-widgets/controls",
     "model_name": "DescriptionStyleModel",
     "state": {
      "_model_module": "@jupyter-widgets/controls",
      "_model_module_version": "1.5.0",
      "_model_name": "DescriptionStyleModel",
      "_view_count": null,
      "_view_module": "@jupyter-widgets/base",
      "_view_module_version": "1.2.0",
      "_view_name": "StyleView",
      "description_width": ""
     }
    },
    "0dec935f87f94050aba3c939b2573a27": {
     "model_module": "@jupyter-widgets/base",
     "model_name": "LayoutModel",
     "state": {
      "_model_module": "@jupyter-widgets/base",
      "_model_module_version": "1.2.0",
      "_model_name": "LayoutModel",
      "_view_count": null,
      "_view_module": "@jupyter-widgets/base",
      "_view_module_version": "1.2.0",
      "_view_name": "LayoutView",
      "align_content": null,
      "align_items": null,
      "align_self": null,
      "border": null,
      "bottom": null,
      "display": null,
      "flex": null,
      "flex_flow": null,
      "grid_area": null,
      "grid_auto_columns": null,
      "grid_auto_flow": null,
      "grid_auto_rows": null,
      "grid_column": null,
      "grid_gap": null,
      "grid_row": null,
      "grid_template_areas": null,
      "grid_template_columns": null,
      "grid_template_rows": null,
      "height": null,
      "justify_content": null,
      "justify_items": null,
      "left": null,
      "margin": null,
      "max_height": null,
      "max_width": null,
      "min_height": null,
      "min_width": null,
      "object_fit": null,
      "object_position": null,
      "order": null,
      "overflow": null,
      "overflow_x": null,
      "overflow_y": null,
      "padding": null,
      "right": null,
      "top": null,
      "visibility": null,
      "width": null
     }
    },
    "13241a7afa9744b89af37b328e07a40b": {
     "model_module": "@jupyter-widgets/controls",
     "model_name": "ProgressStyleModel",
     "state": {
      "_model_module": "@jupyter-widgets/controls",
      "_model_module_version": "1.5.0",
      "_model_name": "ProgressStyleModel",
      "_view_count": null,
      "_view_module": "@jupyter-widgets/base",
      "_view_module_version": "1.2.0",
      "_view_name": "StyleView",
      "bar_color": null,
      "description_width": "initial"
     }
    },
    "18adddec26944a24a470fa96c1a763e5": {
     "model_module": "@jupyter-widgets/base",
     "model_name": "LayoutModel",
     "state": {
      "_model_module": "@jupyter-widgets/base",
      "_model_module_version": "1.2.0",
      "_model_name": "LayoutModel",
      "_view_count": null,
      "_view_module": "@jupyter-widgets/base",
      "_view_module_version": "1.2.0",
      "_view_name": "LayoutView",
      "align_content": null,
      "align_items": null,
      "align_self": null,
      "border": null,
      "bottom": null,
      "display": null,
      "flex": null,
      "flex_flow": null,
      "grid_area": null,
      "grid_auto_columns": null,
      "grid_auto_flow": null,
      "grid_auto_rows": null,
      "grid_column": null,
      "grid_gap": null,
      "grid_row": null,
      "grid_template_areas": null,
      "grid_template_columns": null,
      "grid_template_rows": null,
      "height": null,
      "justify_content": null,
      "justify_items": null,
      "left": null,
      "margin": null,
      "max_height": null,
      "max_width": null,
      "min_height": null,
      "min_width": null,
      "object_fit": null,
      "object_position": null,
      "order": null,
      "overflow": null,
      "overflow_x": null,
      "overflow_y": null,
      "padding": null,
      "right": null,
      "top": null,
      "visibility": null,
      "width": null
     }
    },
    "1b0be72083b84258b043397bb801e6c3": {
     "model_module": "@jupyter-widgets/base",
     "model_name": "LayoutModel",
     "state": {
      "_model_module": "@jupyter-widgets/base",
      "_model_module_version": "1.2.0",
      "_model_name": "LayoutModel",
      "_view_count": null,
      "_view_module": "@jupyter-widgets/base",
      "_view_module_version": "1.2.0",
      "_view_name": "LayoutView",
      "align_content": null,
      "align_items": null,
      "align_self": null,
      "border": null,
      "bottom": null,
      "display": null,
      "flex": null,
      "flex_flow": null,
      "grid_area": null,
      "grid_auto_columns": null,
      "grid_auto_flow": null,
      "grid_auto_rows": null,
      "grid_column": null,
      "grid_gap": null,
      "grid_row": null,
      "grid_template_areas": null,
      "grid_template_columns": null,
      "grid_template_rows": null,
      "height": null,
      "justify_content": null,
      "justify_items": null,
      "left": null,
      "margin": null,
      "max_height": null,
      "max_width": null,
      "min_height": null,
      "min_width": null,
      "object_fit": null,
      "object_position": null,
      "order": null,
      "overflow": null,
      "overflow_x": null,
      "overflow_y": null,
      "padding": null,
      "right": null,
      "top": null,
      "visibility": null,
      "width": null
     }
    },
    "1c98f1257a1840ed86afb3e972e49fe6": {
     "model_module": "@jupyter-widgets/base",
     "model_name": "LayoutModel",
     "state": {
      "_model_module": "@jupyter-widgets/base",
      "_model_module_version": "1.2.0",
      "_model_name": "LayoutModel",
      "_view_count": null,
      "_view_module": "@jupyter-widgets/base",
      "_view_module_version": "1.2.0",
      "_view_name": "LayoutView",
      "align_content": null,
      "align_items": null,
      "align_self": null,
      "border": null,
      "bottom": null,
      "display": null,
      "flex": null,
      "flex_flow": null,
      "grid_area": null,
      "grid_auto_columns": null,
      "grid_auto_flow": null,
      "grid_auto_rows": null,
      "grid_column": null,
      "grid_gap": null,
      "grid_row": null,
      "grid_template_areas": null,
      "grid_template_columns": null,
      "grid_template_rows": null,
      "height": null,
      "justify_content": null,
      "justify_items": null,
      "left": null,
      "margin": null,
      "max_height": null,
      "max_width": null,
      "min_height": null,
      "min_width": null,
      "object_fit": null,
      "object_position": null,
      "order": null,
      "overflow": null,
      "overflow_x": null,
      "overflow_y": null,
      "padding": null,
      "right": null,
      "top": null,
      "visibility": null,
      "width": null
     }
    },
    "2527184c0d214204992c1abf3416fbc9": {
     "model_module": "@jupyter-widgets/controls",
     "model_name": "FloatProgressModel",
     "state": {
      "_dom_classes": [],
      "_model_module": "@jupyter-widgets/controls",
      "_model_module_version": "1.5.0",
      "_model_name": "FloatProgressModel",
      "_view_count": null,
      "_view_module": "@jupyter-widgets/controls",
      "_view_module_version": "1.5.0",
      "_view_name": "ProgressView",
      "bar_style": "success",
      "description": "data.lexicon.fsomapid: 100%",
      "description_tooltip": null,
      "layout": "IPY_MODEL_51f0f542470c4b388e6938879ad49a53",
      "max": 8175152,
      "min": 0,
      "orientation": "horizontal",
      "style": "IPY_MODEL_98878c72bac346989e1b901509e0c0b6",
      "value": 8175152
     }
    },
    "2c4a49d746bf4e4fba9db41baa84e35f": {
     "model_module": "@jupyter-widgets/base",
     "model_name": "LayoutModel",
     "state": {
      "_model_module": "@jupyter-widgets/base",
      "_model_module_version": "1.2.0",
      "_model_name": "LayoutModel",
      "_view_count": null,
      "_view_module": "@jupyter-widgets/base",
      "_view_module_version": "1.2.0",
      "_view_name": "LayoutView",
      "align_content": null,
      "align_items": null,
      "align_self": null,
      "border": null,
      "bottom": null,
      "display": null,
      "flex": null,
      "flex_flow": null,
      "grid_area": null,
      "grid_auto_columns": null,
      "grid_auto_flow": null,
      "grid_auto_rows": null,
      "grid_column": null,
      "grid_gap": null,
      "grid_row": null,
      "grid_template_areas": null,
      "grid_template_columns": null,
      "grid_template_rows": null,
      "height": null,
      "justify_content": null,
      "justify_items": null,
      "left": null,
      "margin": null,
      "max_height": null,
      "max_width": null,
      "min_height": null,
      "min_width": null,
      "object_fit": null,
      "object_position": null,
      "order": null,
      "overflow": null,
      "overflow_x": null,
      "overflow_y": null,
      "padding": null,
      "right": null,
      "top": null,
      "visibility": null,
      "width": null
     }
    },
    "305dfc86069f441486340fa799602d37": {
     "model_module": "@jupyter-widgets/base",
     "model_name": "LayoutModel",
     "state": {
      "_model_module": "@jupyter-widgets/base",
      "_model_module_version": "1.2.0",
      "_model_name": "LayoutModel",
      "_view_count": null,
      "_view_module": "@jupyter-widgets/base",
      "_view_module_version": "1.2.0",
      "_view_name": "LayoutView",
      "align_content": null,
      "align_items": null,
      "align_self": null,
      "border": null,
      "bottom": null,
      "display": null,
      "flex": null,
      "flex_flow": null,
      "grid_area": null,
      "grid_auto_columns": null,
      "grid_auto_flow": null,
      "grid_auto_rows": null,
      "grid_column": null,
      "grid_gap": null,
      "grid_row": null,
      "grid_template_areas": null,
      "grid_template_columns": null,
      "grid_template_rows": null,
      "height": null,
      "justify_content": null,
      "justify_items": null,
      "left": null,
      "margin": null,
      "max_height": null,
      "max_width": null,
      "min_height": null,
      "min_width": null,
      "object_fit": null,
      "object_position": null,
      "order": null,
      "overflow": null,
      "overflow_x": null,
      "overflow_y": null,
      "padding": null,
      "right": null,
      "top": null,
      "visibility": null,
      "width": null
     }
    },
    "3403938673cb4382b0053145c6708eb5": {
     "model_module": "@jupyter-widgets/controls",
     "model_name": "HTMLModel",
     "state": {
      "_dom_classes": [],
      "_model_module": "@jupyter-widgets/controls",
      "_model_module_version": "1.5.0",
      "_model_name": "HTMLModel",
      "_view_count": null,
      "_view_module": "@jupyter-widgets/controls",
      "_view_module_version": "1.5.0",
      "_view_name": "HTMLView",
      "description": "",
      "description_tooltip": null,
      "layout": "IPY_MODEL_669c40be5d45438d872f61070b2e4e8d",
      "placeholder": "​",
      "style": "IPY_MODEL_952a162724cd4b08a514e5c3800d9769",
      "value": " 13.1M/13.1M [00:01&lt;00:00, 9.90MiB/s]"
     }
    },
    "3819236656184abaa48da23bea7f0a23": {
     "model_module": "@jupyter-widgets/base",
     "model_name": "LayoutModel",
     "state": {
      "_model_module": "@jupyter-widgets/base",
      "_model_module_version": "1.2.0",
      "_model_name": "LayoutModel",
      "_view_count": null,
      "_view_module": "@jupyter-widgets/base",
      "_view_module_version": "1.2.0",
      "_view_name": "LayoutView",
      "align_content": null,
      "align_items": null,
      "align_self": null,
      "border": null,
      "bottom": null,
      "display": null,
      "flex": null,
      "flex_flow": null,
      "grid_area": null,
      "grid_auto_columns": null,
      "grid_auto_flow": null,
      "grid_auto_rows": null,
      "grid_column": null,
      "grid_gap": null,
      "grid_row": null,
      "grid_template_areas": null,
      "grid_template_columns": null,
      "grid_template_rows": null,
      "height": null,
      "justify_content": null,
      "justify_items": null,
      "left": null,
      "margin": null,
      "max_height": null,
      "max_width": null,
      "min_height": null,
      "min_width": null,
      "object_fit": null,
      "object_position": null,
      "order": null,
      "overflow": null,
      "overflow_x": null,
      "overflow_y": null,
      "padding": null,
      "right": null,
      "top": null,
      "visibility": null,
      "width": null
     }
    },
    "3c43d498e8274e788e2c1d686323265f": {
     "model_module": "@jupyter-widgets/controls",
     "model_name": "FloatProgressModel",
     "state": {
      "_dom_classes": [],
      "_model_module": "@jupyter-widgets/controls",
      "_model_module_version": "1.5.0",
      "_model_name": "FloatProgressModel",
      "_view_count": null,
      "_view_module": "@jupyter-widgets/controls",
      "_view_module_version": "1.5.0",
      "_view_name": "ProgressView",
      "bar_style": "success",
      "description": "data.meta.idx: 100%",
      "description_tooltip": null,
      "layout": "IPY_MODEL_7e79d2a4c6a744f19c7a7cc2e4cb2b5a",
      "max": 6462200,
      "min": 0,
      "orientation": "horizontal",
      "style": "IPY_MODEL_a7581c82cb294bd9bdf75a26b776062b",
      "value": 6462200
     }
    },
    "3ffce9e7fcf641e183f59033e4b3d03b": {
     "model_module": "@jupyter-widgets/controls",
     "model_name": "HBoxModel",
     "state": {
      "_dom_classes": [],
      "_model_module": "@jupyter-widgets/controls",
      "_model_module_version": "1.5.0",
      "_model_name": "HBoxModel",
      "_view_count": null,
      "_view_module": "@jupyter-widgets/controls",
      "_view_module_version": "1.5.0",
      "_view_name": "HBoxView",
      "box_style": "",
      "children": [
       "IPY_MODEL_7d6dbe2a765c40a8b6f61f197fcbf8de",
       "IPY_MODEL_eb884a7fa36642088bd897cbf9aa6049"
      ],
      "layout": "IPY_MODEL_0744b5d1d39243738281a05bef42b7aa"
     }
    },
    "43da7364ccae4f4b9c6217f4f20ffb3a": {
     "model_module": "@jupyter-widgets/controls",
     "model_name": "ProgressStyleModel",
     "state": {
      "_model_module": "@jupyter-widgets/controls",
      "_model_module_version": "1.5.0",
      "_model_name": "ProgressStyleModel",
      "_view_count": null,
      "_view_module": "@jupyter-widgets/base",
      "_view_module_version": "1.2.0",
      "_view_name": "StyleView",
      "bar_color": null,
      "description_width": "initial"
     }
    },
    "445f4495d01a4bddade8cee5fc235225": {
     "model_module": "@jupyter-widgets/base",
     "model_name": "LayoutModel",
     "state": {
      "_model_module": "@jupyter-widgets/base",
      "_model_module_version": "1.2.0",
      "_model_name": "LayoutModel",
      "_view_count": null,
      "_view_module": "@jupyter-widgets/base",
      "_view_module_version": "1.2.0",
      "_view_name": "LayoutView",
      "align_content": null,
      "align_items": null,
      "align_self": null,
      "border": null,
      "bottom": null,
      "display": null,
      "flex": null,
      "flex_flow": null,
      "grid_area": null,
      "grid_auto_columns": null,
      "grid_auto_flow": null,
      "grid_auto_rows": null,
      "grid_column": null,
      "grid_gap": null,
      "grid_row": null,
      "grid_template_areas": null,
      "grid_template_columns": null,
      "grid_template_rows": null,
      "height": null,
      "justify_content": null,
      "justify_items": null,
      "left": null,
      "margin": null,
      "max_height": null,
      "max_width": null,
      "min_height": null,
      "min_width": null,
      "object_fit": null,
      "object_position": null,
      "order": null,
      "overflow": null,
      "overflow_x": null,
      "overflow_y": null,
      "padding": null,
      "right": null,
      "top": null,
      "visibility": null,
      "width": null
     }
    },
    "4468827d72cb442285f97862f4a4453d": {
     "model_module": "@jupyter-widgets/controls",
     "model_name": "DescriptionStyleModel",
     "state": {
      "_model_module": "@jupyter-widgets/controls",
      "_model_module_version": "1.5.0",
      "_model_name": "DescriptionStyleModel",
      "_view_count": null,
      "_view_module": "@jupyter-widgets/base",
      "_view_module_version": "1.2.0",
      "_view_name": "StyleView",
      "description_width": ""
     }
    },
    "4a08497d1f9142239c1318bb95f8b80c": {
     "model_module": "@jupyter-widgets/controls",
     "model_name": "DescriptionStyleModel",
     "state": {
      "_model_module": "@jupyter-widgets/controls",
      "_model_module_version": "1.5.0",
      "_model_name": "DescriptionStyleModel",
      "_view_count": null,
      "_view_module": "@jupyter-widgets/base",
      "_view_module_version": "1.2.0",
      "_view_name": "StyleView",
      "description_width": ""
     }
    },
    "4ab5be2df584479ea102568ccc74a7b5": {
     "model_module": "@jupyter-widgets/controls",
     "model_name": "ProgressStyleModel",
     "state": {
      "_model_module": "@jupyter-widgets/controls",
      "_model_module_version": "1.5.0",
      "_model_name": "ProgressStyleModel",
      "_view_count": null,
      "_view_module": "@jupyter-widgets/base",
      "_view_module_version": "1.2.0",
      "_view_name": "StyleView",
      "bar_color": null,
      "description_width": "initial"
     }
    },
    "4c22b7ca21464785b3264c4838051f53": {
     "model_module": "@jupyter-widgets/controls",
     "model_name": "HTMLModel",
     "state": {
      "_dom_classes": [],
      "_model_module": "@jupyter-widgets/controls",
      "_model_module_version": "1.5.0",
      "_model_name": "HTMLModel",
      "_view_count": null,
      "_view_module": "@jupyter-widgets/controls",
      "_view_module_version": "1.5.0",
      "_view_name": "HTMLView",
      "description": "",
      "description_tooltip": null,
      "layout": "IPY_MODEL_fa2adfdc0f47439fb7813725b46ed6be",
      "placeholder": "​",
      "style": "IPY_MODEL_0d3beae19e094822b745243e4751f36d",
      "value": " 168M/168M [00:06&lt;00:00, 25.1MiB/s]"
     }
    },
    "4f67250f02d94da68e05f75fe64bc7fc": {
     "model_module": "@jupyter-widgets/base",
     "model_name": "LayoutModel",
     "state": {
      "_model_module": "@jupyter-widgets/base",
      "_model_module_version": "1.2.0",
      "_model_name": "LayoutModel",
      "_view_count": null,
      "_view_module": "@jupyter-widgets/base",
      "_view_module_version": "1.2.0",
      "_view_name": "LayoutView",
      "align_content": null,
      "align_items": null,
      "align_self": null,
      "border": null,
      "bottom": null,
      "display": null,
      "flex": null,
      "flex_flow": null,
      "grid_area": null,
      "grid_auto_columns": null,
      "grid_auto_flow": null,
      "grid_auto_rows": null,
      "grid_column": null,
      "grid_gap": null,
      "grid_row": null,
      "grid_template_areas": null,
      "grid_template_columns": null,
      "grid_template_rows": null,
      "height": null,
      "justify_content": null,
      "justify_items": null,
      "left": null,
      "margin": null,
      "max_height": null,
      "max_width": null,
      "min_height": null,
      "min_width": null,
      "object_fit": null,
      "object_position": null,
      "order": null,
      "overflow": null,
      "overflow_x": null,
      "overflow_y": null,
      "padding": null,
      "right": null,
      "top": null,
      "visibility": null,
      "width": null
     }
    },
    "51f0f542470c4b388e6938879ad49a53": {
     "model_module": "@jupyter-widgets/base",
     "model_name": "LayoutModel",
     "state": {
      "_model_module": "@jupyter-widgets/base",
      "_model_module_version": "1.2.0",
      "_model_name": "LayoutModel",
      "_view_count": null,
      "_view_module": "@jupyter-widgets/base",
      "_view_module_version": "1.2.0",
      "_view_name": "LayoutView",
      "align_content": null,
      "align_items": null,
      "align_self": null,
      "border": null,
      "bottom": null,
      "display": null,
      "flex": null,
      "flex_flow": null,
      "grid_area": null,
      "grid_auto_columns": null,
      "grid_auto_flow": null,
      "grid_auto_rows": null,
      "grid_column": null,
      "grid_gap": null,
      "grid_row": null,
      "grid_template_areas": null,
      "grid_template_columns": null,
      "grid_template_rows": null,
      "height": null,
      "justify_content": null,
      "justify_items": null,
      "left": null,
      "margin": null,
      "max_height": null,
      "max_width": null,
      "min_height": null,
      "min_width": null,
      "object_fit": null,
      "object_position": null,
      "order": null,
      "overflow": null,
      "overflow_x": null,
      "overflow_y": null,
      "padding": null,
      "right": null,
      "top": null,
      "visibility": null,
      "width": null
     }
    },
    "553992a8219246c99ee30d60e02a1154": {
     "model_module": "@jupyter-widgets/base",
     "model_name": "LayoutModel",
     "state": {
      "_model_module": "@jupyter-widgets/base",
      "_model_module_version": "1.2.0",
      "_model_name": "LayoutModel",
      "_view_count": null,
      "_view_module": "@jupyter-widgets/base",
      "_view_module_version": "1.2.0",
      "_view_name": "LayoutView",
      "align_content": null,
      "align_items": null,
      "align_self": null,
      "border": null,
      "bottom": null,
      "display": null,
      "flex": null,
      "flex_flow": null,
      "grid_area": null,
      "grid_auto_columns": null,
      "grid_auto_flow": null,
      "grid_auto_rows": null,
      "grid_column": null,
      "grid_gap": null,
      "grid_row": null,
      "grid_template_areas": null,
      "grid_template_columns": null,
      "grid_template_rows": null,
      "height": null,
      "justify_content": null,
      "justify_items": null,
      "left": null,
      "margin": null,
      "max_height": null,
      "max_width": null,
      "min_height": null,
      "min_width": null,
      "object_fit": null,
      "object_position": null,
      "order": null,
      "overflow": null,
      "overflow_x": null,
      "overflow_y": null,
      "padding": null,
      "right": null,
      "top": null,
      "visibility": null,
      "width": null
     }
    },
    "5a2eaa80dec144169eabee71c07e189b": {
     "model_module": "@jupyter-widgets/controls",
     "model_name": "HTMLModel",
     "state": {
      "_dom_classes": [],
      "_model_module": "@jupyter-widgets/controls",
      "_model_module_version": "1.5.0",
      "_model_name": "HTMLModel",
      "_view_count": null,
      "_view_module": "@jupyter-widgets/controls",
      "_view_module_version": "1.5.0",
      "_view_name": "HTMLView",
      "description": "",
      "description_tooltip": null,
      "layout": "IPY_MODEL_ad476d75d3104105a8aa6510f051d3fe",
      "placeholder": "​",
      "style": "IPY_MODEL_8a1feec50fba4de78b0e13b119808ca3",
      "value": " 273M/273M [00:23&lt;00:00, 12.3MiB/s]"
     }
    },
    "5b39758690fc4955bbfeec7dfe6ec25a": {
     "model_module": "@jupyter-widgets/base",
     "model_name": "LayoutModel",
     "state": {
      "_model_module": "@jupyter-widgets/base",
      "_model_module_version": "1.2.0",
      "_model_name": "LayoutModel",
      "_view_count": null,
      "_view_module": "@jupyter-widgets/base",
      "_view_module_version": "1.2.0",
      "_view_name": "LayoutView",
      "align_content": null,
      "align_items": null,
      "align_self": null,
      "border": null,
      "bottom": null,
      "display": null,
      "flex": null,
      "flex_flow": null,
      "grid_area": null,
      "grid_auto_columns": null,
      "grid_auto_flow": null,
      "grid_auto_rows": null,
      "grid_column": null,
      "grid_gap": null,
      "grid_row": null,
      "grid_template_areas": null,
      "grid_template_columns": null,
      "grid_template_rows": null,
      "height": null,
      "justify_content": null,
      "justify_items": null,
      "left": null,
      "margin": null,
      "max_height": null,
      "max_width": null,
      "min_height": null,
      "min_width": null,
      "object_fit": null,
      "object_position": null,
      "order": null,
      "overflow": null,
      "overflow_x": null,
      "overflow_y": null,
      "padding": null,
      "right": null,
      "top": null,
      "visibility": null,
      "width": null
     }
    },
    "5e5c6f814af44a64aa966ab8f0557711": {
     "model_module": "@jupyter-widgets/controls",
     "model_name": "DescriptionStyleModel",
     "state": {
      "_model_module": "@jupyter-widgets/controls",
      "_model_module_version": "1.5.0",
      "_model_name": "DescriptionStyleModel",
      "_view_count": null,
      "_view_module": "@jupyter-widgets/base",
      "_view_module_version": "1.2.0",
      "_view_name": "StyleView",
      "description_width": ""
     }
    },
    "5eefd86d45ac4dd5b377042b85ea033b": {
     "model_module": "@jupyter-widgets/controls",
     "model_name": "HBoxModel",
     "state": {
      "_dom_classes": [],
      "_model_module": "@jupyter-widgets/controls",
      "_model_module_version": "1.5.0",
      "_model_name": "HBoxModel",
      "_view_count": null,
      "_view_module": "@jupyter-widgets/controls",
      "_view_module_version": "1.5.0",
      "_view_name": "HBoxView",
      "box_style": "",
      "children": [
       "IPY_MODEL_ee62d38a75f44290b157828ca3507c29",
       "IPY_MODEL_4c22b7ca21464785b3264c4838051f53"
      ],
      "layout": "IPY_MODEL_e998592e84f84f0ba73c50ad43fd4c70"
     }
    },
    "6000313b3e90415cbdcbafc3ba23e854": {
     "model_module": "@jupyter-widgets/base",
     "model_name": "LayoutModel",
     "state": {
      "_model_module": "@jupyter-widgets/base",
      "_model_module_version": "1.2.0",
      "_model_name": "LayoutModel",
      "_view_count": null,
      "_view_module": "@jupyter-widgets/base",
      "_view_module_version": "1.2.0",
      "_view_name": "LayoutView",
      "align_content": null,
      "align_items": null,
      "align_self": null,
      "border": null,
      "bottom": null,
      "display": null,
      "flex": null,
      "flex_flow": null,
      "grid_area": null,
      "grid_auto_columns": null,
      "grid_auto_flow": null,
      "grid_auto_rows": null,
      "grid_column": null,
      "grid_gap": null,
      "grid_row": null,
      "grid_template_areas": null,
      "grid_template_columns": null,
      "grid_template_rows": null,
      "height": null,
      "justify_content": null,
      "justify_items": null,
      "left": null,
      "margin": null,
      "max_height": null,
      "max_width": null,
      "min_height": null,
      "min_width": null,
      "object_fit": null,
      "object_position": null,
      "order": null,
      "overflow": null,
      "overflow_x": null,
      "overflow_y": null,
      "padding": null,
      "right": null,
      "top": null,
      "visibility": null,
      "width": null
     }
    },
    "606016c1becd46d3860f79693ceeef70": {
     "model_module": "@jupyter-widgets/controls",
     "model_name": "DescriptionStyleModel",
     "state": {
      "_model_module": "@jupyter-widgets/controls",
      "_model_module_version": "1.5.0",
      "_model_name": "DescriptionStyleModel",
      "_view_count": null,
      "_view_module": "@jupyter-widgets/base",
      "_view_module_version": "1.2.0",
      "_view_name": "StyleView",
      "description_width": ""
     }
    },
    "61f223d2a36047fd8e8ccfd69ea3971c": {
     "model_module": "@jupyter-widgets/controls",
     "model_name": "DescriptionStyleModel",
     "state": {
      "_model_module": "@jupyter-widgets/controls",
      "_model_module_version": "1.5.0",
      "_model_name": "DescriptionStyleModel",
      "_view_count": null,
      "_view_module": "@jupyter-widgets/base",
      "_view_module_version": "1.2.0",
      "_view_name": "StyleView",
      "description_width": ""
     }
    },
    "65aacb16c3c54b41b3981dbe68005eeb": {
     "model_module": "@jupyter-widgets/controls",
     "model_name": "DescriptionStyleModel",
     "state": {
      "_model_module": "@jupyter-widgets/controls",
      "_model_module_version": "1.5.0",
      "_model_name": "DescriptionStyleModel",
      "_view_count": null,
      "_view_module": "@jupyter-widgets/base",
      "_view_module_version": "1.2.0",
      "_view_name": "StyleView",
      "description_width": ""
     }
    },
    "669c40be5d45438d872f61070b2e4e8d": {
     "model_module": "@jupyter-widgets/base",
     "model_name": "LayoutModel",
     "state": {
      "_model_module": "@jupyter-widgets/base",
      "_model_module_version": "1.2.0",
      "_model_name": "LayoutModel",
      "_view_count": null,
      "_view_module": "@jupyter-widgets/base",
      "_view_module_version": "1.2.0",
      "_view_name": "LayoutView",
      "align_content": null,
      "align_items": null,
      "align_self": null,
      "border": null,
      "bottom": null,
      "display": null,
      "flex": null,
      "flex_flow": null,
      "grid_area": null,
      "grid_auto_columns": null,
      "grid_auto_flow": null,
      "grid_auto_rows": null,
      "grid_column": null,
      "grid_gap": null,
      "grid_row": null,
      "grid_template_areas": null,
      "grid_template_columns": null,
      "grid_template_rows": null,
      "height": null,
      "justify_content": null,
      "justify_items": null,
      "left": null,
      "margin": null,
      "max_height": null,
      "max_width": null,
      "min_height": null,
      "min_width": null,
      "object_fit": null,
      "object_position": null,
      "order": null,
      "overflow": null,
      "overflow_x": null,
      "overflow_y": null,
      "padding": null,
      "right": null,
      "top": null,
      "visibility": null,
      "width": null
     }
    },
    "6d330623d2d84a0a823f83ebef3c4d0c": {
     "model_module": "@jupyter-widgets/base",
     "model_name": "LayoutModel",
     "state": {
      "_model_module": "@jupyter-widgets/base",
      "_model_module_version": "1.2.0",
      "_model_name": "LayoutModel",
      "_view_count": null,
      "_view_module": "@jupyter-widgets/base",
      "_view_module_version": "1.2.0",
      "_view_name": "LayoutView",
      "align_content": null,
      "align_items": null,
      "align_self": null,
      "border": null,
      "bottom": null,
      "display": null,
      "flex": null,
      "flex_flow": null,
      "grid_area": null,
      "grid_auto_columns": null,
      "grid_auto_flow": null,
      "grid_auto_rows": null,
      "grid_column": null,
      "grid_gap": null,
      "grid_row": null,
      "grid_template_areas": null,
      "grid_template_columns": null,
      "grid_template_rows": null,
      "height": null,
      "justify_content": null,
      "justify_items": null,
      "left": null,
      "margin": null,
      "max_height": null,
      "max_width": null,
      "min_height": null,
      "min_width": null,
      "object_fit": null,
      "object_position": null,
      "order": null,
      "overflow": null,
      "overflow_x": null,
      "overflow_y": null,
      "padding": null,
      "right": null,
      "top": null,
      "visibility": null,
      "width": null
     }
    },
    "6fe4638e64b74fb0945c413a0aa99b4f": {
     "model_module": "@jupyter-widgets/controls",
     "model_name": "HBoxModel",
     "state": {
      "_dom_classes": [],
      "_model_module": "@jupyter-widgets/controls",
      "_model_module_version": "1.5.0",
      "_model_name": "HBoxModel",
      "_view_count": null,
      "_view_module": "@jupyter-widgets/controls",
      "_view_module_version": "1.5.0",
      "_view_name": "HBoxView",
      "box_style": "",
      "children": [
       "IPY_MODEL_d99125c0d4694d7d936cce565ace4cef",
       "IPY_MODEL_bc0f2f0d8b5b447ebbf554c0d11b11d2"
      ],
      "layout": "IPY_MODEL_3819236656184abaa48da23bea7f0a23"
     }
    },
    "75b176d2135948a589d6ce3689bda029": {
     "model_module": "@jupyter-widgets/base",
     "model_name": "LayoutModel",
     "state": {
      "_model_module": "@jupyter-widgets/base",
      "_model_module_version": "1.2.0",
      "_model_name": "LayoutModel",
      "_view_count": null,
      "_view_module": "@jupyter-widgets/base",
      "_view_module_version": "1.2.0",
      "_view_name": "LayoutView",
      "align_content": null,
      "align_items": null,
      "align_self": null,
      "border": null,
      "bottom": null,
      "display": null,
      "flex": null,
      "flex_flow": null,
      "grid_area": null,
      "grid_auto_columns": null,
      "grid_auto_flow": null,
      "grid_auto_rows": null,
      "grid_column": null,
      "grid_gap": null,
      "grid_row": null,
      "grid_template_areas": null,
      "grid_template_columns": null,
      "grid_template_rows": null,
      "height": null,
      "justify_content": null,
      "justify_items": null,
      "left": null,
      "margin": null,
      "max_height": null,
      "max_width": null,
      "min_height": null,
      "min_width": null,
      "object_fit": null,
      "object_position": null,
      "order": null,
      "overflow": null,
      "overflow_x": null,
      "overflow_y": null,
      "padding": null,
      "right": null,
      "top": null,
      "visibility": null,
      "width": null
     }
    },
    "77b1662273bc43f39e067dab28b388f7": {
     "model_module": "@jupyter-widgets/controls",
     "model_name": "FloatProgressModel",
     "state": {
      "_dom_classes": [],
      "_model_module": "@jupyter-widgets/controls",
      "_model_module_version": "1.5.0",
      "_model_name": "FloatProgressModel",
      "_view_count": null,
      "_view_module": "@jupyter-widgets/controls",
      "_view_module_version": "1.5.0",
      "_view_name": "ProgressView",
      "bar_style": "success",
      "description": "data.meta.zdata: 100%",
      "description_tooltip": null,
      "layout": "IPY_MODEL_445f4495d01a4bddade8cee5fc235225",
      "max": 20117712,
      "min": 0,
      "orientation": "horizontal",
      "style": "IPY_MODEL_97e453f8bfa3439da593c62ba7d9fad0",
      "value": 20117712
     }
    },
    "7999a1c640f34087b5f9a6981912473e": {
     "model_module": "@jupyter-widgets/controls",
     "model_name": "FloatProgressModel",
     "state": {
      "_dom_classes": [],
      "_model_module": "@jupyter-widgets/controls",
      "_model_module_version": "1.5.0",
      "_model_name": "FloatProgressModel",
      "_view_count": null,
      "_view_module": "@jupyter-widgets/controls",
      "_view_module_version": "1.5.0",
      "_view_name": "ProgressView",
      "bar_style": "success",
      "description": "data.inverted.bf: 100%",
      "description_tooltip": null,
      "layout": "IPY_MODEL_1b0be72083b84258b043397bb801e6c3",
      "max": 286599842,
      "min": 0,
      "orientation": "horizontal",
      "style": "IPY_MODEL_43da7364ccae4f4b9c6217f4f20ffb3a",
      "value": 286599842
     }
    },
    "7d6dbe2a765c40a8b6f61f197fcbf8de": {
     "model_module": "@jupyter-widgets/controls",
     "model_name": "FloatProgressModel",
     "state": {
      "_dom_classes": [],
      "_model_module": "@jupyter-widgets/controls",
      "_model_module_version": "1.5.0",
      "_model_name": "FloatProgressModel",
      "_view_count": null,
      "_view_module": "@jupyter-widgets/controls",
      "_view_module_version": "1.5.0",
      "_view_name": "ProgressView",
      "bar_style": "success",
      "description": "04.qrels.web.mixed.txt: 100%",
      "description_tooltip": null,
      "layout": "IPY_MODEL_6d330623d2d84a0a823f83ebef3c4d0c",
      "max": 1996931,
      "min": 0,
      "orientation": "horizontal",
      "style": "IPY_MODEL_00f0acda1a0b47268e52a65414de3e0c",
      "value": 1996931
     }
    },
    "7e79d2a4c6a744f19c7a7cc2e4cb2b5a": {
     "model_module": "@jupyter-widgets/base",
     "model_name": "LayoutModel",
     "state": {
      "_model_module": "@jupyter-widgets/base",
      "_model_module_version": "1.2.0",
      "_model_name": "LayoutModel",
      "_view_count": null,
      "_view_module": "@jupyter-widgets/base",
      "_view_module_version": "1.2.0",
      "_view_name": "LayoutView",
      "align_content": null,
      "align_items": null,
      "align_self": null,
      "border": null,
      "bottom": null,
      "display": null,
      "flex": null,
      "flex_flow": null,
      "grid_area": null,
      "grid_auto_columns": null,
      "grid_auto_flow": null,
      "grid_auto_rows": null,
      "grid_column": null,
      "grid_gap": null,
      "grid_row": null,
      "grid_template_areas": null,
      "grid_template_columns": null,
      "grid_template_rows": null,
      "height": null,
      "justify_content": null,
      "justify_items": null,
      "left": null,
      "margin": null,
      "max_height": null,
      "max_width": null,
      "min_height": null,
      "min_width": null,
      "object_fit": null,
      "object_position": null,
      "order": null,
      "overflow": null,
      "overflow_x": null,
      "overflow_y": null,
      "padding": null,
      "right": null,
      "top": null,
      "visibility": null,
      "width": null
     }
    },
    "7ebfaca4fdae4c93b9088e255a61e75f": {
     "model_module": "@jupyter-widgets/base",
     "model_name": "LayoutModel",
     "state": {
      "_model_module": "@jupyter-widgets/base",
      "_model_module_version": "1.2.0",
      "_model_name": "LayoutModel",
      "_view_count": null,
      "_view_module": "@jupyter-widgets/base",
      "_view_module_version": "1.2.0",
      "_view_name": "LayoutView",
      "align_content": null,
      "align_items": null,
      "align_self": null,
      "border": null,
      "bottom": null,
      "display": null,
      "flex": null,
      "flex_flow": null,
      "grid_area": null,
      "grid_auto_columns": null,
      "grid_auto_flow": null,
      "grid_auto_rows": null,
      "grid_column": null,
      "grid_gap": null,
      "grid_row": null,
      "grid_template_areas": null,
      "grid_template_columns": null,
      "grid_template_rows": null,
      "height": null,
      "justify_content": null,
      "justify_items": null,
      "left": null,
      "margin": null,
      "max_height": null,
      "max_width": null,
      "min_height": null,
      "min_width": null,
      "object_fit": null,
      "object_position": null,
      "order": null,
      "overflow": null,
      "overflow_x": null,
      "overflow_y": null,
      "padding": null,
      "right": null,
      "top": null,
      "visibility": null,
      "width": null
     }
    },
    "7fe0efb1eb974971a2f9371999972b3a": {
     "model_module": "@jupyter-widgets/base",
     "model_name": "LayoutModel",
     "state": {
      "_model_module": "@jupyter-widgets/base",
      "_model_module_version": "1.2.0",
      "_model_name": "LayoutModel",
      "_view_count": null,
      "_view_module": "@jupyter-widgets/base",
      "_view_module_version": "1.2.0",
      "_view_name": "LayoutView",
      "align_content": null,
      "align_items": null,
      "align_self": null,
      "border": null,
      "bottom": null,
      "display": null,
      "flex": null,
      "flex_flow": null,
      "grid_area": null,
      "grid_auto_columns": null,
      "grid_auto_flow": null,
      "grid_auto_rows": null,
      "grid_column": null,
      "grid_gap": null,
      "grid_row": null,
      "grid_template_areas": null,
      "grid_template_columns": null,
      "grid_template_rows": null,
      "height": null,
      "justify_content": null,
      "justify_items": null,
      "left": null,
      "margin": null,
      "max_height": null,
      "max_width": null,
      "min_height": null,
      "min_width": null,
      "object_fit": null,
      "object_position": null,
      "order": null,
      "overflow": null,
      "overflow_x": null,
      "overflow_y": null,
      "padding": null,
      "right": null,
      "top": null,
      "visibility": null,
      "width": null
     }
    },
    "8038ddfc39ec4672a9c05c6e115064d4": {
     "model_module": "@jupyter-widgets/controls",
     "model_name": "HTMLModel",
     "state": {
      "_dom_classes": [],
      "_model_module": "@jupyter-widgets/controls",
      "_model_module_version": "1.5.0",
      "_model_name": "HTMLModel",
      "_view_count": null,
      "_view_module": "@jupyter-widgets/controls",
      "_view_module_version": "1.5.0",
      "_view_name": "HTMLView",
      "description": "",
      "description_tooltip": null,
      "layout": "IPY_MODEL_aca2fcad7f1c485b826a9fd05f57413d",
      "placeholder": "​",
      "style": "IPY_MODEL_5e5c6f814af44a64aa966ab8f0557711",
      "value": " 6.16M/6.16M [00:03&lt;00:00, 1.74MiB/s]"
     }
    },
    "854fb26cf8c840a68097278f381fae9e": {
     "model_module": "@jupyter-widgets/controls",
     "model_name": "DescriptionStyleModel",
     "state": {
      "_model_module": "@jupyter-widgets/controls",
      "_model_module_version": "1.5.0",
      "_model_name": "DescriptionStyleModel",
      "_view_count": null,
      "_view_module": "@jupyter-widgets/base",
      "_view_module_version": "1.2.0",
      "_view_name": "StyleView",
      "description_width": ""
     }
    },
    "878037adbf454986ae585205dbe48ac3": {
     "model_module": "@jupyter-widgets/base",
     "model_name": "LayoutModel",
     "state": {
      "_model_module": "@jupyter-widgets/base",
      "_model_module_version": "1.2.0",
      "_model_name": "LayoutModel",
      "_view_count": null,
      "_view_module": "@jupyter-widgets/base",
      "_view_module_version": "1.2.0",
      "_view_name": "LayoutView",
      "align_content": null,
      "align_items": null,
      "align_self": null,
      "border": null,
      "bottom": null,
      "display": null,
      "flex": null,
      "flex_flow": null,
      "grid_area": null,
      "grid_auto_columns": null,
      "grid_auto_flow": null,
      "grid_auto_rows": null,
      "grid_column": null,
      "grid_gap": null,
      "grid_row": null,
      "grid_template_areas": null,
      "grid_template_columns": null,
      "grid_template_rows": null,
      "height": null,
      "justify_content": null,
      "justify_items": null,
      "left": null,
      "margin": null,
      "max_height": null,
      "max_width": null,
      "min_height": null,
      "min_width": null,
      "object_fit": null,
      "object_position": null,
      "order": null,
      "overflow": null,
      "overflow_x": null,
      "overflow_y": null,
      "padding": null,
      "right": null,
      "top": null,
      "visibility": null,
      "width": null
     }
    },
    "8a1feec50fba4de78b0e13b119808ca3": {
     "model_module": "@jupyter-widgets/controls",
     "model_name": "DescriptionStyleModel",
     "state": {
      "_model_module": "@jupyter-widgets/controls",
      "_model_module_version": "1.5.0",
      "_model_name": "DescriptionStyleModel",
      "_view_count": null,
      "_view_module": "@jupyter-widgets/base",
      "_view_module_version": "1.2.0",
      "_view_name": "StyleView",
      "description_width": ""
     }
    },
    "8b44cf40f1024070af14dbf689f7c213": {
     "model_module": "@jupyter-widgets/controls",
     "model_name": "HTMLModel",
     "state": {
      "_dom_classes": [],
      "_model_module": "@jupyter-widgets/controls",
      "_model_module_version": "1.5.0",
      "_model_name": "HTMLModel",
      "_view_count": null,
      "_view_module": "@jupyter-widgets/controls",
      "_view_module_version": "1.5.0",
      "_view_name": "HTMLView",
      "description": "",
      "description_tooltip": null,
      "layout": "IPY_MODEL_878037adbf454986ae585205dbe48ac3",
      "placeholder": "​",
      "style": "IPY_MODEL_8fb7e111a925421b92d734ccb83cfa6e",
      "value": " 50.1M/50.1M [00:37&lt;00:00, 1.39MiB/s]"
     }
    },
    "8d822e7ba7ff4c6f82817914125de6e0": {
     "model_module": "@jupyter-widgets/controls",
     "model_name": "FloatProgressModel",
     "state": {
      "_dom_classes": [],
      "_model_module": "@jupyter-widgets/controls",
      "_model_module_version": "1.5.0",
      "_model_name": "FloatProgressModel",
      "_view_count": null,
      "_view_module": "@jupyter-widgets/controls",
      "_view_module_version": "1.5.0",
      "_view_name": "ProgressView",
      "bar_style": "success",
      "description": "data.lexicon.fsomaphash: 100%",
      "description_tooltip": null,
      "layout": "IPY_MODEL_75b176d2135948a589d6ce3689bda029",
      "max": 1017,
      "min": 0,
      "orientation": "horizontal",
      "style": "IPY_MODEL_f84fc31da60e4b09a34de7ea31ca84b3",
      "value": 1017
     }
    },
    "8fb7e111a925421b92d734ccb83cfa6e": {
     "model_module": "@jupyter-widgets/controls",
     "model_name": "DescriptionStyleModel",
     "state": {
      "_model_module": "@jupyter-widgets/controls",
      "_model_module_version": "1.5.0",
      "_model_name": "DescriptionStyleModel",
      "_view_count": null,
      "_view_module": "@jupyter-widgets/base",
      "_view_module_version": "1.2.0",
      "_view_name": "StyleView",
      "description_width": ""
     }
    },
    "91119fbece5f44619746387d13b8f840": {
     "model_module": "@jupyter-widgets/base",
     "model_name": "LayoutModel",
     "state": {
      "_model_module": "@jupyter-widgets/base",
      "_model_module_version": "1.2.0",
      "_model_name": "LayoutModel",
      "_view_count": null,
      "_view_module": "@jupyter-widgets/base",
      "_view_module_version": "1.2.0",
      "_view_name": "LayoutView",
      "align_content": null,
      "align_items": null,
      "align_self": null,
      "border": null,
      "bottom": null,
      "display": null,
      "flex": null,
      "flex_flow": null,
      "grid_area": null,
      "grid_auto_columns": null,
      "grid_auto_flow": null,
      "grid_auto_rows": null,
      "grid_column": null,
      "grid_gap": null,
      "grid_row": null,
      "grid_template_areas": null,
      "grid_template_columns": null,
      "grid_template_rows": null,
      "height": null,
      "justify_content": null,
      "justify_items": null,
      "left": null,
      "margin": null,
      "max_height": null,
      "max_width": null,
      "min_height": null,
      "min_width": null,
      "object_fit": null,
      "object_position": null,
      "order": null,
      "overflow": null,
      "overflow_x": null,
      "overflow_y": null,
      "padding": null,
      "right": null,
      "top": null,
      "visibility": null,
      "width": null
     }
    },
    "9329032dd5d5442caeb9df93a85cadf4": {
     "model_module": "@jupyter-widgets/controls",
     "model_name": "HBoxModel",
     "state": {
      "_dom_classes": [],
      "_model_module": "@jupyter-widgets/controls",
      "_model_module_version": "1.5.0",
      "_model_name": "HBoxModel",
      "_view_count": null,
      "_view_module": "@jupyter-widgets/controls",
      "_view_module_version": "1.5.0",
      "_view_name": "HBoxView",
      "box_style": "",
      "children": [
       "IPY_MODEL_2527184c0d214204992c1abf3416fbc9",
       "IPY_MODEL_e6dc3f92081f4712a5ca2968108cc3cf"
      ],
      "layout": "IPY_MODEL_b43b8a8a6dec4d93b3d83bde6f574e26"
     }
    },
    "952a162724cd4b08a514e5c3800d9769": {
     "model_module": "@jupyter-widgets/controls",
     "model_name": "DescriptionStyleModel",
     "state": {
      "_model_module": "@jupyter-widgets/controls",
      "_model_module_version": "1.5.0",
      "_model_name": "DescriptionStyleModel",
      "_view_count": null,
      "_view_module": "@jupyter-widgets/base",
      "_view_module_version": "1.2.0",
      "_view_name": "StyleView",
      "description_width": ""
     }
    },
    "97e453f8bfa3439da593c62ba7d9fad0": {
     "model_module": "@jupyter-widgets/controls",
     "model_name": "ProgressStyleModel",
     "state": {
      "_model_module": "@jupyter-widgets/controls",
      "_model_module_version": "1.5.0",
      "_model_name": "ProgressStyleModel",
      "_view_count": null,
      "_view_module": "@jupyter-widgets/base",
      "_view_module_version": "1.2.0",
      "_view_name": "StyleView",
      "bar_color": null,
      "description_width": "initial"
     }
    },
    "97e9914908664de8807604ebbabea587": {
     "model_module": "@jupyter-widgets/controls",
     "model_name": "HTMLModel",
     "state": {
      "_dom_classes": [],
      "_model_module": "@jupyter-widgets/controls",
      "_model_module_version": "1.5.0",
      "_model_name": "HTMLModel",
      "_view_count": null,
      "_view_module": "@jupyter-widgets/controls",
      "_view_module_version": "1.5.0",
      "_view_name": "HTMLView",
      "description": "",
      "description_tooltip": null,
      "layout": "IPY_MODEL_0dec935f87f94050aba3c939b2573a27",
      "placeholder": "​",
      "style": "IPY_MODEL_4468827d72cb442285f97862f4a4453d",
      "value": " 0.99k/0.99k [00:00&lt;00:00, 3.51kiB/s]"
     }
    },
    "98878c72bac346989e1b901509e0c0b6": {
     "model_module": "@jupyter-widgets/controls",
     "model_name": "ProgressStyleModel",
     "state": {
      "_model_module": "@jupyter-widgets/controls",
      "_model_module_version": "1.5.0",
      "_model_name": "ProgressStyleModel",
      "_view_count": null,
      "_view_module": "@jupyter-widgets/base",
      "_view_module_version": "1.2.0",
      "_view_name": "StyleView",
      "bar_color": null,
      "description_width": "initial"
     }
    },
    "994affa386604abcb68823dbfb2d6026": {
     "model_module": "@jupyter-widgets/controls",
     "model_name": "FloatProgressModel",
     "state": {
      "_dom_classes": [],
      "_model_module": "@jupyter-widgets/controls",
      "_model_module_version": "1.5.0",
      "_model_name": "FloatProgressModel",
      "_view_count": null,
      "_view_module": "@jupyter-widgets/controls",
      "_view_module_version": "1.5.0",
      "_view_name": "ProgressView",
      "bar_style": "success",
      "description": "data.meta-0.fsomapfile: 100%",
      "description_tooltip": null,
      "layout": "IPY_MODEL_553992a8219246c99ee30d60e02a1154",
      "max": 52505375,
      "min": 0,
      "orientation": "horizontal",
      "style": "IPY_MODEL_a1332feaad0c4011bb93f535bf5a3315",
      "value": 52505375
     }
    },
    "9a417a794872471eaa0c575f530ad048": {
     "model_module": "@jupyter-widgets/controls",
     "model_name": "FloatProgressModel",
     "state": {
      "_dom_classes": [],
      "_model_module": "@jupyter-widgets/controls",
      "_model_module_version": "1.5.0",
      "_model_name": "FloatProgressModel",
      "_view_count": null,
      "_view_module": "@jupyter-widgets/controls",
      "_view_module_version": "1.5.0",
      "_view_name": "ProgressView",
      "bar_style": "success",
      "description": "Web2004.query.stream.trecformat.txt: 100%",
      "description_tooltip": null,
      "layout": "IPY_MODEL_df2be546365f415f8c4a2ea4dd3d5523",
      "max": 15657,
      "min": 0,
      "orientation": "horizontal",
      "style": "IPY_MODEL_9b509b0a924b46f7b3ff5d033be386eb",
      "value": 15657
     }
    },
    "9b509b0a924b46f7b3ff5d033be386eb": {
     "model_module": "@jupyter-widgets/controls",
     "model_name": "ProgressStyleModel",
     "state": {
      "_model_module": "@jupyter-widgets/controls",
      "_model_module_version": "1.5.0",
      "_model_name": "ProgressStyleModel",
      "_view_count": null,
      "_view_module": "@jupyter-widgets/base",
      "_view_module_version": "1.2.0",
      "_view_name": "StyleView",
      "bar_color": null,
      "description_width": "initial"
     }
    },
    "9bdd3e79b16d4553acce712a1b0c8aa5": {
     "model_module": "@jupyter-widgets/controls",
     "model_name": "HBoxModel",
     "state": {
      "_dom_classes": [],
      "_model_module": "@jupyter-widgets/controls",
      "_model_module_version": "1.5.0",
      "_model_name": "HBoxModel",
      "_view_count": null,
      "_view_module": "@jupyter-widgets/controls",
      "_view_module_version": "1.5.0",
      "_view_name": "HBoxView",
      "box_style": "",
      "children": [
       "IPY_MODEL_9a417a794872471eaa0c575f530ad048",
       "IPY_MODEL_badd4c06f95c47ae90dde73f743da910"
      ],
      "layout": "IPY_MODEL_7ebfaca4fdae4c93b9088e255a61e75f"
     }
    },
    "a1332feaad0c4011bb93f535bf5a3315": {
     "model_module": "@jupyter-widgets/controls",
     "model_name": "ProgressStyleModel",
     "state": {
      "_model_module": "@jupyter-widgets/controls",
      "_model_module_version": "1.5.0",
      "_model_name": "ProgressStyleModel",
      "_view_count": null,
      "_view_module": "@jupyter-widgets/base",
      "_view_module_version": "1.2.0",
      "_view_name": "StyleView",
      "bar_color": null,
      "description_width": "initial"
     }
    },
    "a7581c82cb294bd9bdf75a26b776062b": {
     "model_module": "@jupyter-widgets/controls",
     "model_name": "ProgressStyleModel",
     "state": {
      "_model_module": "@jupyter-widgets/controls",
      "_model_module_version": "1.5.0",
      "_model_name": "ProgressStyleModel",
      "_view_count": null,
      "_view_module": "@jupyter-widgets/base",
      "_view_module_version": "1.2.0",
      "_view_name": "StyleView",
      "bar_color": null,
      "description_width": "initial"
     }
    },
    "a85c2125613148d7ba3ccbe19d42191e": {
     "model_module": "@jupyter-widgets/controls",
     "model_name": "HBoxModel",
     "state": {
      "_dom_classes": [],
      "_model_module": "@jupyter-widgets/controls",
      "_model_module_version": "1.5.0",
      "_model_name": "HBoxModel",
      "_view_count": null,
      "_view_module": "@jupyter-widgets/controls",
      "_view_module_version": "1.5.0",
      "_view_name": "HBoxView",
      "box_style": "",
      "children": [
       "IPY_MODEL_994affa386604abcb68823dbfb2d6026",
       "IPY_MODEL_8b44cf40f1024070af14dbf689f7c213"
      ],
      "layout": "IPY_MODEL_6000313b3e90415cbdcbafc3ba23e854"
     }
    },
    "aca2fcad7f1c485b826a9fd05f57413d": {
     "model_module": "@jupyter-widgets/base",
     "model_name": "LayoutModel",
     "state": {
      "_model_module": "@jupyter-widgets/base",
      "_model_module_version": "1.2.0",
      "_model_name": "LayoutModel",
      "_view_count": null,
      "_view_module": "@jupyter-widgets/base",
      "_view_module_version": "1.2.0",
      "_view_name": "LayoutView",
      "align_content": null,
      "align_items": null,
      "align_self": null,
      "border": null,
      "bottom": null,
      "display": null,
      "flex": null,
      "flex_flow": null,
      "grid_area": null,
      "grid_auto_columns": null,
      "grid_auto_flow": null,
      "grid_auto_rows": null,
      "grid_column": null,
      "grid_gap": null,
      "grid_row": null,
      "grid_template_areas": null,
      "grid_template_columns": null,
      "grid_template_rows": null,
      "height": null,
      "justify_content": null,
      "justify_items": null,
      "left": null,
      "margin": null,
      "max_height": null,
      "max_width": null,
      "min_height": null,
      "min_width": null,
      "object_fit": null,
      "object_position": null,
      "order": null,
      "overflow": null,
      "overflow_x": null,
      "overflow_y": null,
      "padding": null,
      "right": null,
      "top": null,
      "visibility": null,
      "width": null
     }
    },
    "ad3336288e364a43a404d0b9ff947ac6": {
     "model_module": "@jupyter-widgets/base",
     "model_name": "LayoutModel",
     "state": {
      "_model_module": "@jupyter-widgets/base",
      "_model_module_version": "1.2.0",
      "_model_name": "LayoutModel",
      "_view_count": null,
      "_view_module": "@jupyter-widgets/base",
      "_view_module_version": "1.2.0",
      "_view_name": "LayoutView",
      "align_content": null,
      "align_items": null,
      "align_self": null,
      "border": null,
      "bottom": null,
      "display": null,
      "flex": null,
      "flex_flow": null,
      "grid_area": null,
      "grid_auto_columns": null,
      "grid_auto_flow": null,
      "grid_auto_rows": null,
      "grid_column": null,
      "grid_gap": null,
      "grid_row": null,
      "grid_template_areas": null,
      "grid_template_columns": null,
      "grid_template_rows": null,
      "height": null,
      "justify_content": null,
      "justify_items": null,
      "left": null,
      "margin": null,
      "max_height": null,
      "max_width": null,
      "min_height": null,
      "min_width": null,
      "object_fit": null,
      "object_position": null,
      "order": null,
      "overflow": null,
      "overflow_x": null,
      "overflow_y": null,
      "padding": null,
      "right": null,
      "top": null,
      "visibility": null,
      "width": null
     }
    },
    "ad476d75d3104105a8aa6510f051d3fe": {
     "model_module": "@jupyter-widgets/base",
     "model_name": "LayoutModel",
     "state": {
      "_model_module": "@jupyter-widgets/base",
      "_model_module_version": "1.2.0",
      "_model_name": "LayoutModel",
      "_view_count": null,
      "_view_module": "@jupyter-widgets/base",
      "_view_module_version": "1.2.0",
      "_view_name": "LayoutView",
      "align_content": null,
      "align_items": null,
      "align_self": null,
      "border": null,
      "bottom": null,
      "display": null,
      "flex": null,
      "flex_flow": null,
      "grid_area": null,
      "grid_auto_columns": null,
      "grid_auto_flow": null,
      "grid_auto_rows": null,
      "grid_column": null,
      "grid_gap": null,
      "grid_row": null,
      "grid_template_areas": null,
      "grid_template_columns": null,
      "grid_template_rows": null,
      "height": null,
      "justify_content": null,
      "justify_items": null,
      "left": null,
      "margin": null,
      "max_height": null,
      "max_width": null,
      "min_height": null,
      "min_width": null,
      "object_fit": null,
      "object_position": null,
      "order": null,
      "overflow": null,
      "overflow_x": null,
      "overflow_y": null,
      "padding": null,
      "right": null,
      "top": null,
      "visibility": null,
      "width": null
     }
    },
    "b43b8a8a6dec4d93b3d83bde6f574e26": {
     "model_module": "@jupyter-widgets/base",
     "model_name": "LayoutModel",
     "state": {
      "_model_module": "@jupyter-widgets/base",
      "_model_module_version": "1.2.0",
      "_model_name": "LayoutModel",
      "_view_count": null,
      "_view_module": "@jupyter-widgets/base",
      "_view_module_version": "1.2.0",
      "_view_name": "LayoutView",
      "align_content": null,
      "align_items": null,
      "align_self": null,
      "border": null,
      "bottom": null,
      "display": null,
      "flex": null,
      "flex_flow": null,
      "grid_area": null,
      "grid_auto_columns": null,
      "grid_auto_flow": null,
      "grid_auto_rows": null,
      "grid_column": null,
      "grid_gap": null,
      "grid_row": null,
      "grid_template_areas": null,
      "grid_template_columns": null,
      "grid_template_rows": null,
      "height": null,
      "justify_content": null,
      "justify_items": null,
      "left": null,
      "margin": null,
      "max_height": null,
      "max_width": null,
      "min_height": null,
      "min_width": null,
      "object_fit": null,
      "object_position": null,
      "order": null,
      "overflow": null,
      "overflow_x": null,
      "overflow_y": null,
      "padding": null,
      "right": null,
      "top": null,
      "visibility": null,
      "width": null
     }
    },
    "badd4c06f95c47ae90dde73f743da910": {
     "model_module": "@jupyter-widgets/controls",
     "model_name": "HTMLModel",
     "state": {
      "_dom_classes": [],
      "_model_module": "@jupyter-widgets/controls",
      "_model_module_version": "1.5.0",
      "_model_name": "HTMLModel",
      "_view_count": null,
      "_view_module": "@jupyter-widgets/controls",
      "_view_module_version": "1.5.0",
      "_view_name": "HTMLView",
      "description": "",
      "description_tooltip": null,
      "layout": "IPY_MODEL_c38832883b404e1aa53cca8934a4f773",
      "placeholder": "​",
      "style": "IPY_MODEL_606016c1becd46d3860f79693ceeef70",
      "value": " 15.3k/15.3k [00:01&lt;00:00, 12.8kiB/s]"
     }
    },
    "bc0f2f0d8b5b447ebbf554c0d11b11d2": {
     "model_module": "@jupyter-widgets/controls",
     "model_name": "HTMLModel",
     "state": {
      "_dom_classes": [],
      "_model_module": "@jupyter-widgets/controls",
      "_model_module_version": "1.5.0",
      "_model_name": "HTMLModel",
      "_view_count": null,
      "_view_module": "@jupyter-widgets/controls",
      "_view_module_version": "1.5.0",
      "_view_name": "HTMLView",
      "description": "",
      "description_tooltip": null,
      "layout": "IPY_MODEL_fae093d4d90f4d749e0fedbe8f733c2a",
      "placeholder": "​",
      "style": "IPY_MODEL_4a08497d1f9142239c1318bb95f8b80c",
      "value": " 4.13k/4.13k [00:01&lt;00:00, 3.68kiB/s]"
     }
    },
    "bd150574767a44a5ac91a0a632800fff": {
     "model_module": "@jupyter-widgets/controls",
     "model_name": "HBoxModel",
     "state": {
      "_dom_classes": [],
      "_model_module": "@jupyter-widgets/controls",
      "_model_module_version": "1.5.0",
      "_model_name": "HBoxModel",
      "_view_count": null,
      "_view_module": "@jupyter-widgets/controls",
      "_view_module_version": "1.5.0",
      "_view_name": "HBoxView",
      "box_style": "",
      "children": [
       "IPY_MODEL_77b1662273bc43f39e067dab28b388f7",
       "IPY_MODEL_bd325f19a40043a9a7423b27af07b8b7"
      ],
      "layout": "IPY_MODEL_f816a9647d1f4a9f8f2893e2082791cf"
     }
    },
    "bd325f19a40043a9a7423b27af07b8b7": {
     "model_module": "@jupyter-widgets/controls",
     "model_name": "HTMLModel",
     "state": {
      "_dom_classes": [],
      "_model_module": "@jupyter-widgets/controls",
      "_model_module_version": "1.5.0",
      "_model_name": "HTMLModel",
      "_view_count": null,
      "_view_module": "@jupyter-widgets/controls",
      "_view_module_version": "1.5.0",
      "_view_name": "HTMLView",
      "description": "",
      "description_tooltip": null,
      "layout": "IPY_MODEL_18adddec26944a24a470fa96c1a763e5",
      "placeholder": "​",
      "style": "IPY_MODEL_61f223d2a36047fd8e8ccfd69ea3971c",
      "value": " 19.2M/19.2M [00:02&lt;00:00, 7.56MiB/s]"
     }
    },
    "c328fb8635ab49b6a43f7e303267ff83": {
     "model_module": "@jupyter-widgets/controls",
     "model_name": "HBoxModel",
     "state": {
      "_dom_classes": [],
      "_model_module": "@jupyter-widgets/controls",
      "_model_module_version": "1.5.0",
      "_model_name": "HBoxModel",
      "_view_count": null,
      "_view_module": "@jupyter-widgets/controls",
      "_view_module_version": "1.5.0",
      "_view_name": "HBoxView",
      "box_style": "",
      "children": [
       "IPY_MODEL_7999a1c640f34087b5f9a6981912473e",
       "IPY_MODEL_5a2eaa80dec144169eabee71c07e189b"
      ],
      "layout": "IPY_MODEL_4f67250f02d94da68e05f75fe64bc7fc"
     }
    },
    "c38832883b404e1aa53cca8934a4f773": {
     "model_module": "@jupyter-widgets/base",
     "model_name": "LayoutModel",
     "state": {
      "_model_module": "@jupyter-widgets/base",
      "_model_module_version": "1.2.0",
      "_model_name": "LayoutModel",
      "_view_count": null,
      "_view_module": "@jupyter-widgets/base",
      "_view_module_version": "1.2.0",
      "_view_name": "LayoutView",
      "align_content": null,
      "align_items": null,
      "align_self": null,
      "border": null,
      "bottom": null,
      "display": null,
      "flex": null,
      "flex_flow": null,
      "grid_area": null,
      "grid_auto_columns": null,
      "grid_auto_flow": null,
      "grid_auto_rows": null,
      "grid_column": null,
      "grid_gap": null,
      "grid_row": null,
      "grid_template_areas": null,
      "grid_template_columns": null,
      "grid_template_rows": null,
      "height": null,
      "justify_content": null,
      "justify_items": null,
      "left": null,
      "margin": null,
      "max_height": null,
      "max_width": null,
      "min_height": null,
      "min_width": null,
      "object_fit": null,
      "object_position": null,
      "order": null,
      "overflow": null,
      "overflow_x": null,
      "overflow_y": null,
      "padding": null,
      "right": null,
      "top": null,
      "visibility": null,
      "width": null
     }
    },
    "c5d0a73efbe342f4955c323672c46f46": {
     "model_module": "@jupyter-widgets/controls",
     "model_name": "ProgressStyleModel",
     "state": {
      "_model_module": "@jupyter-widgets/controls",
      "_model_module_version": "1.5.0",
      "_model_name": "ProgressStyleModel",
      "_view_count": null,
      "_view_module": "@jupyter-widgets/base",
      "_view_module_version": "1.2.0",
      "_view_name": "StyleView",
      "bar_color": null,
      "description_width": "initial"
     }
    },
    "c7c784dcb0e245ab82df15788a89a96b": {
     "model_module": "@jupyter-widgets/controls",
     "model_name": "HBoxModel",
     "state": {
      "_dom_classes": [],
      "_model_module": "@jupyter-widgets/controls",
      "_model_module_version": "1.5.0",
      "_model_name": "HBoxModel",
      "_view_count": null,
      "_view_module": "@jupyter-widgets/controls",
      "_view_module_version": "1.5.0",
      "_view_name": "HBoxView",
      "box_style": "",
      "children": [
       "IPY_MODEL_f3dc7f0dd9ee490fb46bf62e90569641",
       "IPY_MODEL_3403938673cb4382b0053145c6708eb5"
      ],
      "layout": "IPY_MODEL_f404559b780f456497312741df6d77bf"
     }
    },
    "cb050dc8a8764b339e0a3780d94560d1": {
     "model_module": "@jupyter-widgets/controls",
     "model_name": "ProgressStyleModel",
     "state": {
      "_model_module": "@jupyter-widgets/controls",
      "_model_module_version": "1.5.0",
      "_model_name": "ProgressStyleModel",
      "_view_count": null,
      "_view_module": "@jupyter-widgets/base",
      "_view_module_version": "1.2.0",
      "_view_name": "StyleView",
      "bar_color": null,
      "description_width": "initial"
     }
    },
    "cffdd75ea03349c1bd714a860925b348": {
     "model_module": "@jupyter-widgets/controls",
     "model_name": "DescriptionStyleModel",
     "state": {
      "_model_module": "@jupyter-widgets/controls",
      "_model_module_version": "1.5.0",
      "_model_name": "DescriptionStyleModel",
      "_view_count": null,
      "_view_module": "@jupyter-widgets/base",
      "_view_module_version": "1.2.0",
      "_view_name": "StyleView",
      "description_width": ""
     }
    },
    "d14040f79bc548caa8d1fe5bbd3bc596": {
     "model_module": "@jupyter-widgets/base",
     "model_name": "LayoutModel",
     "state": {
      "_model_module": "@jupyter-widgets/base",
      "_model_module_version": "1.2.0",
      "_model_name": "LayoutModel",
      "_view_count": null,
      "_view_module": "@jupyter-widgets/base",
      "_view_module_version": "1.2.0",
      "_view_name": "LayoutView",
      "align_content": null,
      "align_items": null,
      "align_self": null,
      "border": null,
      "bottom": null,
      "display": null,
      "flex": null,
      "flex_flow": null,
      "grid_area": null,
      "grid_auto_columns": null,
      "grid_auto_flow": null,
      "grid_auto_rows": null,
      "grid_column": null,
      "grid_gap": null,
      "grid_row": null,
      "grid_template_areas": null,
      "grid_template_columns": null,
      "grid_template_rows": null,
      "height": null,
      "justify_content": null,
      "justify_items": null,
      "left": null,
      "margin": null,
      "max_height": null,
      "max_width": null,
      "min_height": null,
      "min_width": null,
      "object_fit": null,
      "object_position": null,
      "order": null,
      "overflow": null,
      "overflow_x": null,
      "overflow_y": null,
      "padding": null,
      "right": null,
      "top": null,
      "visibility": null,
      "width": null
     }
    },
    "d99125c0d4694d7d936cce565ace4cef": {
     "model_module": "@jupyter-widgets/controls",
     "model_name": "FloatProgressModel",
     "state": {
      "_dom_classes": [],
      "_model_module": "@jupyter-widgets/controls",
      "_model_module_version": "1.5.0",
      "_model_name": "FloatProgressModel",
      "_view_count": null,
      "_view_module": "@jupyter-widgets/controls",
      "_view_module_version": "1.5.0",
      "_view_name": "ProgressView",
      "bar_style": "success",
      "description": "data.properties: 100%",
      "description_tooltip": null,
      "layout": "IPY_MODEL_305dfc86069f441486340fa799602d37",
      "max": 4231,
      "min": 0,
      "orientation": "horizontal",
      "style": "IPY_MODEL_4ab5be2df584479ea102568ccc74a7b5",
      "value": 4231
     }
    },
    "d9cb49e469f94941bf4ac1d7595e7c79": {
     "model_module": "@jupyter-widgets/controls",
     "model_name": "HBoxModel",
     "state": {
      "_dom_classes": [],
      "_model_module": "@jupyter-widgets/controls",
      "_model_module_version": "1.5.0",
      "_model_name": "HBoxModel",
      "_view_count": null,
      "_view_module": "@jupyter-widgets/controls",
      "_view_module_version": "1.5.0",
      "_view_name": "HBoxView",
      "box_style": "",
      "children": [
       "IPY_MODEL_3c43d498e8274e788e2c1d686323265f",
       "IPY_MODEL_8038ddfc39ec4672a9c05c6e115064d4"
      ],
      "layout": "IPY_MODEL_7fe0efb1eb974971a2f9371999972b3a"
     }
    },
    "df2be546365f415f8c4a2ea4dd3d5523": {
     "model_module": "@jupyter-widgets/base",
     "model_name": "LayoutModel",
     "state": {
      "_model_module": "@jupyter-widgets/base",
      "_model_module_version": "1.2.0",
      "_model_name": "LayoutModel",
      "_view_count": null,
      "_view_module": "@jupyter-widgets/base",
      "_view_module_version": "1.2.0",
      "_view_name": "LayoutView",
      "align_content": null,
      "align_items": null,
      "align_self": null,
      "border": null,
      "bottom": null,
      "display": null,
      "flex": null,
      "flex_flow": null,
      "grid_area": null,
      "grid_auto_columns": null,
      "grid_auto_flow": null,
      "grid_auto_rows": null,
      "grid_column": null,
      "grid_gap": null,
      "grid_row": null,
      "grid_template_areas": null,
      "grid_template_columns": null,
      "grid_template_rows": null,
      "height": null,
      "justify_content": null,
      "justify_items": null,
      "left": null,
      "margin": null,
      "max_height": null,
      "max_width": null,
      "min_height": null,
      "min_width": null,
      "object_fit": null,
      "object_position": null,
      "order": null,
      "overflow": null,
      "overflow_x": null,
      "overflow_y": null,
      "padding": null,
      "right": null,
      "top": null,
      "visibility": null,
      "width": null
     }
    },
    "e6dc3f92081f4712a5ca2968108cc3cf": {
     "model_module": "@jupyter-widgets/controls",
     "model_name": "HTMLModel",
     "state": {
      "_dom_classes": [],
      "_model_module": "@jupyter-widgets/controls",
      "_model_module_version": "1.5.0",
      "_model_name": "HTMLModel",
      "_view_count": null,
      "_view_module": "@jupyter-widgets/controls",
      "_view_module_version": "1.5.0",
      "_view_name": "HTMLView",
      "description": "",
      "description_tooltip": null,
      "layout": "IPY_MODEL_d14040f79bc548caa8d1fe5bbd3bc596",
      "placeholder": "​",
      "style": "IPY_MODEL_cffdd75ea03349c1bd714a860925b348",
      "value": " 7.80M/7.80M [00:06&lt;00:00, 1.33MiB/s]"
     }
    },
    "e8f4a7fcccec41318fbbe9a98156383a": {
     "model_module": "@jupyter-widgets/base",
     "model_name": "LayoutModel",
     "state": {
      "_model_module": "@jupyter-widgets/base",
      "_model_module_version": "1.2.0",
      "_model_name": "LayoutModel",
      "_view_count": null,
      "_view_module": "@jupyter-widgets/base",
      "_view_module_version": "1.2.0",
      "_view_name": "LayoutView",
      "align_content": null,
      "align_items": null,
      "align_self": null,
      "border": null,
      "bottom": null,
      "display": null,
      "flex": null,
      "flex_flow": null,
      "grid_area": null,
      "grid_auto_columns": null,
      "grid_auto_flow": null,
      "grid_auto_rows": null,
      "grid_column": null,
      "grid_gap": null,
      "grid_row": null,
      "grid_template_areas": null,
      "grid_template_columns": null,
      "grid_template_rows": null,
      "height": null,
      "justify_content": null,
      "justify_items": null,
      "left": null,
      "margin": null,
      "max_height": null,
      "max_width": null,
      "min_height": null,
      "min_width": null,
      "object_fit": null,
      "object_position": null,
      "order": null,
      "overflow": null,
      "overflow_x": null,
      "overflow_y": null,
      "padding": null,
      "right": null,
      "top": null,
      "visibility": null,
      "width": null
     }
    },
    "e998592e84f84f0ba73c50ad43fd4c70": {
     "model_module": "@jupyter-widgets/base",
     "model_name": "LayoutModel",
     "state": {
      "_model_module": "@jupyter-widgets/base",
      "_model_module_version": "1.2.0",
      "_model_name": "LayoutModel",
      "_view_count": null,
      "_view_module": "@jupyter-widgets/base",
      "_view_module_version": "1.2.0",
      "_view_name": "LayoutView",
      "align_content": null,
      "align_items": null,
      "align_self": null,
      "border": null,
      "bottom": null,
      "display": null,
      "flex": null,
      "flex_flow": null,
      "grid_area": null,
      "grid_auto_columns": null,
      "grid_auto_flow": null,
      "grid_auto_rows": null,
      "grid_column": null,
      "grid_gap": null,
      "grid_row": null,
      "grid_template_areas": null,
      "grid_template_columns": null,
      "grid_template_rows": null,
      "height": null,
      "justify_content": null,
      "justify_items": null,
      "left": null,
      "margin": null,
      "max_height": null,
      "max_width": null,
      "min_height": null,
      "min_width": null,
      "object_fit": null,
      "object_position": null,
      "order": null,
      "overflow": null,
      "overflow_x": null,
      "overflow_y": null,
      "padding": null,
      "right": null,
      "top": null,
      "visibility": null,
      "width": null
     }
    },
    "eb884a7fa36642088bd897cbf9aa6049": {
     "model_module": "@jupyter-widgets/controls",
     "model_name": "HTMLModel",
     "state": {
      "_dom_classes": [],
      "_model_module": "@jupyter-widgets/controls",
      "_model_module_version": "1.5.0",
      "_model_name": "HTMLModel",
      "_view_count": null,
      "_view_module": "@jupyter-widgets/controls",
      "_view_module_version": "1.5.0",
      "_view_name": "HTMLView",
      "description": "",
      "description_tooltip": null,
      "layout": "IPY_MODEL_ad3336288e364a43a404d0b9ff947ac6",
      "placeholder": "​",
      "style": "IPY_MODEL_65aacb16c3c54b41b3981dbe68005eeb",
      "value": " 1.90M/1.90M [00:00&lt;00:00, 2.32MiB/s]"
     }
    },
    "ee62d38a75f44290b157828ca3507c29": {
     "model_module": "@jupyter-widgets/controls",
     "model_name": "FloatProgressModel",
     "state": {
      "_dom_classes": [],
      "_model_module": "@jupyter-widgets/controls",
      "_model_module_version": "1.5.0",
      "_model_name": "FloatProgressModel",
      "_view_count": null,
      "_view_module": "@jupyter-widgets/controls",
      "_view_module_version": "1.5.0",
      "_view_name": "ProgressView",
      "bar_style": "success",
      "description": "data.lexicon.fsomapfile: 100%",
      "description_tooltip": null,
      "layout": "IPY_MODEL_5b39758690fc4955bbfeec7dfe6ec25a",
      "max": 175765768,
      "min": 0,
      "orientation": "horizontal",
      "style": "IPY_MODEL_c5d0a73efbe342f4955c323672c46f46",
      "value": 175765768
     }
    },
    "f00d6d8221044259859f2bc3488644c0": {
     "model_module": "@jupyter-widgets/controls",
     "model_name": "HBoxModel",
     "state": {
      "_dom_classes": [],
      "_model_module": "@jupyter-widgets/controls",
      "_model_module_version": "1.5.0",
      "_model_name": "HBoxModel",
      "_view_count": null,
      "_view_module": "@jupyter-widgets/controls",
      "_view_module_version": "1.5.0",
      "_view_name": "HBoxView",
      "box_style": "",
      "children": [
       "IPY_MODEL_8d822e7ba7ff4c6f82817914125de6e0",
       "IPY_MODEL_97e9914908664de8807604ebbabea587"
      ],
      "layout": "IPY_MODEL_91119fbece5f44619746387d13b8f840"
     }
    },
    "f05b26d51e03436d88f08588ff0f0116": {
     "model_module": "@jupyter-widgets/controls",
     "model_name": "HTMLModel",
     "state": {
      "_dom_classes": [],
      "_model_module": "@jupyter-widgets/controls",
      "_model_module_version": "1.5.0",
      "_model_name": "HTMLModel",
      "_view_count": null,
      "_view_module": "@jupyter-widgets/controls",
      "_view_module_version": "1.5.0",
      "_view_name": "HTMLView",
      "description": "",
      "description_tooltip": null,
      "layout": "IPY_MODEL_0215b53d0a914cf7940b114a4b534240",
      "placeholder": "​",
      "style": "IPY_MODEL_854fb26cf8c840a68097278f381fae9e",
      "value": " 263M/263M [00:11&lt;00:00, 23.7MiB/s]"
     }
    },
    "f3dc7f0dd9ee490fb46bf62e90569641": {
     "model_module": "@jupyter-widgets/controls",
     "model_name": "FloatProgressModel",
     "state": {
      "_dom_classes": [],
      "_model_module": "@jupyter-widgets/controls",
      "_model_module_version": "1.5.0",
      "_model_name": "FloatProgressModel",
      "_view_count": null,
      "_view_module": "@jupyter-widgets/controls",
      "_view_module_version": "1.5.0",
      "_view_name": "ProgressView",
      "bar_style": "success",
      "description": "data.document.fsarrayfile: 100%",
      "description_tooltip": null,
      "layout": "IPY_MODEL_e8f4a7fcccec41318fbbe9a98156383a",
      "max": 13732175,
      "min": 0,
      "orientation": "horizontal",
      "style": "IPY_MODEL_cb050dc8a8764b339e0a3780d94560d1",
      "value": 13732175
     }
    },
    "f404559b780f456497312741df6d77bf": {
     "model_module": "@jupyter-widgets/base",
     "model_name": "LayoutModel",
     "state": {
      "_model_module": "@jupyter-widgets/base",
      "_model_module_version": "1.2.0",
      "_model_name": "LayoutModel",
      "_view_count": null,
      "_view_module": "@jupyter-widgets/base",
      "_view_module_version": "1.2.0",
      "_view_name": "LayoutView",
      "align_content": null,
      "align_items": null,
      "align_self": null,
      "border": null,
      "bottom": null,
      "display": null,
      "flex": null,
      "flex_flow": null,
      "grid_area": null,
      "grid_auto_columns": null,
      "grid_auto_flow": null,
      "grid_auto_rows": null,
      "grid_column": null,
      "grid_gap": null,
      "grid_row": null,
      "grid_template_areas": null,
      "grid_template_columns": null,
      "grid_template_rows": null,
      "height": null,
      "justify_content": null,
      "justify_items": null,
      "left": null,
      "margin": null,
      "max_height": null,
      "max_width": null,
      "min_height": null,
      "min_width": null,
      "object_fit": null,
      "object_position": null,
      "order": null,
      "overflow": null,
      "overflow_x": null,
      "overflow_y": null,
      "padding": null,
      "right": null,
      "top": null,
      "visibility": null,
      "width": null
     }
    },
    "f816a9647d1f4a9f8f2893e2082791cf": {
     "model_module": "@jupyter-widgets/base",
     "model_name": "LayoutModel",
     "state": {
      "_model_module": "@jupyter-widgets/base",
      "_model_module_version": "1.2.0",
      "_model_name": "LayoutModel",
      "_view_count": null,
      "_view_module": "@jupyter-widgets/base",
      "_view_module_version": "1.2.0",
      "_view_name": "LayoutView",
      "align_content": null,
      "align_items": null,
      "align_self": null,
      "border": null,
      "bottom": null,
      "display": null,
      "flex": null,
      "flex_flow": null,
      "grid_area": null,
      "grid_auto_columns": null,
      "grid_auto_flow": null,
      "grid_auto_rows": null,
      "grid_column": null,
      "grid_gap": null,
      "grid_row": null,
      "grid_template_areas": null,
      "grid_template_columns": null,
      "grid_template_rows": null,
      "height": null,
      "justify_content": null,
      "justify_items": null,
      "left": null,
      "margin": null,
      "max_height": null,
      "max_width": null,
      "min_height": null,
      "min_width": null,
      "object_fit": null,
      "object_position": null,
      "order": null,
      "overflow": null,
      "overflow_x": null,
      "overflow_y": null,
      "padding": null,
      "right": null,
      "top": null,
      "visibility": null,
      "width": null
     }
    },
    "f84fc31da60e4b09a34de7ea31ca84b3": {
     "model_module": "@jupyter-widgets/controls",
     "model_name": "ProgressStyleModel",
     "state": {
      "_model_module": "@jupyter-widgets/controls",
      "_model_module_version": "1.5.0",
      "_model_name": "ProgressStyleModel",
      "_view_count": null,
      "_view_module": "@jupyter-widgets/base",
      "_view_module_version": "1.2.0",
      "_view_name": "StyleView",
      "bar_color": null,
      "description_width": "initial"
     }
    },
    "fa2adfdc0f47439fb7813725b46ed6be": {
     "model_module": "@jupyter-widgets/base",
     "model_name": "LayoutModel",
     "state": {
      "_model_module": "@jupyter-widgets/base",
      "_model_module_version": "1.2.0",
      "_model_name": "LayoutModel",
      "_view_count": null,
      "_view_module": "@jupyter-widgets/base",
      "_view_module_version": "1.2.0",
      "_view_name": "LayoutView",
      "align_content": null,
      "align_items": null,
      "align_self": null,
      "border": null,
      "bottom": null,
      "display": null,
      "flex": null,
      "flex_flow": null,
      "grid_area": null,
      "grid_auto_columns": null,
      "grid_auto_flow": null,
      "grid_auto_rows": null,
      "grid_column": null,
      "grid_gap": null,
      "grid_row": null,
      "grid_template_areas": null,
      "grid_template_columns": null,
      "grid_template_rows": null,
      "height": null,
      "justify_content": null,
      "justify_items": null,
      "left": null,
      "margin": null,
      "max_height": null,
      "max_width": null,
      "min_height": null,
      "min_width": null,
      "object_fit": null,
      "object_position": null,
      "order": null,
      "overflow": null,
      "overflow_x": null,
      "overflow_y": null,
      "padding": null,
      "right": null,
      "top": null,
      "visibility": null,
      "width": null
     }
    },
    "fae093d4d90f4d749e0fedbe8f733c2a": {
     "model_module": "@jupyter-widgets/base",
     "model_name": "LayoutModel",
     "state": {
      "_model_module": "@jupyter-widgets/base",
      "_model_module_version": "1.2.0",
      "_model_name": "LayoutModel",
      "_view_count": null,
      "_view_module": "@jupyter-widgets/base",
      "_view_module_version": "1.2.0",
      "_view_name": "LayoutView",
      "align_content": null,
      "align_items": null,
      "align_self": null,
      "border": null,
      "bottom": null,
      "display": null,
      "flex": null,
      "flex_flow": null,
      "grid_area": null,
      "grid_auto_columns": null,
      "grid_auto_flow": null,
      "grid_auto_rows": null,
      "grid_column": null,
      "grid_gap": null,
      "grid_row": null,
      "grid_template_areas": null,
      "grid_template_columns": null,
      "grid_template_rows": null,
      "height": null,
      "justify_content": null,
      "justify_items": null,
      "left": null,
      "margin": null,
      "max_height": null,
      "max_width": null,
      "min_height": null,
      "min_width": null,
      "object_fit": null,
      "object_position": null,
      "order": null,
      "overflow": null,
      "overflow_x": null,
      "overflow_y": null,
      "padding": null,
      "right": null,
      "top": null,
      "visibility": null,
      "width": null
     }
    }
   }
  }
 },
 "nbformat": 4,
 "nbformat_minor": 4
}
