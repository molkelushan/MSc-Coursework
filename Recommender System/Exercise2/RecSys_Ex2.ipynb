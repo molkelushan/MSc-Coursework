{
 "cells": [
  {
   "cell_type": "markdown",
   "metadata": {
    "id": "Inwi1o3992TW"
   },
   "source": [
    "# Exerise 2\n",
    "\n",
    "The aims of this execise are to:\n",
    " - Make your first recommender by implementing a user-based CF (c.f. Lecture 4).\n",
    " - Make your first recommendations using Spotlight recommender toolkit on explicit data (Lecture 8)\n",
    " - Develop and evaluate baseline recommender systems (c.f. Lecture 3)\n",
    " - Start to think about explicit vs implicit learners\n",
    " - Evaluate your results using Spotlight (Lecture 6 & 7)\n",
    "\n",
    "This exercise builds on the lectures' material, namely Lectures 3, 4, 6, 7 and 8.\n",
    "\n",
    "There are 10 tasks to increase your understanding of the content of the Recommender Sytems course.  Each of these tasks have corresponding questions in the quiz."
   ]
  },
  {
   "cell_type": "code",
   "execution_count": 1,
   "metadata": {
    "ExecuteTime": {
     "end_time": "2021-08-04T11:19:49.270026Z",
     "start_time": "2021-08-04T11:19:47.557444Z"
    },
    "id": "Ys992pU79yhD"
   },
   "outputs": [],
   "source": [
    "#Standard setup\n",
    "import pandas as pd\n",
    "import numpy as np\n",
    "import torch\n",
    "from typing import List, Tuple, Sequence\n",
    "SEED=20"
   ]
  },
  {
   "cell_type": "markdown",
   "metadata": {
    "id": "-8Vlbi9W-d2j"
   },
   "source": [
    "We'll be using Movielens again. Let's load it in to the dataframe.\n"
   ]
  },
  {
   "cell_type": "code",
   "execution_count": 2,
   "metadata": {
    "ExecuteTime": {
     "end_time": "2021-08-04T11:19:49.275921Z",
     "start_time": "2021-08-04T11:19:49.272848Z"
    },
    "id": "Hg093kVRAvHw"
   },
   "outputs": [],
   "source": [
    "# !curl -o ml-latest-small.zip http://files.grouplens.org/datasets/movielens/ml-latest-small.zip\n",
    "# backup location\n",
    "#!curl -o ml-latest-small.zip http://www.dcs.gla.ac.uk/~craigm/recsysHM/ml-latest-small.zip\n",
    "# !unzip -o ml-latest-small.zip"
   ]
  },
  {
   "cell_type": "code",
   "execution_count": 3,
   "metadata": {
    "ExecuteTime": {
     "end_time": "2021-08-04T11:19:49.480125Z",
     "start_time": "2021-08-04T11:19:49.282822Z"
    },
    "id": "Yss68U_EA0w2"
   },
   "outputs": [],
   "source": [
    "ratings_df = pd.read_csv(\"ml-latest-small/ratings.csv\")\n",
    "movies_df = pd.read_csv(\"ml-latest-small/movies.csv\")\n",
    "\n",
    "# we're going to treat userId as strings, and similarly as movies. This will prevent confusion later on.\n",
    "ratings_df['userId'] =  \"u\" + ratings_df['userId'].astype(str)\n",
    "ratings_df['movieId'] = \"m\" + ratings_df['movieId'].astype(str)\n",
    "movies_df['movieId'] = \"m\" +  movies_df['movieId'].astype(str)"
   ]
  },
  {
   "cell_type": "code",
   "execution_count": 4,
   "metadata": {
    "ExecuteTime": {
     "end_time": "2021-08-04T11:19:49.500577Z",
     "start_time": "2021-08-04T11:19:49.482845Z"
    },
    "id": "o5QQBZ3QS2Hv"
   },
   "outputs": [
    {
     "data": {
      "text/html": [
       "<div>\n",
       "<style scoped>\n",
       "    .dataframe tbody tr th:only-of-type {\n",
       "        vertical-align: middle;\n",
       "    }\n",
       "\n",
       "    .dataframe tbody tr th {\n",
       "        vertical-align: top;\n",
       "    }\n",
       "\n",
       "    .dataframe thead th {\n",
       "        text-align: right;\n",
       "    }\n",
       "</style>\n",
       "<table border=\"1\" class=\"dataframe\">\n",
       "  <thead>\n",
       "    <tr style=\"text-align: right;\">\n",
       "      <th></th>\n",
       "      <th>userId</th>\n",
       "      <th>movieId</th>\n",
       "      <th>rating</th>\n",
       "      <th>timestamp</th>\n",
       "    </tr>\n",
       "  </thead>\n",
       "  <tbody>\n",
       "    <tr>\n",
       "      <th>0</th>\n",
       "      <td>u1</td>\n",
       "      <td>m1</td>\n",
       "      <td>4.0</td>\n",
       "      <td>964982703</td>\n",
       "    </tr>\n",
       "    <tr>\n",
       "      <th>1</th>\n",
       "      <td>u1</td>\n",
       "      <td>m3</td>\n",
       "      <td>4.0</td>\n",
       "      <td>964981247</td>\n",
       "    </tr>\n",
       "    <tr>\n",
       "      <th>2</th>\n",
       "      <td>u1</td>\n",
       "      <td>m6</td>\n",
       "      <td>4.0</td>\n",
       "      <td>964982224</td>\n",
       "    </tr>\n",
       "    <tr>\n",
       "      <th>3</th>\n",
       "      <td>u1</td>\n",
       "      <td>m47</td>\n",
       "      <td>5.0</td>\n",
       "      <td>964983815</td>\n",
       "    </tr>\n",
       "    <tr>\n",
       "      <th>4</th>\n",
       "      <td>u1</td>\n",
       "      <td>m50</td>\n",
       "      <td>5.0</td>\n",
       "      <td>964982931</td>\n",
       "    </tr>\n",
       "  </tbody>\n",
       "</table>\n",
       "</div>"
      ],
      "text/plain": [
       "  userId movieId  rating  timestamp\n",
       "0     u1      m1     4.0  964982703\n",
       "1     u1      m3     4.0  964981247\n",
       "2     u1      m6     4.0  964982224\n",
       "3     u1     m47     5.0  964983815\n",
       "4     u1     m50     5.0  964982931"
      ]
     },
     "execution_count": 4,
     "metadata": {},
     "output_type": "execute_result"
    }
   ],
   "source": [
    "ratings_df.head()"
   ]
  },
  {
   "cell_type": "code",
   "execution_count": 5,
   "metadata": {
    "ExecuteTime": {
     "end_time": "2021-08-04T11:19:49.510483Z",
     "start_time": "2021-08-04T11:19:49.503311Z"
    },
    "id": "eMfsveWjS4xP"
   },
   "outputs": [
    {
     "data": {
      "text/html": [
       "<div>\n",
       "<style scoped>\n",
       "    .dataframe tbody tr th:only-of-type {\n",
       "        vertical-align: middle;\n",
       "    }\n",
       "\n",
       "    .dataframe tbody tr th {\n",
       "        vertical-align: top;\n",
       "    }\n",
       "\n",
       "    .dataframe thead th {\n",
       "        text-align: right;\n",
       "    }\n",
       "</style>\n",
       "<table border=\"1\" class=\"dataframe\">\n",
       "  <thead>\n",
       "    <tr style=\"text-align: right;\">\n",
       "      <th></th>\n",
       "      <th>movieId</th>\n",
       "      <th>title</th>\n",
       "      <th>genres</th>\n",
       "    </tr>\n",
       "  </thead>\n",
       "  <tbody>\n",
       "    <tr>\n",
       "      <th>0</th>\n",
       "      <td>m1</td>\n",
       "      <td>Toy Story (1995)</td>\n",
       "      <td>Adventure|Animation|Children|Comedy|Fantasy</td>\n",
       "    </tr>\n",
       "    <tr>\n",
       "      <th>1</th>\n",
       "      <td>m2</td>\n",
       "      <td>Jumanji (1995)</td>\n",
       "      <td>Adventure|Children|Fantasy</td>\n",
       "    </tr>\n",
       "    <tr>\n",
       "      <th>2</th>\n",
       "      <td>m3</td>\n",
       "      <td>Grumpier Old Men (1995)</td>\n",
       "      <td>Comedy|Romance</td>\n",
       "    </tr>\n",
       "    <tr>\n",
       "      <th>3</th>\n",
       "      <td>m4</td>\n",
       "      <td>Waiting to Exhale (1995)</td>\n",
       "      <td>Comedy|Drama|Romance</td>\n",
       "    </tr>\n",
       "    <tr>\n",
       "      <th>4</th>\n",
       "      <td>m5</td>\n",
       "      <td>Father of the Bride Part II (1995)</td>\n",
       "      <td>Comedy</td>\n",
       "    </tr>\n",
       "  </tbody>\n",
       "</table>\n",
       "</div>"
      ],
      "text/plain": [
       "  movieId                               title  \\\n",
       "0      m1                    Toy Story (1995)   \n",
       "1      m2                      Jumanji (1995)   \n",
       "2      m3             Grumpier Old Men (1995)   \n",
       "3      m4            Waiting to Exhale (1995)   \n",
       "4      m5  Father of the Bride Part II (1995)   \n",
       "\n",
       "                                        genres  \n",
       "0  Adventure|Animation|Children|Comedy|Fantasy  \n",
       "1                   Adventure|Children|Fantasy  \n",
       "2                               Comedy|Romance  \n",
       "3                         Comedy|Drama|Romance  \n",
       "4                                       Comedy  "
      ]
     },
     "execution_count": 5,
     "metadata": {},
     "output_type": "execute_result"
    }
   ],
   "source": [
    "movies_df.head()"
   ]
  },
  {
   "cell_type": "markdown",
   "metadata": {
    "id": "-rAIXwDoBCda"
   },
   "source": [
    "# Part A. User-based CF"
   ]
  },
  {
   "cell_type": "markdown",
   "metadata": {
    "id": "isjp_rS0BCgh"
   },
   "source": [
    "You can generate a matrix of ratings with the ratings_df dataframe. In the matrix, the unrated items are filled with 0 (this means they have no impact upon the calculated Cosine value)."
   ]
  },
  {
   "cell_type": "code",
   "execution_count": 6,
   "metadata": {
    "ExecuteTime": {
     "end_time": "2021-08-04T11:19:49.791301Z",
     "start_time": "2021-08-04T11:19:49.512099Z"
    },
    "id": "LKsmW549BNlq"
   },
   "outputs": [
    {
     "data": {
      "text/html": [
       "<div>\n",
       "<style scoped>\n",
       "    .dataframe tbody tr th:only-of-type {\n",
       "        vertical-align: middle;\n",
       "    }\n",
       "\n",
       "    .dataframe tbody tr th {\n",
       "        vertical-align: top;\n",
       "    }\n",
       "\n",
       "    .dataframe thead th {\n",
       "        text-align: right;\n",
       "    }\n",
       "</style>\n",
       "<table border=\"1\" class=\"dataframe\">\n",
       "  <thead>\n",
       "    <tr style=\"text-align: right;\">\n",
       "      <th>movieId</th>\n",
       "      <th>m1</th>\n",
       "      <th>m10</th>\n",
       "      <th>m100</th>\n",
       "      <th>m100044</th>\n",
       "      <th>m100068</th>\n",
       "      <th>m100083</th>\n",
       "      <th>m100106</th>\n",
       "      <th>m100159</th>\n",
       "      <th>m100163</th>\n",
       "      <th>m100194</th>\n",
       "      <th>...</th>\n",
       "      <th>m99750</th>\n",
       "      <th>m99764</th>\n",
       "      <th>m998</th>\n",
       "      <th>m99813</th>\n",
       "      <th>m99846</th>\n",
       "      <th>m99853</th>\n",
       "      <th>m999</th>\n",
       "      <th>m99910</th>\n",
       "      <th>m99917</th>\n",
       "      <th>m99992</th>\n",
       "    </tr>\n",
       "    <tr>\n",
       "      <th>userId</th>\n",
       "      <th></th>\n",
       "      <th></th>\n",
       "      <th></th>\n",
       "      <th></th>\n",
       "      <th></th>\n",
       "      <th></th>\n",
       "      <th></th>\n",
       "      <th></th>\n",
       "      <th></th>\n",
       "      <th></th>\n",
       "      <th></th>\n",
       "      <th></th>\n",
       "      <th></th>\n",
       "      <th></th>\n",
       "      <th></th>\n",
       "      <th></th>\n",
       "      <th></th>\n",
       "      <th></th>\n",
       "      <th></th>\n",
       "      <th></th>\n",
       "      <th></th>\n",
       "    </tr>\n",
       "  </thead>\n",
       "  <tbody>\n",
       "    <tr>\n",
       "      <th>u1</th>\n",
       "      <td>4.0</td>\n",
       "      <td>0.0</td>\n",
       "      <td>0.0</td>\n",
       "      <td>0.0</td>\n",
       "      <td>0.0</td>\n",
       "      <td>0.0</td>\n",
       "      <td>0.0</td>\n",
       "      <td>0.0</td>\n",
       "      <td>0.0</td>\n",
       "      <td>0.0</td>\n",
       "      <td>...</td>\n",
       "      <td>0.0</td>\n",
       "      <td>0.0</td>\n",
       "      <td>0.0</td>\n",
       "      <td>0.0</td>\n",
       "      <td>0.0</td>\n",
       "      <td>0.0</td>\n",
       "      <td>0.0</td>\n",
       "      <td>0.0</td>\n",
       "      <td>0.0</td>\n",
       "      <td>0.0</td>\n",
       "    </tr>\n",
       "    <tr>\n",
       "      <th>u10</th>\n",
       "      <td>0.0</td>\n",
       "      <td>0.0</td>\n",
       "      <td>0.0</td>\n",
       "      <td>0.0</td>\n",
       "      <td>0.0</td>\n",
       "      <td>0.0</td>\n",
       "      <td>0.0</td>\n",
       "      <td>0.0</td>\n",
       "      <td>0.0</td>\n",
       "      <td>0.0</td>\n",
       "      <td>...</td>\n",
       "      <td>0.0</td>\n",
       "      <td>0.0</td>\n",
       "      <td>0.0</td>\n",
       "      <td>0.0</td>\n",
       "      <td>0.0</td>\n",
       "      <td>0.0</td>\n",
       "      <td>0.0</td>\n",
       "      <td>0.0</td>\n",
       "      <td>0.0</td>\n",
       "      <td>0.0</td>\n",
       "    </tr>\n",
       "    <tr>\n",
       "      <th>u100</th>\n",
       "      <td>0.0</td>\n",
       "      <td>0.0</td>\n",
       "      <td>0.0</td>\n",
       "      <td>0.0</td>\n",
       "      <td>0.0</td>\n",
       "      <td>0.0</td>\n",
       "      <td>0.0</td>\n",
       "      <td>0.0</td>\n",
       "      <td>0.0</td>\n",
       "      <td>0.0</td>\n",
       "      <td>...</td>\n",
       "      <td>0.0</td>\n",
       "      <td>0.0</td>\n",
       "      <td>0.0</td>\n",
       "      <td>0.0</td>\n",
       "      <td>0.0</td>\n",
       "      <td>0.0</td>\n",
       "      <td>0.0</td>\n",
       "      <td>0.0</td>\n",
       "      <td>0.0</td>\n",
       "      <td>0.0</td>\n",
       "    </tr>\n",
       "    <tr>\n",
       "      <th>u101</th>\n",
       "      <td>0.0</td>\n",
       "      <td>0.0</td>\n",
       "      <td>0.0</td>\n",
       "      <td>0.0</td>\n",
       "      <td>0.0</td>\n",
       "      <td>0.0</td>\n",
       "      <td>0.0</td>\n",
       "      <td>0.0</td>\n",
       "      <td>0.0</td>\n",
       "      <td>0.0</td>\n",
       "      <td>...</td>\n",
       "      <td>0.0</td>\n",
       "      <td>0.0</td>\n",
       "      <td>0.0</td>\n",
       "      <td>0.0</td>\n",
       "      <td>0.0</td>\n",
       "      <td>0.0</td>\n",
       "      <td>0.0</td>\n",
       "      <td>0.0</td>\n",
       "      <td>0.0</td>\n",
       "      <td>0.0</td>\n",
       "    </tr>\n",
       "    <tr>\n",
       "      <th>u102</th>\n",
       "      <td>0.0</td>\n",
       "      <td>0.0</td>\n",
       "      <td>0.0</td>\n",
       "      <td>0.0</td>\n",
       "      <td>0.0</td>\n",
       "      <td>0.0</td>\n",
       "      <td>0.0</td>\n",
       "      <td>0.0</td>\n",
       "      <td>0.0</td>\n",
       "      <td>0.0</td>\n",
       "      <td>...</td>\n",
       "      <td>0.0</td>\n",
       "      <td>0.0</td>\n",
       "      <td>0.0</td>\n",
       "      <td>0.0</td>\n",
       "      <td>0.0</td>\n",
       "      <td>0.0</td>\n",
       "      <td>0.0</td>\n",
       "      <td>0.0</td>\n",
       "      <td>0.0</td>\n",
       "      <td>0.0</td>\n",
       "    </tr>\n",
       "    <tr>\n",
       "      <th>...</th>\n",
       "      <td>...</td>\n",
       "      <td>...</td>\n",
       "      <td>...</td>\n",
       "      <td>...</td>\n",
       "      <td>...</td>\n",
       "      <td>...</td>\n",
       "      <td>...</td>\n",
       "      <td>...</td>\n",
       "      <td>...</td>\n",
       "      <td>...</td>\n",
       "      <td>...</td>\n",
       "      <td>...</td>\n",
       "      <td>...</td>\n",
       "      <td>...</td>\n",
       "      <td>...</td>\n",
       "      <td>...</td>\n",
       "      <td>...</td>\n",
       "      <td>...</td>\n",
       "      <td>...</td>\n",
       "      <td>...</td>\n",
       "      <td>...</td>\n",
       "    </tr>\n",
       "    <tr>\n",
       "      <th>u95</th>\n",
       "      <td>0.0</td>\n",
       "      <td>0.0</td>\n",
       "      <td>0.0</td>\n",
       "      <td>0.0</td>\n",
       "      <td>0.0</td>\n",
       "      <td>0.0</td>\n",
       "      <td>0.0</td>\n",
       "      <td>0.0</td>\n",
       "      <td>0.0</td>\n",
       "      <td>0.0</td>\n",
       "      <td>...</td>\n",
       "      <td>0.0</td>\n",
       "      <td>0.0</td>\n",
       "      <td>0.0</td>\n",
       "      <td>0.0</td>\n",
       "      <td>0.0</td>\n",
       "      <td>0.0</td>\n",
       "      <td>0.0</td>\n",
       "      <td>0.0</td>\n",
       "      <td>0.0</td>\n",
       "      <td>0.0</td>\n",
       "    </tr>\n",
       "    <tr>\n",
       "      <th>u96</th>\n",
       "      <td>5.0</td>\n",
       "      <td>0.0</td>\n",
       "      <td>0.0</td>\n",
       "      <td>0.0</td>\n",
       "      <td>0.0</td>\n",
       "      <td>0.0</td>\n",
       "      <td>0.0</td>\n",
       "      <td>0.0</td>\n",
       "      <td>0.0</td>\n",
       "      <td>0.0</td>\n",
       "      <td>...</td>\n",
       "      <td>0.0</td>\n",
       "      <td>0.0</td>\n",
       "      <td>0.0</td>\n",
       "      <td>0.0</td>\n",
       "      <td>0.0</td>\n",
       "      <td>0.0</td>\n",
       "      <td>0.0</td>\n",
       "      <td>0.0</td>\n",
       "      <td>0.0</td>\n",
       "      <td>0.0</td>\n",
       "    </tr>\n",
       "    <tr>\n",
       "      <th>u97</th>\n",
       "      <td>0.0</td>\n",
       "      <td>0.0</td>\n",
       "      <td>0.0</td>\n",
       "      <td>0.0</td>\n",
       "      <td>0.0</td>\n",
       "      <td>0.0</td>\n",
       "      <td>0.0</td>\n",
       "      <td>0.0</td>\n",
       "      <td>0.0</td>\n",
       "      <td>0.0</td>\n",
       "      <td>...</td>\n",
       "      <td>0.0</td>\n",
       "      <td>0.0</td>\n",
       "      <td>0.0</td>\n",
       "      <td>0.0</td>\n",
       "      <td>0.0</td>\n",
       "      <td>0.0</td>\n",
       "      <td>0.0</td>\n",
       "      <td>0.0</td>\n",
       "      <td>0.0</td>\n",
       "      <td>0.0</td>\n",
       "    </tr>\n",
       "    <tr>\n",
       "      <th>u98</th>\n",
       "      <td>4.5</td>\n",
       "      <td>0.0</td>\n",
       "      <td>0.0</td>\n",
       "      <td>0.0</td>\n",
       "      <td>0.0</td>\n",
       "      <td>0.0</td>\n",
       "      <td>0.0</td>\n",
       "      <td>0.0</td>\n",
       "      <td>0.0</td>\n",
       "      <td>0.0</td>\n",
       "      <td>...</td>\n",
       "      <td>0.0</td>\n",
       "      <td>0.0</td>\n",
       "      <td>0.0</td>\n",
       "      <td>0.0</td>\n",
       "      <td>0.0</td>\n",
       "      <td>0.0</td>\n",
       "      <td>0.0</td>\n",
       "      <td>0.0</td>\n",
       "      <td>0.0</td>\n",
       "      <td>0.0</td>\n",
       "    </tr>\n",
       "    <tr>\n",
       "      <th>u99</th>\n",
       "      <td>0.0</td>\n",
       "      <td>4.0</td>\n",
       "      <td>0.0</td>\n",
       "      <td>0.0</td>\n",
       "      <td>0.0</td>\n",
       "      <td>0.0</td>\n",
       "      <td>0.0</td>\n",
       "      <td>0.0</td>\n",
       "      <td>0.0</td>\n",
       "      <td>0.0</td>\n",
       "      <td>...</td>\n",
       "      <td>0.0</td>\n",
       "      <td>0.0</td>\n",
       "      <td>0.0</td>\n",
       "      <td>0.0</td>\n",
       "      <td>0.0</td>\n",
       "      <td>0.0</td>\n",
       "      <td>0.0</td>\n",
       "      <td>0.0</td>\n",
       "      <td>0.0</td>\n",
       "      <td>0.0</td>\n",
       "    </tr>\n",
       "  </tbody>\n",
       "</table>\n",
       "<p>610 rows × 9724 columns</p>\n",
       "</div>"
      ],
      "text/plain": [
       "movieId   m1  m10  m100  m100044  m100068  m100083  m100106  m100159  m100163  \\\n",
       "userId                                                                          \n",
       "u1       4.0  0.0   0.0      0.0      0.0      0.0      0.0      0.0      0.0   \n",
       "u10      0.0  0.0   0.0      0.0      0.0      0.0      0.0      0.0      0.0   \n",
       "u100     0.0  0.0   0.0      0.0      0.0      0.0      0.0      0.0      0.0   \n",
       "u101     0.0  0.0   0.0      0.0      0.0      0.0      0.0      0.0      0.0   \n",
       "u102     0.0  0.0   0.0      0.0      0.0      0.0      0.0      0.0      0.0   \n",
       "...      ...  ...   ...      ...      ...      ...      ...      ...      ...   \n",
       "u95      0.0  0.0   0.0      0.0      0.0      0.0      0.0      0.0      0.0   \n",
       "u96      5.0  0.0   0.0      0.0      0.0      0.0      0.0      0.0      0.0   \n",
       "u97      0.0  0.0   0.0      0.0      0.0      0.0      0.0      0.0      0.0   \n",
       "u98      4.5  0.0   0.0      0.0      0.0      0.0      0.0      0.0      0.0   \n",
       "u99      0.0  4.0   0.0      0.0      0.0      0.0      0.0      0.0      0.0   \n",
       "\n",
       "movieId  m100194  ...  m99750  m99764  m998  m99813  m99846  m99853  m999  \\\n",
       "userId            ...                                                       \n",
       "u1           0.0  ...     0.0     0.0   0.0     0.0     0.0     0.0   0.0   \n",
       "u10          0.0  ...     0.0     0.0   0.0     0.0     0.0     0.0   0.0   \n",
       "u100         0.0  ...     0.0     0.0   0.0     0.0     0.0     0.0   0.0   \n",
       "u101         0.0  ...     0.0     0.0   0.0     0.0     0.0     0.0   0.0   \n",
       "u102         0.0  ...     0.0     0.0   0.0     0.0     0.0     0.0   0.0   \n",
       "...          ...  ...     ...     ...   ...     ...     ...     ...   ...   \n",
       "u95          0.0  ...     0.0     0.0   0.0     0.0     0.0     0.0   0.0   \n",
       "u96          0.0  ...     0.0     0.0   0.0     0.0     0.0     0.0   0.0   \n",
       "u97          0.0  ...     0.0     0.0   0.0     0.0     0.0     0.0   0.0   \n",
       "u98          0.0  ...     0.0     0.0   0.0     0.0     0.0     0.0   0.0   \n",
       "u99          0.0  ...     0.0     0.0   0.0     0.0     0.0     0.0   0.0   \n",
       "\n",
       "movieId  m99910  m99917  m99992  \n",
       "userId                           \n",
       "u1          0.0     0.0     0.0  \n",
       "u10         0.0     0.0     0.0  \n",
       "u100        0.0     0.0     0.0  \n",
       "u101        0.0     0.0     0.0  \n",
       "u102        0.0     0.0     0.0  \n",
       "...         ...     ...     ...  \n",
       "u95         0.0     0.0     0.0  \n",
       "u96         0.0     0.0     0.0  \n",
       "u97         0.0     0.0     0.0  \n",
       "u98         0.0     0.0     0.0  \n",
       "u99         0.0     0.0     0.0  \n",
       "\n",
       "[610 rows x 9724 columns]"
      ]
     },
     "execution_count": 6,
     "metadata": {},
     "output_type": "execute_result"
    }
   ],
   "source": [
    "r_df_matrix = ratings_df.pivot_table(index='userId', columns='movieId', values='rating').fillna(0)\n",
    "r_df_matrix"
   ]
  },
  {
   "cell_type": "markdown",
   "metadata": {
    "id": "SpJXEqQ_BKxg"
   },
   "source": [
    "The left hand bold column is the [index of the dataframe](https://pandas.pydata.org/pandas-docs/stable/user_guide/indexing.html) - that is, an attribute of the dataframe that allows fast lookup of rows. In this case, userId has become our index column.\n",
    "\n",
    "You can get all the index of users using the .index "
   ]
  },
  {
   "cell_type": "code",
   "execution_count": 7,
   "metadata": {
    "ExecuteTime": {
     "end_time": "2021-08-04T11:19:49.798404Z",
     "start_time": "2021-08-04T11:19:49.794575Z"
    },
    "id": "RRIXYwQgBRt2"
   },
   "outputs": [
    {
     "data": {
      "text/plain": [
       "Index(['u1', 'u10', 'u100', 'u101', 'u102', 'u103', 'u104', 'u105', 'u106',\n",
       "       'u107',\n",
       "       ...\n",
       "       'u90', 'u91', 'u92', 'u93', 'u94', 'u95', 'u96', 'u97', 'u98', 'u99'],\n",
       "      dtype='object', name='userId', length=610)"
      ]
     },
     "execution_count": 7,
     "metadata": {},
     "output_type": "execute_result"
    }
   ],
   "source": [
    "r_df_matrix.index"
   ]
  },
  {
   "cell_type": "markdown",
   "metadata": {
    "id": "y8RcZo1bBU8O"
   },
   "source": [
    "You can also use [.loc](https://pandas.pydata.org/pandas-docs/stable/reference/api/pandas.DataFrame.loc.html) to access rows, by their \"index\". For instance, we can get all ratings of a specific user with userId=‘1’."
   ]
  },
  {
   "cell_type": "code",
   "execution_count": 8,
   "metadata": {
    "ExecuteTime": {
     "end_time": "2021-08-04T11:19:49.806113Z",
     "start_time": "2021-08-04T11:19:49.801142Z"
    },
    "id": "77XOSOdqBXmw"
   },
   "outputs": [
    {
     "data": {
      "text/plain": [
       "movieId\n",
       "m1         4.0\n",
       "m10        0.0\n",
       "m100       0.0\n",
       "m100044    0.0\n",
       "m100068    0.0\n",
       "          ... \n",
       "m99853     0.0\n",
       "m999       0.0\n",
       "m99910     0.0\n",
       "m99917     0.0\n",
       "m99992     0.0\n",
       "Name: u1, Length: 9724, dtype: float64"
      ]
     },
     "execution_count": 8,
     "metadata": {},
     "output_type": "execute_result"
    }
   ],
   "source": [
    "r_df_matrix.loc['u1']\n",
    "# r_df_matrix['m2']"
   ]
  },
  {
   "cell_type": "markdown",
   "metadata": {
    "id": "Rt9_SlC4Beut"
   },
   "source": [
    "User-based CF heavily relies upon Cosine similarity. We are providing a Cosine similarity implementation based on numpy operations. We also show how to use df.loc to get all the ratings of a given user from `r_df_matrix` as a Series - we then make this into a numpy array using the [.values](https://pandas.pydata.org/docs/reference/api/pandas.Series.values.html) property.\n"
   ]
  },
  {
   "cell_type": "code",
   "execution_count": 9,
   "metadata": {
    "ExecuteTime": {
     "end_time": "2021-08-04T11:19:49.814390Z",
     "start_time": "2021-08-04T11:19:49.808059Z"
    },
    "id": "9NXXbCQsBbJW"
   },
   "outputs": [
    {
     "name": "stdout",
     "output_type": "stream",
     "text": [
      "Cosine similarity between userId=1 and itself is:\n",
      "1.0\n",
      "Cosine similarity between userId=1 and userId=607 is:\n",
      "0.2693892401115333\n"
     ]
    }
   ],
   "source": [
    "def cos_sim(a, b):\n",
    "    from numpy.linalg import norm\n",
    "    from numpy import dot\n",
    "    return dot(a, b)/(norm(a)*norm(b))\n",
    "\n",
    "print('Cosine similarity between userId=1 and itself is:')\n",
    "print(cos_sim(r_df_matrix.loc['u1'].values, r_df_matrix.loc['u1'].values))\n",
    "\n",
    "print('Cosine similarity between userId=1 and userId=607 is:')\n",
    "print(cos_sim(r_df_matrix.loc['u1'].values, r_df_matrix.loc['u607'].values))"
   ]
  },
  {
   "cell_type": "markdown",
   "metadata": {
    "id": "B061AiTiBlWJ"
   },
   "source": [
    "## Task 1. Get the most similar users.\n",
    "\n",
    "User-based CF is based on user-neighbourhoods. In this task, you will implement a function ` get_most_similar_users(userId : str, k : int = 10)` that will identify the userIds of the k most similar users to the specified userId, and their corresponding cosine similarities. \n",
    "\n",
    "In determining the most similar users, you should break ties based on their position in the array - for instance, if two users are tied as 2nd most similar user, the user who appears earlier should be 2nd, and the latter user third.\n",
    "\n",
    "You should exclude the compared user itself when generating a list of the most similar users.\n",
    "\n",
    "NB: We are using Python type hints to remind you what the function parameters (`str`, `int`) and return type (`Tuple[Sequence[str], Sequence[float]]`) should be.\n",
    "\n",
    "Hints: \n",
    " - The cos_sim function should be used here. \n",
    " - Higher cos_sim means more similar.\n",
    " - Try SciPy's [`rankdata()`](https://docs.scipy.org/doc/scipy/reference/generated/scipy.stats.rankdata.html) function. Given an array, `rankdata()` tells you positions in sorted rank order. For instance:\n",
    "```\n",
    ">>> rankdata([5.9, 2.1, 4.3])\n",
    "array([3., 1., 2.])\n",
    "```\n",
    "It also has support for addressing ties.\n",
    " - The first return component of [np.nonzero](https://numpy.org/doc/stable/reference/generated/numpy.nonzero.html) can be used to return the indices of the elements that are non-zero. E.g.\n",
    " ```\n",
    " >>> np.array([True,False]).nonzero()[0]\n",
    "array([0])\n",
    "```\n"
   ]
  },
  {
   "cell_type": "code",
   "execution_count": 10,
   "metadata": {
    "ExecuteTime": {
     "end_time": "2021-08-04T11:19:50.688357Z",
     "start_time": "2021-08-04T11:19:49.815717Z"
    },
    "id": "rj1wpnS7BbMF"
   },
   "outputs": [
    {
     "name": "stdout",
     "output_type": "stream",
     "text": [
      "(['u313'], [0.07818732282993371])\n"
     ]
    }
   ],
   "source": [
    "from scipy.stats import rankdata\n",
    "\n",
    "def get_most_similar_users(userId, k=10):\n",
    "  # Add your solution here\n",
    "    cosines = [cos_sim(r_df_matrix.loc[userId], r_df_matrix.iloc[i]) for i in range(len(r_df_matrix))]\n",
    "    idx = [rankdata(cosines).tolist().index(i) for i in range(len(r_df_matrix)-1, len(r_df_matrix)-k-1, -1)]\n",
    "    topk_userids = r_df_matrix.iloc[idx].index.tolist() # a list/numpy array of k userIds of top-k users\n",
    "    topk_cosines = [cosines[i] for i in idx]  # a list/numpy array of k cosine similarity values\n",
    "    return (topk_userids, topk_cosines)\n",
    "\n",
    "print(get_most_similar_users(userId='u3', k=1))\n",
    "\n",
    "# Add your solution here (cosine similarity > 0)\n"
   ]
  },
  {
   "cell_type": "markdown",
   "metadata": {
    "id": "Z3jnW2BCAIWR"
   },
   "source": [
    "You can now answer the questions corresponding to Task 1 in the quiz."
   ]
  },
  {
   "cell_type": "code",
   "execution_count": 11,
   "metadata": {
    "ExecuteTime": {
     "end_time": "2021-08-04T11:19:50.935582Z",
     "start_time": "2021-08-04T11:19:50.690264Z"
    },
    "id": "UVnsPTKjzqnD"
   },
   "outputs": [
    {
     "name": "stdout",
     "output_type": "stream",
     "text": [
      "(['u159'], [0.28826463078187997])\n"
     ]
    }
   ],
   "source": [
    "print(get_most_similar_users(userId='u10', k=1))"
   ]
  },
  {
   "cell_type": "code",
   "execution_count": 12,
   "metadata": {
    "ExecuteTime": {
     "end_time": "2021-08-04T11:19:51.175264Z",
     "start_time": "2021-08-04T11:19:50.937476Z"
    },
    "id": "PIMwvzqJ2YuE"
   },
   "outputs": [
    {
     "name": "stdout",
     "output_type": "stream",
     "text": [
      "(['u453', 'u45'], [0.27983214052930266, 0.26236874974336444])\n"
     ]
    }
   ],
   "source": [
    "print(get_most_similar_users(userId='u500', k=2))"
   ]
  },
  {
   "cell_type": "markdown",
   "metadata": {
    "id": "t9ZepSCnBwc7"
   },
   "source": [
    "## Task 2. Predict ratings via user-based CF.\n",
    "\n",
    "Now you should implement your user-based CF, within a predict() function. \n",
    "The aim of this function is to predict the rating of a given userId for a given itemId.\n",
    "\n",
    "Your implementation should make use of your `get_most_similar_users()` implementation above, using k=10 nearest neighbours.\n",
    "\n",
    "Hint: \n",
    " - You may wish to revise user-based CF from Lecture 4. "
   ]
  },
  {
   "cell_type": "code",
   "execution_count": 13,
   "metadata": {
    "ExecuteTime": {
     "end_time": "2021-08-04T11:19:51.469735Z",
     "start_time": "2021-08-04T11:19:51.177138Z"
    },
    "id": "0eX33RkTBbS2"
   },
   "outputs": [
    {
     "name": "stdout",
     "output_type": "stream",
     "text": [
      "Predicted rating: 3.898822026597358\n",
      "Actual rating: 4.0\n"
     ]
    }
   ],
   "source": [
    "def predict_rating(userId, movieId):\n",
    "  # add your solution here\n",
    "    userids, cosines = get_most_similar_users(userId=userId, k=10)\n",
    "#     get ratings from top 10 similar users for movieId\n",
    "    ratings = r_df_matrix.loc[userids][movieId]\n",
    "#     exclude 0 ratings\n",
    "    idx = np.array(ratings).nonzero()[0]\n",
    "    cosines = [cosines[i] for i in idx]\n",
    "    predicted = np.sum(cosines * ratings[idx]) / np.sum(cosines) # predicted rating value\n",
    "    return predicted\n",
    "\n",
    "print(\"Predicted rating:\", predict_rating(userId='u1', movieId='m1'))\n",
    "\n",
    "print(\"Actual rating:\", r_df_matrix.loc['u1']['m1'])"
   ]
  },
  {
   "cell_type": "markdown",
   "metadata": {
    "id": "xuWLuAZzB9br"
   },
   "source": [
    "You can complete answering the quiz questions for Task 2."
   ]
  },
  {
   "cell_type": "markdown",
   "metadata": {
    "id": "CqfUghVsCA7G"
   },
   "source": [
    "## Task 3. Predict ratings via user-based CF with Mean-center normalisation.\n",
    "\n",
    "Users usually rate differently: (1) some rate high, while others low. (2) Some use more of the scale than others. However, the user-based CF we implemented above ignores these differences. To this end, we can apply normalisation to compensate. In this task, you will implement user-based CF with Mean-Center Normalisation.\n",
    "\n",
    "Provide implementations for `mean_rating(userId : str)` and `predict_rating_MC(userId : str, movieId : str)`.\n",
    "\n",
    "Hints: \n",
    "- See lecture 4 about user-based CF with Mean-center normalisation. \n",
    "- Check if the predicted rating for a given user makes sense (i.e. what did the user rate before)?"
   ]
  },
  {
   "cell_type": "code",
   "execution_count": 14,
   "metadata": {
    "ExecuteTime": {
     "end_time": "2021-08-04T11:19:51.777373Z",
     "start_time": "2021-08-04T11:19:51.472215Z"
    },
    "id": "-Q5Efb4zB5_O"
   },
   "outputs": [
    {
     "name": "stdout",
     "output_type": "stream",
     "text": [
      "Mean rating of user u5: 3.6363636363636362\n",
      "Predicted rating: 4.769198526598024\n",
      "Actual rating: 4.0\n"
     ]
    }
   ],
   "source": [
    "def mean_rating(userId):\n",
    "  # add your solution here\n",
    "    mean_rating = np.mean(r_df_matrix.loc[userId][np.array(r_df_matrix.loc[userId]).nonzero()[0]]) # mean-centering value\n",
    "    return mean_rating\n",
    "\n",
    "print(\"Mean rating of user u5:\", mean_rating('u5') )\n",
    "\n",
    "def predict_rating_MC(userId, movieId):\n",
    "  # add your solution here\n",
    "    userids, cosines = get_most_similar_users(userId=userId, k=10)\n",
    "    ratings = r_df_matrix.loc[userids][movieId]\n",
    "    means = [mean_rating(i) for i in userids]\n",
    "#     exclude ratings of 0\n",
    "    idx = np.array(ratings).nonzero()[0]\n",
    "    cosines = [cosines[i] for i in idx]\n",
    "    means = [means[i] for i in idx]\n",
    "  # predicted rating value with mean-centering\n",
    "    predicted = mean_rating(userId) + np.sum(cosines * (ratings[idx] - means)) / np.sum(cosines)\n",
    "    return predicted\n",
    "\n",
    "print(\"Predicted rating:\", predict_rating_MC('u1', 'm1'))\n",
    "print(\"Actual rating:\", r_df_matrix.loc['u1']['m1'])"
   ]
  },
  {
   "cell_type": "markdown",
   "metadata": {
    "id": "VApK70ld1tQ_"
   },
   "source": [
    "Now answer the questions for Task 3 in the quiz."
   ]
  },
  {
   "cell_type": "markdown",
   "metadata": {
    "id": "ZN_OpdQYHmTb"
   },
   "source": [
    "# Part B - Explicit Matrix Factorisation using Spotlight"
   ]
  },
  {
   "cell_type": "markdown",
   "metadata": {
    "id": "17h6DqmGGh2f"
   },
   "source": [
    "In this part, we will investigate explicit matrix factorisation."
   ]
  },
  {
   "cell_type": "markdown",
   "metadata": {
    "id": "L0oobMGk5eqv"
   },
   "source": [
    "We're going to use the Spotlight library - see https://github.com/maciejkula/spotlight - and its documentation at https://maciejkula.github.io/spotlight/\n",
    "\n",
    "You can install this direct from Git, but using Craig's patched version as done below.\n"
   ]
  },
  {
   "cell_type": "code",
   "execution_count": 15,
   "metadata": {
    "ExecuteTime": {
     "end_time": "2021-08-04T11:19:51.781786Z",
     "start_time": "2021-08-04T11:19:51.779218Z"
    },
    "id": "cDObURPI-Shz"
   },
   "outputs": [],
   "source": [
    "# !pip install git+https://github.com/cmacdonald/spotlight.git@master#egg=spotlight"
   ]
  },
  {
   "cell_type": "markdown",
   "metadata": {
    "id": "Nqoiteq7IJzJ"
   },
   "source": [
    "Now we can get onto some real recommendation work. Spotlight has a handy [Interactions](https://maciejkula.github.io/spotlight/interactions.html) object, which encapsulates the basics of a recommendation dataset.\n",
    "\n",
    "In fact, there are handy loaders for a few standard datasets including MovieLens, but let's make our own, so that we can match back to the dataframe.\n",
    "\n",
    "Interactions need numbers as userids and itemids. Unfortunately, our MovieLens uses numbers, but these aren't consecutive (i.e. we have missing movieIds values). They are also strings (i.e. movieIds start with \"m\" and userIds start with \"u\").\n",
    "\n",
    "Hence, for both movies and users, we will use [defaultdict](https://docs.python.org/3/library/collections.html#collections.defaultdict) to convert the MovieLens strings down to consecutive integers for use in Spotlight, in the `uid_map` and `iid_map` objects. We'll keep the reverse mapping around too, in case we want to lookup the actual movieId given the uid recorded by Spotlight (etc).\n",
    "\n",
    "*NB*: This is a really important concept to understand. Put simply, WE -- as humans -- deal with external representations (userId, movieId, in this dataset prefixed with \"u\" and \"m\" respectively). On the other hand, Spotlight can only deal with integers starting from 0 for both items and users (we call these \"iids\" and \"uids\"). "
   ]
  },
  {
   "cell_type": "code",
   "execution_count": 16,
   "metadata": {
    "ExecuteTime": {
     "end_time": "2021-08-04T11:19:51.830257Z",
     "start_time": "2021-08-04T11:19:51.784258Z"
    },
    "id": "oF89PzxNHrHq"
   },
   "outputs": [
    {
     "name": "stdout",
     "output_type": "stream",
     "text": [
      "610 users 9724 item\n",
      "userId u556 got uid 555\n",
      "movieId m54001 got iid 2518\n"
     ]
    }
   ],
   "source": [
    "from collections import defaultdict\n",
    "from itertools import count\n",
    "\n",
    "#create userId -> uid mapping dictionary. the next assigned value is the current size.\n",
    "uid_map = defaultdict(count().__next__)\n",
    "#ditto for movieId -> iid\n",
    "iid_map = defaultdict(count().__next__)\n",
    "\n",
    "#uids is an array of integers corresponding to the userId for every row in ratings_df\n",
    "#uid_map does the assignment of new uid values, or reusing the uid value assigned for\n",
    "#each userId\n",
    "uids = np.array([uid_map[uid] for uid in ratings_df[\"userId\"].values ], dtype=np.int32)\n",
    "#similar for iids\n",
    "iids = np.array([iid_map[iid] for iid in ratings_df[\"movieId\"].values ], dtype=np.int32)\n",
    "\n",
    "#freeze uid_map and iid_map so no more mappings are created\n",
    "uid_map.default_factory = None\n",
    "iid_map.default_factory = None\n",
    "\n",
    "#reverse them, so we can go from iid (int) to itemId (str)\n",
    "uid_rev_map = {v: k for k, v in uid_map.items()}\n",
    "iid_rev_map = {v: k for k, v in iid_map.items()}\n",
    "num_items = len(iid_map)\n",
    "num_users = len(uid_map)\n",
    "\n",
    "print(\"%d users %d item\" % (num_users, num_items))\n",
    "\n",
    "ratings = ratings_df[\"rating\"].values.astype(np.float32)\n",
    "timestamps = ratings_df[\"timestamp\"].values.astype(np.int32)\n",
    "\n",
    "print(\"userId %s got uid %d\" % (\"u556\", uid_map[\"u556\"]))\n",
    "print(\"movieId %s got iid %d\" % (\"m54001\", iid_map[\"m54001\"]))"
   ]
  },
  {
   "cell_type": "markdown",
   "metadata": {
    "id": "Lrhni5wSX7QP"
   },
   "source": [
    "Furthemore, we will use user u556 as one of our illustrative users. You will remember from Exercise 1 that they rated a number of fantasy movies highly.\n",
    "\n"
   ]
  },
  {
   "cell_type": "markdown",
   "metadata": {
    "id": "hDwZYy2xY3-D"
   },
   "source": [
    "## On towards MF"
   ]
  },
  {
   "cell_type": "markdown",
   "metadata": {
    "id": "gMejAIwPNVrU"
   },
   "source": [
    "Now let's build a Spotlight [Interactions](https://maciejkula.github.io/spotlight/interactions.html) object. This contains everything that Spotlight needs to train a model. We can split it up randomly into train and test subsets \n",
    "\n",
    "NB: we use a SEED (20) to make our results reproducible. "
   ]
  },
  {
   "cell_type": "code",
   "execution_count": 17,
   "metadata": {
    "ExecuteTime": {
     "end_time": "2021-08-04T11:19:52.561166Z",
     "start_time": "2021-08-04T11:19:51.832597Z"
    },
    "id": "cg2tNWwPIBfu"
   },
   "outputs": [],
   "source": [
    "from spotlight.interactions import Interactions\n",
    "from spotlight.cross_validation import random_train_test_split\n",
    "\n",
    "dataset = Interactions(user_ids=uids,\n",
    "                                  item_ids=iids,\n",
    "                                  ratings=ratings,\n",
    "                                  timestamps=timestamps)\n",
    "\n",
    "#lets initialise the seed, so that its repeatable and reproducible \n",
    "train, test = random_train_test_split(dataset, random_state=np.random.RandomState(SEED))"
   ]
  },
  {
   "cell_type": "markdown",
   "metadata": {
    "id": "1shoeRmWKXxS"
   },
   "source": [
    "Let's see how big the two datasets are. What is the train/test split percentage size?"
   ]
  },
  {
   "cell_type": "code",
   "execution_count": 18,
   "metadata": {
    "ExecuteTime": {
     "end_time": "2021-08-04T11:19:52.566512Z",
     "start_time": "2021-08-04T11:19:52.563907Z"
    },
    "cellView": "code",
    "id": "XcjOWJ-qIEge"
   },
   "outputs": [
    {
     "name": "stdout",
     "output_type": "stream",
     "text": [
      "<Interactions dataset (610 users x 9724 items x 80668 interactions)>\n",
      "<Interactions dataset (610 users x 9724 items x 20168 interactions)>\n"
     ]
    }
   ],
   "source": [
    "print(train)\n",
    "print(test)"
   ]
  },
  {
   "cell_type": "markdown",
   "metadata": {
    "id": "RBnevuHnT57k"
   },
   "source": [
    "Here, you can see that following the collaborative filtering task model (see Lecture 6), all users, and all items, are present in both training and test sets."
   ]
  },
  {
   "cell_type": "markdown",
   "metadata": {
    "id": "aTyhLswNulTX"
   },
   "source": [
    "Now, you can think of the Interaction objects are being the partitions of the rating matrix. But we don't store it as a single big matrix. Instead, we record three one-dimensional arrays:\n",
    " \n",
    "  * one for the ids of the users\n",
    "  * one for the ids of the items\n",
    "  * one for the actual rating values.\n",
    "\n",
    "Each of these arrays is the size of the number of ratings (80668 for the training set).\n",
    "\n",
    "In essence, Interactions is a sparse matrix - for each rating, we record its x and y position, as well as the rating itself.\n"
   ]
  },
  {
   "cell_type": "code",
   "execution_count": 19,
   "metadata": {
    "ExecuteTime": {
     "end_time": "2021-08-04T11:19:52.571238Z",
     "start_time": "2021-08-04T11:19:52.568330Z"
    },
    "id": "74iQtBOoUZJ1"
   },
   "outputs": [
    {
     "name": "stdout",
     "output_type": "stream",
     "text": [
      "(80668,)\n",
      "(80668,)\n",
      "(80668,)\n"
     ]
    }
   ],
   "source": [
    "print(train.item_ids.shape)\n",
    "print(train.user_ids.shape)\n",
    "print(train.ratings.shape)"
   ]
  },
  {
   "cell_type": "markdown",
   "metadata": {
    "id": "2V9Hx3dhUjI1"
   },
   "source": [
    "For instance, let's look at the first rating:"
   ]
  },
  {
   "cell_type": "code",
   "execution_count": 20,
   "metadata": {
    "ExecuteTime": {
     "end_time": "2021-08-04T11:19:52.575889Z",
     "start_time": "2021-08-04T11:19:52.572890Z"
    },
    "id": "sz46dNMkUrCC"
   },
   "outputs": [
    {
     "name": "stdout",
     "output_type": "stream",
     "text": [
      "uid 56 gave iid 1491 a rating of 2\n"
     ]
    }
   ],
   "source": [
    "print(\"uid %d gave iid %d a rating of %d\" % (train.user_ids[0], train.item_ids[0],train.ratings[0]))"
   ]
  },
  {
   "cell_type": "markdown",
   "metadata": {
    "id": "V4R1mQgSUZ86"
   },
   "source": [
    "Let's take our favourite fantasy adventure fan from Exercise 1, userId u556. We can give a look at their training ratings:"
   ]
  },
  {
   "cell_type": "code",
   "execution_count": 21,
   "metadata": {
    "ExecuteTime": {
     "end_time": "2021-08-04T11:19:52.582492Z",
     "start_time": "2021-08-04T11:19:52.577981Z"
    },
    "id": "47QmgWtYvM4u"
   },
   "outputs": [
    {
     "name": "stdout",
     "output_type": "stream",
     "text": [
      "[6082 6087  457 1925 7951 1132  764 5989  753 1342 1893 3076 3258 1182\n",
      " 1938 1894 4796  926  770 8659 2059  917 1077  912  779  322 1307 3087\n",
      " 2518  774]\n",
      "[4.  3.5 5.  5.  4.  4.  4.  4.  4.5 4.  4.  4.5 4.  4.  4.5 3.5 4.  4.\n",
      " 4.  4.  4.  3.5 5.  2.5 4.  5.  4.  4.  4.  4. ]\n"
     ]
    }
   ],
   "source": [
    "# map userId to the internal uid value\n",
    "userId = \"u556\"\n",
    "uid = uid_map.get(userId)\n",
    "\n",
    "# see which ratings are for this user. Use this to filter the item and ratings arrays. \n",
    "# here we are filtering a numpy array based on an array of True/False values. Its just\n",
    "# like filtering a Pandas data frame.\n",
    "print(train.item_ids[train.user_ids == uid])\n",
    "print(train.ratings[train.user_ids == uid])"
   ]
  },
  {
   "cell_type": "markdown",
   "metadata": {
    "id": "RhnKAa-KKclT"
   },
   "source": [
    "We can now learn a model. Let's start with a matrix factorisation for explicit data.  We train the model using the `fit` method. This is just like the `fit` in Sklearn - we're fitting  a model to the specified training data.\n",
    "\n",
    "This might take upto a minute. \n",
    "\n",
    "**NB:**  Spotlight can support using GPUs which we could use to slightly speed up training time, but that will make our life more difficult later on, so let's ignore this for now."
   ]
  },
  {
   "cell_type": "code",
   "execution_count": 22,
   "metadata": {
    "ExecuteTime": {
     "end_time": "2021-08-04T11:20:04.910062Z",
     "start_time": "2021-08-04T11:19:52.588713Z"
    },
    "id": "UduCmnlbKt-O"
   },
   "outputs": [
    {
     "name": "stdout",
     "output_type": "stream",
     "text": [
      "Epoch 0: loss 4.308109059552603\n",
      "Epoch 1: loss 0.8099101023583473\n",
      "Epoch 2: loss 0.5096786644639848\n",
      "Epoch 3: loss 0.36366338179081303\n",
      "Epoch 4: loss 0.29197127919031096\n",
      "Epoch 5: loss 0.2569773982785925\n",
      "Epoch 6: loss 0.23643479123711586\n",
      "Epoch 7: loss 0.22271783739517007\n",
      "Epoch 8: loss 0.2139979787170887\n",
      "Epoch 9: loss 0.20728878464691247\n",
      "Training took 12 seconds \n"
     ]
    }
   ],
   "source": [
    "from spotlight.factorization.explicit import ExplicitFactorizationModel\n",
    "import time  \n",
    "\n",
    "emodel = ExplicitFactorizationModel(n_iter=10,\n",
    "                                    embedding_dim=32, #this is Spotlight default\n",
    "                                    use_cuda=False,\n",
    "                                    random_state=np.random.RandomState(SEED) # ensure results are repeatable\n",
    ")\n",
    "current = time.time()\n",
    "\n",
    "emodel.fit(train, verbose=True)\n",
    "\n",
    "end = time.time()\n",
    "diff = end - current\n",
    "print(\"Training took %d seconds \"% (diff))"
   ]
  },
  {
   "cell_type": "markdown",
   "metadata": {
    "id": "cTTK1BlbLL_t"
   },
   "source": [
    "How well did we do. Well, let's give a look at the recommentations, for our specific user, userId u556. \n",
    "\n"
   ]
  },
  {
   "cell_type": "code",
   "execution_count": 23,
   "metadata": {
    "ExecuteTime": {
     "end_time": "2021-08-04T11:20:04.933448Z",
     "start_time": "2021-08-04T11:20:04.913372Z"
    },
    "id": "zjyVPjoGLoy6"
   },
   "outputs": [
    {
     "name": "stdout",
     "output_type": "stream",
     "text": [
      "One test item_id for userId u556 (uid 555) is \n",
      "Test movieId is m74530 iid 8141 \n",
      "Predicted rating for 'Percy Jackson & the Olympians: The Lightning Thief (2010)' was 2.574094, actual rating 3.5, error was 0.925906\n"
     ]
    }
   ],
   "source": [
    "userId = \"u556\"\n",
    "\n",
    "# convert the string to the internal integer\n",
    "uid = uid_map.get(userId)\n",
    "print(\"One test item_id for userId %s (uid %d) is \" % (userId, uid))\n",
    "\n",
    "# pick one rating that the user made\n",
    "testItemId = test.item_ids[test.user_ids == uid][0] \n",
    "print(\"Test movieId is %s iid %d \" % (iid_rev_map.get(testItemId), testItemId ) )\n",
    "\n",
    "\n",
    "#here 0 is a dummy item, which Spotlight needs for some reason...\n",
    "#we discard its prediction using [1]\n",
    "predicted = emodel.predict( np.array([uid]), item_ids=np.array([0, testItemId]) )[1]\n",
    "\n",
    "#what was the actual score of the user for that movie?\n",
    "#we can get the appropriate row from the ratings dataframe, then extract that value\n",
    "actual = ratings_df[(ratings_df.movieId==iid_rev_map.get(testItemId)) & (ratings_df.userId==userId)][\"rating\"].values[0]\n",
    "\n",
    "\n",
    "def getMovieTitle(iid):\n",
    "    return movies_df[movies_df['movieId'] == iid_rev_map.get(iid)][\"title\"].values[0]\n",
    "\n",
    "print(\"Predicted rating for '%s' was %f, actual rating %0.1f, error was %f\" % (getMovieTitle(testItemId), predicted, actual, abs(predicted-actual) )) \n"
   ]
  },
  {
   "cell_type": "markdown",
   "metadata": {
    "id": "zWdWW8QhacOw"
   },
   "source": [
    "So this is interesting - while we saw above that the users liked fantasy movies, we predicted a rating of $\\sim 2.5$, but the user gave this particular movie a 3.5."
   ]
  },
  {
   "cell_type": "markdown",
   "metadata": {
    "id": "BgX01Wwlr_WA"
   },
   "source": [
    "We can also ask for **all** of the recommendations for a given user:"
   ]
  },
  {
   "cell_type": "code",
   "execution_count": 24,
   "metadata": {
    "ExecuteTime": {
     "end_time": "2021-08-04T11:20:04.943212Z",
     "start_time": "2021-08-04T11:20:04.936327Z"
    },
    "id": "fz28wrmIsDa-"
   },
   "outputs": [
    {
     "name": "stdout",
     "output_type": "stream",
     "text": [
      "[3.9689286 4.3499784 4.5101585 ... 0.8742354 2.7873063 0.9850696]\n",
      "9724\n",
      "2.5740938\n",
      "True\n"
     ]
    }
   ],
   "source": [
    "allpreds = emodel.predict( np.array([uid]) )\n",
    "\n",
    "print(allpreds)\n",
    "print(allpreds.size)\n",
    "\n",
    "#we can recover the original rating for our test item \n",
    "print(allpreds[testItemId])\n",
    "\n",
    "# lets just check we got the correct prediction\n",
    "print(allpreds[testItemId] - actual < 0.1)"
   ]
  },
  {
   "cell_type": "markdown",
   "metadata": {
    "id": "d25P7AtBPgXS"
   },
   "source": [
    "## Latent Factors aka Embeddings"
   ]
  },
  {
   "cell_type": "markdown",
   "metadata": {
    "id": "RyL5EG65TuNo"
   },
   "source": [
    "Let's see how these recommendations are made. Remember from Lecture 8 that the prediction is made based on the dot product of the user's and item's latent factors (also know as \"embeddings\").\n",
    "\n",
    "We can access these embeddings directly from the emodel object. Each embedding has 32 dimensions, which is what we set when configuring Spotlight's Explicit Factorisation Model."
   ]
  },
  {
   "cell_type": "code",
   "execution_count": 25,
   "metadata": {
    "ExecuteTime": {
     "end_time": "2021-08-04T11:20:04.951173Z",
     "start_time": "2021-08-04T11:20:04.944863Z"
    },
    "cellView": "both",
    "id": "Jf2Em9KSa74G"
   },
   "outputs": [
    {
     "name": "stdout",
     "output_type": "stream",
     "text": [
      "torch.Size([32])\n"
     ]
    },
    {
     "data": {
      "text/plain": [
       "tensor([ 0.1223, -0.3951, -0.3488,  0.0474,  0.7867, -0.0242,  0.2448,  0.7672,\n",
       "        -0.1924, -0.0686, -0.1228,  0.6061, -0.1798, -0.3621,  0.7326,  0.2025,\n",
       "        -0.1660, -0.3077, -0.3590, -0.3852,  0.2368, -0.6257,  0.7370,  0.8468,\n",
       "         0.0755, -0.4360, -0.1154, -0.2451, -0.0357, -0.0060,  0.1001,  0.2164],\n",
       "       grad_fn=<SelectBackward>)"
      ]
     },
     "execution_count": 25,
     "metadata": {},
     "output_type": "execute_result"
    }
   ],
   "source": [
    "#the embedding of an item is a PyTorch tensor of size 32\n",
    "#a PyTorch tensor can be thought of having similar semantics as an numpy array.\n",
    "print(emodel._net.item_embeddings.weight[0].shape)\n",
    "emodel._net.item_embeddings.weight[0]\n"
   ]
  },
  {
   "cell_type": "markdown",
   "metadata": {
    "id": "VcKlJIBoVNYr"
   },
   "source": [
    "We can check how Spotlight makes its prediction. The key line is https://github.com/maciejkula/spotlight/blob/master/spotlight/factorization/representations.py#L89\n",
    "\n",
    "This takes the (dot-)product of the user's \"embedding\" (latent factor) and the item's embedding. On top of these are added \"user_biases\" and \"item_biases\". What do you think these last two components are for?\n",
    "\n",
    "Let's reproduce this for our favourite user..."
   ]
  },
  {
   "cell_type": "code",
   "execution_count": 26,
   "metadata": {
    "ExecuteTime": {
     "end_time": "2021-08-04T11:20:04.960991Z",
     "start_time": "2021-08-04T11:20:04.953173Z"
    },
    "id": "g14v62m4YRyd"
   },
   "outputs": [
    {
     "name": "stdout",
     "output_type": "stream",
     "text": [
      "Percy Jackson & the Olympians: The Lightning Thief (2010)\n"
     ]
    },
    {
     "data": {
      "text/plain": [
       "tensor([[2.5741]], grad_fn=<AddBackward0>)"
      ]
     },
     "execution_count": 26,
     "metadata": {},
     "output_type": "execute_result"
    }
   ],
   "source": [
    "# uid=555 for u556\n",
    "# testItemId is our item of interest\n",
    "\n",
    "dotprod = (emodel._net.user_embeddings.weight[uid] * emodel._net.item_embeddings.weight[testItemId]).sum(0)\n",
    "user_bias = emodel._net.user_biases(torch.tensor([uid]))\n",
    "item_bias = emodel._net.item_biases(torch.tensor([testItemId], dtype=torch.long))\n",
    "\n",
    "print(getMovieTitle(testItemId))\n",
    "\n",
    "dotprod + user_bias + item_bias"
   ]
  },
  {
   "cell_type": "markdown",
   "metadata": {
    "id": "9VE2tpcJb8e7"
   },
   "source": [
    "## Task 4. Examining Latent Factors\n",
    "\n",
    "Let's give a look at item-item similarities. Write a function `mostsimilar(targetMovieId, model)` that identifies the most similar movieId to the specified target, based on the Cosine similarity of their item embedding vectors. \n",
    "\n",
    "What's the closest movie to \"Harry Potter and the Deathly Hallows: Part 1 (2010)\" , which is movieId m81834 in the MovieLens dataset?\n",
    "\n",
    "Hint: \n",
    " - Since we're working with PyTorch tenors, you should use [`nn.functional.cosine_similarity(x, y, dim=0)`](https://pytorch.org/docs/stable/nn.functional.html#cosine-similarity) to calculate the cosine similarity between two vectors x & y, as demonstrated below between two orthogonal vectors:"
   ]
  },
  {
   "cell_type": "code",
   "execution_count": 27,
   "metadata": {
    "ExecuteTime": {
     "end_time": "2021-08-04T11:20:04.967247Z",
     "start_time": "2021-08-04T11:20:04.962541Z"
    },
    "id": "O7fDGUx6fBR3"
   },
   "outputs": [
    {
     "data": {
      "text/plain": [
       "tensor(0.)"
      ]
     },
     "execution_count": 27,
     "metadata": {},
     "output_type": "execute_result"
    }
   ],
   "source": [
    "import torch.nn as nn\n",
    "\n",
    "nn.functional.cosine_similarity(\n",
    "     torch.tensor([1.0,0]),\n",
    "     torch.tensor([0,1.0],), dim=0)"
   ]
  },
  {
   "cell_type": "code",
   "execution_count": 28,
   "metadata": {
    "ExecuteTime": {
     "end_time": "2021-08-04T11:20:05.612532Z",
     "start_time": "2021-08-04T11:20:04.968802Z"
    },
    "id": "0Rg_DuBnoMEu"
   },
   "outputs": [
    {
     "name": "stdout",
     "output_type": "stream",
     "text": [
      "9724\n",
      "targetMovieId = m81834 'Harry Potter and the Deathly Hallows: Part 1 (2010)' (iid 1933)\n",
      "mostSimilar = m69844 (iid 917) with cosine of 0.793590 \n"
     ]
    }
   ],
   "source": [
    "import torch.nn as nn\n",
    "\n",
    "def mostsimilar(targetIId : int, model):\n",
    "    highest=0\n",
    "    highestCos=0  \n",
    "# you may assume that model._num_items provides the total number of items\n",
    "  \n",
    "\n",
    "  ##SOLUTION FROM HERE\n",
    "    for i in range(model._num_items):\n",
    "        cosine = nn.functional.cosine_similarity(\n",
    "            model._net.item_embeddings.weight[targetIId],\n",
    "            model._net.item_embeddings.weight[i], dim=0)\n",
    "        if cosine > highestCos and cosine < 1.0:\n",
    "            highest = i\n",
    "            highestCos = cosine\n",
    "  #####################\n",
    "\n",
    "    print(train.num_items)\n",
    "    print(\"targetMovieId = %s '%s' (iid %d)\" % (iid_rev_map.get(targetIId), getMovieTitle(targetIId), targetIId))\n",
    "    print(\"mostSimilar = %s (iid %d) with cosine of %f \" % ( iid_rev_map.get(highest), highest, highestCos))\n",
    "\n",
    "mostsimilar(iid_map[\"m81834\"], emodel)"
   ]
  },
  {
   "cell_type": "markdown",
   "metadata": {
    "id": "6Br4nChVqUAj"
   },
   "source": [
    "Hopefully, you can see a correspondence between the nearest movie to `\"m81834\"`."
   ]
  },
  {
   "cell_type": "code",
   "execution_count": 29,
   "metadata": {
    "ExecuteTime": {
     "end_time": "2021-08-04T11:20:06.257686Z",
     "start_time": "2021-08-04T11:20:05.614642Z"
    },
    "id": "UgUvFR0AK8XI"
   },
   "outputs": [
    {
     "name": "stdout",
     "output_type": "stream",
     "text": [
      "9724\n",
      "targetMovieId = m88125 'Harry Potter and the Deathly Hallows: Part 2 (2011)' (iid 1938)\n",
      "mostSimilar = m69844 (iid 917) with cosine of 0.765978 \n"
     ]
    }
   ],
   "source": [
    "mostsimilar(iid_map[\"m88125\"], emodel)"
   ]
  },
  {
   "cell_type": "code",
   "execution_count": 30,
   "metadata": {
    "ExecuteTime": {
     "end_time": "2021-08-04T11:20:06.890247Z",
     "start_time": "2021-08-04T11:20:06.260154Z"
    },
    "id": "ENhT5FXX3qH9"
   },
   "outputs": [
    {
     "name": "stdout",
     "output_type": "stream",
     "text": [
      "9724\n",
      "targetMovieId = m44 'Mortal Kombat (1995)' (iid 971)\n",
      "mostSimilar = m107338 (iid 2836) with cosine of 0.641703 \n"
     ]
    }
   ],
   "source": [
    "mostsimilar(iid_map[\"m44\"], emodel)"
   ]
  },
  {
   "cell_type": "markdown",
   "metadata": {
    "id": "mxHfMZgbcdRu"
   },
   "source": [
    "## Evaluating performance\n",
    "\n",
    "Finally, let's see how good we are at our rating predictions. Handily, Spotlight implements a few common evaluation measures for us to inspect."
   ]
  },
  {
   "cell_type": "code",
   "execution_count": 31,
   "metadata": {
    "ExecuteTime": {
     "end_time": "2021-08-04T11:20:06.911945Z",
     "start_time": "2021-08-04T11:20:06.892361Z"
    },
    "id": "OB8UJykycm3G"
   },
   "outputs": [
    {
     "name": "stdout",
     "output_type": "stream",
     "text": [
      "Train RMSE 0.421, test RMSE 1.078\n"
     ]
    }
   ],
   "source": [
    "from spotlight.evaluation import rmse_score\n",
    "\n",
    "train_rmse = rmse_score(emodel, train)\n",
    "test_rmse = rmse_score(emodel, test)\n",
    "\n",
    "print('Train RMSE {:.3f}, test RMSE {:.3f}'.format(train_rmse, test_rmse))\n"
   ]
  },
  {
   "cell_type": "markdown",
   "metadata": {
    "id": "WcRrTWx9lkoo"
   },
   "source": [
    "## Task 5. Tuning\n",
    "\n",
    "It's appropriate to tune the latent factors. Normally we would use a held-out *validation* for setting the parameters, but as an exercise it is useful to examine performance on the training and test data.\n",
    "\n",
    "The task here is to train and evaluate new instances of ExplicitFactorizationModels using different numbers of latent factors, while leaving the other parameters unchanged (i.e. `n_iter=10, use_cuda=False, random_state=np.random.RandomState(SEED)`. \n",
    "\n",
    "You should also record the training times for different numbers of latent factors.\n",
    "\n",
    "You should vary the factors in `[8,16,32,64]`. Evaluate and record the RMSE values of the resulting models on both the training and test sets. Use matplotlib to create a graph showing how training and test RMSE change as the number of latent factors is varied. Use [plt.savefig()](https://matplotlib.org/stable/api/_as_gen/matplotlib.pyplot.savefig.html) to save a PNG of your graph.\n",
    "\n",
    "You can now answer the questions about Task 5 in the quiz."
   ]
  },
  {
   "cell_type": "code",
   "execution_count": 60,
   "metadata": {
    "ExecuteTime": {
     "end_time": "2021-08-04T11:46:32.013338Z",
     "start_time": "2021-08-04T11:45:40.832873Z"
    }
   },
   "outputs": [
    {
     "name": "stdout",
     "output_type": "stream",
     "text": [
      "Training took 10 seconds \n",
      "Training took 11 seconds \n",
      "Training took 12 seconds \n",
      "Training took 16 seconds \n"
     ]
    }
   ],
   "source": [
    "factors = [8, 16, 32, 64]\n",
    "tuning_train_rmse = []\n",
    "tuning_test_rmse = []\n",
    "for factor in factors:\n",
    "    tuning_model = ExplicitFactorizationModel(n_iter=10,\n",
    "                                        embedding_dim=factor, #this is Spotlight default\n",
    "                                        use_cuda=False,\n",
    "                                        random_state=np.random.RandomState(SEED) # ensure results are repeatable\n",
    "                    )\n",
    "    current = time.time()\n",
    "    tuning_model.fit(train, verbose=False)\n",
    "    end = time.time()\n",
    "    diff = end - current\n",
    "    print(\"Training took %d seconds \"% (diff))\n",
    "    tuning_train_rmse.append(rmse_score(tuning_model, train))\n",
    "    tuning_test_rmse.append(rmse_score(tuning_model, test))"
   ]
  },
  {
   "cell_type": "code",
   "execution_count": 33,
   "metadata": {
    "ExecuteTime": {
     "end_time": "2021-08-04T11:20:55.288976Z",
     "start_time": "2021-08-04T11:20:54.415654Z"
    },
    "id": "42zBfjCEL6pI"
   },
   "outputs": [
    {
     "data": {
      "image/png": "[encoded data removed]",
      "text/plain": [
       "<Figure size 960x640 with 1 Axes>"
      ]
     },
     "metadata": {},
     "output_type": "display_data"
    }
   ],
   "source": [
    "#solution here\n",
    "import matplotlib.pyplot as plt\n",
    "plt.style.use('ggplot')\n",
    "plt.rcParams['figure.dpi'] = 160\n",
    "\n",
    "fig, ax = plt.subplots()\n",
    "ax.plot(factors, tuning_train_rmse, label='train')\n",
    "ax.scatter(factors, tuning_train_rmse)\n",
    "ax.plot(factors, tuning_test_rmse, label='test')\n",
    "ax.scatter(factors, tuning_test_rmse)\n",
    "\n",
    "ax.set_xlabel('Number of Latent Factors')\n",
    "ax.set_ylabel('RMSE')\n",
    "ax.set_title(\"Change of RMSE for number of latent factors in %s\" % factors)\n",
    "ax.legend()\n",
    "plt.savefig('RMSE.png')"
   ]
  },
  {
   "cell_type": "markdown",
   "metadata": {
    "id": "RYTtH0_pl6sj"
   },
   "source": [
    "## Evaluating Other Models\n",
    "\n",
    "When evaluating models, it's important to compare to some reasonable baselines. \n",
    "\n",
    "Fortunately, Spotlight's `rmse_score()` method can be used to evaluate any Python object that adheres to the specification of the `predict()` function. For instance, we can make a baseline \"static\" scoring model, which returns the same scores for each user. This set of scores is passed as numpy array in the constructor.\n"
   ]
  },
  {
   "cell_type": "code",
   "execution_count": 34,
   "metadata": {
    "ExecuteTime": {
     "end_time": "2021-08-04T11:20:55.294603Z",
     "start_time": "2021-08-04T11:20:55.290769Z"
    },
    "id": "D8Xd1X4TX2Tq"
   },
   "outputs": [],
   "source": [
    "class StaticModel:\n",
    "\n",
    "    def __init__(self, staticscores):\n",
    "        self.numitems = len(staticscores)\n",
    "        self.staticscores = staticscores\n",
    "        \n",
    "  #uids are the user(s) we are requesting recommendations for;\n",
    "  #returns an array of scores, one for each item\n",
    "  #the array is duplicated for each user requested\n",
    "    def predict(self, uids, iids=None):\n",
    "    #this model returns all zeros, regardless of userid\n",
    "    \n",
    "    #we respond to one or more uids\n",
    "        uids = [uids] if isinstance(uids, int) else uids\n",
    "\n",
    "    #if iids is specificed, we filter predicts for those userids\n",
    "        iids = np.arange(self.numitems) if iids is None else iids\n",
    "        return [self.staticscores[iids] for u in uids]"
   ]
  },
  {
   "cell_type": "markdown",
   "metadata": {
    "id": "Zhl_7mUxmdlv"
   },
   "source": [
    "For instance, we can make a static baseline that just returns 0 for every item, regardless of the user."
   ]
  },
  {
   "cell_type": "code",
   "execution_count": 35,
   "metadata": {
    "ExecuteTime": {
     "end_time": "2021-08-04T11:21:09.714631Z",
     "start_time": "2021-08-04T11:20:55.296139Z"
    },
    "id": "m3FVJWJzYhoC"
   },
   "outputs": [
    {
     "name": "stdout",
     "output_type": "stream",
     "text": [
      "Asking for 2 users, one item: [0.0, 0.0]\n",
      "Asking for one item: [0.0]\n",
      "Asking for two items: [array([0., 0.])]\n",
      "RMSE of our dummy model: 3.642758\n"
     ]
    }
   ],
   "source": [
    "mydummymodel = StaticModel(np.zeros(num_items))\n",
    "\n",
    "print(\"Asking for 2 users, one item: \" + str(mydummymodel.predict([0,1],0)))\n",
    "print(\"Asking for one item: \" + str(mydummymodel.predict(0,0)))\n",
    "print(\"Asking for two items: \" + str(mydummymodel.predict(0,[0,1])))\n",
    "print(\"RMSE of our dummy model: %f\" % rmse_score(mydummymodel, test))"
   ]
  },
  {
   "cell_type": "markdown",
   "metadata": {
    "id": "KSnTtOzAoA2l"
   },
   "source": [
    "## Task 6. Popularity-based Recommenders\n",
    "\n",
    "This task asks you to implement other baseline recommenders.\n",
    "\n",
    "**Using ratings_df**, create three new instances of StaticModel as baselines:\n",
    "\n",
    "(a). the number of ratings - you must linearly normalise this to be in the range 0-5.\n",
    "\n",
    "(b). the number of 5 scores received by an item - you must linearly normalise this to be in the range 0-5.\n",
    "\n",
    "(c). the average rating value for each item (no need to normalise - scores are already 0-5)\n",
    "\n",
    "Evaluate your baseline models in terms of RMSE, as well as providing their scores for particular iids, as requested in the quiz.\n",
    "\n",
    "Hints:\n",
    " - You may find iterating over a dataframe using iterrows() useful - e.g. see  https://stackoverflow.com/a/16476974\n",
    " - Order is VERY IMPORTANT. Think carefully about the assumed order that predict() returns item scores for."
   ]
  },
  {
   "cell_type": "code",
   "execution_count": 36,
   "metadata": {
    "ExecuteTime": {
     "end_time": "2021-08-04T11:21:49.564454Z",
     "start_time": "2021-08-04T11:21:09.718288Z"
    },
    "id": "i7ff_L2dMAGO"
   },
   "outputs": [
    {
     "name": "stdout",
     "output_type": "stream",
     "text": [
      "The RMSE for model A: 2.899816663013065\n",
      "The RMSE for model B: 3.3080173160912762\n",
      "The RMSE for model C: 0.8810745544813008\n"
     ]
    }
   ],
   "source": [
    "#solution here\n",
    "\n",
    "# the number of ratings for each item\n",
    "num_ratings_origin = ratings_df.groupby(['movieId'])['rating'].count()\n",
    "# order items in the predicted sort\n",
    "num_ratings = [num_ratings_origin[movie] for movie in iid_rev_map.values()]\n",
    "# linearly normalise to [0, 5]\n",
    "a_model = StaticModel(((num_ratings - min(num_ratings)) / (max(num_ratings) - min(num_ratings))) * 5)\n",
    "print(\"The RMSE for model A:\", rmse_score(a_model, test))\n",
    "\n",
    "# the number of 5 received by each item\n",
    "num_of_5 = []\n",
    "# counts of all scores received by each item\n",
    "count_of_score = ratings_df.groupby([\"movieId\"])['rating'].value_counts()\n",
    "# sort it in the predicted order\n",
    "for movie in iid_rev_map.values():\n",
    "    if 5.0 in count_of_score[movie]:\n",
    "        num_of_5.append(count_of_score[movie][5.0])\n",
    "#     set counts of items without 5.0 to 0\n",
    "    else:\n",
    "        num_of_5.append(0)\n",
    "# linearly normalise to [0, 5]\n",
    "num_of_5 = np.array(num_of_5)\n",
    "b_model = StaticModel(((num_of_5 - min(num_of_5)) / (max(num_of_5) - min(num_of_5))) * 5)\n",
    "print(\"The RMSE for model B:\", rmse_score(b_model, test))\n",
    "\n",
    "# the average rating for each item\n",
    "avg_ratings_origin = ratings_df.groupby([\"movieId\"]).mean()[\"rating\"]\n",
    "# change the order\n",
    "avg_ratings = [avg_ratings_origin[movie] for movie in iid_rev_map.values()]\n",
    "c_model = StaticModel(np.array(avg_ratings))\n",
    "print(\"The RMSE for model C:\", rmse_score(c_model, test))"
   ]
  },
  {
   "cell_type": "code",
   "execution_count": 61,
   "metadata": {
    "ExecuteTime": {
     "end_time": "2021-08-04T11:49:00.230455Z",
     "start_time": "2021-08-04T11:49:00.225472Z"
    }
   },
   "outputs": [
    {
     "data": {
      "text/plain": [
       "[3.2621951219512195]"
      ]
     },
     "execution_count": 61,
     "metadata": {},
     "output_type": "execute_result"
    }
   ],
   "source": [
    "a_model.predict(0, 0)"
   ]
  },
  {
   "cell_type": "code",
   "execution_count": 62,
   "metadata": {
    "ExecuteTime": {
     "end_time": "2021-08-04T11:49:41.494993Z",
     "start_time": "2021-08-04T11:49:41.489147Z"
    }
   },
   "outputs": [
    {
     "data": {
      "text/plain": [
       "[1.5359477124183007]"
      ]
     },
     "execution_count": 62,
     "metadata": {},
     "output_type": "execute_result"
    }
   ],
   "source": [
    "b_model.predict(0, 0)"
   ]
  },
  {
   "cell_type": "code",
   "execution_count": 63,
   "metadata": {
    "ExecuteTime": {
     "end_time": "2021-08-04T11:50:03.779301Z",
     "start_time": "2021-08-04T11:50:03.773647Z"
    }
   },
   "outputs": [
    {
     "data": {
      "text/plain": [
       "[3.9209302325581397]"
      ]
     },
     "execution_count": 63,
     "metadata": {},
     "output_type": "execute_result"
    }
   ],
   "source": [
    "c_model.predict(0, 0)"
   ]
  },
  {
   "cell_type": "markdown",
   "metadata": {
    "id": "4aCiYTWaeobQ"
   },
   "source": [
    "# Part C - Implicit Recommendation\n",
    "\n",
    "This part of the lab uses a music dataset from [Last.fm](https://www.last.fm/) -- a Spotify-like music streaming service -- that was obtained by a researcher at Pompeu Fabra University (Barcelona, Spain). The relevant citation is:\n",
    "\n",
    "```\n",
    "  @book{Celma:Springer2010,\n",
    "      \tauthor = {Celma, O.},\n",
    "      \ttitle = {{Music Recommendation and Discovery in the Long Tail}},\n",
    "       \tpublisher = {Springer},\n",
    "       \tyear = {2010}\n",
    "      }\n",
    " ```\n",
    "\n",
    "You can have more information about the dataset at [this link](http://ocelma.net/MusicRecommendationDataset/lastfm-1K.html)."
   ]
  },
  {
   "cell_type": "markdown",
   "metadata": {
    "id": "jsDavoa3qC64"
   },
   "source": [
    "## Dataset preparation\n",
    "\n",
    "This dataset is 600MB copmressed, and 2.4GB uncompressed. It takes 30 seconds to download on Colab. "
   ]
  },
  {
   "cell_type": "code",
   "execution_count": 37,
   "metadata": {
    "ExecuteTime": {
     "end_time": "2021-08-04T11:21:49.574817Z",
     "start_time": "2021-08-04T11:21:49.569545Z"
    },
    "id": "M-drWmULel_p"
   },
   "outputs": [],
   "source": [
    "# !rm -rf lastfm-dataset-1K.tar.gz\n",
    "# !curl -o \"lastfm-dataset-1K.tar.gz\" \"http://www.dcs.gla.ac.uk/~craigm/recsysH/lastfm-dataset-1K.tar.gz\"\n",
    "#backup location\n",
    "#!curl -o \"lastfm-dataset-1K.tar.gz\" http://macavaney.us/misc/lastfm-dataset-1K.tar.gz\n",
    "# !tar -zxvf lastfm-dataset-1K.tar.gz\n",
    "# !ls -lh lastfm-dataset-1K/"
   ]
  },
  {
   "cell_type": "code",
   "execution_count": 38,
   "metadata": {
    "ExecuteTime": {
     "end_time": "2021-08-04T11:22:27.799784Z",
     "start_time": "2021-08-04T11:21:49.578454Z"
    },
    "id": "kcxILh_-h773"
   },
   "outputs": [],
   "source": [
    "listens_df = pd.read_csv(\"lastfm-dataset-1K/userid-timestamp-artid-artname-traid-traname.tsv\",  names=['user', 'timestamp', 'artistid', 'artist', 'trackid', 'trackname'], header=None, sep='\\t')\n",
    "\n",
    "#Some tracks dont seem to have artists or track names, so lets drop them for simplicity.\n",
    "listens_df = listens_df[listens_df.artist.notnull()]\n",
    "listens_df = listens_df[listens_df.trackname.notnull()]\n",
    "\n",
    "#the dataframe is VERY big (19M interactions), so lets just work with a small sample of it (this will mean that effectiveness will be lower, but learning will be MUCH faster).\n",
    "listens_df = listens_df.sample(n=200000, random_state=np.random.RandomState(SEED))"
   ]
  },
  {
   "cell_type": "markdown",
   "metadata": {
    "id": "GZSwFnZSgrNU"
   },
   "source": [
    "\n",
    "Let's look at the dataset. Note that the we don't have any explicit ratings by the users. We just know what they interacted with (and when). "
   ]
  },
  {
   "cell_type": "code",
   "execution_count": 39,
   "metadata": {
    "ExecuteTime": {
     "end_time": "2021-08-04T11:22:27.833684Z",
     "start_time": "2021-08-04T11:22:27.802155Z"
    },
    "id": "HAP3dPt-4KMi"
   },
   "outputs": [
    {
     "data": {
      "text/html": [
       "<div>\n",
       "<style scoped>\n",
       "    .dataframe tbody tr th:only-of-type {\n",
       "        vertical-align: middle;\n",
       "    }\n",
       "\n",
       "    .dataframe tbody tr th {\n",
       "        vertical-align: top;\n",
       "    }\n",
       "\n",
       "    .dataframe thead th {\n",
       "        text-align: right;\n",
       "    }\n",
       "</style>\n",
       "<table border=\"1\" class=\"dataframe\">\n",
       "  <thead>\n",
       "    <tr style=\"text-align: right;\">\n",
       "      <th></th>\n",
       "      <th>user</th>\n",
       "      <th>timestamp</th>\n",
       "      <th>artistid</th>\n",
       "      <th>artist</th>\n",
       "      <th>trackid</th>\n",
       "      <th>trackname</th>\n",
       "    </tr>\n",
       "  </thead>\n",
       "  <tbody>\n",
       "    <tr>\n",
       "      <th>11087179</th>\n",
       "      <td>user_000593</td>\n",
       "      <td>2007-05-14T18:49:03Z</td>\n",
       "      <td>ad996aef-cc1c-42ac-af5c-619c370f4b8a</td>\n",
       "      <td>Emerson, Lake &amp; Palmer</td>\n",
       "      <td>NaN</td>\n",
       "      <td>Three Fates (Clotho/Lachesis/Atropos)</td>\n",
       "    </tr>\n",
       "    <tr>\n",
       "      <th>1911790</th>\n",
       "      <td>user_000093</td>\n",
       "      <td>2008-08-18T22:04:59Z</td>\n",
       "      <td>8c538f11-c141-4588-8ecb-931083524186</td>\n",
       "      <td>Bloc Party</td>\n",
       "      <td>315a301e-e764-4adf-91c6-e90a22320106</td>\n",
       "      <td>Positive Tension</td>\n",
       "    </tr>\n",
       "    <tr>\n",
       "      <th>11099786</th>\n",
       "      <td>user_000594</td>\n",
       "      <td>2008-04-06T10:57:45Z</td>\n",
       "      <td>65f4f0c5-ef9e-490c-aee3-909e7ae6b2ab</td>\n",
       "      <td>Metallica</td>\n",
       "      <td>683c89fe-2be8-4ed2-8e58-68b2343cb8d5</td>\n",
       "      <td>Through The Never</td>\n",
       "    </tr>\n",
       "    <tr>\n",
       "      <th>12076983</th>\n",
       "      <td>user_000651</td>\n",
       "      <td>2008-05-10T07:14:45Z</td>\n",
       "      <td>3ca09fae-fdee-4771-bab9-244708515a98</td>\n",
       "      <td>Omarion</td>\n",
       "      <td>NaN</td>\n",
       "      <td>Ice Box [Orangefuzzz Weather Advisory Radio Mix]</td>\n",
       "    </tr>\n",
       "    <tr>\n",
       "      <th>2680461</th>\n",
       "      <td>user_000137</td>\n",
       "      <td>2009-03-11T23:17:22Z</td>\n",
       "      <td>af84ee9f-534a-4f7f-844b-188ba1c47e87</td>\n",
       "      <td>Los Rodríguez</td>\n",
       "      <td>76b83f07-3763-4c17-8d24-28040d85354a</td>\n",
       "      <td>Dulce Condena</td>\n",
       "    </tr>\n",
       "  </tbody>\n",
       "</table>\n",
       "</div>"
      ],
      "text/plain": [
       "                 user             timestamp  \\\n",
       "11087179  user_000593  2007-05-14T18:49:03Z   \n",
       "1911790   user_000093  2008-08-18T22:04:59Z   \n",
       "11099786  user_000594  2008-04-06T10:57:45Z   \n",
       "12076983  user_000651  2008-05-10T07:14:45Z   \n",
       "2680461   user_000137  2009-03-11T23:17:22Z   \n",
       "\n",
       "                                      artistid                  artist  \\\n",
       "11087179  ad996aef-cc1c-42ac-af5c-619c370f4b8a  Emerson, Lake & Palmer   \n",
       "1911790   8c538f11-c141-4588-8ecb-931083524186              Bloc Party   \n",
       "11099786  65f4f0c5-ef9e-490c-aee3-909e7ae6b2ab               Metallica   \n",
       "12076983  3ca09fae-fdee-4771-bab9-244708515a98                 Omarion   \n",
       "2680461   af84ee9f-534a-4f7f-844b-188ba1c47e87           Los Rodríguez   \n",
       "\n",
       "                                       trackid  \\\n",
       "11087179                                   NaN   \n",
       "1911790   315a301e-e764-4adf-91c6-e90a22320106   \n",
       "11099786  683c89fe-2be8-4ed2-8e58-68b2343cb8d5   \n",
       "12076983                                   NaN   \n",
       "2680461   76b83f07-3763-4c17-8d24-28040d85354a   \n",
       "\n",
       "                                                 trackname  \n",
       "11087179             Three Fates (Clotho/Lachesis/Atropos)  \n",
       "1911790                                   Positive Tension  \n",
       "11099786                                 Through The Never  \n",
       "12076983  Ice Box [Orangefuzzz Weather Advisory Radio Mix]  \n",
       "2680461                                      Dulce Condena  "
      ]
     },
     "execution_count": 39,
     "metadata": {},
     "output_type": "execute_result"
    }
   ],
   "source": [
    "listens_df.head()"
   ]
  },
  {
   "cell_type": "markdown",
   "metadata": {
    "id": "MLGzG9Rig3E6"
   },
   "source": [
    "## An implicit recommendation approach\n",
    "\n",
    "Let's move away from explicit recommendation to implicit.\n",
    "\n",
    "We will continue using the [Spotlight](https://github.com/maciejkula/spotlight/) toolkit for our recommender. "
   ]
  },
  {
   "cell_type": "markdown",
   "metadata": {
    "id": "U03zZ6CH---1"
   },
   "source": [
    "We can construct [Interaction](https://maciejkula.github.io/spotlight/interactions.html) objects for Spotlight in the same way as before. The only difference is that this time we do not record the user's ratings.\n"
   ]
  },
  {
   "cell_type": "code",
   "execution_count": 40,
   "metadata": {
    "ExecuteTime": {
     "end_time": "2021-08-04T11:22:28.194336Z",
     "start_time": "2021-08-04T11:22:27.835624Z"
    },
    "id": "jcRhNWXzg7LT"
   },
   "outputs": [
    {
     "name": "stdout",
     "output_type": "stream",
     "text": [
      "<Interactions dataset (973 users x 125076 items x 200000 interactions)>\n"
     ]
    }
   ],
   "source": [
    "from collections import defaultdict\n",
    "from itertools import count\n",
    "\n",
    "#we cant trust the musicbrainz ids to exist, so lets build items ids based on artist & trackname attributes\n",
    "LFMiid_map = defaultdict(count().__next__)\n",
    "LFMiids = np.array([LFMiid_map[artist+\"/\"+trackname] for artist,trackname in listens_df[[\"artist\",\"trackname\"]].values ], dtype=np.int32)\n",
    "\n",
    "LFMuid_map = defaultdict(count().__next__)\n",
    "LFMuids = np.array([LFMuid_map[uid] for uid in listens_df[\"user\"].values ], dtype=np.int32)\n",
    "#freeze uid_map and iid_map so no more mapping are created\n",
    "LFMuid_map.default_factory = None\n",
    "LFMiid_map.default_factory = None\n",
    "\n",
    "LFMuid_rev_map = {v: k for k, v in LFMuid_map.items()}\n",
    "LFMiid_rev_map = {v: k for k, v in LFMiid_map.items()}\n",
    "\n",
    "from spotlight.interactions import Interactions\n",
    "from spotlight.cross_validation import random_train_test_split\n",
    "\n",
    "#NB: we will set num_users and num_items here - its a good practice.\n",
    "imp_dataset = Interactions(user_ids=LFMuids, item_ids=LFMiids, num_users=len(LFMuid_map), num_items=len(LFMiid_map))\n",
    "#we could add the timestamps here if we were doing sequence recommendation\n",
    "\n",
    "#what have we got.\n",
    "print(imp_dataset)"
   ]
  },
  {
   "cell_type": "code",
   "execution_count": 41,
   "metadata": {
    "ExecuteTime": {
     "end_time": "2021-08-04T11:22:28.208928Z",
     "start_time": "2021-08-04T11:22:28.196446Z"
    },
    "id": "22dmr7JKqUnz"
   },
   "outputs": [
    {
     "name": "stdout",
     "output_type": "stream",
     "text": [
      "<Interactions dataset (973 users x 125076 items x 160000 interactions)>\n",
      "<Interactions dataset (973 users x 125076 items x 40000 interactions)>\n"
     ]
    }
   ],
   "source": [
    "from spotlight.cross_validation import random_train_test_split\n",
    "\n",
    "itrain, itest = random_train_test_split(imp_dataset, random_state=np.random.RandomState(SEED))\n",
    "print(itrain)\n",
    "print(itest)"
   ]
  },
  {
   "cell_type": "markdown",
   "metadata": {
    "id": "EFQazPPxhG2_"
   },
   "source": [
    "Let's run Spotlight's impllicit Matrix Factorisation on this dataset. Here, we use a *pointwise* loss, which just tries to predict whether the user will like the item or not. It does not use the BPR loss function (more on that later).\n",
    "\n",
    "**Warning**: this dataset is difficult for the learner - this *will* take a few minutes to learn... Use the time to read-on."
   ]
  },
  {
   "cell_type": "code",
   "execution_count": 42,
   "metadata": {
    "ExecuteTime": {
     "end_time": "2021-08-04T11:23:53.252129Z",
     "start_time": "2021-08-04T11:22:28.211380Z"
    },
    "id": "co3ZwYgkhKvq"
   },
   "outputs": [
    {
     "name": "stdout",
     "output_type": "stream",
     "text": [
      "Epoch 0: loss 0.9663112525939941\n",
      "Epoch 1: loss 0.49532509894371035\n",
      "Epoch 2: loss 0.19036928343772888\n",
      "Epoch 3: loss 0.11518939826488495\n",
      "Epoch 4: loss 0.08347187566757203\n",
      "Training took 85 seconds\n"
     ]
    }
   ],
   "source": [
    "from spotlight.factorization.implicit import ImplicitFactorizationModel\n",
    "import time  \n",
    "\n",
    "imodel = ImplicitFactorizationModel(n_iter=5, \n",
    "                                    embedding_dim=32, #this is Spotlight default\n",
    "                                    use_cuda=False,\n",
    "                                    random_state=np.random.RandomState(SEED) # ensure results are repeatable\n",
    ")\n",
    "current = time.time()\n",
    "\n",
    "imodel.fit(itrain, verbose=True)\n",
    "end = time.time()\n",
    "diff = end - current\n",
    "print(\"Training took %d seconds\" % (diff))"
   ]
  },
  {
   "cell_type": "markdown",
   "metadata": {
    "id": "zso4C5wehLog"
   },
   "source": [
    "Again, we can look at the predictions. We make a prediction (a score ) for ALL items for user uid 0. Note that the scores vary in magnitude - indeed, we're not predicting a rating, we just need to have scores in order to rank the items in descending order."
   ]
  },
  {
   "cell_type": "code",
   "execution_count": 43,
   "metadata": {
    "ExecuteTime": {
     "end_time": "2021-08-04T11:23:53.282588Z",
     "start_time": "2021-08-04T11:23:53.254100Z"
    },
    "id": "AR_qbWXEhUDB"
   },
   "outputs": [
    {
     "name": "stdout",
     "output_type": "stream",
     "text": [
      "[ -4.757582    5.2615356  -9.297649  ...  -9.027798  -11.658006\n",
      " -13.502038 ]\n",
      "125076\n"
     ]
    }
   ],
   "source": [
    "print(imodel.predict(0))\n",
    "print(len(imodel.predict(0)))"
   ]
  },
  {
   "cell_type": "markdown",
   "metadata": {
    "id": "iyZ3PyAxhdDF"
   },
   "source": [
    "Now that we have the scores of all items for a given user, we need to identify the top-scored ones, i.e. those that we would present to the user. \n",
    "\n",
    "## Task 7. Track Analysis\n",
    "\n",
    "Write a function `tracksForUser(user)` to identify the artist name & track of the top K (e.g. K=4) items based on their score for a given user index index (i.e. 0.. 964). What are the top scored 10 tracks recommended for user uid 4?\n",
    "\n",
    "Hints: \n",
    "\n",
    " \n",
    " - I also found [`np.argwhere()`](https://docs.scipy.org/doc/numpy/reference/generated/numpy.argwhere.html) to be useful. It results only the positions of an array that are True. For instance:\n",
    "```\n",
    ">>> np.argwhere([True, False])\n",
    "array([[0]])\n",
    "```\n",
    " Alternatively, you can sort and then slice.\n",
    "\n"
   ]
  },
  {
   "cell_type": "code",
   "execution_count": 44,
   "metadata": {
    "ExecuteTime": {
     "end_time": "2021-08-04T11:23:53.330460Z",
     "start_time": "2021-08-04T11:23:53.284440Z"
    },
    "id": "V93_Bxw3MG1F"
   },
   "outputs": [
    {
     "data": {
      "text/plain": [
       "['Evanescence/Sweet Sacrifice',\n",
       " 'Mgmt/Kids',\n",
       " 'The Killers/Bones',\n",
       " 'Nelly Furtado/Say It Right',\n",
       " 'Kings Of Leon/Use Somebody',\n",
       " 'Amy Winehouse/Back To Black',\n",
       " 'Red Hot Chili Peppers/The Zephyr Song',\n",
       " 'Radiohead/Fake Plastic Trees',\n",
       " 'Incubus/Drive',\n",
       " 'Him/The Funeral Of Hearts']"
      ]
     },
     "execution_count": 44,
     "metadata": {},
     "output_type": "execute_result"
    }
   ],
   "source": [
    "#your solution here\n",
    "def tracksForUser(uid):\n",
    "    ranks = rankdata(imodel.predict(uid)).tolist()\n",
    "    total = len(imodel.predict(uid))\n",
    "    idx = [ranks.index(i) for i in range(total, total-10, -1)]\n",
    "    return [LFMiid_rev_map[i] for i in idx]\n",
    "tracksForUser(uid=4)"
   ]
  },
  {
   "cell_type": "markdown",
   "metadata": {
    "id": "jWFSAuQ40p2Y"
   },
   "source": [
    "## Task 8. Artist Analysis\n",
    "\n",
    "Look at the artists actually listened to by uid 4, and compare/contrast with the predictions of the recommender. It's useful to examine how many times each artist was listened to.\n",
    "\n",
    "Hints: \n",
    " - use a groupby on a suitable subset of the listens_df dataframe. \n",
    " - Sort by descending frequency of listen."
   ]
  },
  {
   "cell_type": "code",
   "execution_count": 45,
   "metadata": {
    "ExecuteTime": {
     "end_time": "2021-08-04T11:23:53.360021Z",
     "start_time": "2021-08-04T11:23:53.333683Z"
    },
    "id": "T2wFfGfcMJcc"
   },
   "outputs": [
    {
     "data": {
      "text/plain": [
       "artist\n",
       "Soda Stereo                                  39\n",
       "Gustavo Cerati                               36\n",
       "Radiohead                                    31\n",
       "Lucybell                                     27\n",
       "Silvio Rodríguez                             16\n",
       "                                             ..\n",
       "Fito Páez, Gustavo Cerati Y Charly García     0\n",
       "Inti Illimani\\Inti+Quila                      0\n",
       "La Ley Y Amaral                               0\n",
       "02 2 X 4                                      0\n",
       "01 Ain'T My Bitch                             0\n",
       "Name: artistid, Length: 146, dtype: int64"
      ]
     },
     "execution_count": 45,
     "metadata": {},
     "output_type": "execute_result"
    }
   ],
   "source": [
    "#your solution here\n",
    "\n",
    "listens_df[listens_df['user'] == LFMuid_rev_map[4]].groupby(['artist']).count()['artistid'].sort_values(ascending=False)"
   ]
  },
  {
   "cell_type": "markdown",
   "metadata": {
    "id": "t2FWymqQRxKj"
   },
   "source": [
    "I observed that uid 4 listened frequently to \"Radiohead\" (rank 3), while a Radiohead song was among the top 10 ranked songs in our predicted model."
   ]
  },
  {
   "cell_type": "markdown",
   "metadata": {
    "id": "XmTNae6Romuk"
   },
   "source": [
    "## Evaluating an implicit recommender\n",
    "\n",
    "\n"
   ]
  },
  {
   "cell_type": "markdown",
   "metadata": {
    "id": "14Q2TTpZuHON"
   },
   "source": [
    "We can examine the MRR of the implicit model we have learned. We pass it the test set (which contains knowledge of what the user *actually* clicked), as our ground truth. \n",
    "\n",
    "In the second variant, we also pass the training data. Give a look at the  implementation of [mrr_score()](https://github.com/cmacdonald/spotlight/blob/master/spotlight/evaluation.py#L8) to understand what it is doing, and why.\n",
    "\n",
    "**Questions for you to consider**\n",
    " - Why is the second score lower? \n",
    " - Would this be the same for all recommendation settings? \n",
    " - In the implementation, why are the scores negated, why do we use [rankdata()](https://docs.scipy.org/doc/scipy/reference/generated/scipy.stats.rankdata.html)?\n",
    " \n",
    "We will use the first variant for this Lab. "
   ]
  },
  {
   "cell_type": "code",
   "execution_count": 46,
   "metadata": {
    "ExecuteTime": {
     "end_time": "2021-08-04T11:24:38.499613Z",
     "start_time": "2021-08-04T11:23:53.361827Z"
    },
    "id": "oLV71LSjt-k2"
   },
   "outputs": [
    {
     "name": "stdout",
     "output_type": "stream",
     "text": [
      "Wed  4 Aug 2021 12:23:53 BST\n",
      "0.03720125940064275\n",
      "Wed  4 Aug 2021 12:24:15 BST\n",
      "0.008104536778740273\n",
      "Wed  4 Aug 2021 12:24:38 BST\n"
     ]
    }
   ],
   "source": [
    "from spotlight.evaluation import mrr_score\n",
    "\n",
    "#evaluate on this dataset takes approx 1 minute\n",
    "!date\n",
    "print(mrr_score(imodel, itest).mean())\n",
    "!date\n",
    "print(mrr_score(imodel, itest,  train=itrain).mean())\n",
    "!date\n"
   ]
  },
  {
   "cell_type": "markdown",
   "metadata": {
    "id": "LjM_kZNtAE2k"
   },
   "source": [
    "How to interpret an MRR score - we know it has a range [0,1] with 1 being best. 1 means, on average across all users, we make a relevant prediction at rank 1; 0.5 means, on average, at rank 2. This is a very rough rule-of-thumb - MRR isn't a linear measure, so  a few poor predictions affect the average more than a few good ones.\n",
    "\n",
    "\n",
    "You can now answer all questions for Task 8."
   ]
  },
  {
   "cell_type": "markdown",
   "metadata": {
    "id": "hL2jRiGF2uLb"
   },
   "source": [
    "## Task 9. Listens and Recommendations\n",
    "\n",
    "*   Pick the user with the lowest uid that has RR=1 (you should not specify `train=` when making this choice). How many listens (ie. how many times they have listened to any song) did they have in the training dataset?\n",
    "*   Similarly, pick the user with the lowest uid that had the lowest RR. How many listens did they have in the training dataset?"
   ]
  },
  {
   "cell_type": "code",
   "execution_count": 47,
   "metadata": {
    "ExecuteTime": {
     "end_time": "2021-08-04T11:25:01.407638Z",
     "start_time": "2021-08-04T11:24:38.502663Z"
    },
    "id": "B6H0l1S6nNcd"
   },
   "outputs": [],
   "source": [
    "#solution goes here.\n",
    "MRR = mrr_score(imodel, itest)"
   ]
  },
  {
   "cell_type": "code",
   "execution_count": 48,
   "metadata": {
    "ExecuteTime": {
     "end_time": "2021-08-04T11:25:01.416038Z",
     "start_time": "2021-08-04T11:25:01.410261Z"
    }
   },
   "outputs": [
    {
     "data": {
      "text/plain": [
       "31"
      ]
     },
     "execution_count": 48,
     "metadata": {},
     "output_type": "execute_result"
    }
   ],
   "source": [
    "MRR.tolist().index(1.0)"
   ]
  },
  {
   "cell_type": "code",
   "execution_count": 49,
   "metadata": {
    "ExecuteTime": {
     "end_time": "2021-08-04T11:25:01.421590Z",
     "start_time": "2021-08-04T11:25:01.417731Z"
    }
   },
   "outputs": [
    {
     "data": {
      "text/plain": [
       "757"
      ]
     },
     "execution_count": 49,
     "metadata": {},
     "output_type": "execute_result"
    }
   ],
   "source": [
    "len(itrain.item_ids[itrain.user_ids == 31])"
   ]
  },
  {
   "cell_type": "code",
   "execution_count": 50,
   "metadata": {
    "ExecuteTime": {
     "end_time": "2021-08-04T11:25:01.426761Z",
     "start_time": "2021-08-04T11:25:01.423191Z"
    }
   },
   "outputs": [
    {
     "data": {
      "text/plain": [
       "1"
      ]
     },
     "execution_count": 50,
     "metadata": {},
     "output_type": "execute_result"
    }
   ],
   "source": [
    "MRR.argmin()"
   ]
  },
  {
   "cell_type": "code",
   "execution_count": 51,
   "metadata": {
    "ExecuteTime": {
     "end_time": "2021-08-04T11:25:01.433690Z",
     "start_time": "2021-08-04T11:25:01.429079Z"
    }
   },
   "outputs": [
    {
     "data": {
      "text/plain": [
       "355"
      ]
     },
     "execution_count": 51,
     "metadata": {},
     "output_type": "execute_result"
    }
   ],
   "source": [
    "len(itrain.item_ids[itrain.user_ids == 1])"
   ]
  },
  {
   "cell_type": "markdown",
   "metadata": {
    "id": "anEhZSz9nPZt"
   },
   "source": [
    "Next, make a numpy array containing the number of listens for each uid in the LastFM dataset. Plot a histogram of the distribution - like in Exercise 1, use matplotlib's histogram functionality, the default number of bins and use `log=True`. \n",
    "\n",
    "Save the PNG for uploading to the quiz when prompted."
   ]
  },
  {
   "cell_type": "code",
   "execution_count": 57,
   "metadata": {
    "ExecuteTime": {
     "end_time": "2021-08-04T11:27:01.019698Z",
     "start_time": "2021-08-04T11:27:00.351984Z"
    },
    "id": "zCI34-U48HHI"
   },
   "outputs": [
    {
     "data": {
      "image/png": "[encoded data removed]",
      "text/plain": [
       "<Figure size 1920x1280 with 1 Axes>"
      ]
     },
     "metadata": {},
     "output_type": "display_data"
    }
   ],
   "source": [
    "#solution goes here\n",
    "plt.rcParams['figure.figsize'] = [12, 8]\n",
    "num_of_listens = [len(itrain.item_ids[itrain.user_ids == i]) for i in range(itrain.num_users)]\n",
    "# plot the histgram\n",
    "counts, bins, _ = plt.hist(num_of_listens, log=True)\n",
    "plt.title(\"The Distribution of number of listens each uid\")\n",
    "plt.xlabel(\"number of listens\")\n",
    "plt.xticks(bins)\n",
    "plt.ylabel(\"number of uids\")\n",
    "# display the counts of each bin\n",
    "for i in range(10):\n",
    "    plt.text(bins[i]+50,counts[i],str(counts[i]))\n",
    "plt.savefig(\"hist.png\")"
   ]
  },
  {
   "cell_type": "markdown",
   "metadata": {
    "id": "5kjpISm3nwAy"
   },
   "source": [
    "Many users have very few listens. Lets set 20 listens as a threshold.\n",
    "\n",
    "Lets define users with < 20 listens as cold-start users.\n",
    "How many cold-start users are there?\n",
    "What is the MRR for ONLY these users, versus \"normal\" with 20 or more listens.\n"
   ]
  },
  {
   "cell_type": "code",
   "execution_count": 53,
   "metadata": {
    "ExecuteTime": {
     "end_time": "2021-08-04T11:25:02.402777Z",
     "start_time": "2021-08-04T11:25:02.395559Z"
    }
   },
   "outputs": [
    {
     "data": {
      "text/plain": [
       "162"
      ]
     },
     "execution_count": 53,
     "metadata": {},
     "output_type": "execute_result"
    }
   ],
   "source": [
    "# cold start users: listens < 20 in training set\n",
    "cold_start_uid = []\n",
    "normal_uid = []\n",
    "for idx, val in enumerate(num_of_listens):\n",
    "    if val < 20:\n",
    "        cold_start_uid.append(idx)\n",
    "    else:\n",
    "        normal_uid.append(idx)\n",
    "len(cold_start_uid)"
   ]
  },
  {
   "cell_type": "code",
   "execution_count": 54,
   "metadata": {
    "ExecuteTime": {
     "end_time": "2021-08-04T11:25:02.410960Z",
     "start_time": "2021-08-04T11:25:02.405398Z"
    }
   },
   "outputs": [
    {
     "data": {
      "text/plain": [
       "0.0024250440917107582"
      ]
     },
     "execution_count": 54,
     "metadata": {},
     "output_type": "execute_result"
    }
   ],
   "source": [
    "# MRR only for cold start users\n",
    "MRR[cold_start_uid].mean()"
   ]
  },
  {
   "cell_type": "code",
   "execution_count": 55,
   "metadata": {
    "ExecuteTime": {
     "end_time": "2021-08-04T11:25:02.419922Z",
     "start_time": "2021-08-04T11:25:02.413963Z"
    }
   },
   "outputs": [
    {
     "data": {
      "text/plain": [
       "0.04414792633041709"
      ]
     },
     "execution_count": 55,
     "metadata": {},
     "output_type": "execute_result"
    }
   ],
   "source": [
    "# MRR for normal users\n",
    "MRR[normal_uid].mean()"
   ]
  },
  {
   "cell_type": "markdown",
   "metadata": {
    "id": "MR_l43rFc7eo"
   },
   "source": [
    "## Task 10 - BPR\n",
    "\n",
    "Finally, let's compare the *pointwise* implicit factorisation model with *BPR*. BPR is a very key recommendation model in the literature, which is widely used today as a baseline in many research papers.\n",
    "\n",
    "Train an ImplicitFactorizationModel on the Last FM dataset (i.e. `itrain`) using identical settings as before, except adding `loss='bpr'`. Record the time taken to train, and the evaluate its effectiveness in terms of MRR. Do NOT use the `train=itrain` argument to `mrr_score()`. "
   ]
  },
  {
   "cell_type": "code",
   "execution_count": 56,
   "metadata": {
    "ExecuteTime": {
     "end_time": "2021-08-04T11:27:00.345740Z",
     "start_time": "2021-08-04T11:25:02.421511Z"
    },
    "id": "4oiCB4PuMQ_f"
   },
   "outputs": [
    {
     "name": "stdout",
     "output_type": "stream",
     "text": [
      "Epoch 0: loss 0.4740972481250763\n",
      "Epoch 1: loss 0.14683698407411575\n",
      "Epoch 2: loss 0.02480815403908491\n",
      "Epoch 3: loss 0.014375449328124523\n",
      "Epoch 4: loss 0.011113871423527598\n",
      "Training took 94 seconds\n",
      "Wed  4 Aug 2021 12:26:36 BST\n",
      "0.05814735966328977\n"
     ]
    }
   ],
   "source": [
    "#solution goes here\n",
    "bpr_model = ImplicitFactorizationModel(n_iter=5, \n",
    "                                    embedding_dim=32, #this is Spotlight default\n",
    "                                    use_cuda=False,\n",
    "                                    random_state=np.random.RandomState(SEED), # ensure results are repeatable\n",
    "                                    loss='bpr')\n",
    "current = time.time()\n",
    "\n",
    "bpr_model.fit(itrain, verbose=True)\n",
    "end = time.time()\n",
    "diff = end - current\n",
    "print(\"Training took %d seconds\" % (diff))\n",
    "!date\n",
    "print(mrr_score(bpr_model, itest).mean())"
   ]
  },
  {
   "cell_type": "markdown",
   "metadata": {
    "id": "awTPM_BGcUc0"
   },
   "source": [
    "# End of Exercise\n",
    "\n",
    "As part of your submission, you should complete the Exercise 2 quiz on Moodle.\n",
    "You will need to upload your notebook, complete with the **results** of executing the code (including figures and plots)."
   ]
  }
 ],
 "metadata": {
  "colab": {
   "collapsed_sections": [],
   "name": "RecSys 2021M - Ex2 TEMPLATE.ipynb",
   "provenance": []
  },
  "kernelspec": {
   "display_name": "Python 3 (ipykernel)",
   "language": "python",
   "name": "python3"
  },
  "language_info": {
   "codemirror_mode": {
    "name": "ipython",
    "version": 3
   },
   "file_extension": ".py",
   "mimetype": "text/x-python",
   "name": "python",
   "nbconvert_exporter": "python",
   "pygments_lexer": "ipython3",
   "version": "3.8.11"
  }
 },
 "nbformat": 4,
 "nbformat_minor": 4
}
