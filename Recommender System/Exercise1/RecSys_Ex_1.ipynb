{
 "cells": [
  {
   "cell_type": "markdown",
   "metadata": {
    "id": "zMRJzJXdfkNv"
   },
   "source": [
    "# Exercise 1\n",
    "\n",
    "The **aims** of this exercise are:\n",
    "\n",
    "*   Allow you practice slicing and analysing data with Pandas\n",
    "*   Introduce you to the MovieLens dataset\n",
    "*   Demonstrate use of Pandas to perform non-personalised and personalised recommendations\n",
    "\n",
    "This exercise is worth 5% of the contribution to your final mark for RecSys, and is expected to take approximately 5-7 hours of your time. NB: This is an individual exercise.\n",
    "\n"
   ]
  },
  {
   "cell_type": "code",
   "execution_count": 1,
   "metadata": {
    "ExecuteTime": {
     "end_time": "2021-07-26T16:37:45.869446Z",
     "start_time": "2021-07-26T16:37:45.132415Z"
    },
    "id": "D0FCwi-bIytL"
   },
   "outputs": [],
   "source": [
    "#Standard setup\n",
    "import pandas as pd\n",
    "import numpy as np"
   ]
  },
  {
   "cell_type": "markdown",
   "metadata": {
    "id": "uTkyfA-p51Oi"
   },
   "source": [
    "# Part A. MovieLens Exploration using Pandas\n",
    "\n",
    "This exercise will use the [Movielens](https://grouplens.org/datasets/movielens/) data. There is a large dataset with 25M ratings, however we will focus on the smallest one, that has only 100k ratings.  \n",
    "\n",
    "**Hint** : If you are using Colab, it might be good if you open these files, either on your own machine, or using Colab's inbuilt CSV viewer (via folder icon on the left hand sidebar). The CSV files are small enough to be searched using your favourite editor."
   ]
  },
  {
   "cell_type": "code",
   "execution_count": 2,
   "metadata": {
    "ExecuteTime": {
     "end_time": "2021-07-26T16:37:51.916549Z",
     "start_time": "2021-07-26T16:37:45.871018Z"
    },
    "colab": {
     "base_uri": "https://localhost:8080/"
    },
    "id": "Hq-oSeM344Ca",
    "outputId": "0599e973-a5a8-4992-c7c0-7862af72446e"
   },
   "outputs": [
    {
     "name": "stdout",
     "output_type": "stream",
     "text": [
      "  % Total    % Received % Xferd  Average Speed   Time    Time     Time  Current\n",
      "                                 Dload  Upload   Total   Spent    Left  Speed\n",
      "100  955k  100  955k    0     0   168k      0  0:00:05  0:00:05 --:--:--  270k\n",
      "Archive:  ml-latest-small.zip\n",
      "  inflating: ml-latest-small/links.csv  \n",
      "  inflating: ml-latest-small/tags.csv  \n",
      "  inflating: ml-latest-small/ratings.csv  \n",
      "  inflating: ml-latest-small/README.txt  \n",
      "  inflating: ml-latest-small/movies.csv  \n"
     ]
    }
   ],
   "source": [
    "!curl -o ml-latest-small.zip http://files.grouplens.org/datasets/movielens/ml-latest-small.zip\n",
    "# backup location\n",
    "#!curl -o ml-latest-small.zip http://www.dcs.gla.ac.uk/~craigm/recsysHM/ml-latest-small.zip\n",
    "\n",
    "!unzip -o ml-latest-small.zip"
   ]
  },
  {
   "cell_type": "markdown",
   "metadata": {
    "id": "idTYNpH-6Pr3"
   },
   "source": [
    "Let's look into the files using Pandas:"
   ]
  },
  {
   "cell_type": "code",
   "execution_count": 3,
   "metadata": {
    "ExecuteTime": {
     "end_time": "2021-07-26T16:37:52.150708Z",
     "start_time": "2021-07-26T16:37:51.924387Z"
    },
    "id": "-PWv4cz-4_7B"
   },
   "outputs": [],
   "source": [
    "ratings_df = pd.read_csv(\"ml-latest-small/ratings.csv\")\n",
    "movies_df = pd.read_csv(\"ml-latest-small/movies.csv\")\n",
    "\n",
    "# we're going to treat userId as strings, and similarly as movies. This will prevent confusion later on.\n",
    "ratings_df['userId'] = \"u\" + ratings_df['userId'].astype(str)\n",
    "ratings_df['movieId'] = \"m\" + ratings_df['movieId'].astype(str)\n",
    "movies_df['movieId'] = \"m\" +  movies_df['movieId'].astype(str)"
   ]
  },
  {
   "cell_type": "code",
   "execution_count": 4,
   "metadata": {
    "ExecuteTime": {
     "end_time": "2021-07-26T16:37:52.174343Z",
     "start_time": "2021-07-26T16:37:52.152904Z"
    },
    "colab": {
     "base_uri": "https://localhost:8080/",
     "height": 414
    },
    "id": "0R-tZogo5Uhn",
    "outputId": "97f77a5c-2af8-4f6f-83ab-cc6e6764d167"
   },
   "outputs": [
    {
     "data": {
      "text/html": [
       "<div>\n",
       "<style scoped>\n",
       "    .dataframe tbody tr th:only-of-type {\n",
       "        vertical-align: middle;\n",
       "    }\n",
       "\n",
       "    .dataframe tbody tr th {\n",
       "        vertical-align: top;\n",
       "    }\n",
       "\n",
       "    .dataframe thead th {\n",
       "        text-align: right;\n",
       "    }\n",
       "</style>\n",
       "<table border=\"1\" class=\"dataframe\">\n",
       "  <thead>\n",
       "    <tr style=\"text-align: right;\">\n",
       "      <th></th>\n",
       "      <th>userId</th>\n",
       "      <th>movieId</th>\n",
       "      <th>rating</th>\n",
       "      <th>timestamp</th>\n",
       "    </tr>\n",
       "  </thead>\n",
       "  <tbody>\n",
       "    <tr>\n",
       "      <th>0</th>\n",
       "      <td>u1</td>\n",
       "      <td>m1</td>\n",
       "      <td>4.0</td>\n",
       "      <td>964982703</td>\n",
       "    </tr>\n",
       "    <tr>\n",
       "      <th>1</th>\n",
       "      <td>u1</td>\n",
       "      <td>m3</td>\n",
       "      <td>4.0</td>\n",
       "      <td>964981247</td>\n",
       "    </tr>\n",
       "    <tr>\n",
       "      <th>2</th>\n",
       "      <td>u1</td>\n",
       "      <td>m6</td>\n",
       "      <td>4.0</td>\n",
       "      <td>964982224</td>\n",
       "    </tr>\n",
       "    <tr>\n",
       "      <th>3</th>\n",
       "      <td>u1</td>\n",
       "      <td>m47</td>\n",
       "      <td>5.0</td>\n",
       "      <td>964983815</td>\n",
       "    </tr>\n",
       "    <tr>\n",
       "      <th>4</th>\n",
       "      <td>u1</td>\n",
       "      <td>m50</td>\n",
       "      <td>5.0</td>\n",
       "      <td>964982931</td>\n",
       "    </tr>\n",
       "    <tr>\n",
       "      <th>...</th>\n",
       "      <td>...</td>\n",
       "      <td>...</td>\n",
       "      <td>...</td>\n",
       "      <td>...</td>\n",
       "    </tr>\n",
       "    <tr>\n",
       "      <th>100831</th>\n",
       "      <td>u610</td>\n",
       "      <td>m166534</td>\n",
       "      <td>4.0</td>\n",
       "      <td>1493848402</td>\n",
       "    </tr>\n",
       "    <tr>\n",
       "      <th>100832</th>\n",
       "      <td>u610</td>\n",
       "      <td>m168248</td>\n",
       "      <td>5.0</td>\n",
       "      <td>1493850091</td>\n",
       "    </tr>\n",
       "    <tr>\n",
       "      <th>100833</th>\n",
       "      <td>u610</td>\n",
       "      <td>m168250</td>\n",
       "      <td>5.0</td>\n",
       "      <td>1494273047</td>\n",
       "    </tr>\n",
       "    <tr>\n",
       "      <th>100834</th>\n",
       "      <td>u610</td>\n",
       "      <td>m168252</td>\n",
       "      <td>5.0</td>\n",
       "      <td>1493846352</td>\n",
       "    </tr>\n",
       "    <tr>\n",
       "      <th>100835</th>\n",
       "      <td>u610</td>\n",
       "      <td>m170875</td>\n",
       "      <td>3.0</td>\n",
       "      <td>1493846415</td>\n",
       "    </tr>\n",
       "  </tbody>\n",
       "</table>\n",
       "<p>100836 rows × 4 columns</p>\n",
       "</div>"
      ],
      "text/plain": [
       "       userId  movieId  rating   timestamp\n",
       "0          u1       m1     4.0   964982703\n",
       "1          u1       m3     4.0   964981247\n",
       "2          u1       m6     4.0   964982224\n",
       "3          u1      m47     5.0   964983815\n",
       "4          u1      m50     5.0   964982931\n",
       "...       ...      ...     ...         ...\n",
       "100831   u610  m166534     4.0  1493848402\n",
       "100832   u610  m168248     5.0  1493850091\n",
       "100833   u610  m168250     5.0  1494273047\n",
       "100834   u610  m168252     5.0  1493846352\n",
       "100835   u610  m170875     3.0  1493846415\n",
       "\n",
       "[100836 rows x 4 columns]"
      ]
     },
     "execution_count": 4,
     "metadata": {},
     "output_type": "execute_result"
    }
   ],
   "source": [
    "ratings_df"
   ]
  },
  {
   "cell_type": "markdown",
   "metadata": {
    "id": "MDR2Wx1qvddn"
   },
   "source": [
    "`ratings_df` is a [Pandas DataFrame](https://pandas.pydata.org/pandas-docs/stable/reference/api/pandas.DataFrame.html). Viewing it, we can see users (identified by userId) are rating various movies (cf. movieId).\n",
    "\n",
    "We can slice and dice the dataframes, e.g.\n",
    "\n",
    " * project a single column (this returns a [Pandas Series](https://pandas.pydata.org/pandas-docs/stable/reference/api/pandas.Series.html))."
   ]
  },
  {
   "cell_type": "code",
   "execution_count": 5,
   "metadata": {
    "ExecuteTime": {
     "end_time": "2021-07-26T16:37:52.181841Z",
     "start_time": "2021-07-26T16:37:52.176865Z"
    },
    "colab": {
     "base_uri": "https://localhost:8080/"
    },
    "id": "55fuLJUXvl7z",
    "outputId": "5aaf8e12-108b-41a9-b2e7-25b54e6159c0"
   },
   "outputs": [
    {
     "data": {
      "text/plain": [
       "0                                Toy Story (1995)\n",
       "1                                  Jumanji (1995)\n",
       "2                         Grumpier Old Men (1995)\n",
       "3                        Waiting to Exhale (1995)\n",
       "4              Father of the Bride Part II (1995)\n",
       "                          ...                    \n",
       "9737    Black Butler: Book of the Atlantic (2017)\n",
       "9738                 No Game No Life: Zero (2017)\n",
       "9739                                 Flint (2017)\n",
       "9740          Bungo Stray Dogs: Dead Apple (2018)\n",
       "9741          Andrew Dice Clay: Dice Rules (1991)\n",
       "Name: title, Length: 9742, dtype: object"
      ]
     },
     "execution_count": 5,
     "metadata": {},
     "output_type": "execute_result"
    }
   ],
   "source": [
    "movies_df[\"title\"]"
   ]
  },
  {
   "cell_type": "markdown",
   "metadata": {
    "id": "fbFbiqKewD5p"
   },
   "source": [
    " - project multiple columns (this returns a view of the original DataFrame, as another DataFrame object)."
   ]
  },
  {
   "cell_type": "code",
   "execution_count": 6,
   "metadata": {
    "ExecuteTime": {
     "end_time": "2021-07-26T16:37:52.193716Z",
     "start_time": "2021-07-26T16:37:52.183623Z"
    },
    "colab": {
     "base_uri": "https://localhost:8080/",
     "height": 414
    },
    "id": "Jcve9Xpgv_E0",
    "outputId": "be82acd4-181d-433b-f431-29041247a191"
   },
   "outputs": [
    {
     "data": {
      "text/html": [
       "<div>\n",
       "<style scoped>\n",
       "    .dataframe tbody tr th:only-of-type {\n",
       "        vertical-align: middle;\n",
       "    }\n",
       "\n",
       "    .dataframe tbody tr th {\n",
       "        vertical-align: top;\n",
       "    }\n",
       "\n",
       "    .dataframe thead th {\n",
       "        text-align: right;\n",
       "    }\n",
       "</style>\n",
       "<table border=\"1\" class=\"dataframe\">\n",
       "  <thead>\n",
       "    <tr style=\"text-align: right;\">\n",
       "      <th></th>\n",
       "      <th>movieId</th>\n",
       "      <th>title</th>\n",
       "    </tr>\n",
       "  </thead>\n",
       "  <tbody>\n",
       "    <tr>\n",
       "      <th>0</th>\n",
       "      <td>m1</td>\n",
       "      <td>Toy Story (1995)</td>\n",
       "    </tr>\n",
       "    <tr>\n",
       "      <th>1</th>\n",
       "      <td>m2</td>\n",
       "      <td>Jumanji (1995)</td>\n",
       "    </tr>\n",
       "    <tr>\n",
       "      <th>2</th>\n",
       "      <td>m3</td>\n",
       "      <td>Grumpier Old Men (1995)</td>\n",
       "    </tr>\n",
       "    <tr>\n",
       "      <th>3</th>\n",
       "      <td>m4</td>\n",
       "      <td>Waiting to Exhale (1995)</td>\n",
       "    </tr>\n",
       "    <tr>\n",
       "      <th>4</th>\n",
       "      <td>m5</td>\n",
       "      <td>Father of the Bride Part II (1995)</td>\n",
       "    </tr>\n",
       "    <tr>\n",
       "      <th>...</th>\n",
       "      <td>...</td>\n",
       "      <td>...</td>\n",
       "    </tr>\n",
       "    <tr>\n",
       "      <th>9737</th>\n",
       "      <td>m193581</td>\n",
       "      <td>Black Butler: Book of the Atlantic (2017)</td>\n",
       "    </tr>\n",
       "    <tr>\n",
       "      <th>9738</th>\n",
       "      <td>m193583</td>\n",
       "      <td>No Game No Life: Zero (2017)</td>\n",
       "    </tr>\n",
       "    <tr>\n",
       "      <th>9739</th>\n",
       "      <td>m193585</td>\n",
       "      <td>Flint (2017)</td>\n",
       "    </tr>\n",
       "    <tr>\n",
       "      <th>9740</th>\n",
       "      <td>m193587</td>\n",
       "      <td>Bungo Stray Dogs: Dead Apple (2018)</td>\n",
       "    </tr>\n",
       "    <tr>\n",
       "      <th>9741</th>\n",
       "      <td>m193609</td>\n",
       "      <td>Andrew Dice Clay: Dice Rules (1991)</td>\n",
       "    </tr>\n",
       "  </tbody>\n",
       "</table>\n",
       "<p>9742 rows × 2 columns</p>\n",
       "</div>"
      ],
      "text/plain": [
       "      movieId                                      title\n",
       "0          m1                           Toy Story (1995)\n",
       "1          m2                             Jumanji (1995)\n",
       "2          m3                    Grumpier Old Men (1995)\n",
       "3          m4                   Waiting to Exhale (1995)\n",
       "4          m5         Father of the Bride Part II (1995)\n",
       "...       ...                                        ...\n",
       "9737  m193581  Black Butler: Book of the Atlantic (2017)\n",
       "9738  m193583               No Game No Life: Zero (2017)\n",
       "9739  m193585                               Flint (2017)\n",
       "9740  m193587        Bungo Stray Dogs: Dead Apple (2018)\n",
       "9741  m193609        Andrew Dice Clay: Dice Rules (1991)\n",
       "\n",
       "[9742 rows x 2 columns]"
      ]
     },
     "execution_count": 6,
     "metadata": {},
     "output_type": "execute_result"
    }
   ],
   "source": [
    "movies_df[[\"movieId\", \"title\"]]"
   ]
  },
  {
   "cell_type": "markdown",
   "metadata": {
    "id": "sm0zU1rywGzv"
   },
   "source": [
    " - Select rows based on one or more conditions"
   ]
  },
  {
   "cell_type": "code",
   "execution_count": 7,
   "metadata": {
    "ExecuteTime": {
     "end_time": "2021-07-26T16:37:52.218899Z",
     "start_time": "2021-07-26T16:37:52.197588Z"
    },
    "colab": {
     "base_uri": "https://localhost:8080/",
     "height": 48
    },
    "id": "0jnBvzK1wPE5",
    "outputId": "019a66ee-92f2-4f0c-9b4f-9778c785a04e"
   },
   "outputs": [
    {
     "data": {
      "text/html": [
       "<div>\n",
       "<style scoped>\n",
       "    .dataframe tbody tr th:only-of-type {\n",
       "        vertical-align: middle;\n",
       "    }\n",
       "\n",
       "    .dataframe tbody tr th {\n",
       "        vertical-align: top;\n",
       "    }\n",
       "\n",
       "    .dataframe thead th {\n",
       "        text-align: right;\n",
       "    }\n",
       "</style>\n",
       "<table border=\"1\" class=\"dataframe\">\n",
       "  <thead>\n",
       "    <tr style=\"text-align: right;\">\n",
       "      <th></th>\n",
       "      <th>userId</th>\n",
       "      <th>movieId</th>\n",
       "      <th>rating</th>\n",
       "      <th>timestamp</th>\n",
       "    </tr>\n",
       "  </thead>\n",
       "  <tbody>\n",
       "    <tr>\n",
       "      <th>79908</th>\n",
       "      <td>u500</td>\n",
       "      <td>m11</td>\n",
       "      <td>1.0</td>\n",
       "      <td>1005528017</td>\n",
       "    </tr>\n",
       "    <tr>\n",
       "      <th>79909</th>\n",
       "      <td>u500</td>\n",
       "      <td>m39</td>\n",
       "      <td>1.0</td>\n",
       "      <td>1005527926</td>\n",
       "    </tr>\n",
       "    <tr>\n",
       "      <th>79910</th>\n",
       "      <td>u500</td>\n",
       "      <td>m101</td>\n",
       "      <td>1.0</td>\n",
       "      <td>1005527980</td>\n",
       "    </tr>\n",
       "    <tr>\n",
       "      <th>79915</th>\n",
       "      <td>u500</td>\n",
       "      <td>m231</td>\n",
       "      <td>1.0</td>\n",
       "      <td>1005528039</td>\n",
       "    </tr>\n",
       "    <tr>\n",
       "      <th>79923</th>\n",
       "      <td>u500</td>\n",
       "      <td>m449</td>\n",
       "      <td>1.0</td>\n",
       "      <td>1005528017</td>\n",
       "    </tr>\n",
       "    <tr>\n",
       "      <th>79924</th>\n",
       "      <td>u500</td>\n",
       "      <td>m471</td>\n",
       "      <td>1.0</td>\n",
       "      <td>1005528017</td>\n",
       "    </tr>\n",
       "    <tr>\n",
       "      <th>79926</th>\n",
       "      <td>u500</td>\n",
       "      <td>m539</td>\n",
       "      <td>1.0</td>\n",
       "      <td>1005527980</td>\n",
       "    </tr>\n",
       "    <tr>\n",
       "      <th>79931</th>\n",
       "      <td>u500</td>\n",
       "      <td>m597</td>\n",
       "      <td>1.0</td>\n",
       "      <td>1005527980</td>\n",
       "    </tr>\n",
       "    <tr>\n",
       "      <th>79934</th>\n",
       "      <td>u500</td>\n",
       "      <td>m745</td>\n",
       "      <td>1.0</td>\n",
       "      <td>1005528205</td>\n",
       "    </tr>\n",
       "    <tr>\n",
       "      <th>79939</th>\n",
       "      <td>u500</td>\n",
       "      <td>m1188</td>\n",
       "      <td>1.0</td>\n",
       "      <td>1005528065</td>\n",
       "    </tr>\n",
       "    <tr>\n",
       "      <th>79951</th>\n",
       "      <td>u500</td>\n",
       "      <td>m1824</td>\n",
       "      <td>1.0</td>\n",
       "      <td>1005527926</td>\n",
       "    </tr>\n",
       "    <tr>\n",
       "      <th>79955</th>\n",
       "      <td>u500</td>\n",
       "      <td>m1914</td>\n",
       "      <td>1.0</td>\n",
       "      <td>1005527980</td>\n",
       "    </tr>\n",
       "    <tr>\n",
       "      <th>79958</th>\n",
       "      <td>u500</td>\n",
       "      <td>m1993</td>\n",
       "      <td>1.0</td>\n",
       "      <td>1005527364</td>\n",
       "    </tr>\n",
       "    <tr>\n",
       "      <th>79971</th>\n",
       "      <td>u500</td>\n",
       "      <td>m2671</td>\n",
       "      <td>1.0</td>\n",
       "      <td>1005528078</td>\n",
       "    </tr>\n",
       "    <tr>\n",
       "      <th>79980</th>\n",
       "      <td>u500</td>\n",
       "      <td>m3083</td>\n",
       "      <td>1.0</td>\n",
       "      <td>1005528017</td>\n",
       "    </tr>\n",
       "    <tr>\n",
       "      <th>79986</th>\n",
       "      <td>u500</td>\n",
       "      <td>m3466</td>\n",
       "      <td>1.0</td>\n",
       "      <td>1005527926</td>\n",
       "    </tr>\n",
       "    <tr>\n",
       "      <th>79992</th>\n",
       "      <td>u500</td>\n",
       "      <td>m4873</td>\n",
       "      <td>1.0</td>\n",
       "      <td>1005528205</td>\n",
       "    </tr>\n",
       "  </tbody>\n",
       "</table>\n",
       "</div>"
      ],
      "text/plain": [
       "      userId movieId  rating   timestamp\n",
       "79908   u500     m11     1.0  1005528017\n",
       "79909   u500     m39     1.0  1005527926\n",
       "79910   u500    m101     1.0  1005527980\n",
       "79915   u500    m231     1.0  1005528039\n",
       "79923   u500    m449     1.0  1005528017\n",
       "79924   u500    m471     1.0  1005528017\n",
       "79926   u500    m539     1.0  1005527980\n",
       "79931   u500    m597     1.0  1005527980\n",
       "79934   u500    m745     1.0  1005528205\n",
       "79939   u500   m1188     1.0  1005528065\n",
       "79951   u500   m1824     1.0  1005527926\n",
       "79955   u500   m1914     1.0  1005527980\n",
       "79958   u500   m1993     1.0  1005527364\n",
       "79971   u500   m2671     1.0  1005528078\n",
       "79980   u500   m3083     1.0  1005528017\n",
       "79986   u500   m3466     1.0  1005527926\n",
       "79992   u500   m4873     1.0  1005528205"
      ]
     },
     "execution_count": 7,
     "metadata": {},
     "output_type": "execute_result"
    }
   ],
   "source": [
    "ratings_df[(ratings_df[\"userId\"] == 'u500') & (ratings_df[\"rating\"] == 1)]"
   ]
  },
  {
   "cell_type": "markdown",
   "metadata": {
    "id": "P8LI-cDv6cqI"
   },
   "source": [
    "\n",
    "\n",
    "Lets practice a bit more with Pandas. You can also refer to the [Pandas Dataframe API documentation.](https://pandas.pydata.org/pandas-docs/stable/reference/api/pandas.DataFrame.html)\n",
    "\n",
    "Write code to answer the following questions:\n",
    "\n",
    "## Task 1. How many users are there in this dataset?\n"
   ]
  },
  {
   "cell_type": "code",
   "execution_count": 8,
   "metadata": {
    "ExecuteTime": {
     "end_time": "2021-07-26T16:37:52.230672Z",
     "start_time": "2021-07-26T16:37:52.222108Z"
    },
    "id": "5uJ8vWIYyJed"
   },
   "outputs": [
    {
     "data": {
      "text/plain": [
       "610"
      ]
     },
     "execution_count": 8,
     "metadata": {},
     "output_type": "execute_result"
    }
   ],
   "source": [
    "# add your solution here\n",
    "len(ratings_df['userId'].unique()) # 610"
   ]
  },
  {
   "cell_type": "markdown",
   "metadata": {
    "id": "9RgRiMEiJBzJ"
   },
   "source": [
    "## Task 2. What is the average rating of *each user*?\n",
    "\n",
    "The output should be a Pandas Series containing an average rating for each of the users.\n",
    "\n",
    "Hint: Use a [groupby()](https://pandas.pydata.org/pandas-docs/stable/reference/api/pandas.DataFrame.groupby.html) on the ratings_df dataframe. [Aggregation](https://pandas.pydata.org/pandas-docs/stable/user_guide/groupby.html#aggregation) will also be useful.\n"
   ]
  },
  {
   "cell_type": "code",
   "execution_count": 9,
   "metadata": {
    "ExecuteTime": {
     "end_time": "2021-07-26T16:37:52.247873Z",
     "start_time": "2021-07-26T16:37:52.232438Z"
    },
    "id": "i-qEgTiEOg6Z"
   },
   "outputs": [
    {
     "data": {
      "text/plain": [
       "userId\n",
       "u1      4.366379\n",
       "u10     3.278571\n",
       "u100    3.945946\n",
       "u101    3.557377\n",
       "u102    3.357143\n",
       "          ...   \n",
       "u95     4.062500\n",
       "u96     3.884615\n",
       "u97     4.194444\n",
       "u98     3.913043\n",
       "u99     3.867925\n",
       "Name: rating, Length: 610, dtype: float64"
      ]
     },
     "execution_count": 9,
     "metadata": {},
     "output_type": "execute_result"
    }
   ],
   "source": [
    "# add your solutions here\n",
    "ratings_df.groupby([\"userId\"]).mean()[\"rating\"]"
   ]
  },
  {
   "cell_type": "code",
   "execution_count": 10,
   "metadata": {
    "ExecuteTime": {
     "end_time": "2021-07-26T16:37:52.264214Z",
     "start_time": "2021-07-26T16:37:52.249371Z"
    },
    "colab": {
     "base_uri": "https://localhost:8080/"
    },
    "id": "zmarrk0zePRB",
    "outputId": "055e6886-7bf6-44d6-8577-7b5f0c8bf92a"
   },
   "outputs": [
    {
     "data": {
      "text/plain": [
       "3.809880239520958"
      ]
     },
     "execution_count": 10,
     "metadata": {},
     "output_type": "execute_result"
    }
   ],
   "source": [
    "ratings_df.groupby([\"userId\"]).mean()[\"rating\"].loc[\"u200\"]"
   ]
  },
  {
   "cell_type": "markdown",
   "metadata": {
    "id": "0p0HKlOBJA21"
   },
   "source": [
    "## Task 3. What is the average number of ratings per-user? \n",
    "\n",
    "In contrast to Task 2, the solution is a single number.\n",
    "\n",
    "Many solutions will involve [GroupBy.count()](https://pandas.pydata.org/pandas-docs/stable/user_guide/groupby.html#aggregation)."
   ]
  },
  {
   "cell_type": "code",
   "execution_count": 11,
   "metadata": {
    "ExecuteTime": {
     "end_time": "2021-07-26T16:37:52.276673Z",
     "start_time": "2021-07-26T16:37:52.266632Z"
    },
    "id": "1dkaoscfyKXx"
   },
   "outputs": [
    {
     "data": {
      "text/plain": [
       "165.30491803278687"
      ]
     },
     "execution_count": 11,
     "metadata": {},
     "output_type": "execute_result"
    }
   ],
   "source": [
    "# add your solution here\n",
    "ratings_df.groupby(['userId'])['rating'].count().mean() # 165.3049"
   ]
  },
  {
   "cell_type": "markdown",
   "metadata": {
    "id": "gH2uqwgwNWu0"
   },
   "source": [
    "## Analysing users's preferences."
   ]
  },
  {
   "cell_type": "markdown",
   "metadata": {
    "id": "UOrEA21uN1zL"
   },
   "source": [
    "Lets try something else. We can see what movies a given user has rated by \"merging\" the two dataframes - this equates to a JOIN in SQL. Lets do this for userId 556.\n"
   ]
  },
  {
   "cell_type": "code",
   "execution_count": 12,
   "metadata": {
    "ExecuteTime": {
     "end_time": "2021-07-26T16:37:52.301879Z",
     "start_time": "2021-07-26T16:37:52.278511Z"
    },
    "colab": {
     "base_uri": "https://localhost:8080/",
     "height": 1000
    },
    "id": "M73Di67MN2Jk",
    "outputId": "0bb92440-44be-4a34-8de9-3e040fb22cdc"
   },
   "outputs": [
    {
     "data": {
      "text/html": [
       "<div>\n",
       "<style scoped>\n",
       "    .dataframe tbody tr th:only-of-type {\n",
       "        vertical-align: middle;\n",
       "    }\n",
       "\n",
       "    .dataframe tbody tr th {\n",
       "        vertical-align: top;\n",
       "    }\n",
       "\n",
       "    .dataframe thead th {\n",
       "        text-align: right;\n",
       "    }\n",
       "</style>\n",
       "<table border=\"1\" class=\"dataframe\">\n",
       "  <thead>\n",
       "    <tr style=\"text-align: right;\">\n",
       "      <th></th>\n",
       "      <th>userId</th>\n",
       "      <th>movieId</th>\n",
       "      <th>rating</th>\n",
       "      <th>timestamp</th>\n",
       "      <th>title</th>\n",
       "      <th>genres</th>\n",
       "    </tr>\n",
       "  </thead>\n",
       "  <tbody>\n",
       "    <tr>\n",
       "      <th>0</th>\n",
       "      <td>u556</td>\n",
       "      <td>m588</td>\n",
       "      <td>5.0</td>\n",
       "      <td>1534321062</td>\n",
       "      <td>Aladdin (1992)</td>\n",
       "      <td>Adventure|Animation|Children|Comedy|Musical</td>\n",
       "    </tr>\n",
       "    <tr>\n",
       "      <th>2</th>\n",
       "      <td>u556</td>\n",
       "      <td>m4896</td>\n",
       "      <td>5.0</td>\n",
       "      <td>1534320962</td>\n",
       "      <td>Harry Potter and the Sorcerer's Stone (a.k.a. ...</td>\n",
       "      <td>Adventure|Children|Fantasy</td>\n",
       "    </tr>\n",
       "    <tr>\n",
       "      <th>27</th>\n",
       "      <td>u556</td>\n",
       "      <td>m112852</td>\n",
       "      <td>5.0</td>\n",
       "      <td>1534321287</td>\n",
       "      <td>Guardians of the Galaxy (2014)</td>\n",
       "      <td>Action|Adventure|Sci-Fi</td>\n",
       "    </tr>\n",
       "    <tr>\n",
       "      <th>21</th>\n",
       "      <td>u556</td>\n",
       "      <td>m76093</td>\n",
       "      <td>5.0</td>\n",
       "      <td>1534320965</td>\n",
       "      <td>How to Train Your Dragon (2010)</td>\n",
       "      <td>Adventure|Animation|Children|Fantasy|IMAX</td>\n",
       "    </tr>\n",
       "    <tr>\n",
       "      <th>3</th>\n",
       "      <td>u556</td>\n",
       "      <td>m4993</td>\n",
       "      <td>4.5</td>\n",
       "      <td>1534320935</td>\n",
       "      <td>Lord of the Rings: The Fellowship of the Ring,...</td>\n",
       "      <td>Adventure|Fantasy</td>\n",
       "    </tr>\n",
       "    <tr>\n",
       "      <th>4</th>\n",
       "      <td>u556</td>\n",
       "      <td>m5816</td>\n",
       "      <td>4.5</td>\n",
       "      <td>1534320982</td>\n",
       "      <td>Harry Potter and the Chamber of Secrets (2002)</td>\n",
       "      <td>Adventure|Fantasy</td>\n",
       "    </tr>\n",
       "    <tr>\n",
       "      <th>23</th>\n",
       "      <td>u556</td>\n",
       "      <td>m88125</td>\n",
       "      <td>4.5</td>\n",
       "      <td>1534320986</td>\n",
       "      <td>Harry Potter and the Deathly Hallows: Part 2 (...</td>\n",
       "      <td>Action|Adventure|Drama|Fantasy|Mystery|IMAX</td>\n",
       "    </tr>\n",
       "    <tr>\n",
       "      <th>13</th>\n",
       "      <td>u556</td>\n",
       "      <td>m49649</td>\n",
       "      <td>4.5</td>\n",
       "      <td>1534321075</td>\n",
       "      <td>Eragon (2006)</td>\n",
       "      <td>Action|Adventure|Fantasy</td>\n",
       "    </tr>\n",
       "    <tr>\n",
       "      <th>18</th>\n",
       "      <td>u556</td>\n",
       "      <td>m72998</td>\n",
       "      <td>4.0</td>\n",
       "      <td>1534321171</td>\n",
       "      <td>Avatar (2009)</td>\n",
       "      <td>Action|Adventure|Sci-Fi|IMAX</td>\n",
       "    </tr>\n",
       "    <tr>\n",
       "      <th>30</th>\n",
       "      <td>u556</td>\n",
       "      <td>m162600</td>\n",
       "      <td>4.0</td>\n",
       "      <td>1534321200</td>\n",
       "      <td>Miss Peregrine's Home for Peculiar Children (2...</td>\n",
       "      <td>Fantasy</td>\n",
       "    </tr>\n",
       "    <tr>\n",
       "      <th>29</th>\n",
       "      <td>u556</td>\n",
       "      <td>m122890</td>\n",
       "      <td>4.0</td>\n",
       "      <td>1534321026</td>\n",
       "      <td>Warcraft (2016)</td>\n",
       "      <td>Action|Adventure|Fantasy</td>\n",
       "    </tr>\n",
       "    <tr>\n",
       "      <th>28</th>\n",
       "      <td>u556</td>\n",
       "      <td>m118997</td>\n",
       "      <td>4.0</td>\n",
       "      <td>1534321209</td>\n",
       "      <td>Into the Woods (2014)</td>\n",
       "      <td>Children|Comedy|Fantasy|Musical</td>\n",
       "    </tr>\n",
       "    <tr>\n",
       "      <th>26</th>\n",
       "      <td>u556</td>\n",
       "      <td>m98809</td>\n",
       "      <td>4.0</td>\n",
       "      <td>1534320967</td>\n",
       "      <td>Hobbit: An Unexpected Journey, The (2012)</td>\n",
       "      <td>Adventure|Fantasy|IMAX</td>\n",
       "    </tr>\n",
       "    <tr>\n",
       "      <th>24</th>\n",
       "      <td>u556</td>\n",
       "      <td>m93363</td>\n",
       "      <td>4.0</td>\n",
       "      <td>1534321171</td>\n",
       "      <td>John Carter (2012)</td>\n",
       "      <td>Action|Adventure|Sci-Fi|IMAX</td>\n",
       "    </tr>\n",
       "    <tr>\n",
       "      <th>22</th>\n",
       "      <td>u556</td>\n",
       "      <td>m78105</td>\n",
       "      <td>4.0</td>\n",
       "      <td>1534321036</td>\n",
       "      <td>Prince of Persia: The Sands of Time (2010)</td>\n",
       "      <td>Action|Adventure|Fantasy|Romance|IMAX</td>\n",
       "    </tr>\n",
       "    <tr>\n",
       "      <th>20</th>\n",
       "      <td>u556</td>\n",
       "      <td>m74789</td>\n",
       "      <td>4.0</td>\n",
       "      <td>1534321017</td>\n",
       "      <td>Alice in Wonderland (2010)</td>\n",
       "      <td>Adventure|Fantasy|IMAX</td>\n",
       "    </tr>\n",
       "    <tr>\n",
       "      <th>31</th>\n",
       "      <td>u556</td>\n",
       "      <td>m187031</td>\n",
       "      <td>4.0</td>\n",
       "      <td>1534321194</td>\n",
       "      <td>Jurassic World: Fallen Kingdom (2018)</td>\n",
       "      <td>Action|Adventure|Drama|Sci-Fi|Thriller</td>\n",
       "    </tr>\n",
       "    <tr>\n",
       "      <th>1</th>\n",
       "      <td>u556</td>\n",
       "      <td>m3081</td>\n",
       "      <td>4.0</td>\n",
       "      <td>1534321047</td>\n",
       "      <td>Sleepy Hollow (1999)</td>\n",
       "      <td>Fantasy|Horror|Mystery|Romance</td>\n",
       "    </tr>\n",
       "    <tr>\n",
       "      <th>15</th>\n",
       "      <td>u556</td>\n",
       "      <td>m56171</td>\n",
       "      <td>4.0</td>\n",
       "      <td>1534321207</td>\n",
       "      <td>Golden Compass, The (2007)</td>\n",
       "      <td>Adventure|Children|Fantasy</td>\n",
       "    </tr>\n",
       "    <tr>\n",
       "      <th>14</th>\n",
       "      <td>u556</td>\n",
       "      <td>m54001</td>\n",
       "      <td>4.0</td>\n",
       "      <td>1534321024</td>\n",
       "      <td>Harry Potter and the Order of the Phoenix (2007)</td>\n",
       "      <td>Adventure|Drama|Fantasy|IMAX</td>\n",
       "    </tr>\n",
       "    <tr>\n",
       "      <th>12</th>\n",
       "      <td>u556</td>\n",
       "      <td>m48394</td>\n",
       "      <td>4.0</td>\n",
       "      <td>1534320956</td>\n",
       "      <td>Pan's Labyrinth (Laberinto del fauno, El) (2006)</td>\n",
       "      <td>Drama|Fantasy|Thriller</td>\n",
       "    </tr>\n",
       "    <tr>\n",
       "      <th>10</th>\n",
       "      <td>u556</td>\n",
       "      <td>m40815</td>\n",
       "      <td>4.0</td>\n",
       "      <td>1534321013</td>\n",
       "      <td>Harry Potter and the Goblet of Fire (2005)</td>\n",
       "      <td>Adventure|Fantasy|Thriller|IMAX</td>\n",
       "    </tr>\n",
       "    <tr>\n",
       "      <th>9</th>\n",
       "      <td>u556</td>\n",
       "      <td>m8368</td>\n",
       "      <td>4.0</td>\n",
       "      <td>1534321009</td>\n",
       "      <td>Harry Potter and the Prisoner of Azkaban (2004)</td>\n",
       "      <td>Adventure|Fantasy|IMAX</td>\n",
       "    </tr>\n",
       "    <tr>\n",
       "      <th>8</th>\n",
       "      <td>u556</td>\n",
       "      <td>m7153</td>\n",
       "      <td>4.0</td>\n",
       "      <td>1534320952</td>\n",
       "      <td>Lord of the Rings: The Return of the King, The...</td>\n",
       "      <td>Action|Adventure|Drama|Fantasy</td>\n",
       "    </tr>\n",
       "    <tr>\n",
       "      <th>7</th>\n",
       "      <td>u556</td>\n",
       "      <td>m6754</td>\n",
       "      <td>4.0</td>\n",
       "      <td>1534321199</td>\n",
       "      <td>Underworld (2003)</td>\n",
       "      <td>Action|Fantasy|Horror</td>\n",
       "    </tr>\n",
       "    <tr>\n",
       "      <th>6</th>\n",
       "      <td>u556</td>\n",
       "      <td>m6539</td>\n",
       "      <td>4.0</td>\n",
       "      <td>1534321011</td>\n",
       "      <td>Pirates of the Caribbean: The Curse of the Bla...</td>\n",
       "      <td>Action|Adventure|Comedy|Fantasy</td>\n",
       "    </tr>\n",
       "    <tr>\n",
       "      <th>5</th>\n",
       "      <td>u556</td>\n",
       "      <td>m5952</td>\n",
       "      <td>4.0</td>\n",
       "      <td>1534320953</td>\n",
       "      <td>Lord of the Rings: The Two Towers, The (2002)</td>\n",
       "      <td>Adventure|Fantasy</td>\n",
       "    </tr>\n",
       "    <tr>\n",
       "      <th>17</th>\n",
       "      <td>u556</td>\n",
       "      <td>m69844</td>\n",
       "      <td>3.5</td>\n",
       "      <td>1534320977</td>\n",
       "      <td>Harry Potter and the Half-Blood Prince (2009)</td>\n",
       "      <td>Adventure|Fantasy|Mystery|Romance|IMAX</td>\n",
       "    </tr>\n",
       "    <tr>\n",
       "      <th>19</th>\n",
       "      <td>u556</td>\n",
       "      <td>m74530</td>\n",
       "      <td>3.5</td>\n",
       "      <td>1534321044</td>\n",
       "      <td>Percy Jackson &amp; the Olympians: The Lightning T...</td>\n",
       "      <td>Adventure|Fantasy</td>\n",
       "    </tr>\n",
       "    <tr>\n",
       "      <th>11</th>\n",
       "      <td>u556</td>\n",
       "      <td>m41566</td>\n",
       "      <td>3.5</td>\n",
       "      <td>1534320971</td>\n",
       "      <td>Chronicles of Narnia: The Lion, the Witch and ...</td>\n",
       "      <td>Adventure|Children|Fantasy</td>\n",
       "    </tr>\n",
       "    <tr>\n",
       "      <th>25</th>\n",
       "      <td>u556</td>\n",
       "      <td>m94780</td>\n",
       "      <td>3.5</td>\n",
       "      <td>1534321052</td>\n",
       "      <td>Snow White and the Huntsman (2012)</td>\n",
       "      <td>Action|Adventure|Drama</td>\n",
       "    </tr>\n",
       "    <tr>\n",
       "      <th>16</th>\n",
       "      <td>u556</td>\n",
       "      <td>m63992</td>\n",
       "      <td>2.5</td>\n",
       "      <td>1534321030</td>\n",
       "      <td>Twilight (2008)</td>\n",
       "      <td>Drama|Fantasy|Romance|Thriller</td>\n",
       "    </tr>\n",
       "  </tbody>\n",
       "</table>\n",
       "</div>"
      ],
      "text/plain": [
       "   userId  movieId  rating   timestamp  \\\n",
       "0    u556     m588     5.0  1534321062   \n",
       "2    u556    m4896     5.0  1534320962   \n",
       "27   u556  m112852     5.0  1534321287   \n",
       "21   u556   m76093     5.0  1534320965   \n",
       "3    u556    m4993     4.5  1534320935   \n",
       "4    u556    m5816     4.5  1534320982   \n",
       "23   u556   m88125     4.5  1534320986   \n",
       "13   u556   m49649     4.5  1534321075   \n",
       "18   u556   m72998     4.0  1534321171   \n",
       "30   u556  m162600     4.0  1534321200   \n",
       "29   u556  m122890     4.0  1534321026   \n",
       "28   u556  m118997     4.0  1534321209   \n",
       "26   u556   m98809     4.0  1534320967   \n",
       "24   u556   m93363     4.0  1534321171   \n",
       "22   u556   m78105     4.0  1534321036   \n",
       "20   u556   m74789     4.0  1534321017   \n",
       "31   u556  m187031     4.0  1534321194   \n",
       "1    u556    m3081     4.0  1534321047   \n",
       "15   u556   m56171     4.0  1534321207   \n",
       "14   u556   m54001     4.0  1534321024   \n",
       "12   u556   m48394     4.0  1534320956   \n",
       "10   u556   m40815     4.0  1534321013   \n",
       "9    u556    m8368     4.0  1534321009   \n",
       "8    u556    m7153     4.0  1534320952   \n",
       "7    u556    m6754     4.0  1534321199   \n",
       "6    u556    m6539     4.0  1534321011   \n",
       "5    u556    m5952     4.0  1534320953   \n",
       "17   u556   m69844     3.5  1534320977   \n",
       "19   u556   m74530     3.5  1534321044   \n",
       "11   u556   m41566     3.5  1534320971   \n",
       "25   u556   m94780     3.5  1534321052   \n",
       "16   u556   m63992     2.5  1534321030   \n",
       "\n",
       "                                                title  \\\n",
       "0                                      Aladdin (1992)   \n",
       "2   Harry Potter and the Sorcerer's Stone (a.k.a. ...   \n",
       "27                     Guardians of the Galaxy (2014)   \n",
       "21                    How to Train Your Dragon (2010)   \n",
       "3   Lord of the Rings: The Fellowship of the Ring,...   \n",
       "4      Harry Potter and the Chamber of Secrets (2002)   \n",
       "23  Harry Potter and the Deathly Hallows: Part 2 (...   \n",
       "13                                      Eragon (2006)   \n",
       "18                                      Avatar (2009)   \n",
       "30  Miss Peregrine's Home for Peculiar Children (2...   \n",
       "29                                    Warcraft (2016)   \n",
       "28                              Into the Woods (2014)   \n",
       "26          Hobbit: An Unexpected Journey, The (2012)   \n",
       "24                                 John Carter (2012)   \n",
       "22         Prince of Persia: The Sands of Time (2010)   \n",
       "20                         Alice in Wonderland (2010)   \n",
       "31              Jurassic World: Fallen Kingdom (2018)   \n",
       "1                                Sleepy Hollow (1999)   \n",
       "15                         Golden Compass, The (2007)   \n",
       "14   Harry Potter and the Order of the Phoenix (2007)   \n",
       "12   Pan's Labyrinth (Laberinto del fauno, El) (2006)   \n",
       "10         Harry Potter and the Goblet of Fire (2005)   \n",
       "9     Harry Potter and the Prisoner of Azkaban (2004)   \n",
       "8   Lord of the Rings: The Return of the King, The...   \n",
       "7                                   Underworld (2003)   \n",
       "6   Pirates of the Caribbean: The Curse of the Bla...   \n",
       "5       Lord of the Rings: The Two Towers, The (2002)   \n",
       "17      Harry Potter and the Half-Blood Prince (2009)   \n",
       "19  Percy Jackson & the Olympians: The Lightning T...   \n",
       "11  Chronicles of Narnia: The Lion, the Witch and ...   \n",
       "25                 Snow White and the Huntsman (2012)   \n",
       "16                                    Twilight (2008)   \n",
       "\n",
       "                                         genres  \n",
       "0   Adventure|Animation|Children|Comedy|Musical  \n",
       "2                    Adventure|Children|Fantasy  \n",
       "27                      Action|Adventure|Sci-Fi  \n",
       "21    Adventure|Animation|Children|Fantasy|IMAX  \n",
       "3                             Adventure|Fantasy  \n",
       "4                             Adventure|Fantasy  \n",
       "23  Action|Adventure|Drama|Fantasy|Mystery|IMAX  \n",
       "13                     Action|Adventure|Fantasy  \n",
       "18                 Action|Adventure|Sci-Fi|IMAX  \n",
       "30                                      Fantasy  \n",
       "29                     Action|Adventure|Fantasy  \n",
       "28              Children|Comedy|Fantasy|Musical  \n",
       "26                       Adventure|Fantasy|IMAX  \n",
       "24                 Action|Adventure|Sci-Fi|IMAX  \n",
       "22        Action|Adventure|Fantasy|Romance|IMAX  \n",
       "20                       Adventure|Fantasy|IMAX  \n",
       "31       Action|Adventure|Drama|Sci-Fi|Thriller  \n",
       "1                Fantasy|Horror|Mystery|Romance  \n",
       "15                   Adventure|Children|Fantasy  \n",
       "14                 Adventure|Drama|Fantasy|IMAX  \n",
       "12                       Drama|Fantasy|Thriller  \n",
       "10              Adventure|Fantasy|Thriller|IMAX  \n",
       "9                        Adventure|Fantasy|IMAX  \n",
       "8                Action|Adventure|Drama|Fantasy  \n",
       "7                         Action|Fantasy|Horror  \n",
       "6               Action|Adventure|Comedy|Fantasy  \n",
       "5                             Adventure|Fantasy  \n",
       "17       Adventure|Fantasy|Mystery|Romance|IMAX  \n",
       "19                            Adventure|Fantasy  \n",
       "11                   Adventure|Children|Fantasy  \n",
       "25                       Action|Adventure|Drama  \n",
       "16               Drama|Fantasy|Romance|Thriller  "
      ]
     },
     "execution_count": 12,
     "metadata": {},
     "output_type": "execute_result"
    }
   ],
   "source": [
    "pd.merge(\n",
    "    ratings_df[ratings_df[\"userId\"]=='u556'], \n",
    "    movies_df, \n",
    "    on=[\"movieId\"]).sort_values(by=\"rating\", ascending=False)"
   ]
  },
  {
   "cell_type": "markdown",
   "metadata": {
    "id": "B0IXWKgSOOOV"
   },
   "source": [
    "This user is pretty into adventure/fantasies. \n",
    "\n",
    "NB: If the columns we are joining on dont have the same name, we can specify `left_on` and `right_on` attributes. See also the  [pd.merge()](https://pandas.pydata.org/pandas-docs/stable/reference/api/pandas.DataFrame.merge.html) documentation."
   ]
  },
  {
   "cell_type": "markdown",
   "metadata": {
    "id": "kxvFO4x7_Obe"
   },
   "source": [
    "## Task 4. Analysing movie categories\n",
    "\n",
    "Lets examine two particular users a bit more, u556 and u7.\n",
    "\n",
    " - How many movies with \"Fantasy\" genre have u7 rated positively ($\\geq 4$)? \n",
    "\n",
    " - How many movies with \"Fantasy\" genre have u556 rated positively ($\\geq 4$)? \n",
    "\n",
    " - What percentage of ALL of u556's ratings are positive ratings ($\\geq 4$)  AND for movies belonging to the \"Fantasy\" genre?\n",
    "\n",
    "Hints:\n",
    " - Pandas Series has a useful `str.contains()` function:  https://pandas.pydata.org/pandas-docs/stable/reference/api/pandas.Series.str.contains.html\n",
    " - Pandas dataframes respond to `len()` as you would expect."
   ]
  },
  {
   "cell_type": "code",
   "execution_count": 13,
   "metadata": {
    "ExecuteTime": {
     "end_time": "2021-07-26T16:37:52.337120Z",
     "start_time": "2021-07-26T16:37:52.303663Z"
    },
    "id": "GYIo0HzBCfU1"
   },
   "outputs": [
    {
     "name": "stdout",
     "output_type": "stream",
     "text": [
      "Fantasy u7 rated positively: 11\n",
      "Fantasy u556 rated positively: 22\n",
      "Percentage is: 0.6875\n"
     ]
    }
   ],
   "source": [
    "# add your solution here\n",
    "# all movies u556, u7 rating >= 4\n",
    "result_df = pd.merge(\n",
    "    ratings_df[((ratings_df[\"userId\"] == \"u556\") | (ratings_df[\"userId\"] == \"u7\")) \n",
    "               & (ratings_df[\"rating\"] >= 4)],\n",
    "    movies_df, \n",
    "    on=[\"movieId\"]).sort_values(by=\"rating\", ascending=False)\n",
    "# genre contains \"Fantasy\"\n",
    "print(\"Fantasy u7 rated positively:\", len(result_df[(result_df[\"genres\"].str.contains(\"Fantasy\")) & (result_df[\"userId\"] == \"u7\")]))\n",
    "print(\"Fantasy u556 rated positively:\", len(result_df[(result_df[\"genres\"].str.contains(\"Fantasy\")) & (result_df[\"userId\"] == \"u556\")]))\n",
    "# userId == u556 and rating >= 4 and genre contains \"Fantasy\"\n",
    "percent = len(result_df[(result_df[\"userId\"] == \"u556\") & (result_df[\"rating\"] >= 4) \n",
    "          & (result_df[\"genres\"].str.contains(\"Fantasy\"))]) / len(ratings_df[ratings_df[\"userId\"] == \"u556\"])\n",
    "print(\"Percentage is:\", percent)"
   ]
  },
  {
   "cell_type": "markdown",
   "metadata": {
    "id": "2jpHFK3LI7do"
   },
   "source": [
    "# Part B. Popularity-based Recomendation\n",
    "\n",
    "Now lets examine the ratings of movies. \n",
    "\n",
    "We can get a dataframe containing the number of times a movie has been rated by applying a groupby and aggregation of the ratings_df.\n"
   ]
  },
  {
   "cell_type": "code",
   "execution_count": 14,
   "metadata": {
    "ExecuteTime": {
     "end_time": "2021-07-26T16:37:52.365570Z",
     "start_time": "2021-07-26T16:37:52.338892Z"
    },
    "colab": {
     "base_uri": "https://localhost:8080/",
     "height": 445
    },
    "id": "QMhogBiLjSzu",
    "outputId": "c45407b6-c98a-45df-c4f1-9457cbc130b7"
   },
   "outputs": [
    {
     "data": {
      "text/html": [
       "<div>\n",
       "<style scoped>\n",
       "    .dataframe tbody tr th:only-of-type {\n",
       "        vertical-align: middle;\n",
       "    }\n",
       "\n",
       "    .dataframe tbody tr th {\n",
       "        vertical-align: top;\n",
       "    }\n",
       "\n",
       "    .dataframe thead th {\n",
       "        text-align: right;\n",
       "    }\n",
       "</style>\n",
       "<table border=\"1\" class=\"dataframe\">\n",
       "  <thead>\n",
       "    <tr style=\"text-align: right;\">\n",
       "      <th></th>\n",
       "      <th>rating</th>\n",
       "    </tr>\n",
       "    <tr>\n",
       "      <th>movieId</th>\n",
       "      <th></th>\n",
       "    </tr>\n",
       "  </thead>\n",
       "  <tbody>\n",
       "    <tr>\n",
       "      <th>m100</th>\n",
       "      <td>14</td>\n",
       "    </tr>\n",
       "    <tr>\n",
       "      <th>m100044</th>\n",
       "      <td>1</td>\n",
       "    </tr>\n",
       "    <tr>\n",
       "      <th>m100068</th>\n",
       "      <td>1</td>\n",
       "    </tr>\n",
       "    <tr>\n",
       "      <th>m100083</th>\n",
       "      <td>3</td>\n",
       "    </tr>\n",
       "    <tr>\n",
       "      <th>m100106</th>\n",
       "      <td>1</td>\n",
       "    </tr>\n",
       "    <tr>\n",
       "      <th>...</th>\n",
       "      <td>...</td>\n",
       "    </tr>\n",
       "    <tr>\n",
       "      <th>m99853</th>\n",
       "      <td>1</td>\n",
       "    </tr>\n",
       "    <tr>\n",
       "      <th>m999</th>\n",
       "      <td>12</td>\n",
       "    </tr>\n",
       "    <tr>\n",
       "      <th>m99910</th>\n",
       "      <td>2</td>\n",
       "    </tr>\n",
       "    <tr>\n",
       "      <th>m99917</th>\n",
       "      <td>3</td>\n",
       "    </tr>\n",
       "    <tr>\n",
       "      <th>m99992</th>\n",
       "      <td>1</td>\n",
       "    </tr>\n",
       "  </tbody>\n",
       "</table>\n",
       "<p>8674 rows × 1 columns</p>\n",
       "</div>"
      ],
      "text/plain": [
       "         rating\n",
       "movieId        \n",
       "m100         14\n",
       "m100044       1\n",
       "m100068       1\n",
       "m100083       3\n",
       "m100106       1\n",
       "...         ...\n",
       "m99853        1\n",
       "m999         12\n",
       "m99910        2\n",
       "m99917        3\n",
       "m99992        1\n",
       "\n",
       "[8674 rows x 1 columns]"
      ]
     },
     "execution_count": 14,
     "metadata": {},
     "output_type": "execute_result"
    }
   ],
   "source": [
    "groupingCountSeries = ratings_df[[\"movieId\", \"rating\"]].groupby([\"movieId\"]).count()\n",
    "groupingCountSeries[groupingCountSeries.rating<25]"
   ]
  },
  {
   "cell_type": "markdown",
   "metadata": {
    "id": "ak38W5u1jkgu"
   },
   "source": [
    "## Task 5. Plot the distribution of movie ratings.\n",
    "\n",
    "Use Matplotlib's histogram function to plot the distribution of movie ratings from the `groupingCountSeries` dataframe. This will produce a bar chart with 'binned' counts.\n",
    "\n",
    "Hints: \n",
    "- apply a logarithmic scale for the y-axis, using matplotlib's `log=True` option.\n",
    "- Allow matplotlib to use its default number of bins (which is 10).\n",
    "- Matplotlib has a [`savefig()`](https://chartio.com/resources/tutorials/how-to-save-a-plot-to-a-file-using-matplotlib/#the-savefig-method) function for saving a PNG of a figure.\n",
    "\n",
    "You will need to analyse this graph in the quiz."
   ]
  },
  {
   "cell_type": "code",
   "execution_count": 15,
   "metadata": {
    "ExecuteTime": {
     "end_time": "2021-07-26T16:37:53.929280Z",
     "start_time": "2021-07-26T16:37:52.367934Z"
    },
    "id": "aBISjUn7jgSy"
   },
   "outputs": [
    {
     "data": {
      "image/png": "[encoded data removed]",
      "text/plain": [
       "<Figure size 1920x1280 with 1 Axes>"
      ]
     },
     "metadata": {},
     "output_type": "display_data"
    }
   ],
   "source": [
    "# add your solution here\n",
    "import matplotlib.pyplot as plt\n",
    "plt.style.use('ggplot')\n",
    "plt.rcParams['figure.figsize'] = [12, 8]\n",
    "plt.rcParams['figure.dpi'] = 160\n",
    "# plot the histgram\n",
    "counts, bins, _ = plt.hist(groupingCountSeries[\"rating\"], log=True)\n",
    "plt.title(\"The Distribution of Movie Ratings\")\n",
    "plt.xlabel(\"number of times a movie has been rated\")\n",
    "plt.xticks(bins)\n",
    "plt.ylabel(\"number of movies\")\n",
    "# display the counts of each bin\n",
    "for i in range(10):\n",
    "    plt.text(bins[i]+5,counts[i],str(counts[i]))\n",
    "plt.savefig(\"disMovieRate.png\")"
   ]
  },
  {
   "cell_type": "markdown",
   "metadata": {
    "id": "mN9DjXtHAt0A"
   },
   "source": [
    "\n",
    "## Task 6. Find the names of *all* of the movies that have the highest *average* ratings?\n",
    "\n",
    "You should return a dataframe containing the ids and names of the movies, their average ratings, and the number of ratings. NB: You may need to analyse this dataframe further to answer the questions in the quiz.\n",
    "\n",
    "Hints:\n",
    " - Try a [groupby()](https://pandas.pydata.org/pandas-docs/stable/reference/api/pandas.DataFrame.groupby.html). Once you have a Series with columns [movieId, meanRating], identify the highest value of meanRating. You can then merge this with the movies_df.\n",
    " - If the column we are trying to merge on is an index, we can use  `left_index=True` or `right_index=True` in the [pd.merge()](https://pandas.pydata.org/pandas-docs/stable/reference/api/pandas.merge.html).\n"
   ]
  },
  {
   "cell_type": "code",
   "execution_count": 16,
   "metadata": {
    "ExecuteTime": {
     "end_time": "2021-07-26T16:38:05.449952Z",
     "start_time": "2021-07-26T16:37:53.931093Z"
    },
    "id": "rI5u8pIuOkmp"
   },
   "outputs": [
    {
     "data": {
      "text/html": [
       "<div>\n",
       "<style scoped>\n",
       "    .dataframe tbody tr th:only-of-type {\n",
       "        vertical-align: middle;\n",
       "    }\n",
       "\n",
       "    .dataframe tbody tr th {\n",
       "        vertical-align: top;\n",
       "    }\n",
       "\n",
       "    .dataframe thead th {\n",
       "        text-align: right;\n",
       "    }\n",
       "</style>\n",
       "<table border=\"1\" class=\"dataframe\">\n",
       "  <thead>\n",
       "    <tr style=\"text-align: right;\">\n",
       "      <th></th>\n",
       "      <th>movieId</th>\n",
       "      <th>count</th>\n",
       "      <th>mean</th>\n",
       "      <th>title</th>\n",
       "    </tr>\n",
       "  </thead>\n",
       "  <tbody>\n",
       "    <tr>\n",
       "      <th>1911</th>\n",
       "      <td>m167064</td>\n",
       "      <td>1.0</td>\n",
       "      <td>5.0</td>\n",
       "      <td>I Am Not Your Negro (2017)</td>\n",
       "    </tr>\n",
       "    <tr>\n",
       "      <th>1240</th>\n",
       "      <td>m138966</td>\n",
       "      <td>1.0</td>\n",
       "      <td>5.0</td>\n",
       "      <td>Nasu: Summer in Andalusia (2003)</td>\n",
       "    </tr>\n",
       "    <tr>\n",
       "      <th>6243</th>\n",
       "      <td>m53578</td>\n",
       "      <td>1.0</td>\n",
       "      <td>5.0</td>\n",
       "      <td>Valet, The (La doublure) (2006)</td>\n",
       "    </tr>\n",
       "    <tr>\n",
       "      <th>1254</th>\n",
       "      <td>m139640</td>\n",
       "      <td>1.0</td>\n",
       "      <td>5.0</td>\n",
       "      <td>Ooops! Noah is Gone... (2015)</td>\n",
       "    </tr>\n",
       "    <tr>\n",
       "      <th>8567</th>\n",
       "      <td>m79897</td>\n",
       "      <td>1.0</td>\n",
       "      <td>5.0</td>\n",
       "      <td>Get Low (2009)</td>\n",
       "    </tr>\n",
       "  </tbody>\n",
       "</table>\n",
       "</div>"
      ],
      "text/plain": [
       "      movieId  count  mean                             title\n",
       "1911  m167064    1.0   5.0        I Am Not Your Negro (2017)\n",
       "1240  m138966    1.0   5.0  Nasu: Summer in Andalusia (2003)\n",
       "6243   m53578    1.0   5.0   Valet, The (La doublure) (2006)\n",
       "1254  m139640    1.0   5.0     Ooops! Noah is Gone... (2015)\n",
       "8567   m79897    1.0   5.0                    Get Low (2009)"
      ]
     },
     "execution_count": 16,
     "metadata": {},
     "output_type": "execute_result"
    }
   ],
   "source": [
    "# add your solution here\n",
    "# group by movieId\n",
    "group_df = ratings_df.groupby([\"movieId\"]).rating.describe()\n",
    "# merge movieId, movie name, avg rating, counts\n",
    "highest_df = pd.merge(group_df[[\"count\", \"mean\"]],\n",
    "                      movies_df[[\"movieId\", \"title\"]],\n",
    "                      on=\"movieId\").sort_values(by=\"mean\", ascending=False)\n",
    "highest_df = highest_df[highest_df[\"mean\"] == 5]\n",
    "highest_df.head()"
   ]
  },
  {
   "cell_type": "code",
   "execution_count": 17,
   "metadata": {
    "ExecuteTime": {
     "end_time": "2021-07-26T16:38:05.458470Z",
     "start_time": "2021-07-26T16:38:05.452495Z"
    }
   },
   "outputs": [
    {
     "data": {
      "text/plain": [
       "296"
      ]
     },
     "execution_count": 17,
     "metadata": {},
     "output_type": "execute_result"
    }
   ],
   "source": [
    "highest_df[highest_df[\"movieId\"] == \"m6442\"]\n",
    "len(highest_df)"
   ]
  },
  {
   "cell_type": "markdown",
   "metadata": {
    "id": "TmRzCDf9iL9t"
   },
   "source": [
    "You can nosw answer the question in the quiz for Task 6, based on your  observations on analysing this table?"
   ]
  },
  {
   "cell_type": "markdown",
   "metadata": {
    "id": "8ryQHGrwyqp8"
   },
   "source": [
    "# Part C - Association Rules and Lift\n",
    "\n",
    "I think we can do better than simply examining movie popularity. \n",
    "\n",
    "Lets take all of the positive ratings (4 or 5), and find the most popular pairs of movies that users have watched.\n",
    "\n",
    "There is a lot going on there, so please take the time to break it down to understand what it does.\n",
    "\n",
    "NB: In this code, we perform a \"self-join\" on a dataframe. If this is unfamiliar, you can read more at:\n",
    " - https://dfrieds.com/data-analysis/self-join-python-pandas.html\n",
    " - https://www.w3schools.com/sql/sql_join_self.asp\n",
    "\n"
   ]
  },
  {
   "cell_type": "code",
   "execution_count": 18,
   "metadata": {
    "ExecuteTime": {
     "end_time": "2021-07-26T16:38:10.793666Z",
     "start_time": "2021-07-26T16:38:05.460498Z"
    },
    "id": "MjH26WMcHm_K"
   },
   "outputs": [
    {
     "data": {
      "text/html": [
       "<div>\n",
       "<style scoped>\n",
       "    .dataframe tbody tr th:only-of-type {\n",
       "        vertical-align: middle;\n",
       "    }\n",
       "\n",
       "    .dataframe tbody tr th {\n",
       "        vertical-align: top;\n",
       "    }\n",
       "\n",
       "    .dataframe thead th {\n",
       "        text-align: right;\n",
       "    }\n",
       "</style>\n",
       "<table border=\"1\" class=\"dataframe\">\n",
       "  <thead>\n",
       "    <tr style=\"text-align: right;\">\n",
       "      <th></th>\n",
       "      <th>movieId_x</th>\n",
       "      <th>movieId_y</th>\n",
       "      <th>count</th>\n",
       "    </tr>\n",
       "  </thead>\n",
       "  <tbody>\n",
       "    <tr>\n",
       "      <th>1574483</th>\n",
       "      <td>m318</td>\n",
       "      <td>m356</td>\n",
       "      <td>104</td>\n",
       "    </tr>\n",
       "    <tr>\n",
       "      <th>1416644</th>\n",
       "      <td>m296</td>\n",
       "      <td>m593</td>\n",
       "      <td>92</td>\n",
       "    </tr>\n",
       "    <tr>\n",
       "      <th>1416033</th>\n",
       "      <td>m296</td>\n",
       "      <td>m47</td>\n",
       "      <td>91</td>\n",
       "    </tr>\n",
       "    <tr>\n",
       "      <th>1187221</th>\n",
       "      <td>m260</td>\n",
       "      <td>m1196</td>\n",
       "      <td>91</td>\n",
       "    </tr>\n",
       "    <tr>\n",
       "      <th>1575263</th>\n",
       "      <td>m318</td>\n",
       "      <td>m527</td>\n",
       "      <td>90</td>\n",
       "    </tr>\n",
       "  </tbody>\n",
       "</table>\n",
       "</div>"
      ],
      "text/plain": [
       "        movieId_x movieId_y  count\n",
       "1574483      m318      m356    104\n",
       "1416644      m296      m593     92\n",
       "1416033      m296       m47     91\n",
       "1187221      m260     m1196     91\n",
       "1575263      m318      m527     90"
      ]
     },
     "execution_count": 18,
     "metadata": {},
     "output_type": "execute_result"
    }
   ],
   "source": [
    "positives = ratings_df[ratings_df[\"rating\"]>=4]\n",
    "\n",
    "#join positives with itself on userId to get all pairs of movies watched by a given user.\n",
    "pairs = pd.merge(positives, positives, on=[\"userId\"])\n",
    "\n",
    "#we only want A->B, not B->A. Use the timestamps to restrict the selected pairs\n",
    "sequences = pairs[pairs[\"timestamp_x\"] < pairs[\"timestamp_y\"]] \n",
    "\n",
    "#lets count the frequency of each pair of movies.\n",
    "paircounts = sequences[[\"movieId_x\", \"movieId_y\", \"userId\"]].groupby([\"movieId_x\", \"movieId_y\"]).count()\n",
    "\n",
    "#sort by the most popular pairs.\n",
    "pairswithcounts = paircounts.reset_index().rename(columns={\"userId\" : \"count\"}).sort_values(['count'], ascending=False)\n",
    "\n",
    "#display the top most frequent pairs\n",
    "pairswithcounts.head()"
   ]
  },
  {
   "cell_type": "markdown",
   "metadata": {
    "id": "ThACu3UfzjgB"
   },
   "source": [
    "## Task 7. Display the titles of the (most popular) movie pairs from `pairswithcounts`?\n",
    "\n",
    "You will need to analyse this dataframe to complete questions in the quiz.\n",
    "\n",
    "Hint:\n",
    " - you will need to re-sort after a pd.merge()"
   ]
  },
  {
   "cell_type": "code",
   "execution_count": 19,
   "metadata": {
    "ExecuteTime": {
     "end_time": "2021-07-26T16:38:10.912344Z",
     "start_time": "2021-07-26T16:38:10.796880Z"
    }
   },
   "outputs": [
    {
     "data": {
      "text/html": [
       "<div>\n",
       "<style scoped>\n",
       "    .dataframe tbody tr th:only-of-type {\n",
       "        vertical-align: middle;\n",
       "    }\n",
       "\n",
       "    .dataframe tbody tr th {\n",
       "        vertical-align: top;\n",
       "    }\n",
       "\n",
       "    .dataframe thead th {\n",
       "        text-align: right;\n",
       "    }\n",
       "</style>\n",
       "<table border=\"1\" class=\"dataframe\">\n",
       "  <thead>\n",
       "    <tr style=\"text-align: right;\">\n",
       "      <th></th>\n",
       "      <th>movieId_x</th>\n",
       "      <th>movieId_y</th>\n",
       "      <th>count</th>\n",
       "    </tr>\n",
       "  </thead>\n",
       "  <tbody>\n",
       "    <tr>\n",
       "      <th>3273787</th>\n",
       "      <td>m858</td>\n",
       "      <td>m1221</td>\n",
       "      <td>74</td>\n",
       "    </tr>\n",
       "  </tbody>\n",
       "</table>\n",
       "</div>"
      ],
      "text/plain": [
       "        movieId_x movieId_y  count\n",
       "3273787      m858     m1221     74"
      ]
     },
     "execution_count": 19,
     "metadata": {},
     "output_type": "execute_result"
    }
   ],
   "source": [
    "pairswithcounts[pairswithcounts[\"count\"] == 74]"
   ]
  },
  {
   "cell_type": "code",
   "execution_count": 20,
   "metadata": {
    "ExecuteTime": {
     "end_time": "2021-07-26T16:38:13.600613Z",
     "start_time": "2021-07-26T16:38:10.914938Z"
    },
    "id": "C9v9s87kO1Vq"
   },
   "outputs": [
    {
     "data": {
      "text/html": [
       "<div>\n",
       "<style scoped>\n",
       "    .dataframe tbody tr th:only-of-type {\n",
       "        vertical-align: middle;\n",
       "    }\n",
       "\n",
       "    .dataframe tbody tr th {\n",
       "        vertical-align: top;\n",
       "    }\n",
       "\n",
       "    .dataframe thead th {\n",
       "        text-align: right;\n",
       "    }\n",
       "</style>\n",
       "<table border=\"1\" class=\"dataframe\">\n",
       "  <thead>\n",
       "    <tr style=\"text-align: right;\">\n",
       "      <th></th>\n",
       "      <th>movieId_x</th>\n",
       "      <th>movieId_y</th>\n",
       "      <th>count</th>\n",
       "      <th>title_x</th>\n",
       "      <th>genres_x</th>\n",
       "      <th>title_y</th>\n",
       "      <th>genres_y</th>\n",
       "    </tr>\n",
       "  </thead>\n",
       "  <tbody>\n",
       "    <tr>\n",
       "      <th>0</th>\n",
       "      <td>m318</td>\n",
       "      <td>m356</td>\n",
       "      <td>104</td>\n",
       "      <td>Shawshank Redemption, The (1994)</td>\n",
       "      <td>Crime|Drama</td>\n",
       "      <td>Forrest Gump (1994)</td>\n",
       "      <td>Comedy|Drama|Romance|War</td>\n",
       "    </tr>\n",
       "    <tr>\n",
       "      <th>1</th>\n",
       "      <td>m296</td>\n",
       "      <td>m593</td>\n",
       "      <td>92</td>\n",
       "      <td>Pulp Fiction (1994)</td>\n",
       "      <td>Comedy|Crime|Drama|Thriller</td>\n",
       "      <td>Silence of the Lambs, The (1991)</td>\n",
       "      <td>Crime|Horror|Thriller</td>\n",
       "    </tr>\n",
       "    <tr>\n",
       "      <th>2</th>\n",
       "      <td>m296</td>\n",
       "      <td>m47</td>\n",
       "      <td>91</td>\n",
       "      <td>Pulp Fiction (1994)</td>\n",
       "      <td>Comedy|Crime|Drama|Thriller</td>\n",
       "      <td>Seven (a.k.a. Se7en) (1995)</td>\n",
       "      <td>Mystery|Thriller</td>\n",
       "    </tr>\n",
       "    <tr>\n",
       "      <th>3</th>\n",
       "      <td>m260</td>\n",
       "      <td>m1196</td>\n",
       "      <td>91</td>\n",
       "      <td>Star Wars: Episode IV - A New Hope (1977)</td>\n",
       "      <td>Action|Adventure|Sci-Fi</td>\n",
       "      <td>Star Wars: Episode V - The Empire Strikes Back...</td>\n",
       "      <td>Action|Adventure|Sci-Fi</td>\n",
       "    </tr>\n",
       "    <tr>\n",
       "      <th>4</th>\n",
       "      <td>m318</td>\n",
       "      <td>m527</td>\n",
       "      <td>90</td>\n",
       "      <td>Shawshank Redemption, The (1994)</td>\n",
       "      <td>Crime|Drama</td>\n",
       "      <td>Schindler's List (1993)</td>\n",
       "      <td>Drama|War</td>\n",
       "    </tr>\n",
       "  </tbody>\n",
       "</table>\n",
       "</div>"
      ],
      "text/plain": [
       "  movieId_x movieId_y  count                                    title_x  \\\n",
       "0      m318      m356    104           Shawshank Redemption, The (1994)   \n",
       "1      m296      m593     92                        Pulp Fiction (1994)   \n",
       "2      m296       m47     91                        Pulp Fiction (1994)   \n",
       "3      m260     m1196     91  Star Wars: Episode IV - A New Hope (1977)   \n",
       "4      m318      m527     90           Shawshank Redemption, The (1994)   \n",
       "\n",
       "                      genres_x  \\\n",
       "0                  Crime|Drama   \n",
       "1  Comedy|Crime|Drama|Thriller   \n",
       "2  Comedy|Crime|Drama|Thriller   \n",
       "3      Action|Adventure|Sci-Fi   \n",
       "4                  Crime|Drama   \n",
       "\n",
       "                                             title_y                  genres_y  \n",
       "0                                Forrest Gump (1994)  Comedy|Drama|Romance|War  \n",
       "1                   Silence of the Lambs, The (1991)     Crime|Horror|Thriller  \n",
       "2                        Seven (a.k.a. Se7en) (1995)          Mystery|Thriller  \n",
       "3  Star Wars: Episode V - The Empire Strikes Back...   Action|Adventure|Sci-Fi  \n",
       "4                            Schindler's List (1993)                 Drama|War  "
      ]
     },
     "execution_count": 20,
     "metadata": {},
     "output_type": "execute_result"
    }
   ],
   "source": [
    "#add your solution here\n",
    "# merge on movieId_x\n",
    "pairswithcounts = pairswithcounts.merge(right=movies_df, left_on=[\"movieId_x\"], \n",
    "                                        right_on=\"movieId\", how=\"left\")\n",
    "# remove duplicate columns\n",
    "pairswithcounts = pairswithcounts.drop(columns=[\"movieId\"])\n",
    "# merge on movieId_y\n",
    "pairswithcounts = pairswithcounts.merge(right=movies_df, left_on=[\"movieId_y\"],\n",
    "                                        right_on=\"movieId\", how=\"left\",\n",
    "                                        suffixes=(\"_x\", \"_y\"))\n",
    "# remove duplicate columns\n",
    "pairswithcounts = pairswithcounts.drop(columns=[\"movieId\"])\n",
    "pairswithcounts.head()"
   ]
  },
  {
   "cell_type": "markdown",
   "metadata": {
    "id": "_0tOm--0ByR6"
   },
   "source": [
    "## Task 8. Calculate Lift (see Lecture 3) for all pairs in `paircounts`.  \n",
    "\n",
    "Your target dataframe should have columns: \n",
    " - movieId_x\tmovieId_y\t\n",
    " - count - count of movies x & y occurring in a profile\t\n",
    " - ratingCount_x\tratingCount_y\t- how many times these movies appeared in total.\n",
    " - lift\t- your calculated lift.\n",
    " - title_x, title_y, genre_x and genre_y - metadata about the films, so you know if you have success. \n",
    "\n",
    "Hints: \n",
    " - You will need to join toppairs with a dataframe containing rating counts of individual movies. A calculated column will be needed. See https://pandas.pydata.org/docs/getting_started/intro_tutorials/05_add_columns.html or https://stackoverflow.com/a/12377083/9989050 for hints on how to achieve that.\n",
    " - My solution had duplicated columns. I used this trick https://stackoverflow.com/a/40435354/9989050 to get rid of them.\n",
    " - It might be useful to [sort](https://pandas.pydata.org/pandas-docs/stable/reference/api/pandas.DataFrame.sort_values.html) your dataframe.\n",
    "\n",
    "Below I provide the highest lift movies for you to check your solution.\n"
   ]
  },
  {
   "cell_type": "markdown",
   "metadata": {
    "id": "j86C6mX9JyE_"
   },
   "source": [
    "If your solution is correct, you will see the highest lift movie pairs. \n",
    "Lets check them - do the highest lift movies pairs make sense? e.g. \"Pink Panther, The (2006)\" (Adventure|Comedy|Crime) with\t\"For Richer or Poorer (1997)\" (Comedy). \n",
    "\n",
    "It should be clear that these lift pairs do not have high support. "
   ]
  },
  {
   "cell_type": "code",
   "execution_count": 21,
   "metadata": {
    "ExecuteTime": {
     "end_time": "2021-07-26T16:38:19.847825Z",
     "start_time": "2021-07-26T16:38:13.603820Z"
    }
   },
   "outputs": [
    {
     "data": {
      "text/html": [
       "<div>\n",
       "<style scoped>\n",
       "    .dataframe tbody tr th:only-of-type {\n",
       "        vertical-align: middle;\n",
       "    }\n",
       "\n",
       "    .dataframe tbody tr th {\n",
       "        vertical-align: top;\n",
       "    }\n",
       "\n",
       "    .dataframe thead th {\n",
       "        text-align: right;\n",
       "    }\n",
       "</style>\n",
       "<table border=\"1\" class=\"dataframe\">\n",
       "  <thead>\n",
       "    <tr style=\"text-align: right;\">\n",
       "      <th></th>\n",
       "      <th>movieId_x</th>\n",
       "      <th>movieId_y</th>\n",
       "      <th>count</th>\n",
       "      <th>title_x</th>\n",
       "      <th>genres_x</th>\n",
       "      <th>title_y</th>\n",
       "      <th>genres_y</th>\n",
       "      <th>rating_x</th>\n",
       "      <th>rating_y</th>\n",
       "      <th>lift</th>\n",
       "    </tr>\n",
       "  </thead>\n",
       "  <tbody>\n",
       "    <tr>\n",
       "      <th>1145455</th>\n",
       "      <td>m43836</td>\n",
       "      <td>m1703</td>\n",
       "      <td>1</td>\n",
       "      <td>Pink Panther, The (2006)</td>\n",
       "      <td>Adventure|Comedy|Crime</td>\n",
       "      <td>For Richer or Poorer (1997)</td>\n",
       "      <td>Comedy</td>\n",
       "      <td>1</td>\n",
       "      <td>1</td>\n",
       "      <td>610.0</td>\n",
       "    </tr>\n",
       "  </tbody>\n",
       "</table>\n",
       "</div>"
      ],
      "text/plain": [
       "        movieId_x movieId_y  count                   title_x  \\\n",
       "1145455    m43836     m1703      1  Pink Panther, The (2006)   \n",
       "\n",
       "                       genres_x                      title_y genres_y  \\\n",
       "1145455  Adventure|Comedy|Crime  For Richer or Poorer (1997)   Comedy   \n",
       "\n",
       "         rating_x  rating_y   lift  \n",
       "1145455         1         1  610.0  "
      ]
     },
     "execution_count": 21,
     "metadata": {},
     "output_type": "execute_result"
    }
   ],
   "source": [
    "# counts of all positive ratings\n",
    "positives_count = positives[[\"movieId\", \"rating\"]].groupby([\"movieId\"]).count()\n",
    "# merge with rating count x and y\n",
    "pairswithcounts = pairswithcounts.merge(right=positives_count, \n",
    "                                        left_on=\"movieId_x\", right_on=\"movieId\",\n",
    "                                        how=\"left\")\n",
    "pairswithcounts = pairswithcounts.merge(right=positives_count, \n",
    "                                        left_on=\"movieId_y\", right_on=\"movieId\",\n",
    "                                        how=\"left\", suffixes=(\"_x\", \"_y\"))\n",
    "# compute Lift\n",
    "pairswithcounts['lift'] = ((pairswithcounts[\"count\"] / 610) \n",
    "                           / ((pairswithcounts[\"rating_x\"] / 610) \n",
    "                              * (pairswithcounts[\"rating_y\"] / 610)))\n",
    "pairswithcounts.sort_values(by=\"lift\", ascending=False)\n",
    "pairswithcounts[(pairswithcounts[\"title_x\"].str.contains(\"Pink Panther, The\")) & (pairswithcounts[\"title_y\"].str.contains(\"For Richer or Poorer\"))]"
   ]
  },
  {
   "cell_type": "code",
   "execution_count": 22,
   "metadata": {
    "ExecuteTime": {
     "end_time": "2021-07-26T16:38:20.233220Z",
     "start_time": "2021-07-26T16:38:19.855668Z"
    }
   },
   "outputs": [
    {
     "data": {
      "text/html": [
       "<div>\n",
       "<style scoped>\n",
       "    .dataframe tbody tr th:only-of-type {\n",
       "        vertical-align: middle;\n",
       "    }\n",
       "\n",
       "    .dataframe tbody tr th {\n",
       "        vertical-align: top;\n",
       "    }\n",
       "\n",
       "    .dataframe thead th {\n",
       "        text-align: right;\n",
       "    }\n",
       "</style>\n",
       "<table border=\"1\" class=\"dataframe\">\n",
       "  <thead>\n",
       "    <tr style=\"text-align: right;\">\n",
       "      <th></th>\n",
       "      <th>movieId_x</th>\n",
       "      <th>movieId_y</th>\n",
       "      <th>count</th>\n",
       "      <th>title_x</th>\n",
       "      <th>genres_x</th>\n",
       "      <th>title_y</th>\n",
       "      <th>genres_y</th>\n",
       "      <th>rating_x</th>\n",
       "      <th>rating_y</th>\n",
       "      <th>lift</th>\n",
       "    </tr>\n",
       "  </thead>\n",
       "  <tbody>\n",
       "    <tr>\n",
       "      <th>2137902</th>\n",
       "      <td>m1475</td>\n",
       "      <td>m2024</td>\n",
       "      <td>1</td>\n",
       "      <td>Kama Sutra: A Tale of Love (1996)</td>\n",
       "      <td>Romance</td>\n",
       "      <td>Rapture, The (1991)</td>\n",
       "      <td>Drama|Mystery</td>\n",
       "      <td>1</td>\n",
       "      <td>1</td>\n",
       "      <td>610.0</td>\n",
       "    </tr>\n",
       "  </tbody>\n",
       "</table>\n",
       "</div>"
      ],
      "text/plain": [
       "        movieId_x movieId_y  count                            title_x  \\\n",
       "2137902     m1475     m2024      1  Kama Sutra: A Tale of Love (1996)   \n",
       "\n",
       "        genres_x              title_y       genres_y  rating_x  rating_y  \\\n",
       "2137902  Romance  Rapture, The (1991)  Drama|Mystery         1         1   \n",
       "\n",
       "          lift  \n",
       "2137902  610.0  "
      ]
     },
     "execution_count": 22,
     "metadata": {},
     "output_type": "execute_result"
    }
   ],
   "source": [
    "pairswithcounts[(pairswithcounts[\"movieId_x\"] == \"m1475\") & (pairswithcounts[\"movieId_y\"] == \"m2024\")]"
   ]
  },
  {
   "cell_type": "code",
   "execution_count": 23,
   "metadata": {
    "ExecuteTime": {
     "end_time": "2021-07-26T16:38:20.583965Z",
     "start_time": "2021-07-26T16:38:20.236028Z"
    }
   },
   "outputs": [
    {
     "data": {
      "text/html": [
       "<div>\n",
       "<style scoped>\n",
       "    .dataframe tbody tr th:only-of-type {\n",
       "        vertical-align: middle;\n",
       "    }\n",
       "\n",
       "    .dataframe tbody tr th {\n",
       "        vertical-align: top;\n",
       "    }\n",
       "\n",
       "    .dataframe thead th {\n",
       "        text-align: right;\n",
       "    }\n",
       "</style>\n",
       "<table border=\"1\" class=\"dataframe\">\n",
       "  <thead>\n",
       "    <tr style=\"text-align: right;\">\n",
       "      <th></th>\n",
       "      <th>movieId_x</th>\n",
       "      <th>movieId_y</th>\n",
       "      <th>count</th>\n",
       "      <th>title_x</th>\n",
       "      <th>genres_x</th>\n",
       "      <th>title_y</th>\n",
       "      <th>genres_y</th>\n",
       "      <th>rating_x</th>\n",
       "      <th>rating_y</th>\n",
       "      <th>lift</th>\n",
       "    </tr>\n",
       "  </thead>\n",
       "  <tbody>\n",
       "    <tr>\n",
       "      <th>27070</th>\n",
       "      <td>m91500</td>\n",
       "      <td>m106487</td>\n",
       "      <td>10</td>\n",
       "      <td>The Hunger Games (2012)</td>\n",
       "      <td>Action|Adventure|Drama|Sci-Fi|Thriller</td>\n",
       "      <td>The Hunger Games: Catching Fire (2013)</td>\n",
       "      <td>Action|Adventure|Sci-Fi|IMAX</td>\n",
       "      <td>24</td>\n",
       "      <td>14</td>\n",
       "      <td>18.154762</td>\n",
       "    </tr>\n",
       "  </tbody>\n",
       "</table>\n",
       "</div>"
      ],
      "text/plain": [
       "      movieId_x movieId_y  count                  title_x  \\\n",
       "27070    m91500   m106487     10  The Hunger Games (2012)   \n",
       "\n",
       "                                     genres_x  \\\n",
       "27070  Action|Adventure|Drama|Sci-Fi|Thriller   \n",
       "\n",
       "                                      title_y                      genres_y  \\\n",
       "27070  The Hunger Games: Catching Fire (2013)  Action|Adventure|Sci-Fi|IMAX   \n",
       "\n",
       "       rating_x  rating_y       lift  \n",
       "27070        24        14  18.154762  "
      ]
     },
     "execution_count": 23,
     "metadata": {},
     "output_type": "execute_result"
    }
   ],
   "source": [
    "pairswithcounts[(pairswithcounts[\"movieId_x\"] == \"m91500\") & (pairswithcounts[\"movieId_y\"] == \"m106487\")]"
   ]
  },
  {
   "cell_type": "markdown",
   "metadata": {
    "id": "syNMZ-gULEvI"
   },
   "source": [
    "## Task 9 - Support Thresholds"
   ]
  },
  {
   "cell_type": "markdown",
   "metadata": {
    "id": "Q8J3co2aDhfp"
   },
   "source": [
    "Removing movie pairs with support count $< 10$.\n",
    "\n",
    "I got the \"The Hunger Games (2012)\" paired with \"The Hunger Games: Mockingjay - Part 1 (2014)\" as the movie pair with the highest lift. This seems a good pairing! \n",
    "\n",
    "So in essence, we can use lift to identify highly co-occurring movie pairs without resorting to any collaborative notions.\n",
    "\n",
    "Keep this dataframe around - you will need it to answer the questions for Task 9 in the quiz."
   ]
  },
  {
   "cell_type": "code",
   "execution_count": 24,
   "metadata": {
    "ExecuteTime": {
     "end_time": "2021-07-26T16:38:20.617183Z",
     "start_time": "2021-07-26T16:38:20.585921Z"
    },
    "id": "Ol1oyIVYyGv9"
   },
   "outputs": [
    {
     "data": {
      "text/html": [
       "<div>\n",
       "<style scoped>\n",
       "    .dataframe tbody tr th:only-of-type {\n",
       "        vertical-align: middle;\n",
       "    }\n",
       "\n",
       "    .dataframe tbody tr th {\n",
       "        vertical-align: top;\n",
       "    }\n",
       "\n",
       "    .dataframe thead th {\n",
       "        text-align: right;\n",
       "    }\n",
       "</style>\n",
       "<table border=\"1\" class=\"dataframe\">\n",
       "  <thead>\n",
       "    <tr style=\"text-align: right;\">\n",
       "      <th></th>\n",
       "      <th>movieId_x</th>\n",
       "      <th>movieId_y</th>\n",
       "      <th>count</th>\n",
       "      <th>title_x</th>\n",
       "      <th>genres_x</th>\n",
       "      <th>title_y</th>\n",
       "      <th>genres_y</th>\n",
       "      <th>rating_x</th>\n",
       "      <th>rating_y</th>\n",
       "      <th>lift</th>\n",
       "    </tr>\n",
       "  </thead>\n",
       "  <tbody>\n",
       "    <tr>\n",
       "      <th>20414</th>\n",
       "      <td>m91500</td>\n",
       "      <td>m116823</td>\n",
       "      <td>11</td>\n",
       "      <td>The Hunger Games (2012)</td>\n",
       "      <td>Action|Adventure|Drama|Sci-Fi|Thriller</td>\n",
       "      <td>The Hunger Games: Mockingjay - Part 1 (2014)</td>\n",
       "      <td>Adventure|Sci-Fi|Thriller</td>\n",
       "      <td>24</td>\n",
       "      <td>15</td>\n",
       "      <td>18.638889</td>\n",
       "    </tr>\n",
       "    <tr>\n",
       "      <th>27070</th>\n",
       "      <td>m91500</td>\n",
       "      <td>m106487</td>\n",
       "      <td>10</td>\n",
       "      <td>The Hunger Games (2012)</td>\n",
       "      <td>Action|Adventure|Drama|Sci-Fi|Thriller</td>\n",
       "      <td>The Hunger Games: Catching Fire (2013)</td>\n",
       "      <td>Action|Adventure|Sci-Fi|IMAX</td>\n",
       "      <td>24</td>\n",
       "      <td>14</td>\n",
       "      <td>18.154762</td>\n",
       "    </tr>\n",
       "    <tr>\n",
       "      <th>27867</th>\n",
       "      <td>m115713</td>\n",
       "      <td>m139385</td>\n",
       "      <td>10</td>\n",
       "      <td>Ex Machina (2015)</td>\n",
       "      <td>Drama|Sci-Fi|Thriller</td>\n",
       "      <td>The Revenant (2015)</td>\n",
       "      <td>Adventure|Drama</td>\n",
       "      <td>20</td>\n",
       "      <td>19</td>\n",
       "      <td>16.052632</td>\n",
       "    </tr>\n",
       "    <tr>\n",
       "      <th>26869</th>\n",
       "      <td>m91658</td>\n",
       "      <td>m67255</td>\n",
       "      <td>10</td>\n",
       "      <td>Girl with the Dragon Tattoo, The (2011)</td>\n",
       "      <td>Drama|Thriller</td>\n",
       "      <td>Girl with the Dragon Tattoo, The (Män som hata...</td>\n",
       "      <td>Crime|Drama|Mystery|Thriller</td>\n",
       "      <td>24</td>\n",
       "      <td>19</td>\n",
       "      <td>13.377193</td>\n",
       "    </tr>\n",
       "    <tr>\n",
       "      <th>26907</th>\n",
       "      <td>m34162</td>\n",
       "      <td>m8807</td>\n",
       "      <td>10</td>\n",
       "      <td>Wedding Crashers (2005)</td>\n",
       "      <td>Comedy|Romance</td>\n",
       "      <td>Harold and Kumar Go to White Castle (2004)</td>\n",
       "      <td>Adventure|Comedy</td>\n",
       "      <td>25</td>\n",
       "      <td>19</td>\n",
       "      <td>12.842105</td>\n",
       "    </tr>\n",
       "  </tbody>\n",
       "</table>\n",
       "</div>"
      ],
      "text/plain": [
       "      movieId_x movieId_y  count                                  title_x  \\\n",
       "20414    m91500   m116823     11                  The Hunger Games (2012)   \n",
       "27070    m91500   m106487     10                  The Hunger Games (2012)   \n",
       "27867   m115713   m139385     10                        Ex Machina (2015)   \n",
       "26869    m91658    m67255     10  Girl with the Dragon Tattoo, The (2011)   \n",
       "26907    m34162     m8807     10                  Wedding Crashers (2005)   \n",
       "\n",
       "                                     genres_x  \\\n",
       "20414  Action|Adventure|Drama|Sci-Fi|Thriller   \n",
       "27070  Action|Adventure|Drama|Sci-Fi|Thriller   \n",
       "27867                   Drama|Sci-Fi|Thriller   \n",
       "26869                          Drama|Thriller   \n",
       "26907                          Comedy|Romance   \n",
       "\n",
       "                                                 title_y  \\\n",
       "20414       The Hunger Games: Mockingjay - Part 1 (2014)   \n",
       "27070             The Hunger Games: Catching Fire (2013)   \n",
       "27867                                The Revenant (2015)   \n",
       "26869  Girl with the Dragon Tattoo, The (Män som hata...   \n",
       "26907         Harold and Kumar Go to White Castle (2004)   \n",
       "\n",
       "                           genres_y  rating_x  rating_y       lift  \n",
       "20414     Adventure|Sci-Fi|Thriller        24        15  18.638889  \n",
       "27070  Action|Adventure|Sci-Fi|IMAX        24        14  18.154762  \n",
       "27867               Adventure|Drama        20        19  16.052632  \n",
       "26869  Crime|Drama|Mystery|Thriller        24        19  13.377193  \n",
       "26907              Adventure|Comedy        25        19  12.842105  "
      ]
     },
     "execution_count": 24,
     "metadata": {},
     "output_type": "execute_result"
    }
   ],
   "source": [
    "# add your solution here\n",
    "# remove pairs count < 10\n",
    "finalpairs = pairswithcounts[pairswithcounts[\"count\"] >= 10]\n",
    "# sort by Lift\n",
    "finalpairs.sort_values(by=\"lift\", ascending=False).head()"
   ]
  },
  {
   "cell_type": "code",
   "execution_count": 25,
   "metadata": {
    "ExecuteTime": {
     "end_time": "2021-07-26T16:38:20.639839Z",
     "start_time": "2021-07-26T16:38:20.618844Z"
    },
    "scrolled": true
   },
   "outputs": [
    {
     "data": {
      "text/html": [
       "<div>\n",
       "<style scoped>\n",
       "    .dataframe tbody tr th:only-of-type {\n",
       "        vertical-align: middle;\n",
       "    }\n",
       "\n",
       "    .dataframe tbody tr th {\n",
       "        vertical-align: top;\n",
       "    }\n",
       "\n",
       "    .dataframe thead th {\n",
       "        text-align: right;\n",
       "    }\n",
       "</style>\n",
       "<table border=\"1\" class=\"dataframe\">\n",
       "  <thead>\n",
       "    <tr style=\"text-align: right;\">\n",
       "      <th></th>\n",
       "      <th>movieId_x</th>\n",
       "      <th>movieId_y</th>\n",
       "      <th>count</th>\n",
       "      <th>title_x</th>\n",
       "      <th>genres_x</th>\n",
       "      <th>title_y</th>\n",
       "      <th>genres_y</th>\n",
       "      <th>rating_x</th>\n",
       "      <th>rating_y</th>\n",
       "      <th>lift</th>\n",
       "    </tr>\n",
       "  </thead>\n",
       "  <tbody>\n",
       "    <tr>\n",
       "      <th>16731</th>\n",
       "      <td>m110</td>\n",
       "      <td>m2403</td>\n",
       "      <td>12</td>\n",
       "      <td>Braveheart (1995)</td>\n",
       "      <td>Action|Drama|War</td>\n",
       "      <td>First Blood (Rambo: First Blood) (1982)</td>\n",
       "      <td>Action|Adventure|Drama|Thriller</td>\n",
       "      <td>166</td>\n",
       "      <td>14</td>\n",
       "      <td>3.149742</td>\n",
       "    </tr>\n",
       "    <tr>\n",
       "      <th>5811</th>\n",
       "      <td>m110</td>\n",
       "      <td>m151</td>\n",
       "      <td>18</td>\n",
       "      <td>Braveheart (1995)</td>\n",
       "      <td>Action|Drama|War</td>\n",
       "      <td>Rob Roy (1995)</td>\n",
       "      <td>Action|Drama|Romance|War</td>\n",
       "      <td>166</td>\n",
       "      <td>22</td>\n",
       "      <td>3.006572</td>\n",
       "    </tr>\n",
       "    <tr>\n",
       "      <th>26850</th>\n",
       "      <td>m110</td>\n",
       "      <td>m5630</td>\n",
       "      <td>10</td>\n",
       "      <td>Braveheart (1995)</td>\n",
       "      <td>Action|Drama|War</td>\n",
       "      <td>Red Dragon (2002)</td>\n",
       "      <td>Crime|Mystery|Thriller</td>\n",
       "      <td>166</td>\n",
       "      <td>15</td>\n",
       "      <td>2.449799</td>\n",
       "    </tr>\n",
       "    <tr>\n",
       "      <th>4199</th>\n",
       "      <td>m110</td>\n",
       "      <td>m266</td>\n",
       "      <td>20</td>\n",
       "      <td>Braveheart (1995)</td>\n",
       "      <td>Action|Drama|War</td>\n",
       "      <td>Legends of the Fall (1994)</td>\n",
       "      <td>Drama|Romance|War|Western</td>\n",
       "      <td>166</td>\n",
       "      <td>31</td>\n",
       "      <td>2.370773</td>\n",
       "    </tr>\n",
       "    <tr>\n",
       "      <th>16666</th>\n",
       "      <td>m110</td>\n",
       "      <td>m552</td>\n",
       "      <td>12</td>\n",
       "      <td>Braveheart (1995)</td>\n",
       "      <td>Action|Drama|War</td>\n",
       "      <td>Three Musketeers, The (1993)</td>\n",
       "      <td>Action|Adventure|Comedy|Romance</td>\n",
       "      <td>166</td>\n",
       "      <td>19</td>\n",
       "      <td>2.320862</td>\n",
       "    </tr>\n",
       "    <tr>\n",
       "      <th>...</th>\n",
       "      <td>...</td>\n",
       "      <td>...</td>\n",
       "      <td>...</td>\n",
       "      <td>...</td>\n",
       "      <td>...</td>\n",
       "      <td>...</td>\n",
       "      <td>...</td>\n",
       "      <td>...</td>\n",
       "      <td>...</td>\n",
       "      <td>...</td>\n",
       "    </tr>\n",
       "    <tr>\n",
       "      <th>16723</th>\n",
       "      <td>m110</td>\n",
       "      <td>m4973</td>\n",
       "      <td>12</td>\n",
       "      <td>Braveheart (1995)</td>\n",
       "      <td>Action|Drama|War</td>\n",
       "      <td>Amelie (Fabuleux destin d'Amélie Poulain, Le) ...</td>\n",
       "      <td>Comedy|Romance</td>\n",
       "      <td>166</td>\n",
       "      <td>95</td>\n",
       "      <td>0.464172</td>\n",
       "    </tr>\n",
       "    <tr>\n",
       "      <th>2211</th>\n",
       "      <td>m110</td>\n",
       "      <td>m260</td>\n",
       "      <td>25</td>\n",
       "      <td>Braveheart (1995)</td>\n",
       "      <td>Action|Drama|War</td>\n",
       "      <td>Star Wars: Episode IV - A New Hope (1977)</td>\n",
       "      <td>Action|Adventure|Sci-Fi</td>\n",
       "      <td>166</td>\n",
       "      <td>201</td>\n",
       "      <td>0.457052</td>\n",
       "    </tr>\n",
       "    <tr>\n",
       "      <th>1807</th>\n",
       "      <td>m110</td>\n",
       "      <td>m593</td>\n",
       "      <td>27</td>\n",
       "      <td>Braveheart (1995)</td>\n",
       "      <td>Action|Drama|War</td>\n",
       "      <td>Silence of the Lambs, The (1991)</td>\n",
       "      <td>Crime|Horror|Thriller</td>\n",
       "      <td>166</td>\n",
       "      <td>225</td>\n",
       "      <td>0.440964</td>\n",
       "    </tr>\n",
       "    <tr>\n",
       "      <th>14648</th>\n",
       "      <td>m110</td>\n",
       "      <td>m58559</td>\n",
       "      <td>13</td>\n",
       "      <td>Braveheart (1995)</td>\n",
       "      <td>Action|Drama|War</td>\n",
       "      <td>Dark Knight, The (2008)</td>\n",
       "      <td>Action|Crime|Drama|IMAX</td>\n",
       "      <td>166</td>\n",
       "      <td>112</td>\n",
       "      <td>0.426528</td>\n",
       "    </tr>\n",
       "    <tr>\n",
       "      <th>2610</th>\n",
       "      <td>m110</td>\n",
       "      <td>m318</td>\n",
       "      <td>24</td>\n",
       "      <td>Braveheart (1995)</td>\n",
       "      <td>Action|Drama|War</td>\n",
       "      <td>Shawshank Redemption, The (1994)</td>\n",
       "      <td>Crime|Drama</td>\n",
       "      <td>166</td>\n",
       "      <td>274</td>\n",
       "      <td>0.321871</td>\n",
       "    </tr>\n",
       "  </tbody>\n",
       "</table>\n",
       "<p>327 rows × 10 columns</p>\n",
       "</div>"
      ],
      "text/plain": [
       "      movieId_x movieId_y  count            title_x          genres_x  \\\n",
       "16731      m110     m2403     12  Braveheart (1995)  Action|Drama|War   \n",
       "5811       m110      m151     18  Braveheart (1995)  Action|Drama|War   \n",
       "26850      m110     m5630     10  Braveheart (1995)  Action|Drama|War   \n",
       "4199       m110      m266     20  Braveheart (1995)  Action|Drama|War   \n",
       "16666      m110      m552     12  Braveheart (1995)  Action|Drama|War   \n",
       "...         ...       ...    ...                ...               ...   \n",
       "16723      m110     m4973     12  Braveheart (1995)  Action|Drama|War   \n",
       "2211       m110      m260     25  Braveheart (1995)  Action|Drama|War   \n",
       "1807       m110      m593     27  Braveheart (1995)  Action|Drama|War   \n",
       "14648      m110    m58559     13  Braveheart (1995)  Action|Drama|War   \n",
       "2610       m110      m318     24  Braveheart (1995)  Action|Drama|War   \n",
       "\n",
       "                                                 title_y  \\\n",
       "16731            First Blood (Rambo: First Blood) (1982)   \n",
       "5811                                      Rob Roy (1995)   \n",
       "26850                                  Red Dragon (2002)   \n",
       "4199                          Legends of the Fall (1994)   \n",
       "16666                       Three Musketeers, The (1993)   \n",
       "...                                                  ...   \n",
       "16723  Amelie (Fabuleux destin d'Amélie Poulain, Le) ...   \n",
       "2211           Star Wars: Episode IV - A New Hope (1977)   \n",
       "1807                    Silence of the Lambs, The (1991)   \n",
       "14648                            Dark Knight, The (2008)   \n",
       "2610                    Shawshank Redemption, The (1994)   \n",
       "\n",
       "                              genres_y  rating_x  rating_y      lift  \n",
       "16731  Action|Adventure|Drama|Thriller       166        14  3.149742  \n",
       "5811          Action|Drama|Romance|War       166        22  3.006572  \n",
       "26850           Crime|Mystery|Thriller       166        15  2.449799  \n",
       "4199         Drama|Romance|War|Western       166        31  2.370773  \n",
       "16666  Action|Adventure|Comedy|Romance       166        19  2.320862  \n",
       "...                                ...       ...       ...       ...  \n",
       "16723                   Comedy|Romance       166        95  0.464172  \n",
       "2211           Action|Adventure|Sci-Fi       166       201  0.457052  \n",
       "1807             Crime|Horror|Thriller       166       225  0.440964  \n",
       "14648          Action|Crime|Drama|IMAX       166       112  0.426528  \n",
       "2610                       Crime|Drama       166       274  0.321871  \n",
       "\n",
       "[327 rows x 10 columns]"
      ]
     },
     "execution_count": 25,
     "metadata": {},
     "output_type": "execute_result"
    }
   ],
   "source": [
    "finalpairs[finalpairs[\"movieId_x\"] == \"m110\"].sort_values(by=\"lift\", ascending=False)"
   ]
  },
  {
   "cell_type": "code",
   "execution_count": 26,
   "metadata": {
    "ExecuteTime": {
     "end_time": "2021-07-26T16:38:20.655070Z",
     "start_time": "2021-07-26T16:38:20.641411Z"
    }
   },
   "outputs": [
    {
     "data": {
      "text/html": [
       "<div>\n",
       "<style scoped>\n",
       "    .dataframe tbody tr th:only-of-type {\n",
       "        vertical-align: middle;\n",
       "    }\n",
       "\n",
       "    .dataframe tbody tr th {\n",
       "        vertical-align: top;\n",
       "    }\n",
       "\n",
       "    .dataframe thead th {\n",
       "        text-align: right;\n",
       "    }\n",
       "</style>\n",
       "<table border=\"1\" class=\"dataframe\">\n",
       "  <thead>\n",
       "    <tr style=\"text-align: right;\">\n",
       "      <th></th>\n",
       "      <th>movieId_x</th>\n",
       "      <th>movieId_y</th>\n",
       "      <th>count</th>\n",
       "      <th>title_x</th>\n",
       "      <th>genres_x</th>\n",
       "      <th>title_y</th>\n",
       "      <th>genres_y</th>\n",
       "      <th>rating_x</th>\n",
       "      <th>rating_y</th>\n",
       "      <th>lift</th>\n",
       "    </tr>\n",
       "  </thead>\n",
       "  <tbody>\n",
       "    <tr>\n",
       "      <th>24469</th>\n",
       "      <td>m364</td>\n",
       "      <td>m362</td>\n",
       "      <td>10</td>\n",
       "      <td>Lion King, The (1994)</td>\n",
       "      <td>Adventure|Animation|Children|Drama|Musical|IMAX</td>\n",
       "      <td>Jungle Book, The (1994)</td>\n",
       "      <td>Adventure|Children|Romance</td>\n",
       "      <td>115</td>\n",
       "      <td>17</td>\n",
       "      <td>3.120205</td>\n",
       "    </tr>\n",
       "  </tbody>\n",
       "</table>\n",
       "</div>"
      ],
      "text/plain": [
       "      movieId_x movieId_y  count                title_x  \\\n",
       "24469      m364      m362     10  Lion King, The (1994)   \n",
       "\n",
       "                                              genres_x  \\\n",
       "24469  Adventure|Animation|Children|Drama|Musical|IMAX   \n",
       "\n",
       "                       title_y                    genres_y  rating_x  \\\n",
       "24469  Jungle Book, The (1994)  Adventure|Children|Romance       115   \n",
       "\n",
       "       rating_y      lift  \n",
       "24469        17  3.120205  "
      ]
     },
     "execution_count": 26,
     "metadata": {},
     "output_type": "execute_result"
    }
   ],
   "source": [
    "finalpairs[(finalpairs[\"movieId_x\"] == \"m364\") & (finalpairs[\"movieId_y\"] == \"m362\")]"
   ]
  },
  {
   "cell_type": "markdown",
   "metadata": {
    "id": "xpuW7oZcFU_G"
   },
   "source": [
    "# End of Exercise\n",
    "\n",
    "As part of your submission, you should complete the Exercise 1 quiz on Moodle.\n",
    "You will need to upload your notebook, complete with the **results** of executing the code."
   ]
  }
 ],
 "metadata": {
  "colab": {
   "collapsed_sections": [],
   "name": "RecSys 2021M - Ex 1 - TEMPLATE",
   "provenance": []
  },
  "kernelspec": {
   "display_name": "Python 3",
   "language": "python",
   "name": "python3"
  },
  "language_info": {
   "codemirror_mode": {
    "name": "ipython",
    "version": 3
   },
   "file_extension": ".py",
   "mimetype": "text/x-python",
   "name": "python",
   "nbconvert_exporter": "python",
   "pygments_lexer": "ipython3",
   "version": "3.8.5"
  }
 },
 "nbformat": 4,
 "nbformat_minor": 1
}
