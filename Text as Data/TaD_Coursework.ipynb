{
 "cells": [
  {
   "cell_type": "markdown",
   "metadata": {
    "id": "2gv2i9fNDvrg"
   },
   "source": [
    "## Post Sentiment Classification Task"
   ]
  },
  {
   "cell_type": "code",
   "execution_count": 1,
   "metadata": {
    "ExecuteTime": {
     "end_time": "2021-06-04T18:58:46.124928Z",
     "start_time": "2021-06-04T18:58:36.188386Z"
    },
    "id": "ZG9BpbQt3-ko"
   },
   "outputs": [],
   "source": [
    "import pandas as pd\n",
    "import numpy as np\n",
    "\n",
    "train_data = pd.read_json(\"https://raw.githubusercontent.com/rpsoft/tad_course/main/reddit_sentiment_train.json\")\n",
    "\n",
    "validation_data = pd.read_json(\"https://raw.githubusercontent.com/rpsoft/tad_course/main/reddit_sentiment_validation.json\")\n",
    "\n",
    "test_data = pd.read_json(\"https://raw.githubusercontent.com/rpsoft/tad_course/main/reddit_sentiment_test.json\")"
   ]
  },
  {
   "cell_type": "code",
   "execution_count": 2,
   "metadata": {
    "ExecuteTime": {
     "end_time": "2021-06-04T18:58:46.150218Z",
     "start_time": "2021-06-04T18:58:46.127253Z"
    },
    "scrolled": true
   },
   "outputs": [
    {
     "data": {
      "text/html": [
       "<div>\n",
       "<style scoped>\n",
       "    .dataframe tbody tr th:only-of-type {\n",
       "        vertical-align: middle;\n",
       "    }\n",
       "\n",
       "    .dataframe tbody tr th {\n",
       "        vertical-align: top;\n",
       "    }\n",
       "\n",
       "    .dataframe thead th {\n",
       "        text-align: right;\n",
       "    }\n",
       "</style>\n",
       "<table border=\"1\" class=\"dataframe\">\n",
       "  <thead>\n",
       "    <tr style=\"text-align: right;\">\n",
       "      <th></th>\n",
       "      <th>subreddit</th>\n",
       "      <th>title</th>\n",
       "      <th>id</th>\n",
       "      <th>url</th>\n",
       "      <th>author</th>\n",
       "      <th>body</th>\n",
       "      <th>majority_type</th>\n",
       "      <th>is_first_post</th>\n",
       "      <th>post_depth</th>\n",
       "      <th>in_reply_to</th>\n",
       "      <th>sentiment.polarity</th>\n",
       "      <th>sentiment.subjectivity</th>\n",
       "    </tr>\n",
       "  </thead>\n",
       "  <tbody>\n",
       "    <tr>\n",
       "      <th>0</th>\n",
       "      <td>relationships</td>\n",
       "      <td>My Friend/Crush [22/F] acting weird after I [2...</td>\n",
       "      <td>t1_cy7f317</td>\n",
       "      <td>https://www.reddit.com/r/relationships/comment...</td>\n",
       "      <td>Melodrama_</td>\n",
       "      <td>It's a sad realization, isn't it?</td>\n",
       "      <td></td>\n",
       "      <td>False</td>\n",
       "      <td>2</td>\n",
       "      <td>t1_cy7erc5</td>\n",
       "      <td>negative</td>\n",
       "      <td>1.000000</td>\n",
       "    </tr>\n",
       "    <tr>\n",
       "      <th>1</th>\n",
       "      <td>relationships</td>\n",
       "      <td>My Friend/Crush [22/F] acting weird after I [2...</td>\n",
       "      <td>t1_cy7hlyf</td>\n",
       "      <td>https://www.reddit.com/r/relationships/comment...</td>\n",
       "      <td>Melodrama_</td>\n",
       "      <td>I told her a couple of minutes ago that I didn...</td>\n",
       "      <td>elaboration</td>\n",
       "      <td>False</td>\n",
       "      <td>2</td>\n",
       "      <td>t1_cy7erc5</td>\n",
       "      <td>neutral</td>\n",
       "      <td>0.483631</td>\n",
       "    </tr>\n",
       "    <tr>\n",
       "      <th>2</th>\n",
       "      <td>relationships</td>\n",
       "      <td>My Friend/Crush [22/F] acting weird after I [2...</td>\n",
       "      <td>t1_cy7etrr</td>\n",
       "      <td>https://www.reddit.com/r/relationships/comment...</td>\n",
       "      <td>TreatYoSelves</td>\n",
       "      <td>Leeches don't make good friends.</td>\n",
       "      <td>answer</td>\n",
       "      <td>False</td>\n",
       "      <td>1</td>\n",
       "      <td>t3_3xshx9</td>\n",
       "      <td>positive</td>\n",
       "      <td>0.600000</td>\n",
       "    </tr>\n",
       "    <tr>\n",
       "      <th>3</th>\n",
       "      <td>relationships</td>\n",
       "      <td>My Friend/Crush [22/F] acting weird after I [2...</td>\n",
       "      <td>t1_cy7hhpq</td>\n",
       "      <td>https://www.reddit.com/r/relationships/comment...</td>\n",
       "      <td>Melodrama_</td>\n",
       "      <td>I just ended it. Apparently she wasn't a good ...</td>\n",
       "      <td>elaboration</td>\n",
       "      <td>False</td>\n",
       "      <td>2</td>\n",
       "      <td>t1_cy7etrr</td>\n",
       "      <td>positive</td>\n",
       "      <td>0.475000</td>\n",
       "    </tr>\n",
       "    <tr>\n",
       "      <th>4</th>\n",
       "      <td>relationships</td>\n",
       "      <td>My Friend/Crush [22/F] acting weird after I [2...</td>\n",
       "      <td>t1_cy7q0qg</td>\n",
       "      <td>https://www.reddit.com/r/relationships/comment...</td>\n",
       "      <td>TreatYoSelves</td>\n",
       "      <td>Good for you!  Make sure you stick with it.</td>\n",
       "      <td>appreciation</td>\n",
       "      <td>False</td>\n",
       "      <td>3</td>\n",
       "      <td>t1_cy7hhpq</td>\n",
       "      <td>positive</td>\n",
       "      <td>0.744444</td>\n",
       "    </tr>\n",
       "    <tr>\n",
       "      <th>...</th>\n",
       "      <td>...</td>\n",
       "      <td>...</td>\n",
       "      <td>...</td>\n",
       "      <td>...</td>\n",
       "      <td>...</td>\n",
       "      <td>...</td>\n",
       "      <td>...</td>\n",
       "      <td>...</td>\n",
       "      <td>...</td>\n",
       "      <td>...</td>\n",
       "      <td>...</td>\n",
       "      <td>...</td>\n",
       "    </tr>\n",
       "    <tr>\n",
       "      <th>12133</th>\n",
       "      <td>reddit.com</td>\n",
       "      <td>If I announced myself as God right now, would ...</td>\n",
       "      <td>t1_c1zpyd0</td>\n",
       "      <td>https://www.reddit.com/r/reddit.com/comments/h...</td>\n",
       "      <td></td>\n",
       "      <td>If you were God, you'd know whether we would b...</td>\n",
       "      <td>answer</td>\n",
       "      <td>False</td>\n",
       "      <td>1</td>\n",
       "      <td>t3_hzu51</td>\n",
       "      <td>neutral</td>\n",
       "      <td>0.000000</td>\n",
       "    </tr>\n",
       "    <tr>\n",
       "      <th>12134</th>\n",
       "      <td>reddit.com</td>\n",
       "      <td>If I announced myself as God right now, would ...</td>\n",
       "      <td>t1_c1zpz7m</td>\n",
       "      <td>https://www.reddit.com/r/reddit.com/comments/h...</td>\n",
       "      <td>TheCannon</td>\n",
       "      <td>If I check my account balance in 5 minutes and...</td>\n",
       "      <td>answer</td>\n",
       "      <td>False</td>\n",
       "      <td>1</td>\n",
       "      <td>t3_hzu51</td>\n",
       "      <td>neutral</td>\n",
       "      <td>0.000000</td>\n",
       "    </tr>\n",
       "    <tr>\n",
       "      <th>12135</th>\n",
       "      <td>reddit.com</td>\n",
       "      <td>If I announced myself as God right now, would ...</td>\n",
       "      <td>t1_c1zq0tl</td>\n",
       "      <td>https://www.reddit.com/r/reddit.com/comments/h...</td>\n",
       "      <td>alllie</td>\n",
       "      <td>I don't know. Can you heal the sick with a tou...</td>\n",
       "      <td>answer</td>\n",
       "      <td>False</td>\n",
       "      <td>1</td>\n",
       "      <td>t3_hzu51</td>\n",
       "      <td>negative</td>\n",
       "      <td>0.637202</td>\n",
       "    </tr>\n",
       "    <tr>\n",
       "      <th>12136</th>\n",
       "      <td>reddit.com</td>\n",
       "      <td>If I announced myself as God right now, would ...</td>\n",
       "      <td>t1_c1zq19j</td>\n",
       "      <td>https://www.reddit.com/r/reddit.com/comments/h...</td>\n",
       "      <td>TheCannon</td>\n",
       "      <td>... Give LeBron James a championship ring?</td>\n",
       "      <td>humor</td>\n",
       "      <td>False</td>\n",
       "      <td>2</td>\n",
       "      <td>t1_c1zq0tl</td>\n",
       "      <td>neutral</td>\n",
       "      <td>0.000000</td>\n",
       "    </tr>\n",
       "    <tr>\n",
       "      <th>12137</th>\n",
       "      <td>reddit.com</td>\n",
       "      <td>If I announced myself as God right now, would ...</td>\n",
       "      <td>t1_c1zqg1w</td>\n",
       "      <td>https://www.reddit.com/r/reddit.com/comments/h...</td>\n",
       "      <td>blueiiiis</td>\n",
       "      <td>Well, if you believed it, that'd be one</td>\n",
       "      <td>answer</td>\n",
       "      <td>False</td>\n",
       "      <td>1</td>\n",
       "      <td>t3_hzu51</td>\n",
       "      <td>neutral</td>\n",
       "      <td>0.000000</td>\n",
       "    </tr>\n",
       "  </tbody>\n",
       "</table>\n",
       "<p>12138 rows × 12 columns</p>\n",
       "</div>"
      ],
      "text/plain": [
       "           subreddit                                              title  \\\n",
       "0      relationships  My Friend/Crush [22/F] acting weird after I [2...   \n",
       "1      relationships  My Friend/Crush [22/F] acting weird after I [2...   \n",
       "2      relationships  My Friend/Crush [22/F] acting weird after I [2...   \n",
       "3      relationships  My Friend/Crush [22/F] acting weird after I [2...   \n",
       "4      relationships  My Friend/Crush [22/F] acting weird after I [2...   \n",
       "...              ...                                                ...   \n",
       "12133     reddit.com  If I announced myself as God right now, would ...   \n",
       "12134     reddit.com  If I announced myself as God right now, would ...   \n",
       "12135     reddit.com  If I announced myself as God right now, would ...   \n",
       "12136     reddit.com  If I announced myself as God right now, would ...   \n",
       "12137     reddit.com  If I announced myself as God right now, would ...   \n",
       "\n",
       "               id                                                url  \\\n",
       "0      t1_cy7f317  https://www.reddit.com/r/relationships/comment...   \n",
       "1      t1_cy7hlyf  https://www.reddit.com/r/relationships/comment...   \n",
       "2      t1_cy7etrr  https://www.reddit.com/r/relationships/comment...   \n",
       "3      t1_cy7hhpq  https://www.reddit.com/r/relationships/comment...   \n",
       "4      t1_cy7q0qg  https://www.reddit.com/r/relationships/comment...   \n",
       "...           ...                                                ...   \n",
       "12133  t1_c1zpyd0  https://www.reddit.com/r/reddit.com/comments/h...   \n",
       "12134  t1_c1zpz7m  https://www.reddit.com/r/reddit.com/comments/h...   \n",
       "12135  t1_c1zq0tl  https://www.reddit.com/r/reddit.com/comments/h...   \n",
       "12136  t1_c1zq19j  https://www.reddit.com/r/reddit.com/comments/h...   \n",
       "12137  t1_c1zqg1w  https://www.reddit.com/r/reddit.com/comments/h...   \n",
       "\n",
       "              author                                               body  \\\n",
       "0         Melodrama_                  It's a sad realization, isn't it?   \n",
       "1         Melodrama_  I told her a couple of minutes ago that I didn...   \n",
       "2      TreatYoSelves                  Leeches don't make good friends.    \n",
       "3         Melodrama_  I just ended it. Apparently she wasn't a good ...   \n",
       "4      TreatYoSelves       Good for you!  Make sure you stick with it.    \n",
       "...              ...                                                ...   \n",
       "12133                 If you were God, you'd know whether we would b...   \n",
       "12134      TheCannon  If I check my account balance in 5 minutes and...   \n",
       "12135         alllie  I don't know. Can you heal the sick with a tou...   \n",
       "12136      TheCannon         ... Give LeBron James a championship ring?   \n",
       "12137      blueiiiis            Well, if you believed it, that'd be one   \n",
       "\n",
       "      majority_type  is_first_post  post_depth in_reply_to sentiment.polarity  \\\n",
       "0                            False           2  t1_cy7erc5           negative   \n",
       "1       elaboration          False           2  t1_cy7erc5            neutral   \n",
       "2            answer          False           1   t3_3xshx9           positive   \n",
       "3       elaboration          False           2  t1_cy7etrr           positive   \n",
       "4      appreciation          False           3  t1_cy7hhpq           positive   \n",
       "...             ...            ...         ...         ...                ...   \n",
       "12133        answer          False           1    t3_hzu51            neutral   \n",
       "12134        answer          False           1    t3_hzu51            neutral   \n",
       "12135        answer          False           1    t3_hzu51           negative   \n",
       "12136         humor          False           2  t1_c1zq0tl            neutral   \n",
       "12137        answer          False           1    t3_hzu51            neutral   \n",
       "\n",
       "       sentiment.subjectivity  \n",
       "0                    1.000000  \n",
       "1                    0.483631  \n",
       "2                    0.600000  \n",
       "3                    0.475000  \n",
       "4                    0.744444  \n",
       "...                       ...  \n",
       "12133                0.000000  \n",
       "12134                0.000000  \n",
       "12135                0.637202  \n",
       "12136                0.000000  \n",
       "12137                0.000000  \n",
       "\n",
       "[12138 rows x 12 columns]"
      ]
     },
     "execution_count": 2,
     "metadata": {},
     "output_type": "execute_result"
    }
   ],
   "source": [
    "train_data"
   ]
  },
  {
   "cell_type": "markdown",
   "metadata": {},
   "source": [
    "### Q1: Use the text from the reddit posts (Known as “body”) to train classification models"
   ]
  },
  {
   "cell_type": "code",
   "execution_count": 3,
   "metadata": {
    "ExecuteTime": {
     "end_time": "2021-06-04T18:58:46.381829Z",
     "start_time": "2021-06-04T18:58:46.152930Z"
    },
    "id": "REvXkGRbdx0i",
    "scrolled": true
   },
   "outputs": [
    {
     "name": "stdout",
     "output_type": "stream",
     "text": [
      "-----------------------------\n",
      "category: negative\n",
      "0.07233481627945296\n",
      "----------------\n",
      "category: neutral\n",
      "0.6326412918108419\n",
      "----------------\n",
      "category: positive\n",
      "0.2661888284725655\n",
      "----------------\n",
      "category: very positive\n",
      "0.02084363157027517\n",
      "----------------\n",
      "category: very negative\n",
      "0.007991431866864393\n",
      "----------------\n",
      "-----------------------------\n",
      "category: very positive\n",
      "0.02348021871984561\n",
      "----------------\n",
      "category: neutral\n",
      "0.6307494371180444\n",
      "----------------\n",
      "category: positive\n",
      "0.2717915728530074\n",
      "----------------\n",
      "category: negative\n",
      "0.069154068832422\n",
      "----------------\n",
      "category: very negative\n",
      "0.004824702476680605\n",
      "----------------\n",
      "-----------------------------\n",
      "category: neutral\n",
      "0.625996015936255\n",
      "----------------\n",
      "category: positive\n",
      "0.274402390438247\n",
      "----------------\n",
      "category: very positive\n",
      "0.02141434262948207\n",
      "----------------\n",
      "category: negative\n",
      "0.07021912350597609\n",
      "----------------\n",
      "category: very negative\n",
      "0.00796812749003984\n",
      "----------------\n"
     ]
    }
   ],
   "source": [
    "# Your code here\n",
    "\n",
    "# Explore the distribution of sentiment polarity\n",
    "import collections\n",
    "import matplotlib.pyplot as plt\n",
    "\n",
    "total_data = [train_data, validation_data, test_data]\n",
    "for data in total_data:\n",
    "    print('-----------------------------')\n",
    "    label_counts = collections.Counter(data['sentiment.polarity'])\n",
    "    for label in label_counts:\n",
    "        print(\"category: \" + str(label))\n",
    "        print(label_counts[label] / len(data))\n",
    "        print('----------------')"
   ]
  },
  {
   "cell_type": "code",
   "execution_count": 4,
   "metadata": {
    "ExecuteTime": {
     "end_time": "2021-06-04T18:58:46.396061Z",
     "start_time": "2021-06-04T18:58:46.384426Z"
    }
   },
   "outputs": [],
   "source": [
    "# Create class labels\n",
    "\n",
    "def create_cate(string):\n",
    "    if string == 'very negative':\n",
    "        return 0\n",
    "    elif string == 'negative':\n",
    "        return 1\n",
    "    elif string == 'neutral':\n",
    "        return 2\n",
    "    elif string == 'positive':\n",
    "        return 3\n",
    "    elif string == 'very positive':\n",
    "        return 4\n",
    "train_data['cate'] = train_data['sentiment.polarity'].apply(create_cate)\n",
    "validation_data['cate'] = validation_data['sentiment.polarity'].apply(create_cate)\n",
    "test_data['cate'] = test_data['sentiment.polarity'].apply(create_cate)"
   ]
  },
  {
   "cell_type": "code",
   "execution_count": 5,
   "metadata": {
    "ExecuteTime": {
     "end_time": "2021-06-04T18:58:46.569586Z",
     "start_time": "2021-06-04T18:58:46.398431Z"
    }
   },
   "outputs": [
    {
     "data": {
      "text/plain": [
       "array([[<AxesSubplot:title={'center':'cate'}>]], dtype=object)"
      ]
     },
     "execution_count": 5,
     "metadata": {},
     "output_type": "execute_result"
    },
    {
     "data": {
      "image/png": "[encoded data removed]",
      "text/plain": [
       "<Figure size 576x396 with 1 Axes>"
      ]
     },
     "metadata": {},
     "output_type": "display_data"
    }
   ],
   "source": [
    "plt.style.use('seaborn')\n",
    "train_data.hist('cate')"
   ]
  },
  {
   "cell_type": "code",
   "execution_count": 6,
   "metadata": {
    "ExecuteTime": {
     "end_time": "2021-06-04T18:58:46.574264Z",
     "start_time": "2021-06-04T18:58:46.571425Z"
    }
   },
   "outputs": [],
   "source": [
    "# Save labels for future use\n",
    "\n",
    "train_labels = train_data['sentiment.polarity']\n",
    "validation_labels = validation_data['sentiment.polarity']\n",
    "test_labels = test_data['sentiment.polarity']"
   ]
  },
  {
   "cell_type": "code",
   "execution_count": 7,
   "metadata": {
    "ExecuteTime": {
     "end_time": "2021-06-04T18:58:47.654579Z",
     "start_time": "2021-06-04T18:58:46.576069Z"
    }
   },
   "outputs": [],
   "source": [
    "from sklearn.feature_extraction.text import CountVectorizer\n",
    "from sklearn.feature_extraction.text import TfidfVectorizer\n",
    "from sklearn.linear_model import LogisticRegression\n",
    "from sklearn.dummy import DummyClassifier\n",
    "from sklearn import svm\n",
    "from sklearn import metrics\n",
    "\n",
    "# One-hot vectorization\n",
    "onehot_vectorizer = CountVectorizer(binary=True)\n",
    "train_features = onehot_vectorizer.fit_transform(train_data['body'])\n",
    "validation_features = onehot_vectorizer.transform(validation_data['body'])\n",
    "test_features = onehot_vectorizer.transform(test_data['body'])\n"
   ]
  },
  {
   "cell_type": "code",
   "execution_count": 8,
   "metadata": {
    "ExecuteTime": {
     "end_time": "2021-06-04T18:58:47.722803Z",
     "start_time": "2021-06-04T18:58:47.659143Z"
    }
   },
   "outputs": [
    {
     "name": "stdout",
     "output_type": "stream",
     "text": [
      "0.6307494371180444\n",
      "               precision    recall  f1-score   support\n",
      "\n",
      "     negative      0.000     0.000     0.000         0\n",
      "      neutral      1.000     0.631     0.774      3109\n",
      "     positive      0.000     0.000     0.000         0\n",
      "very negative      0.000     0.000     0.000         0\n",
      "very positive      0.000     0.000     0.000         0\n",
      "\n",
      "     accuracy                          0.631      3109\n",
      "    macro avg      0.200     0.126     0.155      3109\n",
      " weighted avg      1.000     0.631     0.774      3109\n",
      "\n"
     ]
    }
   ],
   "source": [
    "# (a) Dummy Classifier with strategy=\"most_frequent\"\n",
    "\n",
    "dummy_mf = DummyClassifier(strategy='most_frequent')\n",
    "dummy_mf.fit(train_features, train_labels)\n",
    "print(dummy_mf.score(validation_features, validation_labels))\n",
    "print(metrics.classification_report(dummy_mf.predict(validation_features), validation_labels, digits=3, zero_division=0))\n"
   ]
  },
  {
   "cell_type": "code",
   "execution_count": 9,
   "metadata": {
    "ExecuteTime": {
     "end_time": "2021-06-04T18:58:47.804010Z",
     "start_time": "2021-06-04T18:58:47.725769Z"
    }
   },
   "outputs": [
    {
     "name": "stdout",
     "output_type": "stream",
     "text": [
      "0.49179800578964294\n",
      "               precision    recall  f1-score   support\n",
      "\n",
      "     negative      0.084     0.074     0.079       242\n",
      "      neutral      0.642     0.634     0.638      1984\n",
      "     positive      0.260     0.274     0.267       804\n",
      "very negative      0.000     0.000     0.000        27\n",
      "very positive      0.000     0.000     0.000        52\n",
      "\n",
      "     accuracy                          0.481      3109\n",
      "    macro avg      0.197     0.196     0.197      3109\n",
      " weighted avg      0.483     0.481     0.482      3109\n",
      "\n"
     ]
    }
   ],
   "source": [
    "# (b) Dummy Classifier with strategy=\"stratified\"\n",
    "\n",
    "dummy_prior = DummyClassifier(strategy='stratified')\n",
    "dummy_prior.fit(train_features, train_labels)\n",
    "print(dummy_prior.score(validation_features, validation_labels))\n",
    "print(metrics.classification_report(dummy_prior.predict(validation_features), validation_labels, digits=3, zero_division=0))\n"
   ]
  },
  {
   "cell_type": "code",
   "execution_count": 10,
   "metadata": {
    "ExecuteTime": {
     "end_time": "2021-06-04T18:58:56.301652Z",
     "start_time": "2021-06-04T18:58:47.805611Z"
    }
   },
   "outputs": [
    {
     "name": "stdout",
     "output_type": "stream",
     "text": [
      "               precision    recall  f1-score   support\n",
      "\n",
      "     negative      0.247     0.510     0.332       104\n",
      "      neutral      0.881     0.774     0.824      2232\n",
      "     positive      0.612     0.701     0.653       738\n",
      "very negative      0.133     0.400     0.200         5\n",
      "very positive      0.288     0.700     0.408        30\n",
      "\n",
      "     accuracy                          0.746      3109\n",
      "    macro avg      0.432     0.617     0.483      3109\n",
      " weighted avg      0.789     0.746     0.762      3109\n",
      "\n"
     ]
    }
   ],
   "source": [
    "# (c) LogisticRegression with One-hot vectorization\n",
    "\n",
    "lr = LogisticRegression(solver='saga', max_iter = 10000)\n",
    "lr_model = lr.fit(train_features, train_labels)\n",
    "print(metrics.classification_report(lr_model.predict(validation_features), validation_labels, digits=3, zero_division=0))"
   ]
  },
  {
   "cell_type": "code",
   "execution_count": 11,
   "metadata": {
    "ExecuteTime": {
     "end_time": "2021-06-04T18:59:48.475536Z",
     "start_time": "2021-06-04T18:58:56.304094Z"
    }
   },
   "outputs": [
    {
     "name": "stdout",
     "output_type": "stream",
     "text": [
      "               precision    recall  f1-score   support\n",
      "\n",
      "     negative      0.023     0.556     0.045         9\n",
      "      neutral      0.946     0.722     0.819      2570\n",
      "     positive      0.462     0.736     0.567       530\n",
      "very negative      0.000     0.000     0.000         0\n",
      "very positive      0.000     0.000     0.000         0\n",
      "\n",
      "     accuracy                          0.724      3109\n",
      "    macro avg      0.286     0.403     0.286      3109\n",
      " weighted avg      0.861     0.724     0.774      3109\n",
      "\n"
     ]
    }
   ],
   "source": [
    "# (e) SVC Classifier with One-hot vectorization (SVM with RBF kernel, default settings))\n",
    "svm_model = svm.SVC(kernel='rbf').fit(train_features, train_labels)\n",
    "print(metrics.classification_report(svm_model.predict(validation_features), validation_labels, digits=3, zero_division=0))"
   ]
  },
  {
   "cell_type": "code",
   "execution_count": 12,
   "metadata": {
    "ExecuteTime": {
     "end_time": "2021-06-04T18:59:49.080494Z",
     "start_time": "2021-06-04T18:59:48.477598Z"
    }
   },
   "outputs": [],
   "source": [
    "# TF-IDF vectorization\n",
    "# default setting\n",
    "tfidf_vectorizer = TfidfVectorizer()\n",
    "train_features = tfidf_vectorizer.fit_transform(train_data['body'])\n",
    "validation_features = tfidf_vectorizer.transform(validation_data['body'])\n",
    "test_features = tfidf_vectorizer.transform(test_data['body'])"
   ]
  },
  {
   "cell_type": "code",
   "execution_count": 13,
   "metadata": {
    "ExecuteTime": {
     "end_time": "2021-06-04T18:59:49.624320Z",
     "start_time": "2021-06-04T18:59:49.083497Z"
    }
   },
   "outputs": [
    {
     "name": "stdout",
     "output_type": "stream",
     "text": [
      "               precision    recall  f1-score   support\n",
      "\n",
      "     negative      0.084     0.581     0.146        31\n",
      "      neutral      0.938     0.732     0.823      2512\n",
      "     positive      0.482     0.731     0.581       557\n",
      "very negative      0.000     0.000     0.000         0\n",
      "very positive      0.096     0.778     0.171         9\n",
      "\n",
      "     accuracy                          0.731      3109\n",
      "    macro avg      0.320     0.564     0.344      3109\n",
      " weighted avg      0.846     0.731     0.771      3109\n",
      "\n"
     ]
    }
   ],
   "source": [
    "# (d) LogisticRegression with TF-IDF vectorization (default settings)\n",
    "\n",
    "lr = LogisticRegression(solver='saga', max_iter = 10000)\n",
    "lr_model = lr.fit(train_features, train_labels)\n",
    "lr_report = metrics.classification_report(lr_model.predict(validation_features), \n",
    "                                          validation_labels, digits=3, zero_division=0)\n",
    "# lr_avg_f1 = metrics.f1_score(lr_model.predict(validation_features), validation_labels, average='weighted')\n",
    "print(lr_report)"
   ]
  },
  {
   "cell_type": "code",
   "execution_count": 14,
   "metadata": {
    "ExecuteTime": {
     "end_time": "2021-06-04T19:01:10.052373Z",
     "start_time": "2021-06-04T18:59:49.626096Z"
    }
   },
   "outputs": [
    {
     "name": "stdout",
     "output_type": "stream",
     "text": [
      "               precision    recall  f1-score   support\n",
      "\n",
      "     negative      0.047     0.769     0.088        13\n",
      "      neutral      0.965     0.723     0.827      2616\n",
      "     positive      0.428     0.769     0.550       471\n",
      "very negative      0.000     0.000     0.000         0\n",
      "very positive      0.068     0.556     0.122         9\n",
      "\n",
      "     accuracy                          0.730      3109\n",
      "    macro avg      0.302     0.563     0.317      3109\n",
      " weighted avg      0.877     0.730     0.780      3109\n",
      "\n"
     ]
    }
   ],
   "source": [
    "# (f) An ‘interesting’ classifier model and vectorization of your choice with appropriate pre-processing\n",
    "# from sklearn.feature_extraction.text import HashingVectorizer\n",
    "# from sklearn.linear_model import SGDClassifier\n",
    "\n",
    "svm_model_2 = svm.SVC(kernel='rbf').fit(train_features, train_labels)\n",
    "print(metrics.classification_report(svm_model_2.predict(validation_features), validation_labels, digits=3, zero_division=0))"
   ]
  },
  {
   "cell_type": "code",
   "execution_count": 15,
   "metadata": {
    "ExecuteTime": {
     "end_time": "2021-06-04T19:01:10.061736Z",
     "start_time": "2021-06-04T19:01:10.054432Z"
    }
   },
   "outputs": [],
   "source": [
    "# Create a function to output all the results\n",
    "\n",
    "def evaluation_summary(vectorizer, classifier):\n",
    "#     apply different vectorizers\n",
    "    train_features = vectorizer.fit_transform(train_data['body'])\n",
    "    validation_features = vectorizer.transform(validation_data['body'])\n",
    "    test_features = vectorizer.transform(test_data['body'])\n",
    "#     fit classifier and make predictions on validation data\n",
    "    classifier.fit(train_features, train_labels)\n",
    "    pred_train = classifier.predict(validation_features)\n",
    "#     weighted average F1 score for training data\n",
    "    score_train = round(metrics.f1_score(pred_train, validation_labels, \n",
    "                                         average='weighted'), 3)\n",
    "    print(\"weighted avg F1 of training data:   %0.3f\" % score_train)\n",
    "#     accuracy and weighted average precision / recall\n",
    "    accuracy_train = metrics.accuracy_score(pred_train, validation_labels)\n",
    "    precision_train = metrics.precision_score(pred_train, validation_labels, average='weighted', zero_division=0)\n",
    "    recall_train = metrics.recall_score(pred_train, validation_labels, average='weighted', zero_division=0)\n",
    "    print(\"accuracy of training data:   %0.3f\" % accuracy_train)\n",
    "    print(\"weighted avg precision of training data:   %0.3f\" % precision_train)\n",
    "    print(\"weighted avg recall of training data:   %0.3f\" % recall_train)\n",
    "\n",
    "    print(\"classification report:\\n\", metrics.classification_report(pred_train,\n",
    "                                                    validation_labels,\n",
    "                                                    digits=3, zero_division=0))\n",
    "#     weighted average F1 score for test data\n",
    "    pred_test = classifier.predict(test_features)\n",
    "    score_test = round(metrics.f1_score(pred_test, test_labels, \n",
    "                                        average='weighted'), 3)\n",
    "    print(\"weighted avg F1 of test data:   %0.3f\" % score_test)\n",
    "    print(\"classification report:\\n\", metrics.classification_report(pred_test,\n",
    "                                                    test_labels,\n",
    "                                                    digits=3, zero_division=0))\n",
    "    accuracy_test = metrics.accuracy_score(pred_test, test_labels)\n",
    "    precision_test = metrics.precision_score(pred_test, test_labels, average='weighted', zero_division=0)\n",
    "    recall_test = metrics.recall_score(pred_test, test_labels, average='weighted', zero_division=0)\n",
    "    print(\"accuracy of test data:   %0.3f\" % accuracy_test)\n",
    "    print(\"weighted avg precision of test data:   %0.3f\" % precision_test)\n",
    "    print(\"weighted avg recall of test data:   %0.3f\" % recall_test)\n",
    "    return score_train, score_test"
   ]
  },
  {
   "cell_type": "code",
   "execution_count": 16,
   "metadata": {
    "ExecuteTime": {
     "end_time": "2021-06-04T19:01:11.298467Z",
     "start_time": "2021-06-04T19:01:10.063853Z"
    }
   },
   "outputs": [
    {
     "name": "stdout",
     "output_type": "stream",
     "text": [
      "weighted avg F1 of training data:   0.771\n",
      "accuracy of training data:   0.731\n",
      "weighted avg precision of training data:   0.846\n",
      "weighted avg recall of training data:   0.731\n",
      "classification report:\n",
      "                precision    recall  f1-score   support\n",
      "\n",
      "     negative      0.084     0.581     0.146        31\n",
      "      neutral      0.938     0.732     0.823      2512\n",
      "     positive      0.482     0.731     0.581       557\n",
      "very negative      0.000     0.000     0.000         0\n",
      "very positive      0.096     0.778     0.171         9\n",
      "\n",
      "     accuracy                          0.731      3109\n",
      "    macro avg      0.320     0.564     0.344      3109\n",
      " weighted avg      0.846     0.731     0.771      3109\n",
      "\n",
      "weighted avg F1 of test data:   0.779\n",
      "classification report:\n",
      "                precision    recall  f1-score   support\n",
      "\n",
      "     negative      0.092     0.619     0.160        42\n",
      "      neutral      0.945     0.736     0.827      3227\n",
      "     positive      0.508     0.760     0.609       737\n",
      "very negative      0.000     0.000     0.000         0\n",
      "very positive      0.093     0.800     0.167        10\n",
      "\n",
      "     accuracy                          0.739      4016\n",
      "    macro avg      0.328     0.583     0.353      4016\n",
      " weighted avg      0.854     0.739     0.779      4016\n",
      "\n",
      "accuracy of test data:   0.739\n",
      "weighted avg precision of test data:   0.854\n",
      "weighted avg recall of test data:   0.739\n"
     ]
    },
    {
     "data": {
      "text/plain": [
       "(0.771, 0.779)"
      ]
     },
     "execution_count": 16,
     "metadata": {},
     "output_type": "execute_result"
    }
   ],
   "source": [
    "# test of the function\n",
    "evaluation_summary(tfidf_vectorizer, lr)"
   ]
  },
  {
   "cell_type": "code",
   "execution_count": 17,
   "metadata": {
    "ExecuteTime": {
     "end_time": "2021-06-04T19:02:16.821907Z",
     "start_time": "2021-06-04T19:01:11.300095Z"
    },
    "scrolled": true
   },
   "outputs": [
    {
     "name": "stdout",
     "output_type": "stream",
     "text": [
      "==================================================\n",
      "Dummy Classifier with strategy='most_frequent'\n",
      "weighted avg F1 of training data:   0.774\n",
      "accuracy of training data:   0.631\n",
      "weighted avg precision of training data:   1.000\n",
      "weighted avg recall of training data:   0.631\n",
      "classification report:\n",
      "                precision    recall  f1-score   support\n",
      "\n",
      "     negative      0.000     0.000     0.000         0\n",
      "      neutral      1.000     0.631     0.774      3109\n",
      "     positive      0.000     0.000     0.000         0\n",
      "very negative      0.000     0.000     0.000         0\n",
      "very positive      0.000     0.000     0.000         0\n",
      "\n",
      "     accuracy                          0.631      3109\n",
      "    macro avg      0.200     0.126     0.155      3109\n",
      " weighted avg      1.000     0.631     0.774      3109\n",
      "\n",
      "weighted avg F1 of test data:   0.770\n",
      "classification report:\n",
      "                precision    recall  f1-score   support\n",
      "\n",
      "     negative      0.000     0.000     0.000         0\n",
      "      neutral      1.000     0.626     0.770      4016\n",
      "     positive      0.000     0.000     0.000         0\n",
      "very negative      0.000     0.000     0.000         0\n",
      "very positive      0.000     0.000     0.000         0\n",
      "\n",
      "     accuracy                          0.626      4016\n",
      "    macro avg      0.200     0.125     0.154      4016\n",
      " weighted avg      1.000     0.626     0.770      4016\n",
      "\n",
      "accuracy of test data:   0.626\n",
      "weighted avg precision of test data:   1.000\n",
      "weighted avg recall of test data:   0.626\n",
      "==================================================\n",
      "Dummy Classifier with strategy='stratified'\n",
      "weighted avg F1 of training data:   0.470\n",
      "accuracy of training data:   0.468\n",
      "weighted avg precision of training data:   0.471\n",
      "weighted avg recall of training data:   0.468\n",
      "classification report:\n",
      "                precision    recall  f1-score   support\n",
      "\n",
      "     negative      0.056     0.054     0.055       221\n",
      "      neutral      0.631     0.623     0.627      1987\n",
      "     positive      0.245     0.255     0.250       813\n",
      "very negative      0.000     0.000     0.000        22\n",
      "very positive      0.000     0.000     0.000        66\n",
      "\n",
      "     accuracy                          0.468      3109\n",
      "    macro avg      0.186     0.186     0.186      3109\n",
      " weighted avg      0.471     0.468     0.470      3109\n",
      "\n",
      "weighted avg F1 of test data:   0.477\n",
      "classification report:\n",
      "                precision    recall  f1-score   support\n",
      "\n",
      "     negative      0.092     0.092     0.092       282\n",
      "      neutral      0.638     0.621     0.629      2586\n",
      "     positive      0.244     0.258     0.251      1043\n",
      "very negative      0.031     0.033     0.032        30\n",
      "very positive      0.012     0.013     0.012        75\n",
      "\n",
      "     accuracy                          0.474      4016\n",
      "    macro avg      0.204     0.203     0.203      4016\n",
      " weighted avg      0.481     0.474     0.477      4016\n",
      "\n",
      "accuracy of test data:   0.474\n",
      "weighted avg precision of test data:   0.481\n",
      "weighted avg recall of test data:   0.474\n",
      "==================================================\n",
      "LogisticRegression with One-hot vectorization\n",
      "weighted avg F1 of training data:   0.771\n",
      "accuracy of training data:   0.751\n",
      "weighted avg precision of training data:   0.806\n",
      "weighted avg recall of training data:   0.751\n",
      "classification report:\n",
      "                precision    recall  f1-score   support\n",
      "\n",
      "     negative      0.233     0.581     0.332        86\n",
      "      neutral      0.900     0.769     0.829      2295\n",
      "     positive      0.593     0.717     0.649       699\n",
      "very negative      0.067     0.500     0.118         2\n",
      "very positive      0.260     0.704     0.380        27\n",
      "\n",
      "     accuracy                          0.751      3109\n",
      "    macro avg      0.410     0.654     0.462      3109\n",
      " weighted avg      0.806     0.751     0.771      3109\n",
      "\n",
      "weighted avg F1 of test data:   0.771\n",
      "classification report:\n",
      "                precision    recall  f1-score   support\n",
      "\n",
      "     negative      0.220     0.488     0.303       127\n",
      "      neutral      0.893     0.774     0.829      2900\n",
      "     positive      0.627     0.728     0.674       949\n",
      "very negative      0.094     0.750     0.167         4\n",
      "very positive      0.233     0.556     0.328        36\n",
      "\n",
      "     accuracy                          0.752      4016\n",
      "    macro avg      0.413     0.659     0.460      4016\n",
      " weighted avg      0.802     0.752     0.771      4016\n",
      "\n",
      "accuracy of test data:   0.752\n",
      "weighted avg precision of test data:   0.802\n",
      "weighted avg recall of test data:   0.752\n",
      "==================================================\n",
      "LogisticRegression with TF-IDF vectorization\n",
      "weighted avg F1 of training data:   0.771\n",
      "accuracy of training data:   0.731\n",
      "weighted avg precision of training data:   0.846\n",
      "weighted avg recall of training data:   0.731\n",
      "classification report:\n",
      "                precision    recall  f1-score   support\n",
      "\n",
      "     negative      0.084     0.581     0.146        31\n",
      "      neutral      0.938     0.732     0.823      2512\n",
      "     positive      0.482     0.731     0.581       557\n",
      "very negative      0.000     0.000     0.000         0\n",
      "very positive      0.096     0.778     0.171         9\n",
      "\n",
      "     accuracy                          0.731      3109\n",
      "    macro avg      0.320     0.564     0.344      3109\n",
      " weighted avg      0.846     0.731     0.771      3109\n",
      "\n",
      "weighted avg F1 of test data:   0.779\n",
      "classification report:\n",
      "                precision    recall  f1-score   support\n",
      "\n",
      "     negative      0.092     0.619     0.160        42\n",
      "      neutral      0.945     0.736     0.827      3227\n",
      "     positive      0.508     0.760     0.609       737\n",
      "very negative      0.000     0.000     0.000         0\n",
      "very positive      0.093     0.800     0.167        10\n",
      "\n",
      "     accuracy                          0.739      4016\n",
      "    macro avg      0.328     0.583     0.353      4016\n",
      " weighted avg      0.854     0.739     0.779      4016\n",
      "\n",
      "accuracy of test data:   0.739\n",
      "weighted avg precision of test data:   0.854\n",
      "weighted avg recall of test data:   0.739\n",
      "==================================================\n",
      "SVC Classifier with One-hot vectorization\n",
      "weighted avg F1 of training data:   0.774\n",
      "accuracy of training data:   0.724\n",
      "weighted avg precision of training data:   0.861\n",
      "weighted avg recall of training data:   0.724\n",
      "classification report:\n",
      "                precision    recall  f1-score   support\n",
      "\n",
      "     negative      0.023     0.556     0.045         9\n",
      "      neutral      0.946     0.722     0.819      2570\n",
      "     positive      0.462     0.736     0.567       530\n",
      "very negative      0.000     0.000     0.000         0\n",
      "very positive      0.000     0.000     0.000         0\n",
      "\n",
      "     accuracy                          0.724      3109\n",
      "    macro avg      0.286     0.403     0.286      3109\n",
      " weighted avg      0.861     0.724     0.774      3109\n",
      "\n",
      "weighted avg F1 of test data:   0.781\n",
      "classification report:\n",
      "                precision    recall  f1-score   support\n",
      "\n",
      "     negative      0.014     0.800     0.028         5\n",
      "      neutral      0.957     0.720     0.822      3343\n",
      "     positive      0.466     0.769     0.581       668\n",
      "very negative      0.000     0.000     0.000         0\n",
      "very positive      0.000     0.000     0.000         0\n",
      "\n",
      "     accuracy                          0.728      4016\n",
      "    macro avg      0.288     0.458     0.286      4016\n",
      " weighted avg      0.874     0.728     0.781      4016\n",
      "\n",
      "accuracy of test data:   0.728\n",
      "weighted avg precision of test data:   0.874\n",
      "weighted avg recall of test data:   0.728\n"
     ]
    }
   ],
   "source": [
    "import warnings\n",
    "warnings.filterwarnings('ignore')\n",
    "\n",
    "results = []\n",
    "for vectorizer, classifier, name in (\n",
    "    (CountVectorizer(binary=True), DummyClassifier(strategy='most_frequent'),\n",
    "     \"Dummy Classifier with strategy='most_frequent'\"),\n",
    "    (CountVectorizer(binary=True), DummyClassifier(strategy='stratified'),\n",
    "     \"Dummy Classifier with strategy='stratified'\"),\n",
    "    (CountVectorizer(binary=True), LogisticRegression(solver='saga'),\n",
    "     \"LogisticRegression with One-hot vectorization\"),\n",
    "    (TfidfVectorizer(), LogisticRegression(solver='saga'),\n",
    "     \"LogisticRegression with TF-IDF vectorization\"),\n",
    "    (CountVectorizer(binary=True), svm.SVC(kernel='rbf'), \n",
    "     \"SVC Classifier with One-hot vectorization\")):\n",
    "    print('=' * 50)\n",
    "    print(name)\n",
    "    results.append((evaluation_summary(vectorizer, classifier), name))"
   ]
  },
  {
   "cell_type": "code",
   "execution_count": 18,
   "metadata": {
    "ExecuteTime": {
     "end_time": "2021-06-04T19:02:16.828641Z",
     "start_time": "2021-06-04T19:02:16.824484Z"
    }
   },
   "outputs": [
    {
     "name": "stdout",
     "output_type": "stream",
     "text": [
      "The best performing classifier is: SVC Classifier with One-hot vectorization,\n",
      "        its weighted average F1 score on test data is 0.781.\n"
     ]
    }
   ],
   "source": [
    "# highlight the best performance\n",
    "\n",
    "test_weighted_f1 = 0\n",
    "best_performance_clf = ''\n",
    "for (score_train, score_test), name in results:\n",
    "    if score_test > test_weighted_f1:\n",
    "        test_weighted_f1 = score_test\n",
    "        best_performance_clf = name\n",
    "print ('''The best performing classifier is: %s,\n",
    "        its weighted average F1 score on test data is %0.3f.''' % (best_performance_clf, test_weighted_f1))"
   ]
  },
  {
   "cell_type": "code",
   "execution_count": 19,
   "metadata": {
    "ExecuteTime": {
     "end_time": "2021-06-04T19:03:36.810544Z",
     "start_time": "2021-06-04T19:02:16.830628Z"
    }
   },
   "outputs": [],
   "source": [
    "# compute the F1 score for each class\n",
    "\n",
    "from sklearn.metrics import fbeta_score\n",
    "\n",
    "# hash_vectorizer = HashingVectorizer()\n",
    "train_features = tfidf_vectorizer.fit_transform(train_data['body'])\n",
    "validation_features = tfidf_vectorizer.transform(validation_data['body'])\n",
    "test_features = tfidf_vectorizer.transform(test_data['body'])\n",
    "\n",
    "svm_model = svm.SVC(kernel='rbf').fit(train_features, train_labels)\n",
    "pred = svm_model.predict(test_features)\n"
   ]
  },
  {
   "cell_type": "code",
   "execution_count": 20,
   "metadata": {
    "ExecuteTime": {
     "end_time": "2021-06-04T19:03:36.953938Z",
     "start_time": "2021-06-04T19:03:36.812597Z"
    }
   },
   "outputs": [
    {
     "data": {
      "text/plain": [
       "<matplotlib.legend.Legend at 0x7ffcc81c1910>"
      ]
     },
     "execution_count": 20,
     "metadata": {},
     "output_type": "execute_result"
    },
    {
     "data": {
      "image/png": "[encoded data removed]",
      "text/plain": [
       "<Figure size 576x396 with 1 Axes>"
      ]
     },
     "metadata": {},
     "output_type": "display_data"
    }
   ],
   "source": [
    "# a bar chart graph with the F1 score for each class\n",
    "# sentiment polarity labels on x-axis, F1 score on Y axis\n",
    "plt.style.use('seaborn')\n",
    "\n",
    "f1 = fbeta_score(pred, test_labels, beta=1, average=None)\n",
    "senti_pol_label = ['negative', 'neutral', 'positive', 'very negative', 'very positive']\n",
    "plt.title(\"F1 score(each class) for the best performing classifier\")\n",
    "plt.bar(senti_pol_label, f1, label='F1 score')\n",
    "plt.legend(loc='best')"
   ]
  },
  {
   "cell_type": "markdown",
   "metadata": {},
   "source": [
    "### Q2: Improve the effectiveness of the LogisticRegression with TF-IDF vectorization from Q1"
   ]
  },
  {
   "cell_type": "code",
   "execution_count": 21,
   "metadata": {
    "ExecuteTime": {
     "end_time": "2021-06-04T19:03:37.694517Z",
     "start_time": "2021-06-04T19:03:36.956149Z"
    }
   },
   "outputs": [
    {
     "name": "stdout",
     "output_type": "stream",
     "text": [
      "weighted avg F1 of training data:   0.474\n",
      "accuracy of training data:   0.474\n",
      "weighted avg precision of training data:   0.473\n",
      "weighted avg recall of training data:   0.474\n",
      "classification report:\n",
      "                precision    recall  f1-score   support\n",
      "\n",
      "     negative      0.107     0.100     0.104       229\n",
      "      neutral      0.629     0.632     0.630      1952\n",
      "     positive      0.259     0.259     0.259       847\n",
      "very negative      0.000     0.000     0.000        22\n",
      "very positive      0.000     0.000     0.000        59\n",
      "\n",
      "     accuracy                          0.474      3109\n",
      "    macro avg      0.199     0.198     0.199      3109\n",
      " weighted avg      0.473     0.474     0.474      3109\n",
      "\n",
      "weighted avg F1 of test data:   0.467\n",
      "classification report:\n",
      "                precision    recall  f1-score   support\n",
      "\n",
      "     negative      0.074     0.072     0.073       292\n",
      "      neutral      0.617     0.625     0.621      2483\n",
      "     positive      0.283     0.283     0.283      1103\n",
      "very negative      0.000     0.000     0.000        28\n",
      "very positive      0.012     0.009     0.010       110\n",
      "\n",
      "     accuracy                          0.470      4016\n",
      "    macro avg      0.197     0.198     0.198      4016\n",
      " weighted avg      0.465     0.470     0.467      4016\n",
      "\n",
      "accuracy of test data:   0.470\n",
      "weighted avg precision of test data:   0.465\n",
      "weighted avg recall of test data:   0.470\n"
     ]
    },
    {
     "data": {
      "text/plain": [
       "(0.474, 0.467)"
      ]
     },
     "execution_count": 21,
     "metadata": {},
     "output_type": "execute_result"
    }
   ],
   "source": [
    "# baseline\n",
    "\n",
    "evaluation_summary(TfidfVectorizer(), DummyClassifier(strategy='stratified'))"
   ]
  },
  {
   "cell_type": "code",
   "execution_count": 22,
   "metadata": {
    "ExecuteTime": {
     "end_time": "2021-06-04T19:03:37.705304Z",
     "start_time": "2021-06-04T19:03:37.696575Z"
    }
   },
   "outputs": [],
   "source": [
    "from sklearn.pipeline import Pipeline\n",
    "from sklearn.model_selection import GridSearchCV\n",
    "\n",
    "def tune(vectorizer, classifier):\n",
    "    params = {\n",
    "        \"preprocessor__sublinear_tf\": ('True', 'False'),\n",
    "        \"preprocessor__max_features\": [None, 5000, 10000, 25000],\n",
    "        \"classifier__C\": [1, 10],\n",
    "        \"classifier__max_iter\": [5000, 8000]\n",
    "    }\n",
    "    \n",
    "    pipe = Pipeline([('preprocessor', vectorizer),\n",
    "                     ('classifier', classifier)])\n",
    "    grid_search = GridSearchCV(pipe, verbose=1, param_grid=params, n_jobs=-1, \n",
    "                               scoring='f1_macro', cv=2)\n",
    "    print(\"Performing grid search...\")\n",
    "    print(\"pipeline:\", [name for name, _ in pipe.steps])\n",
    "    print(\"parameters:\")\n",
    "    print(params)\n",
    "\n",
    "    grid_search.fit(train_data['body'], train_labels)\n",
    "\n",
    "    print(\"Best score: %0.3f\" % grid_search.best_score_)\n",
    "    print(\"Best parameters set:\")\n",
    "    best_parameters = grid_search.best_estimator_.get_params()\n",
    "    for param_name in sorted(params.keys()):\n",
    "        print(\"\\t%s: %r\" % (param_name, best_parameters[param_name]))\n",
    "    return best_parameters"
   ]
  },
  {
   "cell_type": "code",
   "execution_count": 23,
   "metadata": {
    "ExecuteTime": {
     "end_time": "2021-06-04T19:04:21.401059Z",
     "start_time": "2021-06-04T19:03:37.710308Z"
    },
    "scrolled": true
   },
   "outputs": [
    {
     "name": "stdout",
     "output_type": "stream",
     "text": [
      "Performing grid search...\n",
      "pipeline: ['preprocessor', 'classifier']\n",
      "parameters:\n",
      "{'preprocessor__sublinear_tf': ('True', 'False'), 'preprocessor__max_features': [None, 5000, 10000, 25000], 'classifier__C': [1, 10], 'classifier__max_iter': [5000, 8000]}\n",
      "Fitting 2 folds for each of 32 candidates, totalling 64 fits\n"
     ]
    },
    {
     "name": "stderr",
     "output_type": "stream",
     "text": [
      "[Parallel(n_jobs=-1)]: Using backend LokyBackend with 8 concurrent workers.\n",
      "[Parallel(n_jobs=-1)]: Done  34 tasks      | elapsed:   19.4s\n",
      "[Parallel(n_jobs=-1)]: Done  64 out of  64 | elapsed:   40.4s finished\n"
     ]
    },
    {
     "name": "stdout",
     "output_type": "stream",
     "text": [
      "Best score: 0.436\n",
      "Best parameters set:\n",
      "\tclassifier__C: 10\n",
      "\tclassifier__max_iter: 5000\n",
      "\tpreprocessor__max_features: 5000\n",
      "\tpreprocessor__sublinear_tf: 'True'\n"
     ]
    },
    {
     "data": {
      "text/plain": [
       "{'memory': None,\n",
       " 'steps': [('preprocessor',\n",
       "   TfidfVectorizer(max_features=5000, sublinear_tf='True')),\n",
       "  ('classifier', LogisticRegression(C=10, max_iter=5000))],\n",
       " 'verbose': False,\n",
       " 'preprocessor': TfidfVectorizer(max_features=5000, sublinear_tf='True'),\n",
       " 'classifier': LogisticRegression(C=10, max_iter=5000),\n",
       " 'preprocessor__analyzer': 'word',\n",
       " 'preprocessor__binary': False,\n",
       " 'preprocessor__decode_error': 'strict',\n",
       " 'preprocessor__dtype': numpy.float64,\n",
       " 'preprocessor__encoding': 'utf-8',\n",
       " 'preprocessor__input': 'content',\n",
       " 'preprocessor__lowercase': True,\n",
       " 'preprocessor__max_df': 1.0,\n",
       " 'preprocessor__max_features': 5000,\n",
       " 'preprocessor__min_df': 1,\n",
       " 'preprocessor__ngram_range': (1, 1),\n",
       " 'preprocessor__norm': 'l2',\n",
       " 'preprocessor__preprocessor': None,\n",
       " 'preprocessor__smooth_idf': True,\n",
       " 'preprocessor__stop_words': None,\n",
       " 'preprocessor__strip_accents': None,\n",
       " 'preprocessor__sublinear_tf': 'True',\n",
       " 'preprocessor__token_pattern': '(?u)\\\\b\\\\w\\\\w+\\\\b',\n",
       " 'preprocessor__tokenizer': None,\n",
       " 'preprocessor__use_idf': True,\n",
       " 'preprocessor__vocabulary': None,\n",
       " 'classifier__C': 10,\n",
       " 'classifier__class_weight': None,\n",
       " 'classifier__dual': False,\n",
       " 'classifier__fit_intercept': True,\n",
       " 'classifier__intercept_scaling': 1,\n",
       " 'classifier__l1_ratio': None,\n",
       " 'classifier__max_iter': 5000,\n",
       " 'classifier__multi_class': 'auto',\n",
       " 'classifier__n_jobs': None,\n",
       " 'classifier__penalty': 'l2',\n",
       " 'classifier__random_state': None,\n",
       " 'classifier__solver': 'lbfgs',\n",
       " 'classifier__tol': 0.0001,\n",
       " 'classifier__verbose': 0,\n",
       " 'classifier__warm_start': False}"
      ]
     },
     "execution_count": 23,
     "metadata": {},
     "output_type": "execute_result"
    }
   ],
   "source": [
    "# tune the parameters\n",
    "tune(TfidfVectorizer(), LogisticRegression())"
   ]
  },
  {
   "cell_type": "code",
   "execution_count": 24,
   "metadata": {
    "ExecuteTime": {
     "end_time": "2021-06-04T19:04:25.065435Z",
     "start_time": "2021-06-04T19:04:21.405051Z"
    }
   },
   "outputs": [
    {
     "name": "stdout",
     "output_type": "stream",
     "text": [
      "               precision    recall  f1-score   support\n",
      "\n",
      "     negative      0.316     0.578     0.408       154\n",
      "      neutral      0.881     0.797     0.837      2782\n",
      "     positive      0.672     0.716     0.693      1034\n",
      "very negative      0.250     0.667     0.364        12\n",
      "very positive      0.209     0.529     0.300        34\n",
      "\n",
      "     accuracy                          0.765      4016\n",
      "    macro avg      0.466     0.657     0.520      4016\n",
      " weighted avg      0.798     0.765     0.777      4016\n",
      "\n"
     ]
    }
   ],
   "source": [
    "# result on test data\n",
    "\n",
    "preprocessor = TfidfVectorizer(sublinear_tf=True, max_features=5000)\n",
    "\n",
    "pipe = Pipeline([('preprocessor', preprocessor),\n",
    "                 ('classifier', LogisticRegression(C=10, max_iter=5000))])\n",
    "pipe.fit(train_data['body'], train_labels)\n",
    "pipe_pred = pipe.predict(test_data['body'])\n",
    "print(metrics.classification_report(pipe_pred, test_labels, digits=3))"
   ]
  },
  {
   "cell_type": "code",
   "execution_count": 25,
   "metadata": {
    "ExecuteTime": {
     "end_time": "2021-06-04T19:04:25.074688Z",
     "start_time": "2021-06-04T19:04:25.067950Z"
    }
   },
   "outputs": [],
   "source": [
    "# Manually examine the predictions of your optimised classifier on the test set\n",
    "\n",
    "pipe_result = pd.DataFrame()\n",
    "pipe_result['content'] = test_data['body']\n",
    "pipe_result['prediction'] = pipe_pred\n",
    "pipe_result['label'] = test_labels"
   ]
  },
  {
   "cell_type": "code",
   "execution_count": 26,
   "metadata": {
    "ExecuteTime": {
     "end_time": "2021-06-04T19:04:25.086519Z",
     "start_time": "2021-06-04T19:04:25.077441Z"
    }
   },
   "outputs": [
    {
     "data": {
      "text/plain": [
       "positive         362\n",
       "neutral          298\n",
       "negative         193\n",
       "very positive     68\n",
       "very negative     24\n",
       "Name: label, dtype: int64"
      ]
     },
     "execution_count": 26,
     "metadata": {},
     "output_type": "execute_result"
    }
   ],
   "source": [
    "mismatch = pipe_result[pipe_result['prediction'] != pipe_result['label']]\n",
    "mismatch['label'].value_counts()"
   ]
  },
  {
   "cell_type": "code",
   "execution_count": 28,
   "metadata": {
    "ExecuteTime": {
     "end_time": "2021-06-04T19:04:42.081709Z",
     "start_time": "2021-06-04T19:04:42.065805Z"
    }
   },
   "outputs": [
    {
     "name": "stdout",
     "output_type": "stream",
     "text": [
      "==================================================\n",
      "prediction distribution when label =  negative\n",
      "neutral          182\n",
      "positive           7\n",
      "very negative      3\n",
      "very positive      1\n",
      "Name: prediction, dtype: int64\n",
      "==================================================\n",
      "prediction distribution when label =  neutral\n",
      "positive         237\n",
      "negative          54\n",
      "very positive      6\n",
      "very negative      1\n",
      "Name: prediction, dtype: int64\n",
      "==================================================\n",
      "prediction distribution when label =  positive\n",
      "neutral          350\n",
      "very positive      9\n",
      "negative           3\n",
      "Name: prediction, dtype: int64\n",
      "==================================================\n",
      "prediction distribution when label =  very negative\n",
      "neutral     16\n",
      "negative     8\n",
      "Name: prediction, dtype: int64\n",
      "==================================================\n",
      "prediction distribution when label =  very positive\n",
      "positive    50\n",
      "neutral     18\n",
      "Name: prediction, dtype: int64\n"
     ]
    }
   ],
   "source": [
    "for label in senti_pol_label:\n",
    "    print('=' * 50)\n",
    "    print(\"prediction distribution when label = \", label)\n",
    "    print(mismatch[mismatch['label'] == label]['prediction'].value_counts())"
   ]
  },
  {
   "cell_type": "code",
   "execution_count": 29,
   "metadata": {
    "ExecuteTime": {
     "end_time": "2021-06-04T19:04:47.077330Z",
     "start_time": "2021-06-04T19:04:47.059377Z"
    }
   },
   "outputs": [
    {
     "data": {
      "text/plain": [
       "[\"Superman has a healing factor that is arguably better than Deadpool's since he doesn't leave scars. But why the hell would Superman need to heal from bullets and explosions the way Deadpool does? He's freaking Superman! I guess nothing changes.\",\n",
       " 'That happens a lot. Regular-Superman heals from Kryptonite stabbing/shooting/beatings beams pretty quickly after the rock is removed from his body. His healing factor is grossly underestimated on this subreddit.',\n",
       " \"Healing factor as in wound healing (including dismemberment and the like) or complete regeneration of life?\\n\\nIf its the latter, than Rai is almost unstoppable, if he can use his powers without worrying about draining his life\\n\\nIf it's the former, then a good boost, but he was practically untouchable to begin with\",\n",
       " 'On a beach someplace warm and far away from anybody else. ',\n",
       " \"Some people do, and some people don't regardless of their weight or level of fitness. I've heard some people say that they get a self-sustaining adrenaline rush from exercise, but I know plenty of others for whom it just gets to be more and more of a pain.\",\n",
       " \"I don't do well running.  I am not enjoying myself the entire time.  On the other hand biking I quite enjoy.\\n\\nI think its just a matter of finding what works for you.  Instead of static weight lifting I also do kettlebell workouts because they feel more engaging to me.\",\n",
       " 'Thanks :)  I will go through some of my old book records and see if I can hit this for you.  Might also be worth your contacting the Bibliothèque nationale de France - one copy of all books published in France have to be deposited there by law, iirc.',\n",
       " 'It should come out at the same temperature as your body.  The question is, how do you know it is warm?  :)',\n",
       " 'because your body is warm and the pee lives inside your body until you let it out.',\n",
       " 'The cheapest one. really.',\n",
       " 'One more thing,  I read here that z97 will work on the next generation Intel chips, is that true? ',\n",
       " 'Loving deeply his or her material. ',\n",
       " 'Inspirational.',\n",
       " 'The first line reminded me of [this song](http://www.youtube.com/watch?v=0HNF2gqokP8).',\n",
       " \"Seriously. Don't be apologetic about this. You offer great product, and great service. I'll still be buying. Your previous price was ridiculous.\\n\\nI'd also like to add myself to the chorus of people who desire bigger bottles. Pillar would be easily worth a 150 or 250ml purchase for me. It is wonderful.\",\n",
       " 'So much this. A friend and I were just saying we wanted a 150 or 250 ml bottle of some of the juice. Sinners cider and that root beer. Mmmmmmmm',\n",
       " \"Im totally cool with the price raise, i figured it'd only be a matter of time before y'all had to do this, and for the quality of the juice and packaging $15/30ml is still a great deal imo compared to other companies. \",\n",
       " 'These guys are in my top 3 vendors.  Make sure you try Pilar(key lime pie) and Bavarian Cream.\\n\\nThese are the only juices I try to always keep on stock.',\n",
       " 'Completely reasonable considering the quality of your juice and packaging!',\n",
       " 'For the quality you guys offer, this is still well worth it. ',\n",
       " \"I can certainly work with those hours.  Monday-Friday I'm assuming?\",\n",
       " \"And if I leave my contributions there, I will be taxed on the gains. So there's no hefty fine for having an HSA while using Medicaid?\",\n",
       " '6% excise tax on the excess contributions amount (not just the \"gains\"), every year, until you remove them. I think that\\'s a hefty \"fine.\" Would you pay the fee of an investment adviser who charged you 6% of the assets under investment every year?',\n",
       " 'I did originally have an HDHP when I started my HSA. And I still have the HDHP.',\n",
       " 'You learn something new every day. :D',\n",
       " \"Learn to cook healthy foods. They cost less contrary to popular opinion. Drink cheap beer. Don't use public transport if you can walk for 30 minutes. Share a house with someone if you are living alone. \",\n",
       " 'Thank you, at the moment this is what I most comfortable with. My partner also thinks this is just a way for my ex to find a way back into having influence over me, as I have ignored over 5+ messages and they still keep coming.',\n",
       " '\"Live a good life, if there are gods and they are just, then they will not care how devout you have been, but will welcome you based on the virtues you have lived by. If there are gods but they are unjust then you should not want to worship them. If there are no gods, then you will be gone, but you will have lived a noble life that will live on in the memories of your loved ones.\" -Marcus Aurelius',\n",
       " 'ok so i didnt see this msg. it is listed but doesnt have a letter. what do i do from here? my googling tells me something about creating partitions or volumes, which i assume would cause me to lose the data on the disk. ',\n",
       " \"Yeah don't go messing with the partition or format.  All you need to do is right click the device, change drive letter, add, and select any one you want.  If that was the only issue then it should be accessible in Explorer.\",\n",
       " \"[Here is a visual 1-10 scale](http://www.returnofkings.com/wp-content/uploads/2013/08/pictorialscale.jpg) you can see here the effect on diminishing returns as you move closer to 10. 6s are attractive enough. The space differential between 1 and 4 is much greater than 6 and 10. You wouldn't hit a pair of 6s?\",\n",
       " \"I'd take the 10 because if I think she's a 10, then I could actually pursue a lasting relationship with her. I don't think two 6's would feel very good about trying to stick with both of them.\",\n",
       " \"Probably.  Heh.  You can't blame me for trying to be a ray of sunshine though.  :)\",\n",
       " \"I would say lock up your computer or take an enforced break for some time. Give a friend your power cable or something. Just a week or something. The brain is a wonderful (and complicated) thing and I'm sure it will figure out another way of keeping you entertained - even if this is to make your own hearthstone set out of paper or something!\\n\\nYou can always come back to it, I'm not saying you should quit cold turkey but give yourself a breather.\",\n",
       " \"Want o know if the build looks fine or if i should change something before i order anything. Open to any suggestions or advices.\\n\\n[Here's the build.](http://i.imgur.com/2XlDtgn.png)\",\n",
       " \"Ok, i guess i won't buy the cooler, if i were to add an 840 evo 120GB SSD, which costs about 70€, what do you think i should change?\",\n",
       " 'Hmm this sounds plausible. I will run a mem test when I get home later. I also ordered a 6870 that should be here tomorrow. I was thinking about just returning my 6850 so I will have a new video card to see if that was the issue.',\n",
       " 'Again, if people report for things like that, most likely the system ignores, otherwise people could just frame a guy and report him for no reason so he gets restricted.',\n",
       " \"I was paraphrasing Lyte's description of the report system. I'm sure he knows what he's talking about as he's in the player behavior group at riot.\",\n",
       " 'How do you know exactly it is an automated message?',\n",
       " 'There are multiple tools used to describe languages. XML is sometimes used to describe language. There are also tools like [BNF](http://en.wikipedia.org/wiki/Backus%E2%80%93Naur_Form), but to my knowledge the standards for HTML and CSS are not backed by a single formal description in their entirety.\\n\\nIn general, HTML and CSS are created by \"bootstrapping\" on top of already implemented languages. The modern development of the languages probably is not that similar to the original engineering, which had to solve more problems. It\\'s not inconceivable that the original engineering was based on some company-mandated (I believe HTML was produced for work???) flow-chart or markup language.\\n\\nThese days, design in some parts may consist of: here is a new features, this is how it is spelled, this is how you calculate it, these are the standards for its interchange. So for example: \"New feature: browser odor. Valid tags are [odor,vendor_prefix-odor...]. The value of odor is an IEEE754 float. ...\".\\n\\nSo it\\'s not like it\\'s \"programmed\" in some language.',\n",
       " 'No, im pretty sure thats not possible.',\n",
       " 'Download win8 on another computer from microsoft. \\nMake sure it is the same version that was installed previously so that you can use the key found under your computer (maybe under your battery).  \\nThen make a bootable disk or usb. \\nInsert it into your computer and boot from it. \\nYou need to disable secure boot in your bios before installing windows or else it cant find the usb and wont install. \\nGood luck... :D\\n \\n[Helpful link here.](http://www.howtogeek.com/186775/how-to-download-windows-7-8-and-8.1-installation-media-legally/)',\n",
       " 'lols okay leave me a message when you are finished!',\n",
       " '  The benefit of stagnate cards , they add to the number of accounts that list paid as agreed.  Which can offset any future \"blips\" , real example ..someone with 25 lines (including paid off installment loans) had one collection account (unresolved dispute with merchant) not only did that one collection not effect their ability to get a mortgage at the best rate but the lender didn\\'t even require they pay it.  ',\n",
       " 'Smile and say hi!',\n",
       " ':) hi!',\n",
       " 'First look at your username, then mine',\n",
       " ':-)',\n",
       " \"Actually today I installed MSI Afterburner but didn't want to touch anything right away before I got a response, but thanks for the help :D\",\n",
       " 'The square root of BOOB is the absolute value of BO. ',\n",
       " \"Not blood pressure, blood sugar levels. Can cause a certain scent on the persons breath, that even humans can detect at higher levels. I'm guessing the scent, while not noticed by humans, can be detected by some dogs at lower levels.\",\n",
       " 'Just jailbroke iOS9.1 with Pangu and Cydia crashes every time even after a reboot. Should I rejailbreak or what? Thanks for any help!!',\n",
       " 'yup i have 20 gb available',\n",
       " 'Direct deposit is through your employer, not your bank. But regardless theres no reason why you should be restricted accesses.. maybe look into an online bank such as Ally. You can deposit checks using their mobile app which is super nice.',\n",
       " 'Depends on the bank. Most of them have an app you can use to deposit via check. \\n\\nIf not get direct deposit. You can set it up with your employer',\n",
       " 'Ok so my friend on EUNE is having problems with connecting to league, getting in que and even in lobby anyone has the same problem?',\n",
       " \"You guys are just fundamentally not compatible; children aren't a compromise either of you can make without resentment and unhappiness. \\n\\nThere's also the fact that you don't have proof that's he's finally capable of being an adult in an adult relationship, OP. \\n\\nGo no contact again. You aren't going to be able to get over him if you're still in contact. \\n\",\n",
       " \"> I do believe that there might be some kind of 'god' \\n\\n* agnostic and ...\\n\\n> but I do not believe in organised religions such as Christianity or Islam. \\n\\n* areligious and ...\\n\\n> What does this make me?\\n\\nHow many gods are you personally/privately convinced exist (regardless of what you could tell someone else to convince them)?\\n\\n\",\n",
       " \"Yes it will but it isn't recommended since you will lose alot of space from old jailbreak files. The best way to get rid of the jailbreak is to make a backup of your device and than restore your device. Then restore your backup onto your device.\",\n",
       " 'I learned that if you ever want to feel better about yourself go to /r/relationships',\n",
       " \"I've actually been surprised at the (mostly) levelheaded responses I have gotten here.\\n\\n\",\n",
       " 'I did not think there were that many individuals that believed the nonsense that talking heads spew.  \\n\\nI thought they were out there, but that they were just \"misinformed,\" and if they were confronted with another viewpoint and reason, they\\'d change thier minds.  \\n\\nI now know that no matter how much you reason with someone, there are unreasonable individuals out there.',\n",
       " \"Yes, I am in weekly therapy and take a cocktail of meds daily. I was diagnosed a little over a year ago, so we were dating for about 8 months when I was undiagnosed and unmedicated. Our relationship has improved A LOT since then, although I tried to hide everything from him for a while. But he's accompanied me to therapy a few times and we've gotten very good at communicating what we need in order to stay happy in the relationship. I let him know that if he feels overwhelmed at any time I would understand if he wanted to break up. \\n\\nAs for the abusive ex... I don't know. I do think part of this anxiety stems from my love being rejected and my therapist agrees. I was only 13 when we started dating, and I didn't really know anything else. But it is something I'm working on in therapy. \",\n",
       " \"I don't have access to Cydia or any of my tweaks in safe mode. There also isn't any of the options for my tweaks in the settings. \",\n",
       " 'Replays uploaded to Spawning Tool for your browsing pleasure. With [34 replays from Flash](http://spawningtool.com/replays/?p=&query=&tag=1644&tag=428&after_time=&before_time=&after_played_on=&before_played_on=), this is probably the easiest way to steal his build orders\\n\\nhttp://spawningtool.com/replays/?tag=1644 ',\n",
       " \"Don't refund IP. Try her out a bit, see how you like her, then get Lucian when you have enough IP again.\\nThey're both very good.\",\n",
       " \"I've tried repairing, deleting the content in RADS-> lol air client but so far to no avail.\\n\\nThis is what I see when I launch league:\\n\\nhttp://puu.sh/9XHxJ/3531518239.jpg\\n\\nTrying to swap regions, patch up and the swap back atm.\",\n",
       " '[GOT YOU COVERED!!!!  Pretty sure this is about $1,000](http://media.techeblog.com/images/the_mobile_desk.jpg)',\n",
       " 'Can confirm. Had an amd apu laptop for college, overheated and died playing garrys mod.',\n",
       " \"I want to know what your thoughts on money are. Here's some ideas incase you're drawing a blank!\\n\\n* Is it good or bad?\\n* How important is it to you? Do you save it or spend as it comes?\\n* What do you think of people who spend their lives trying to chase money?\\n* What about working for money in a society that is automating more jobs by machines? Do these ideas clash?\\n* Do you enjoy spending money?\\n* If you were to reinvent a money type system, what would it be?\",\n",
       " \"No matter how much of it you have, you will always want more. At least that's been my case. When I was in high school, making minimum wage, I always said, I could live on $15 an hour. Once I got that, I said I really need $20 and hour. If I have that, I'll be happy. Once I got to $25 an hour, I said the same thing, so on and so forth.\",\n",
       " ' I don\\'t particularly like money, fortunately a dislike debt even more. This results in my lifestyle being a \"pay as you go\" one.',\n",
       " 'This is like asking \"Why do we have so many natural languages? Why can\\'t we all just use English?\"',\n",
       " 'are you using full screen?\\n',\n",
       " \"My main concern with my build is video rendering. Gaming is an afterthought. Wouldn't the CUDA cores be worth getting the 670 over the 7970?\",\n",
       " 'Where exactly are you getting your benchmarks from?',\n",
       " \"Happy birthday.  My present is a life lesson: don't ask/expect free handouts from others or even life itself.  Earn them (respect, trust, success, etc.). \\n\\nAs a side note, I think on birthdays that kids should also celebrate their parents out of gratitude for giving them life.  They gave you a precious gift. Use it wisely. \",\n",
       " 'I was browsing around about a month ago, and I remember being a tweak that after you \"accidentally\" press the lock button you can quickly press the home button and it won\\'t lock your phone. ',\n",
       " 'No need to give them the political power of the dollar, if you combine that with the moonbats they have, it would spell trouble.  Those that line the pockets win the elections.',\n",
       " 'Not all churches are charitable organizations. Those that are could still apply for tax exemption via the normal route (which would require filing a report of income and expenses).',\n",
       " 'it does :>',\n",
       " 'It happens far less often with the original skin.\\nThat being said, it can still happen with this skin according to the forums (i have not been able to confirm this yet).\\n',\n",
       " 'VERY on fire, not just on fire.',\n",
       " \"That's what I told my mom to do and she wasn't thrilled about it. That's why I wanted to find another way, but I agree that it might be the easiest thing to do...\",\n",
       " \"Metro 2033. Seriously. It's incredible how a 4 year old game still stresses machines. \",\n",
       " 'Last night as I was doing a full scan it got caught in the middle, the program closed and I havent been able to run it since. \\n\\nI just ran it in safe mode, no problem.  Did a full scan and had 1 infected item. I removed it, rebooted normally and it still wont start. \\n\\nI have also ran a full scan with superanti and malwarebytes....\\n\\nAny help would be appreciated',\n",
       " 'I can bully you and then you can interview yourself for your dissertation. How does that sound gayfag?',\n",
       " 'Agreed what kind of username is bensonly-1. this fruitcake is obviously gayer than a pile of Richard Simmons',\n",
       " 'Can you give us more info on why you chose this topic future dr. gayfag?',\n",
       " 'Windows 8.1 is ~20GB, I use a 60GB SSD partitioned into two parts to dual-boot Windows 8.1 and another OS, 128GB is more than enough. :).',\n",
       " \"His best matchups are the squishy mage champs that have no mobility. Examples of this would be Lux, Brand, Vel'koz, Xerath, etc... The reason for this is that you have an instant blink with no cast time, meaning you can dodge their important skillshots quickly (Lux snare, Brand pillar or Q/ Vel'koz knock up, Xerath stun) and go in on them when they don't have their CC ability. Your main job is to be an assassin so it's better if you're against someone who's really squishy, instead of someone like Swain mid for example.\\n\\nI don't play Talon that much, but some simple tips are:\\n\\n* Your Q is an auto reset. Utilize that fact for the maximum damage. As a result, your combo should be something like: E > Auto > Q > W > R while throwing an ignite in there somewhere.\\n* Your ultimate gives movement speed. Just keep this in mind.\\n* If you get a Hydra, there is a trick you can do with gromp. By standing next to the wall where the Gromp is, you can use the Hydra active to make it aggro onto you and auto you over the wall. This gives you vision of the gromp and you can jump over with your E onto the gromp and escape (or chase). This works for all champs, but it's important for champions like Talon whose jump/blink is a click and point ability. \",\n",
       " \"I've been watching Scruum (Master/challenger Talon main) and he got this command in his chat of matchups (easy/hard) and this is what it says:\\n\\nEasy matchups: Jayce, Vel'koz, Annie, Orianna, Brand, Karthus, Lux, Zyra, Veigar, and Syndra are all easy matchups for Talon\\n\\nFrom what i've seen, he's streaming pretty often. (http://www.twitch.tv/killercruiser) He doesnt really have a lot of viewers (60-100) so its not hard to get your questions answered! Pretty nice. Oh found the stream schedule:\\nEveryday: anywhere from 8 AM-11 PM (UTC-06:00) Central Time (US & Canada)\\n\\nAnd here is his guide: http://www.lolking.net/guides/320430\\n\\nZydico explained why the squishy mages are easy matchups and some good tips :)\\n\\nHard Matchups: Vlad, Cho'gath, Leblanc, Katarina, Diana, Kayle, Lulu, Rumble and Urgot are all hard matchups for Talon\",\n",
       " \"Is Azir an easy or hard match up ? \\n\\nI played yersteday against a Talon on my smurf and I died one time during the laning phase and lost my tower first but I was still relevant in teamfight because I was just farming as much as I can. I rushed Zhonya and took exhaust as second summoner spell. In teamfight I was just using my wall and exhaust for stopping Talon to kill my ADC because he wasn't able to kill me with the Zhonya.\\nHere is the match history : http://matchhistory.euw.leagueoflegends.com/fr/#match-details/EUW1/2114191634/219869001\",\n",
       " \"With my birthday coming up tomorrow I suppose blizzard wants to let me know it'll be legen-wait-for-it-dary.\\n\\nhttp://puu.sh/aDY33/2717ee0e81.jpg\",\n",
       " 'not only legs, but your curve is awesome ',\n",
       " 'So if I do stream is it worth upgrading to the i7',\n",
       " \"I stumbled across the Elder Scroll soundtracks on Youtube again tonight, reminding me of how much time I've spent in both [Morrowind](http://www.youtube.com/watch?v=ZWuNf4gxwuM) and [Oblivion](http://www.youtube.com/watch?v=0J5gN1DwNDE).\\n\\n\\nWhat other games have great soundtracks? (original or not)\",\n",
       " \"The Persona Series, especially Persona 4, has some fantastic music. One of my personal favorites is [The Velvet Room](http://www.youtube.com/watch?v=OMOHB5AUygI). I'm at work and don't have sound, so if this is incorrect, someone tell me.\",\n",
       " 'Both Xenogears and Xenoblade have phenomenal soundtracks.',\n",
       " 'Metroid Prime, Super mario bros 3 (yes, I am referring to world 1), Portal 2, Team fortress 2, Twilight princess, and Fire emblem. ',\n",
       " 'For an entire soundtrack, Vice City.  Period.\\n\\n\\nHonorable mentions go to Mass Effect 2 and Lord of Shadows.  Those 2 games are really the only 2 I\\'ve played and always been thinking to myself \"Damn this game\\'s got amazing music\" but hands down the greatest single musical gift that gaming has given us without a shred of doubt is Final Fantasy\\'s Prelude.\\n\\nHere\\'s the most eye-watering-ly awesome version I\\'ve found so far.\\n\\nhttp://www.youtube.com/watch?v=f2nHq0FERnI',\n",
       " \"It's nonsense that doesn't even argue for god. It just says, [*it's true you can't prove god, but you can't DISPROVE him either!*](https://www.youtube.com/watch?v=cp069Y_P-9M)\",\n",
       " 'I usually use mason jars, I put them in there, and open them up every day to let fresh air in. The duration is more a personal preference depending on aroma and taste. A couple weeks is an excellent start. 8 weeks is my normal max for curing.\\n\\nEdit: Forgot to add, make sure when you open them up to rotate the buds, and check for mold!\\n',\n",
       " \"A lot of organizations that stand up for the rights of animals. Of course it's important to let animals have a good life, but with the same money you're giving chickens some place to move you can also save some human children from death.\\n\\nI'm not saying they shouldn't help animals, but they should not overvalue animals compared to humans.\",\n",
       " \"Just try not to play a deck that has a finite amount of damage (like oil rogue, freeze mage, etc) or try to play something that will just kill them before Reno.\\n\\nOr...\\n\\nPlay rogue with double beneath the grounds :)\\n\\nNinjaEdit : Forgot to mention you can also play a deck that has a combo win condition (like any Malygos deck). They can't Reno if you kill them in one turn.\",\n",
       " \"Problem is that you dont want to have BtG in your deck against aggro decks (it's pretty good against CW or priest tho). So you have to consider if teching one will improve or decrease your winrate on the long run.\",\n",
       " \"What's your oil rogue deck? If you play a more minion based oil deck with only one oil + boom + van cleef you may have a decent chance. But overall the only Reno deck you have a decent shot at is maybe renolock since oil rogue doesn't have a good way to apply sustained pressure. \",\n",
       " \"Play a little like you do against Handlock.  When you're fighting a Handlock you know that if you bring them too low, they're going to drop Moltens, taunt up, and maybe even toss in a Healbot to add insult to injury.  So instead you bring them to a certain point and burn them out in one turn.\\n\\nThe same applies to Reno, except there's no specific number to work around and you don't need to stop attacking face.  You just don't want to blow any kind of burst damage until you can kill them in one turn, especially in a deck with finite and specific damage.\\n\\nNow, some decks just don't have any burst either due to class cards or lack of room for them.  The way to fight Reno with one of these decks is to make it so Reno won't save them.  For instance, as Flood Zoo you can lay out a board full of minions, Reliquary Seekers, and top it off with Loatheb.  Now it doesn't really matter if he drops Reno or not, it didn't do anything about your winning board state.\\n\\nThat said, if you're playing Oil Rogue, you should easily be able to build up ~15 damage of burst in hand.  Oil Rogue is particularly favored against most variants of Paladin since healing doesn't prevent burst, only armor does, and Rogue has many answers to Silver Hand Recruits.  I can't imagine this changes against Reno Paladin when played correctly.\\n\\nThe bottom line is, a Reno deck seeks to win through either value or fatigue.  Rogue can't win either of these games.  You have to take control and make the game about tempo, because if you start making anti tempo plays, you hand the advantage back to your Reno opponent.\",\n",
       " \"does it matter to you that he's asking ? cause it seems sure like it\",\n",
       " \"iPhone 3GS old-bootrom has permanent untethered jailbreaks for the life of the device. If you're going to get an old iPhone, it would be awesome to get that.\\n\",\n",
       " \"The ASUS ROG highlight video was the funniest thing I'd seen in a while, and it featured a healthy amount of Incontrol's hosting/casting/faceswapping photos with TLO/Monster chugging.\",\n",
       " 'Jury found him not guilty ',\n",
       " 'Be confident, speak from your stomach.',\n",
       " \"Earth has an atmosphere of mostly nitrogen and oxygen gas and this air scatters blue light. Likewise, Mars' atmosphere scatters different wavelengths of light because of the gases it contains, giving it a different hue. \\n\\nThe moon has basically [no atmosphere,](http://en.wikipedia.org/wiki/Atmosphere_of_the_Moon) so there's no gas to scatter any light.\",\n",
       " '/r/microsoftsoftwareswap has got me covered :)',\n",
       " 'Nothing positive, all doom.',\n",
       " 'add Greater im in bronze 5 and i have no idea how to even log in',\n",
       " 'What about an atheist \"A\"? Less trendy:\\n\\nhttp://www.evolvefish.com/fish/media/Q-AtheistSymbolBK.gif',\n",
       " 'I would greatly disagree that everything about a religion should be discarded. There are many aspects to religion that are very wise and are worth keeping, though not necessarily within the context of the divine.\\n\\nCase in point. Confession. The act of admitting you are wrong and asking for forgiveness. Very good thing. Forces you to acknowledge your mistakes and take ownership (and hopefully do something about them.) Do you need to confess to God? no. I just think before we reject religions outright, we should mine them for the useful bits.',\n",
       " 'I used to love the actual history specials they played like 10 years ago, what happened?',\n",
       " 'Shows like American Chopper and The Deadliest Catch. Complete and total soap operas in a factual reality tv package.\\n\\nI enjoyed The History channel a lot more when they use to have shows about Hitler on all the time.',\n",
       " \"Huh if it is that small maybe I can. I'll look into it more :)\\n\\nThanks!\",\n",
       " \"\\nAll the good ones are taken. It's hard to beat storks and cabbages.\",\n",
       " \"Actually, I don't listen to many new artists.  I prefer to listen to artists I have always liked from my past.  \",\n",
       " 'How many times are you going to cut and paste this tonight?',\n",
       " \"Since im guessing its apart of the future where The Glorious Evolution is almost on the verge of viktory (eh? eh?) would it be that the PROJECT line fights against Viktor in the name of freedom and Jayce's amazing hair or for Viktor and to crush anyone who wouldn't embrace steel skin?\",\n",
       " 'viktor is battlecast\\n\\njayce is full metal',\n",
       " 'You sound like a buzz kill ',\n",
       " 'I would be tempted to paraphrase a famous quote, This is one small loss for mankind but a giant journey for this man, or possibly be a bit of a troll,  My God! It\\'s full of stars!     \\nOnce contact had ceased I think I would be very relaxed and peaceful as if a great weight had been lifted off my back. I have always been concerned about how others feel and leading up to the loss of contact would be stressful for all. Once done I could concentrate on the task of survival and have some \"me time\"\\n',\n",
       " '\"Ayy lmao\" ofc',\n",
       " \"You are mixing three separate issues.  Legally, they are separate issues and must be treated separately. \\n\\n1. You owe rent.  Pay it.  Since it appears your bank has credited your brother's bank account, you need to go back voluntarily and write a check to the rental office.  For good faith, do not wait for them to contact you.\\n\\n2.  You rental office made a fraudulent change to a check.  Confront them on that issue.\\n\\n3.  You have a lease you don't like.  Honor it or negotiate a way out.\\n\",\n",
       " 'Is the payee changed to the name of a person rather than a business? If so, I would try to contact the company first and verify they have received your rent. It sounds like someone who works at the company may be stealing your rent checks which happens fairly often',\n",
       " 'Nooooo. All the drinks I spill go straight into the keyboard.',\n",
       " 'No problem. Hope it works out for you. If not you could always suffer the no sound until Cyber Monday (The monday after American Thanksgiving) and get great deals on sites like Newegg and Amazon. I saved like $300 on my shrine by buying parts then.',\n",
       " 'How in the hell do you even know who a mod is, or even manage to track their actions? Where do you get the time?',\n",
       " \"Yes, let's get the easy impostors out of the way. The two of us aren't even close to being Roflmoo.\",\n",
       " 'I got it! /u/Demented737 where did you get that mod flair?',\n",
       " 'Did you start watching One Piece again? Or do you still not like it that much?',\n",
       " \"it doesn't diminish the value of the deed itself, it diminishes your own sense of humility if one has a sense of that\\n\\nand it shows others that you are prideful\",\n",
       " 'I used to let people on my football team punch me in the stomach to psyche me up before games.  One of the linebackers got me pretty good.\\n\\nOtherwise, I was a gunner on a Kickoff and the other gunner and I collided together full speed and I got knocked out for a little bit. ',\n",
       " 'I still wonder how people can still trusted used car salespeople so much.',\n",
       " 'luke highwalker. thats the exact picture i was thinking of too :)',\n",
       " 'Le reddit army takes quite a lot more casualties, but no army of either side can actually fall in 12 hours.',\n",
       " 'depends on the tank, but on protanks, if you let them drop below 1/3 full, they gurgle and flood.',\n",
       " 'By keeping them full. If juice drop below half of the tank, pressure makes it start leaking. Since I learned this my Protank3 and Aspires are so much easier to enjoy...',\n",
       " \"I agree. Best flavor I get is from protank II and protank III... Little bit airy for my taste but it's easily fixed.\",\n",
       " \"I remember it! It was pretty alright when I saw it, but it didn't stick, people weren't talking about it, there was no buzz after.\",\n",
       " '*Dr. Strangelove* is my favourite but you could also try *Full Metal Jacket* or *The Shining*?',\n",
       " 'the shining is fairly accessible in my opinion',\n",
       " 'priest needs 1 more card in hand',\n",
       " 'upvote for beeing creative',\n",
       " 'Seems to be about a certain policy of theirs which would make it a systematic victimization. ',\n",
       " \"Meh, probably can't do any more damage than my body has done to itself in the last week.\",\n",
       " 'Do not get Runaans.\\n\\nAlmost never get Shiv.\\n\\nGet PD.\\n\\nShiv is highly situational and not an item I would recommend as standard. It can work, especially in high crit situations or AD split push situations. But in general PD is the best option, so until you feel comforable changing your build around to suit your team comp, stick with PD.',\n",
       " \"It does. It's not remove able off the console like the old ones though. When I did my transfer I purchased a cable,  used it,  and then returned it. \",\n",
       " 'Grand plan, master Stan.',\n",
       " 'Cash: Always the right size. Always the right color. \\n\\n**MAKE IT RAIN IN DEM TIP JAR!**',\n",
       " '- [Heaven Benchmark](https://unigine.com/products/heaven/)\\n\\n- [3DMark](http://www.3dmark.com/)\\n\\n- [FurMark](http://www.ozone3d.net/benchmarks/fur/)\\n\\n- [A list of some more bechmarks and their download link](http://www.ozone3d.net/index_softwares.php)',\n",
       " \"If you've lost someone special in your life, you'll recognize wanting to do anything possible to just have one more day with them.\",\n",
       " \"I've read somewhere that brand new Halloween skins will be made available at some point. Don't take my word for it though.\",\n",
       " 'Hello, I need some advice. I am vaping on .2 sub ohm coils on a mod that goes up to 54 watts. I have been vaping on 30 watts. I have noticed the juice spits into my mouth a lot and will build up brown gunk on my top and bottom 2 front teeth. It is very embarrassing! I feel like I am drinking the juice some times. Should I turn up the wattage? By the way, I clean my tank very often.',\n",
       " 'Aspire Cleito on the Lotus Jellyfish mod. Sub ohm .2 coils',\n",
       " \"Find the doritos story. It's a pretty renowned story on here.\",\n",
       " \"Yeah, doesn't make a lot of sense. \\n\\nI'd say your next step should be to download a benchmark program and see if your card performs like it's supposed to.   http://www.3dmark.com/\\n\\nAlso, this guy has some good tips to try: https://www.youtube.com/watch?v=sbsWF4Orvpk\",\n",
       " \"I'm a regular smoker (2 g doob a day). I'm looking to get extra super bakey baked tonight; reach that magical 12/10, and smell sounds. As my tolerance is pretty high, do you all have any suggestions as to how to get extra wiggity whacked? I know a t break works best, but I dont have time for that rn. \",\n",
       " 'But don\\'t forget about Jimmy James.  \"The man so nice they named him twice.\"\\n\\n-News Radio',\n",
       " 'Just adding to this: it seems like you really enjoy what you have with her right now. Being \"in a relationship\" doesnt have to change things dramatically. If you get along well, why not? But it is healthy to dicuss things like this with her aswell. Let her know that you didn\\'t enjoy your previous relationship because your ex was too clingy. Hopefully she will take this into consideration and move a little slower with you',\n",
       " 'funny thing is... there are certain characteristics that REALLY remind me of my ex, which makes me question whether I attract these types of girls',\n",
       " \"I know you are right, yet I can't seem to stop it. I want to move on, but I also don't want to feel like the way I did\",\n",
       " \"Talk to her about how you feel and what's on your mind. Be honest with her. Don't let your fears decide your fate.\",\n",
       " 'I\\'m scared that she will not have a positive reaction. We did all of this through text and when I asked to meet up she said \"I\\'m sure neither of us want to do that\" even though I really did. ',\n",
       " 'I actually already have the up4 and this was one of the reasons I was looking for a replacement, thanks :D',\n",
       " \"Remember, your job isn't to jump feet first into hell, just to jump feet first.\",\n",
       " \"I did it last weekend, lots of fun, if you're just going to do it once, be sure to tell your instructor to just go nuts.  You might get motion sickness but at least you experienced it.  Also make sure you have something with sleeves and if possible: low friction, the harnesses pull on TIGHT.  If you have glasses, wear contacts so your goggles can be removed when the parachute opens.  \\n\\nEnjoy yourself\",\n",
       " \"Heights.\\n\\nDying alone, facing inevitable death, being confined in an enclosed space...just don't make sure I do it from elevated heights.\",\n",
       " 'being found out in real life.',\n",
       " 'So not even if you could isolate every possible sound in the language?',\n",
       " \"So i'm using a laptop, a HP Pavillion G7  \\nand whenever i want to use the hashtag or the 'at' symbol it doesn't work. how can i make it work again ?  \\nIt's not physically broken.\",\n",
       " '[This](https://www.reddit.com/r/AskReddit/comments/4aymvu/whats_the_most_fucked_up_thing_youve_overheard/d14wp2q) gave me 1/3rd of my internet points!  It is mildly nsfw.',\n",
       " \"I have over 100k comment karma, so there isn't *one*. My top comment has only 3771 points.\",\n",
       " 'Caloric intake doesn\\'t necessarily coincide with \"eating healthy\", though.',\n",
       " \"ROFL $90 cell phone, $300 weed, $300 food. \\n\\nNEW budget: $30 cell phone, $0 weed, $200 food.\\n\\nANNUAL SAVINGS: $5,520\\n\\nSince I don't drive, I can't speak for the cost of car, insurance and gas. \",\n",
       " 'These vape posts are going to cut my happy budget in half. :)',\n",
       " \"Agreed. If OP stated he spent $300 a month on antidepressants or anti-anxiety meds, they wouldn't tell him to stop taking them so he can save up for the future. I agree he can lower the amount he spends, but I think most people here automatically assume he's using it to watch more TV. \",\n",
       " 'Huge show tonight, also have Fubarduck and Walshy on to talk about MLG Fighting games and Halo. As always tune in at http://www.Twitch.tv/OneMoreGameTV with your hosts djWHEAT, SirScoots and myself.',\n",
       " 'Would love to see some Proleague discussion as well, if not this episode, at least when the finals arrive. But at least happy for OSL, Fubarduck, and Walshy :)',\n",
       " \"ITX is basically just a shorter way of saying Mini-ITX.\\n\\nYou should recheck available GPU pricing , you can definitely get more for your money. Here's an XFX 280 for [$220](http://ca.pcpartpicker.com/part/xfx-video-card-r9280atdfd), more sorted by price [here](http://ca.pcpartpicker.com/parts/video-card/#c=167,148&sort=a7). You can find 270x models for $200, sorted [here](http://ca.pcpartpicker.com/parts/video-card/#c=147&sort=a7).\",\n",
       " \"I had already sorted the GPUs using the parametric feature of PCPP, but I wasn't considering MIR at the time.\\n\\nI haven't really heard of Club3D, VisionTek or Powercolor. Are they reliable?\",\n",
       " '[/r/legaladvice](https://www.reddit.com/r/legaladvice/) might give a more complete answer. ',\n",
       " \"Robert Jordan's books tended to be wonderfully written. His writing was extremely evocative.\\n\\nIt's just unfortunate that he had a tendency to spend fifteen pages us telling us what a side character's dress looked like....didn't stop it being beautiful writing, though.\\n\\nJane Goodall's books tend to be quite beautifully written as well, though of a very different genre (she writes books about anthropology, specifically chimpanzees, while Robert Jordan usually wrote high fantasy). Similarly evocative, amusing, and informative at all once.\\n\",\n",
       " \"Lolita.  For such a controversial topic the writing is beautiful. It's weird telling people that it's my favourite novel. \",\n",
       " 'When writing this post, the books I thought of were Lolita by Nabokov, and Weaveworld, by Clive Barker.  Weaveworld made me want to read it immediately after I finished, because I felt like I missed so much the first time because I wanted to know what happened.',\n",
       " 'No op just wants to do his The Meek Shall Inherit quest.',\n",
       " 'True Story.\\n\\nI became a fan of M5/Gambit since they came to IEM KIEV and destroyed everything and everyone.\\n\\nBut I have seen ppl making jobes about \"Genja\\'s preformance\" , and that upsets me... He is just as good as anyother adc in EU... ',\n",
       " 'Now its only Genja who wasnt interviewed but Gambit is palying 1 more game today. Looking forward for Genja! :D ',\n",
       " 'And that is what i did and i was on a skate board :)',\n",
       " 'i did =)\\n',\n",
       " 'I was at forest a long time ago. But that crash woke me up today. Hectic wakeup call for sure',\n",
       " 'Wave [Imgur](http://i.imgur.com/f00bnWq.jpg)\\nI know I know ..boring ..but she did wave back =)',\n",
       " \"Saw this just after putting down mario vs donkey kong. It's amazing\",\n",
       " 'BUT I MISS THE CC REDUCTION ON HIS W SO MUCH ;_;',\n",
       " 'Well the only melees i like are amumu and poppy :) Was never a trundle fan and the rework didnt change that.',\n",
       " 'Well hes the mechanic of the yordles... he needs to build something. Mecha minions which work like promoted ones so you get their gold?\\n\\nHonestly I would like heimer to actualy have only 1 dmg spell and the rest like building stuff he can place on the map which do things for him.\\n\\nQ = Turrets\\n\\nW= Mecha Minions \\n\\nE= Grenade\\n\\nR = Rocketlauncher who works like his w now but fires at auto in a specific cd.',\n",
       " 'http://www.idealvape.com/collections/batteries-1/products/genuine-sony-vtc4-imr-high-30a-drain-2100mah-limn-18650-battery so this would be fine, correct?',\n",
       " 'Same here, I dont worry about the little things anymore and find myself enjoying a lot more than i did.',\n",
       " \"I've noticed I've become a bit more standoffish. Trying to change that seeing as I used to be so friendly to strangers.\\nEdit: Mellow mixed with standoffish, because I'm too chilled out to care about being polite to strangers. \",\n",
       " 'I may have been the only man on that street corner, but I made the most.',\n",
       " \"For a long time, there have been 3 dominant Arena classes: **Rogue, Mage and Paladin.** Now, win statistics may vary per person so obviously this doesn't apply to everyone, but in general I think people will agree with this. \\nThe weekly updated statistics posts of the top arena streamers back this up as well [as you can see here!](https://docs.google.com/spreadsheets/d/1jck4WkEvaKWE0Iw9RrttLHoFO3KEMG6In6XS1okzmx4/edit?pref=2&pli=1#gid=1595896034) (credit goes to /u/sexting_shakespeare)\\n\\nAs you can see on the spreadsheet doc, since the release of LoE (Nov. 12th), Rogue, Mage and Paladin not only have been the most played classes by these streamers, but they have the highest average winrate of 7.47, 7.11 and 7.00 respectively. Further down the list Druid averages 6.82, Warlock 6.46, Shaman 6.30, Priest 6.23, Warrior 6.11 and Hunter 6.04. \\n\\nIn my experience, Mage and Rogue have been top tier arena classes since Hearthstone's release. Other classes have been there at some point, but have fallen down gradually or significantly after expansions and adventures. For example, back in the days, Warrior and Shaman were pretty solid! Paladin was considered to be a pretty weak arena class at some point. But since the release of TgT Paladin has gotten better and better. In TgT Paladin got Seal of Champions, Argent Lance and Murloc Knight. LoE gave them Keeper of Uldaman. \\n\\nSo depending on whether you want to just have fun or play to win in Arena (which often goes hand in hand), you'll pick a class accordingly. I myself and I think a lot of arena players who read this, have experienced picking and facing a lot of Rogues, Mages and Paladins in arena for quite some time now. Getting as far as possible and receiving those shiny arena rewards after, makes Arena fun for me. Therefore, I will pick Rogue, Mage or Paladin whenever I can (and so do a lot of others). Druid hangs in there too. \\n\\nI think this is a problem. Over half of the Arena classes statistically should *not* be picked, if you want to win the most games. The difference between winrates maybe doesn't seem that high if you look at the spreadsheet numbers, but in reality it means a lot to constantly win less games. Also, when playing for example Shaman or Priest, you feel so helpless playing against these Rogues, Mages and Paladins over and over again and rarely facing a Warrior. \\n\\nSo when Blizzard introduced A New Way To Play, they stated that a couple cards from the Classic and Basic set were being looked at (balancing wise). They also made clear Arena is not affected by the new Standard format, as Arena will be using all the cards, thus being in the Wild format.\\n\\nWe know that the latest released Hearthstone cards get offered more than other cards (percentage wise), so it's entirely possible that the new expansion will (drastically) change things (because new cards have a greater chance to affect the Arena meta because they get offered more). On the other hand, Rogue and Mage have been top tier Arena classes for such a long time and didn't really get affected negatively by later card releases (you could even argue that Rogue and Mage have benefited from them which added to their power). \\n\\nDo you guys share these concerns? Are you confident this next expansion will make for a better, more balanced Arena experience, with more variety in class picks? Please discuss in the comments. Thanks for reading!\\n\\nEdit: formatting\",\n",
       " \"If they got a low MMR or que'd often with Lower-Rank players than it's possible for you to have a Diamond 5 player if you are in Plat 5 or Gold 1.\\nIts not about the Matchmaking. Maybe you'r MMR is just way too high...who knows :)\\nEdit: And in promotion Series you gotta play vs higher ranked enemies to proof that you belong in that leauge. \\nHope I could help you :)\",\n",
       " 'Well, your team have higher MMR than enemy team and you think there is a conspiracy against you?',\n",
       " 'Please explain how its hateful to dislike a group of people who caused their own problems.',\n",
       " \"Manhattan, up. Maker's Mark. \\n\\nIf it's hot out, a gin & tonic or a martini (Hendrick's).\",\n",
       " 'Alcohol: Any great craft beer. An APA or CDA lately.\\n\\nNo Alcohol: Mineral water son! Topo Chico or San Pellegrino. ',\n",
       " 'I was watching the 5 minute speed run earlier on r/gaming, and was thinking about how amazing the graphics were to 9 year old me. ',\n",
       " 'Goldeneye 64 blew me away the first time I saw it.',\n",
       " \"Dragon's Lair arcade unit. Being tricked into thinking you were controlling a cartoon was pretty awesome. \",\n",
       " 'Super Mario 64. 3d was mind boggling.',\n",
       " \"Hi, I won almost half a year ago a Logitech G710 Keyboard at a mYinsanity giveaway. I don't remember which tournament it was about ... I watch almost all of them...\\nBut after giving my infos to mYi, I received nothing. \\nI tried messaging logitech G, mYi, nobody is answering..\\n\\nIf there is anybody from Logitech G and mYi who can help me, plz msg me on reddit, I'd be so happy.\\n\\n( don't upvote plz )\",\n",
       " 'thank you PengWin :)',\n",
       " 'I know there are certain races which are more stealthy, how much do the benefits of these races effect the overall performance of being stealthily?',\n",
       " 'How much longer on the lease?',\n",
       " \"I did not have any idea. And now im going to call my cousin and argue that he wasn't as good as i thought he was. \",\n",
       " \"I knew Temple's respawn order off by heart. \\nAlso, I don't think you can help but be in the universe. :)\",\n",
       " \"Yeah, why wouldn't it be? They don't even have to take credit cards if they don't want to. Of course if their payment policies suck then people probably won't shop there as much.\",\n",
       " \"Yeah a lot of people feel the same way you do, probably the majority, and I think it's one of those things which attracts some people and just doesn't interest others. I just can't get excited about them, and I find the gameplay a bit clumsy sometimes (trying to control a whole team with a pad). Also, you're an avid hockey fan - I'm not a very big fan of the sports which appear in video games, so that probably doesn't help.\\n\\nI'm quite fond of racing games, like Gran Turismo and things like that, but I'm aware that they bore other people. I reckon as the industry advances, people will identify with certain games more and there'll be more distinction between the genres. Also I reckon gameplay will become more immersive and multidimensional as the technology evolves.\",\n",
       " \"Just bought it from amazon.  If it turns out to suck I'm holding you responsible...\",\n",
       " \"When you started moving parts around, were you on a carpet? Did you turn off and fully discharge your system every time? Also, are you sure the video cable you're using is plugged into both the monitor and PC? And that the monitor is on the correct input?\",\n",
       " 'OK, can you just type in everything [this](http://www.piriform.com/media/10110/spsetup100.zip) program lists?',\n",
       " \"as the tool tip states that yasuo's steel tempest decreases its CD with attack speed.. however, it seems that wither doesn't affect it and wither decreases the attack speed therefore yasuo's steel tempest (Q) should have its cd increased if yasuo is targeted by wither \\nEDIT: here are some screenshots http://imgur.com/3s0tun9,gOlhCMd#0\\nEDIT2: since i dont know how to format there are two screenshots in the link \\ngood guy nasus bot\",\n",
       " \"That's hilarious because it seems really pedantic, but from a coding standpoint that is a completely possible reason.\",\n",
       " \"It doesn't? That explains why I got pissed on when I picked Nasus vs Yasuo top.\",\n",
       " \"So true... :P Ofc I'm beeing sarcastic about quiting the game, but those kind of decks are so unfun to play against.\",\n",
       " \"How do you survive the whole night? Wouldn't you die?!\",\n",
       " 'It would drive me crazy if my gf made the bed every time we were ready for bed. I like to have my bed in the perfect state of messiness every day. ',\n",
       " \"Take care of my cats.  I swear they raise holy hell when they don't have a full food bowl. \",\n",
       " 'I have to have one foot out of the blanket and my right hand under my head.',\n",
       " 'Watch a Disney movie and drink a bottle of wine. Always works ;)',\n",
       " 'Ah yea, um neither haha ',\n",
       " 'Necro, but god the fish needs more nerfs. His damage to CC to tanky ratio is too damn high.',\n",
       " ':)',\n",
       " \"I'm not scared by his support version, I'm scared by his top one. Spirit visage + frozen heart makes him unkillable, while still putting out the same damage.\",\n",
       " \"Your submission has been scanned and automatically tagged - Discussion.\\n\\n[You can find more Discussions here.](http://www.reddit.com/r/pcmasterrace/search?q=flair%3ADiscussion&sort=new&restrict_sr=on)\\n\\nDon't want to see this flair? You can filter it out using [Reddit Enhancement Suite](http://redditenhancementsuite.com/): http://i.imgur.com/nCjUTSp.png\\n\\n***\\n\\n\\n*[I am a bot](/r/AutoModerator/comments/q11pu/what_is_automoderator/), and this action was performed automatically. Please [contact the moderators of this subreddit](/message/compose?to=%2Fr%2Fpcmasterrace) if you have any questions or concerns.*\",\n",
       " 'I suggest going GA in one of 2 circumstances: You have a very nice escape like Corki, Ezreal or Tristana, or they have an assassin that can insta-gib you pretty quickly such as Zed or a fed Fizz. Otherwise I usually go Warmogs.',\n",
       " \"I think the definition of it is the simplest way to go about it.  It's really quite self-explanatory.\",\n",
       " 'Hahahaha frito lore.',\n",
       " 'Reposting because I actually have a fairly good arugment towards the presence. \\n\\nBoth are true, sincere, Gods. Capable of creating a universe. But, The DC universe is actually a multiverse, with infinite universes inside it, (but only 52 as of the \"the new 52\"). Either way, I would say The Presence is the superior God.\\n\\nThoughts?',\n",
       " \"Fair enough. Still, I don't think there are as many as DC. At least not before the new 52 reboot.\",\n",
       " \"...That argument about the unmovable object again. Its already been discussed on how the question itself doesn't make sense, so the problem isn't with the being, its with the question. \\n\\nBringing up a bunch of universes doesn't demonstrate power, and its suggested that there are several more universes in Marvel that are just not talked about.\",\n",
       " \"Its already been discussed on how the question itself doesn't make sense, so the problem isn't with the being, its with the question.\\n\\nOk, without the question the paradox still makes sense. I was just comparing it to that.\\n\\n>Bringing up a bunch of universes doesn't demonstrate power\\n\\nBoth control a multiverse. One's multiverse is much bigger. I don't see how that's not a demonstration of power.\",\n",
       " \"ok lets not get into philosophy here. and I'm just saying you cant confirm that the DCU is bigger, because marvel has never stated there is a limit to the amount of universes in Marvel. Every story they have published has been stated to be canon, every movie and every cartoon. They just don't talk about them all. \",\n",
       " \"Hey Guys,\\nI wanted to ask about a PC that i want to build in April, but i wasn't sure that if i pick a cheaper CPU, it will bottleneck the GPU or not.\\nHere is the [list of parts](http://uk.pcpartpicker.com/p/xQRPP6) (approximate/roughly), please let me know if there is a cheaper CPU i could use, or any other improvements :)\",\n",
       " 'Also, I looked up the 860k vs the i5 4440 which is similar to my processor in GTA V, and there was a significant increase. Here is the [video](https://www.youtube.com/watch?v=JWArPXXduVk) :)',\n",
       " 'I\\'m going to assume your budget is £500? In which case, I see you\\'ve already opted for an i5 4460, which is a great choice for a £500 budget. There are a couple of changes I would make though.\\n\\n- You\\'ve opted for a H81 chipset motherboard. The case you\\'ve chosen has USB3 ports on the front but H81 motherboards do not have a USB3 header. For this reason I suggest you get a B85 motherboard instead, so that you can use these USB3 ports.\\n- You can get a 4GB R9 380 for the same price as a 2GB GTX 960, and the 380 is a much more powerful GPU. I would suggest making this change unless you have a specific reason for getting a 960. \\n\\nHere\\'s a part list: \\n\\n[PCPartPicker part list](http://uk.pcpartpicker.com/p/R2WqGX) / [Price breakdown by merchant](http://uk.pcpartpicker.com/p/R2WqGX/by_merchant/)\\n\\nType|Item|Price\\n:----|:----|:----\\n**CPU** | [Intel Core i5-4460 3.2GHz Quad-Core Processor](http://uk.pcpartpicker.com/part/intel-cpu-bx80646i54460) | £143.96 @ More Computers \\n**Motherboard** | [ASRock B85 Pro4 ATX LGA1150 Motherboard](http://uk.pcpartpicker.com/part/asrock-motherboard-b85pro4) | £54.53 @ Amazon UK \\n**Memory** | [Kingston HyperX Fury Red 8GB (2 x 4GB) DDR3-1866 Memory](http://uk.pcpartpicker.com/part/kingston-memory-hx318c10frk28) | £31.98 @ Amazon UK \\n**Storage** | [Hitachi Deskstar 1TB 3.5\" 7200RPM Internal Hard Drive](http://uk.pcpartpicker.com/part/hitachi-internal-hard-drive-hds721010kla330) | £27.59 @ Aria PC \\n**Video Card** | [PowerColor Radeon R9 380 4GB PCS+ Video Card](http://uk.pcpartpicker.com/part/powercolor-video-card-axr93804gbd5ppdhe) | £166.85 @ More Computers \\n**Case** | [Corsair 200R ATX Mid Tower Case](http://uk.pcpartpicker.com/part/corsair-case-200r) | £49.98 @ Aria PC \\n**Power Supply** | [EVGA 500W 80+ Certified ATX Power Supply](http://uk.pcpartpicker.com/part/evga-power-supply-100w10500kr) | £29.99 @ Aria PC \\n | *Prices include shipping, taxes, rebates, and discounts* |\\n | **Total** | **£504.88**\\n | Generated by [PCPartPicker](http://pcpartpicker.com) 2016-01-04 11:41 GMT+0000 |',\n",
       " 'Click on list of parts :)',\n",
       " 'Maybe so, maybe so. He had so much more potential though, with all his influence. ',\n",
       " '\"I was just a paper hanger,\\n\\nNo one more obscurer,\\n\\nGot a phone call from the Reichstag,\\n\\nTold me I was Führer!\\n\\nGermany was blue,\\n\\nWhat, oh, what to do?\\n\\nHitched up my pants,\\n\\nAnd conquered France\\n\\nNow Deutschland\\'s smiling through!\"',\n",
       " '[Reinhard Heydrich](https://en.wikipedia.org/wiki/Reinhard_Heydrich) - Designer of the Holocaust\\n\\n[Ludwig Dürr](http://www.airships.net/hindenburg/design-technology) - Designer of Hindenburg\\n\\n\\n[Pretty much anyone on this list]\\n(https://en.wikipedia.org/wiki/List_of_serial_killers_by_number_of_victims#Serial_killers_with_the_highest_known_victim_count)',\n",
       " 'What does America do better than Britain posts',\n",
       " 'Or vice versa. Or with any countries, really.',\n",
       " 'Ubuntu has [official support documentation](https://help.ubuntu.com/community/MountingWindowsPartitions) on how to mount NTFS drives. Did you even try Googling your problem? Because that was literally the first result.',\n",
       " \"Does it say what format the drive is, if it's not NTFS? Having a label like that, and not being able to mount it makes me think that this really is a RAID drive.\",\n",
       " 'OK tried it. It asks to install Search Protect, Skype and 360 Total Security. Uncheck/Skip those installers by selecting custom install. You will be fine.',\n",
       " 'brown switches on a das keyboard, they arent too loud, work perfect especiall yin college, and you can get a student discount if you mail them a picture of a student i.d.',\n",
       " 'I have 2 Black Widows and I do not see any issues with them. I do agree with lots of the post here tho about personal preference. Try them both out and then just return the one you do not like. Here in Canada at Best Buy you have 30 Days to try out the product.',\n",
       " \"Personal preference; I use a BlackWidow Ultimate and the cherry blues are wonderful, some people complain about cherry blues... but I have no trouble. The backlighting is cool too especially if you like playing in the dark like me.\\n\\nDas is great too, but no media keys, which isn't too much of a problem since there's programs for that.\",\n",
       " \"> but I think Spidey's web is fire resistant.\\n\\nThey're majorly fire resistant, one of their most iconic properties actually.\",\n",
       " \"I don't know if anyone else saw this (It's from Nov. of last year)\\n\\nBut I still thought it was really cool! This game was awesome on N64.\\n\\nThoughts?\\nhttp://collider.com/rampage-movie-new-line/127192/\\n\",\n",
       " \"if you have another computer handy you can try creating a bootable usb drive from the install dvd. I've had a couple instances where this fixed install issues for me.\",\n",
       " 'Want to trade? :)',\n",
       " 'Yes. When your principal balance hits 78% of the original value of your home.\\n\\n[sauce](http://www.consumerfinance.gov/askcfpb/202/when-can-i-remove-private-mortgage-pmi-insurance-from-my-loan.html)',\n",
       " 'i play all the game and i win it gaves me 15 lp:D',\n",
       " '\"No matter what planet... no matter what galaxy... They all look up in wonder...\".\\n\\nYou gotta be able to look at him and wonder no matter where he is.',\n",
       " 'Both are true. England used the Julian calendar at the time, so Newton would have considered his birthday to be December 25th. In the Gregorian calendar that we use today, his birthday falls on January 4th. ',\n",
       " \"It's unseasonably warm here in Southern Ontario. I believe it just started raining.\\n\\nhttps://www.youtube.com/watch?v=oW3DnN2zLKQ\",\n",
       " \"It's a throwaway :)\",\n",
       " \"My best friend's brother has always gotten into trouble, like any normal younger brother does. Usually, it's no big deal, just the same stuff any other teenager does. He's about to graduate, though, and join the Navy and he needs to take responsibility. He recently got back an update on his grades and he's borderline on flunking an important class he needs to pass senior year. When his parents saw they got into an argument and he bolted, and according to my best friend has taken up smoking pot again (despite needing to be clean for all the processing and testing he has to go through soon).\\n\\nHe's a good kid, but he's freaking out a little and his family is only pushing him over the edge. My best friend asked me to talk to him tomorrow night – since we're almost like older brothers to each other's younger brother – to help calm him down and get him back on the right track. I feel like hardly anyone is good at these kinds of personal one-on-one talks these days, myself including, so I'm looking for advice. How should I start up the conversation and approach it?\",\n",
       " 'I\\'m torn with this idea too.\\n\\nI agree with you that, ideally, their family would figure it out. Realistically though, that\\'s not going to happen anytime soon and I have a short-term potential solution to prevent long-term problems for him.\\n\\nNot to mention I\\'ve known their family so long it\\'s almost like being a member of it anyway. Even their dogs recognize me just as much as any one of them.\\n\\nBesides, what about the idea \"It takes a village...\"?',\n",
       " 'a big bag of dicks? are you sure ?',\n",
       " '1. Boyhood\\n1. Calvary\\n1. The Grand Budapest Hotel\\n1. Life Itself\\n1. Like Father, Like Son\\n1. Exhibition\\n1. The Lego Movie\\n1. Ida\\n1. The Kingdom of Dreams and Madness (Highly suggest any fans of Studio Ghibli to check this out)\\n1. The Internet’s Own Boy: The Story of Aaron Swartz',\n",
       " \"1. The Grand Budapest Hotel\\n\\n2. Boyhood\\n\\n3. 22 Jump Street\\n\\n4. Guardians of the Galaxy\\n\\n5. X-Men: Days of Future Past\\n\\n6. The Fault in Our Stars\\n\\n7. They Came Together\\n\\n8. Captain America: The Winter Soldier\\n\\n9. Neighbors\\n\\n10. The Lego Movie\\n\\n\\nI liked the Lego Movie well enough, but there are plenty I haven't gotten around to that I'm sure I would like better. Definitely Edge of Tomorrow, and plenty of smaller movies.\",\n",
       " 'Guardians of the Galaxy\\n\\nThe Grand Budapest\\n\\nThe Lego Movie\\n\\nLife Itself\\n\\nUnder The Skin\\n\\nDawn of the Planet of the Apes\\n\\nThe Raid 2\\n\\nEdge of Tomorrow\\n\\n22 Jump Street\\n\\nX-Men DOFP\\n',\n",
       " \"1. Boyhood\\n2. Blue Ruin\\n3. The Lego Movie\\n4. The Grand Budapest Hotel\\n5. Under the Skin\\n6. The Immigrant\\n7. Captain America: Winter Soldier\\n8. Lucy\\n9. Guardians of the Galaxy\\n10. The Purge: Anarchy\\n11. 22 Jump Street\\n12. Godzilla\\n\\nCan't wait to see Inherent Vice\\n\",\n",
       " '1. The Guest\\n2. Cheap Thrills\\n3. Boyhood\\n4. Godzilla\\n5. Locke\\n6. Oculus\\n7. Whiplash\\n8. Nurse 3D\\n9. Nymphomaniac\\n10. Willow Creek',\n",
       " \"http://www.newegg.com/Product/ProductList.aspx?Submit=ENE&DEPA=0&Order=BESTMATCH&N=100006676&isNodeId=1&Description=radeon+7850&x=0&y=0\\n\\nor \\n\\nhttp://www.newegg.com/Product/ProductList.aspx?Submit=ENE&DEPA=0&Order=BESTMATCH&N=-1&isNodeId=1&Description=gtx+570&x=0&y=0\\n\\nhttp://www.anandtech.com/bench/Product/549?vs=518\\n\\nThose would probably be your two best bets since they're still pretty powerful.  If you factor in the rebate, they are a little over $200\",\n",
       " 'Ok cheers =)\\n\\nHow long do you think I should wait till I just give up?',\n",
       " \"I'm sure they'll be back, in time.\",\n",
       " \"Even if those payments are 0%? I know it's likely not the case in OP's situation, but just for arguments' sake. A 0% loan is one of the best things you can get, because you're actually saving money due to inflation.\",\n",
       " 'You forgot the argument that most English speakers know more about Christianity then other religions or are simply not affected by them, so they mostly post stuffs about Christianity',\n",
       " 'Would I see any real performance increase going over to intel? Im just doing gaming.\\n ',\n",
       " \"Ideally you want a monitor that is 1440p, 120hz, IPS and freesync. As far as I know, a monitor with these isn't out yet but I think Asus has one releasing soon.\",\n",
       " 'I started at 18, am now at 3.  The other component is make sure you get a satisfying flavor.',\n",
       " 'they have a lot of great flavors, i vape a few of theirs.',\n",
       " 'Danny Tanner dies trying to clean everything up.',\n",
       " 'Carlton gets scared at the first zombie encountered, runs off and gets eaten.',\n",
       " \"Pretty sure Wil takes the bite for him and Carlton gets a gun he isn't properly prepared to use.  Then Wil demands he give him the gun.\",\n",
       " \"That's only if it's a Very Special zombie apocalypse \",\n",
       " 'The spirit is willing but the flesh is spongey and bruised.',\n",
       " \"We'll I think that's better than death by shits.\",\n",
       " 'Feed them feet first into a wood chipper.',\n",
       " \"I'm a big Virginia Commonwealth University basketball fan, and I was hoping maybe someone could make a VCU Zeppelin package? I'd be very appreciative\",\n",
       " \"Run, Run as fast as you can, you can't catch me I'm the Singerbread Man\",\n",
       " 'Intel outperforms AMD in all games and equals them in most other applications because 8 core multithreaded programs are rare.',\n",
       " 'Google, and its actually quite relevant as project CARS has just been released :)',\n",
       " 'Yeah lets go full LoL on this. Give every unit a blink/dash. Maxymum Mirco Skilltz.',\n",
       " \"Didn't the phasing just make the void ray too snowbally? I like it the way it is because it actually fills a role and makes Stargate openings doable. Im more impressed with focusing armored targets than shooting buildings to charge anyway. I could be wrong though because I started in hots\",\n",
       " \"most of protoss stuff so far seems to be a nerf, isn't related to the topic though. \",\n",
       " \"I think the Void Ray should steal the Oracle's energy-based beam ability.\\n\\nThe Void Ray would have energy, and when toggled on would rapidly spend energy to drastically increase its DPS.\\n\\nWithout spending energy it might take the place of the Oracle as a harassment unit dealing bonus damage to Light units. And when spending energy it will very rapidly deal damage to any unit type. However once its energy runs out, you should probably withdraw them to accumulate more energy.\",\n",
       " \"To be fair the bonus damage is only against armored targets. I can't tell you how many times I've seen someone use that against marines, lings, hydras, zealots...\",\n",
       " 'Stuttersteppin aint easy when 200 banes roll in, or chargelots come in dashin with colusses in the back.\\n\\nOfc stim and just charge ;) ',\n",
       " \"Pepper spray works like a charm.  I've been sprayed and tazed.  I'd much rather get tazed again.\",\n",
       " \"Very much agreed... Now if a play scares the poop out of me though I don't have to change pants\",\n",
       " 'What kind of high are you? Are you loud, quiet, chill, hyper, or something else.\\n\\nBonus question: What do you like to do while high?',\n",
       " \"Generally chill and usually social and more comedic. If extremely high then I get quiet and zone out. I really like to hike and explore the woods when its nice out and I'm stoned as well. [6]\",\n",
       " \"Yeah, that's the thing is we wanted it to be funny and enjoyable. Like a relatable sitcom for stoners. Also, we make creative food out of whatever is in the kitchen, and it's always incredible, so we thought maybe do a cooking show type thing. It's only a thought at this point, but we may work on it. \",\n",
       " \"Ok. Here's an idea. Make cannabis infused meals. Get creative and elaborate. I would watch that. Just a thought. Maybe check out the Vice episode about the grandmother who cooks with cannabis for inspiration.\",\n",
       " \"It was disqualified from awards for special effects because 'using computers was cheating.' Think about that. \",\n",
       " \"It was 1982.  Home computer didn't exist.  Video games were mostly banging on buttons in arcades.  The concept of computers being an interactive thing, let alone look cool was completely new to most people.\\n\\nI was in an 'enrichment' class in 1982 and we had a TRS-80 in our class that loaded programs off a cassette.  It was the *only* computer in the school...not just classrooms, but at all.  TRON was beyond cool and challenged my imagination of what might be possible with computers and film in general.\",\n",
       " \"I always thought the political and religious ideas were very engaging. And I was 8 when it came it out. It looked pretty damned impressive to me back then. I guess unless you are in your mid-thirties or older, the nostalgia effect simply will not take hold. I can't blame younger people for not liking it -- much like I didn't like Avatar or the Matrix at all, while I can understand why some people would.\",\n",
       " 'I really hope I can spend my dogecoin on vapor stuff soon.\\n+/u/dogetipbot 10 doge',\n",
       " 'I just get some from the faucets. I mine peercoin but doge would be a waste of my computing power lol. +/u/dogetipbot 10 doge',\n",
       " \"I would be glad to take some of that juice off your hands if you're giving it away... :)\",\n",
       " \"Hmm, most of the max vg flavors I've tried don't seem that short on flavor. \",\n",
       " \"Do it! I'm about to order all of the stuff I need for diy juice. Excited to jump into it. \",\n",
       " \"Not blaming them at all. I just don't see how it attributes to the value of bitcoin if it's immediately cashed in for USD. Maybe just by increasing awareness or through the use of bitcoin? \\n\\nEither way I was surprised at how easy and streamlined it was. No dealing with CC numbers, just a quick QR scan and I was good to go. First time buying anything with bitcoin, definitely not the last. \",\n",
       " 'FRESH MEAT FOR THE SALT MINE!',\n",
       " \"Speak for yourself. Hearthstone is possibly the greatest video game ever made and I can't imagine why anyone would get upset over it. It's so good they should make an mmo based on it.\",\n",
       " 'You saw it here first folks. Reynad officially invented World of Warcraft. Is there no end to his innovation?',\n",
       " 'Take people complaining with a grain of salt, and welcome to the community :)',\n",
       " \"What happened:\\n\\n- http://bucks.blogs.nytimes.com/2011/04/20/secured-credit-cards-not-everyone-qualifies/\\n\\nHow to fix it:\\n\\n- http://www.creditcards.com/credit-card-news/how-not-to-get-rejected-for-new-credit-card-1267.php\\n\\n- http://www.nerdwallet.com/blog/2013/what-do-denied-secured-credit-card/\\n\\nI'll add to what those articles say: a job that pays well will help improve your chances of getting a secured credit card.\\n\\nFinally, I strongly advise you don't buy a car until you are out of college, have a full-time job that pays the bills, and are on the path to being out of debt.  Spending, debt, and things that you couldn't afford (I also include the phone and the gym membership) are a large part of what got you into this situation.\\n\",\n",
       " 'I really hope not, because I was hoping to get this soon.',\n",
       " \"'Eh, no problem. I moved on to bigger, better things :) \",\n",
       " 'minimum wage 18$ an hour? what magical land is this?',\n",
       " \"Yess. That's it. \\nThank you. :-) \",\n",
       " \"Hi i bought a RedDragon Perdition Mouse but i have a huge issue .\\n\\nSo basicly this mouse have 12 button on the side , but these Button are considred 1 , 2 , 3 ... And not MB1 , MB2 , MB3\\n\\nMeaning i can't bind anything on it or it would change my consummable keys on the keyboard\",\n",
       " \"I've begun questioning my own political opinions a lot lately think its healthy to have a rational discussion on the topic. While I plan to be a fly on the wall in this thread, I seriously hope it takes off.\",\n",
       " 'That is because many of then have fallen into the trap of \"Hey lets use state violence to push religion away from the children\".',\n",
       " '> the amount of inter-person violence in an anarchistic situation will exceed the amount of \"violence\" done by the state in the exercise of its duties.\\n\\nWhy?\\n\\nSince we\\'re in the atheist subreddit, I should remind you that religious people often say the exact same thing. Without God\\'s judgement, there would be no reason to be \"good\", people would rape and murder in the streets!',\n",
       " \"That, too, shall pass. You might be really unlucky now, but maybe in a few weeks' time something amazing will happen to you. \",\n",
       " \"I suppose. I've been pretty unlucky throughout a lot of my life, I should be due for some great luck by now. \",\n",
       " 'So you\\'d bring in £1,500+ together. (Lowered it a bit to be safe.)\\n\\nRent costs £500\\n\\nDo you have any guess on how much \"bills and other things\" might cost you in a month?  Food, transportation, cell phones, cable, TV tax(?) etc?',\n",
       " 'I remember where I found it!\\n\\nhttp://www.reddit.com/r/KerbalSpaceProgram/comments/1qtc1c/can_supermanoeuvrable_aircrafts_like_this_be_made/\\n\\nThanks for the help!',\n",
       " '[IT IS POWERED BY A CAGED UNIVERSE](http://www.oocities.org/geoffchapman321/Sub_Pages/Comic_Sub_Pages/The_Authority/Pics/Caged_Universe.gif) (From the Authority, an awesome graphic novel by warren elis)',\n",
       " ' Personally, I fucking love it. ',\n",
       " 'Wolves, wild dogs, and many other feral animals do a whole lot more running on rough terrain than the average house pet does. There they use their claws as traction and they get worn away on their own.',\n",
       " 'I think this is a great idea.\\n\\nThe only restriction I would place is that tagging a submission for circlejerk removes all other tags.',\n",
       " \"Hey look, they added a Mac flair and it's pink...how cute.\",\n",
       " \"It's stealing. If it's the 'Aargh' kind they're stealing bounty. If it's the Somalian kind they're stealing people and boats. If it's the digital kind they're stealing data. Either way it's all just theft.\",\n",
       " 'He is \"Super GayCumSlut\". His powers are \"Bukake Spin\" and \"Anal Fist\". His Ach-nemesis is \"Bible Man\" lols',\n",
       " 'Bible Belt? No spinoff stories where mighty Atheism Man battles the Atomic Islamics or Hindu Hornet?']"
      ]
     },
     "execution_count": 29,
     "metadata": {},
     "output_type": "execute_result"
    }
   ],
   "source": [
    "mis_detail = mismatch[(mismatch['label'] == 'positive') & (mismatch['prediction'] == 'neutral')]['content'].tolist()\n",
    "mis_detail"
   ]
  },
  {
   "cell_type": "code",
   "execution_count": null,
   "metadata": {
    "ExecuteTime": {
     "end_time": "2021-06-04T13:11:10.118870Z",
     "start_time": "2021-06-04T13:11:10.098123Z"
    },
    "scrolled": true
   },
   "outputs": [],
   "source": []
  },
  {
   "cell_type": "markdown",
   "metadata": {},
   "source": [
    "### Q3: Add two features to (try to) improve sentiment polarity classification performance obtained in Q2"
   ]
  },
  {
   "cell_type": "code",
   "execution_count": 30,
   "metadata": {
    "ExecuteTime": {
     "end_time": "2021-06-04T19:05:00.207043Z",
     "start_time": "2021-06-04T19:04:55.869547Z"
    }
   },
   "outputs": [
    {
     "name": "stdout",
     "output_type": "stream",
     "text": [
      "               precision    recall  f1-score   support\n",
      "\n",
      "     negative      0.390     0.579     0.466       190\n",
      "      neutral      0.888     0.847     0.867      2637\n",
      "     positive      0.738     0.731     0.734      1112\n",
      "very negative      0.406     0.722     0.520        18\n",
      "very positive      0.326     0.475     0.386        59\n",
      "\n",
      "     accuracy                          0.796      4016\n",
      "    macro avg      0.550     0.671     0.595      4016\n",
      " weighted avg      0.813     0.796     0.803      4016\n",
      "\n"
     ]
    }
   ],
   "source": [
    "from sklearn.preprocessing import StandardScaler, OneHotEncoder\n",
    "from sklearn.compose import ColumnTransformer\n",
    "\n",
    "# All important step to set your transformers and vectorizers\n",
    "\n",
    "numeric_features = ['sentiment.subjectivity']\n",
    "numeric_transformer = StandardScaler()\n",
    "\n",
    "categorical_features = ['majority_type']\n",
    "categorical_transformer = OneHotEncoder(handle_unknown='ignore')\n",
    "\n",
    "text_features = 'body'\n",
    "text_transformer = TfidfVectorizer(sublinear_tf=True, max_features=5000)\n",
    "\n",
    "preprocessor = ColumnTransformer(\n",
    "    transformers=[\n",
    "        ('num', numeric_transformer, numeric_features),\n",
    "        ('cat', categorical_transformer, categorical_features),\n",
    "        ('tfidf', text_transformer, text_features)],\n",
    "            remainder='drop')\n",
    "\n",
    "clf = Pipeline(steps=[('preprocessor', preprocessor),\n",
    "                      ('classifier', LogisticRegression(C=10, max_iter=5000))])\n",
    "clf.fit(train_data, train_labels)\n",
    "pred_add = clf.predict(test_data)\n",
    "print(metrics.classification_report(pred_add, test_labels, digits=3))"
   ]
  },
  {
   "cell_type": "code",
   "execution_count": 31,
   "metadata": {
    "ExecuteTime": {
     "end_time": "2021-06-04T19:05:03.460449Z",
     "start_time": "2021-06-04T19:05:03.214781Z"
    }
   },
   "outputs": [
    {
     "data": {
      "text/plain": [
       "<sklearn.metrics._plot.confusion_matrix.ConfusionMatrixDisplay at 0x7ffccd1c1f70>"
      ]
     },
     "execution_count": 31,
     "metadata": {},
     "output_type": "execute_result"
    },
    {
     "data": {
      "image/png": "[encoded data removed]",
      "text/plain": [
       "<Figure size 648x648 with 2 Axes>"
      ]
     },
     "metadata": {},
     "output_type": "display_data"
    }
   ],
   "source": [
    "# confusion metrix\n",
    "plt.style.use('fivethirtyeight')\n",
    "fig, ax = plt.subplots(figsize=(9, 9))\n",
    "ax.grid(False)\n",
    "cm = metrics.confusion_matrix(pred_add, test_labels,)\n",
    "disp = metrics.ConfusionMatrixDisplay(confusion_matrix=cm,\n",
    "                                      display_labels=senti_pol_label)\n",
    "disp.plot(ax=ax)"
   ]
  },
  {
   "cell_type": "code",
   "execution_count": null,
   "metadata": {
    "ExecuteTime": {
     "end_time": "2021-06-04T16:10:57.027283Z",
     "start_time": "2021-06-04T16:10:57.021740Z"
    }
   },
   "outputs": [],
   "source": []
  },
  {
   "cell_type": "code",
   "execution_count": null,
   "metadata": {},
   "outputs": [],
   "source": []
  }
 ],
 "metadata": {
  "colab": {
   "collapsed_sections": [],
   "name": "TaD Coursework Skeleton 2021 - May-June",
   "provenance": []
  },
  "kernelspec": {
   "display_name": "Python 3",
   "language": "python",
   "name": "python3"
  },
  "language_info": {
   "codemirror_mode": {
    "name": "ipython",
    "version": 3
   },
   "file_extension": ".py",
   "mimetype": "text/x-python",
   "name": "python",
   "nbconvert_exporter": "python",
   "pygments_lexer": "ipython3",
   "version": "3.8.5"
  }
 },
 "nbformat": 4,
 "nbformat_minor": 1
}
